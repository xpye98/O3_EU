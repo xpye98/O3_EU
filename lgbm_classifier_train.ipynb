{
 "cells": [
  {
   "cell_type": "code",
   "execution_count": 1,
   "metadata": {},
   "outputs": [],
   "source": [
    "\"\"\"\n",
    "Extreme ozone\n",
    "Author @Xingpei Ye\n",
    "\n",
    "Please use python environment of: extreme_ml\n",
    "\n",
    "2023/12/07,  initial version\n",
    "\"\"\"\n",
    "\n",
    "# Python ≥3.5 is required\n",
    "import sys\n",
    "assert sys.version_info >= (3, 5)\n",
    "\n",
    "# Scikit-Learn ≥0.20 is required\n",
    "import sklearn\n",
    "assert sklearn.__version__ >= \"0.20\"\n",
    "\n",
    "# Common imports\n",
    "import numpy as np\n",
    "import pandas as pd\n",
    "import os\n",
    "\n",
    "# To load mat file from MATLAB\n",
    "import scipy.io as scio\n",
    "\n",
    "import pickle\n",
    "\n",
    "# to make the output stable across runs\n",
    "np.random.seed(42)\n",
    "\n",
    "# To plot pretty figures\n",
    "%matplotlib inline\n",
    "import matplotlib as mpl\n",
    "import matplotlib.pyplot as plt\n",
    "mpl.rc('axes', labelsize=14)\n",
    "mpl.rc('xtick', labelsize=12)\n",
    "mpl.rc('ytick', labelsize=12)\n",
    "plt.rcParams[\"font.family\"] = \"Arial\"\n",
    "plt.rcParams[\"font.weight\"] = \"normal\"\n",
    "\n",
    "# Where to save the figures\n",
    "PROJECT_ROOT_DIR = \".\"\n",
    "IMAGES_PATH = os.path.join(PROJECT_ROOT_DIR)\n",
    "os.makedirs(IMAGES_PATH, exist_ok=True)\n",
    "\n",
    "def save_fig(fig_id, tight_layout=True, fig_extension=\"png\", resolution=300):\n",
    "    path = os.path.join(IMAGES_PATH, fig_id + \".\" + fig_extension)\n",
    "    print(\"Saving figure\", fig_id)\n",
    "    if tight_layout:\n",
    "        plt.tight_layout()\n",
    "    plt.savefig(path, format=fig_extension, dpi=resolution)"
   ]
  },
  {
   "cell_type": "code",
   "execution_count": 2,
   "metadata": {},
   "outputs": [
    {
     "name": "stdout",
     "output_type": "stream",
     "text": [
      "0\n",
      "['Östad']\n",
      "['Sweden']\n",
      "Before re-sampling\n",
      "Normal counts =  834\n",
      "Extreme counts =  40\n",
      "Imbalance degree =  20.85\n"
     ]
    },
    {
     "name": "stderr",
     "output_type": "stream",
     "text": [
      "/Users/sebestian/miniconda3/envs/extreme_ml/lib/python3.9/site-packages/tqdm/auto.py:21: TqdmWarning: IProgress not found. Please update jupyter and ipywidgets. See https://ipywidgets.readthedocs.io/en/stable/user_install.html\n",
      "  from .autonotebook import tqdm as notebook_tqdm\n",
      "2024-03-14 17:27:15,254\tINFO util.py:154 -- Missing packages: ['ipywidgets']. Run `pip install -U ipywidgets`, then restart the notebook server for rich notebook output.\n",
      "2024-03-14 17:27:15,504\tINFO util.py:154 -- Missing packages: ['ipywidgets']. Run `pip install -U ipywidgets`, then restart the notebook server for rich notebook output.\n"
     ]
    },
    {
     "name": "stdout",
     "output_type": "stream",
     "text": [
      "[flaml.automl.logger: 03-14 17:27:16] {1679} INFO - task = classification\n",
      "[flaml.automl.logger: 03-14 17:27:16] {1690} INFO - Evaluation method: cv\n",
      "[flaml.automl.logger: 03-14 17:27:16] {1788} INFO - Minimizing error metric: 1-f1\n",
      "[flaml.automl.logger: 03-14 17:27:16] {1900} INFO - List of ML learners in AutoML Run: ['lgbm']\n",
      "[flaml.automl.logger: 03-14 17:27:16] {2218} INFO - iteration 0, current learner lgbm\n",
      "[flaml.automl.logger: 03-14 17:27:16] {2344} INFO - Estimated sufficient time budget=704s. Estimated necessary time budget=1s.\n",
      "[flaml.automl.logger: 03-14 17:27:16] {2391} INFO -  at 0.1s,\testimator lgbm's best error=1.0000,\tbest estimator lgbm's best error=1.0000\n",
      "[flaml.automl.logger: 03-14 17:27:16] {2218} INFO - iteration 1, current learner lgbm\n",
      "[flaml.automl.logger: 03-14 17:27:16] {2391} INFO -  at 0.2s,\testimator lgbm's best error=1.0000,\tbest estimator lgbm's best error=1.0000\n",
      "[flaml.automl.logger: 03-14 17:27:16] {2218} INFO - iteration 2, current learner lgbm\n",
      "[flaml.automl.logger: 03-14 17:27:16] {2391} INFO -  at 0.2s,\testimator lgbm's best error=0.7168,\tbest estimator lgbm's best error=0.7168\n",
      "[flaml.automl.logger: 03-14 17:27:16] {2218} INFO - iteration 3, current learner lgbm\n",
      "[flaml.automl.logger: 03-14 17:27:16] {2391} INFO -  at 0.3s,\testimator lgbm's best error=0.7168,\tbest estimator lgbm's best error=0.7168\n",
      "[flaml.automl.logger: 03-14 17:27:16] {2218} INFO - iteration 4, current learner lgbm\n",
      "[flaml.automl.logger: 03-14 17:27:16] {2391} INFO -  at 0.4s,\testimator lgbm's best error=0.7168,\tbest estimator lgbm's best error=0.7168\n",
      "[flaml.automl.logger: 03-14 17:27:16] {2218} INFO - iteration 5, current learner lgbm\n",
      "[flaml.automl.logger: 03-14 17:27:16] {2391} INFO -  at 0.5s,\testimator lgbm's best error=0.5719,\tbest estimator lgbm's best error=0.5719\n",
      "[flaml.automl.logger: 03-14 17:27:16] {2218} INFO - iteration 6, current learner lgbm\n",
      "[flaml.automl.logger: 03-14 17:27:16] {2391} INFO -  at 0.5s,\testimator lgbm's best error=0.5719,\tbest estimator lgbm's best error=0.5719\n",
      "[flaml.automl.logger: 03-14 17:27:16] {2218} INFO - iteration 7, current learner lgbm\n",
      "[flaml.automl.logger: 03-14 17:27:16] {2391} INFO -  at 0.6s,\testimator lgbm's best error=0.5719,\tbest estimator lgbm's best error=0.5719\n",
      "[flaml.automl.logger: 03-14 17:27:16] {2218} INFO - iteration 8, current learner lgbm\n",
      "[flaml.automl.logger: 03-14 17:27:16] {2391} INFO -  at 0.6s,\testimator lgbm's best error=0.5719,\tbest estimator lgbm's best error=0.5719\n",
      "[flaml.automl.logger: 03-14 17:27:16] {2218} INFO - iteration 9, current learner lgbm\n",
      "[flaml.automl.logger: 03-14 17:27:16] {2391} INFO -  at 0.7s,\testimator lgbm's best error=0.5719,\tbest estimator lgbm's best error=0.5719\n",
      "[flaml.automl.logger: 03-14 17:27:16] {2218} INFO - iteration 10, current learner lgbm\n",
      "[flaml.automl.logger: 03-14 17:27:16] {2391} INFO -  at 0.8s,\testimator lgbm's best error=0.5719,\tbest estimator lgbm's best error=0.5719\n",
      "[flaml.automl.logger: 03-14 17:27:16] {2218} INFO - iteration 11, current learner lgbm\n",
      "[flaml.automl.logger: 03-14 17:27:16] {2391} INFO -  at 0.8s,\testimator lgbm's best error=0.5719,\tbest estimator lgbm's best error=0.5719\n",
      "[flaml.automl.logger: 03-14 17:27:16] {2218} INFO - iteration 12, current learner lgbm\n",
      "[flaml.automl.logger: 03-14 17:27:17] {2391} INFO -  at 0.9s,\testimator lgbm's best error=0.5378,\tbest estimator lgbm's best error=0.5378\n",
      "[flaml.automl.logger: 03-14 17:27:17] {2218} INFO - iteration 13, current learner lgbm\n",
      "[flaml.automl.logger: 03-14 17:27:17] {2391} INFO -  at 1.0s,\testimator lgbm's best error=0.5345,\tbest estimator lgbm's best error=0.5345\n",
      "[flaml.automl.logger: 03-14 17:27:17] {2218} INFO - iteration 14, current learner lgbm\n",
      "[flaml.automl.logger: 03-14 17:27:17] {2391} INFO -  at 1.1s,\testimator lgbm's best error=0.5345,\tbest estimator lgbm's best error=0.5345\n",
      "[flaml.automl.logger: 03-14 17:27:17] {2218} INFO - iteration 15, current learner lgbm\n",
      "[flaml.automl.logger: 03-14 17:27:17] {2391} INFO -  at 1.2s,\testimator lgbm's best error=0.5010,\tbest estimator lgbm's best error=0.5010\n",
      "[flaml.automl.logger: 03-14 17:27:17] {2218} INFO - iteration 16, current learner lgbm\n",
      "[flaml.automl.logger: 03-14 17:27:17] {2391} INFO -  at 1.3s,\testimator lgbm's best error=0.5010,\tbest estimator lgbm's best error=0.5010\n",
      "[flaml.automl.logger: 03-14 17:27:17] {2218} INFO - iteration 17, current learner lgbm\n",
      "[flaml.automl.logger: 03-14 17:27:17] {2391} INFO -  at 1.3s,\testimator lgbm's best error=0.5010,\tbest estimator lgbm's best error=0.5010\n",
      "[flaml.automl.logger: 03-14 17:27:17] {2218} INFO - iteration 18, current learner lgbm\n",
      "[flaml.automl.logger: 03-14 17:27:17] {2391} INFO -  at 1.5s,\testimator lgbm's best error=0.5010,\tbest estimator lgbm's best error=0.5010\n",
      "[flaml.automl.logger: 03-14 17:27:17] {2218} INFO - iteration 19, current learner lgbm\n",
      "[flaml.automl.logger: 03-14 17:27:17] {2391} INFO -  at 1.5s,\testimator lgbm's best error=0.5010,\tbest estimator lgbm's best error=0.5010\n",
      "[flaml.automl.logger: 03-14 17:27:17] {2218} INFO - iteration 20, current learner lgbm\n",
      "[flaml.automl.logger: 03-14 17:27:17] {2391} INFO -  at 1.7s,\testimator lgbm's best error=0.5010,\tbest estimator lgbm's best error=0.5010\n",
      "[flaml.automl.logger: 03-14 17:27:17] {2218} INFO - iteration 21, current learner lgbm\n",
      "[flaml.automl.logger: 03-14 17:27:17] {2391} INFO -  at 1.7s,\testimator lgbm's best error=0.5010,\tbest estimator lgbm's best error=0.5010\n",
      "[flaml.automl.logger: 03-14 17:27:17] {2218} INFO - iteration 22, current learner lgbm\n",
      "[flaml.automl.logger: 03-14 17:27:17] {2391} INFO -  at 1.8s,\testimator lgbm's best error=0.5010,\tbest estimator lgbm's best error=0.5010\n",
      "[flaml.automl.logger: 03-14 17:27:17] {2218} INFO - iteration 23, current learner lgbm\n",
      "[flaml.automl.logger: 03-14 17:27:18] {2391} INFO -  at 2.0s,\testimator lgbm's best error=0.5010,\tbest estimator lgbm's best error=0.5010\n",
      "[flaml.automl.logger: 03-14 17:27:18] {2218} INFO - iteration 24, current learner lgbm\n",
      "[flaml.automl.logger: 03-14 17:27:18] {2391} INFO -  at 2.1s,\testimator lgbm's best error=0.5010,\tbest estimator lgbm's best error=0.5010\n",
      "[flaml.automl.logger: 03-14 17:27:18] {2218} INFO - iteration 25, current learner lgbm\n",
      "[flaml.automl.logger: 03-14 17:27:18] {2391} INFO -  at 2.4s,\testimator lgbm's best error=0.4495,\tbest estimator lgbm's best error=0.4495\n",
      "[flaml.automl.logger: 03-14 17:27:18] {2218} INFO - iteration 26, current learner lgbm\n",
      "[flaml.automl.logger: 03-14 17:27:18] {2391} INFO -  at 2.5s,\testimator lgbm's best error=0.4495,\tbest estimator lgbm's best error=0.4495\n",
      "[flaml.automl.logger: 03-14 17:27:18] {2218} INFO - iteration 27, current learner lgbm\n",
      "[flaml.automl.logger: 03-14 17:27:18] {2391} INFO -  at 2.7s,\testimator lgbm's best error=0.4495,\tbest estimator lgbm's best error=0.4495\n",
      "[flaml.automl.logger: 03-14 17:27:18] {2218} INFO - iteration 28, current learner lgbm\n",
      "[flaml.automl.logger: 03-14 17:27:18] {2391} INFO -  at 2.8s,\testimator lgbm's best error=0.4495,\tbest estimator lgbm's best error=0.4495\n",
      "[flaml.automl.logger: 03-14 17:27:18] {2218} INFO - iteration 29, current learner lgbm\n",
      "[flaml.automl.logger: 03-14 17:27:19] {2391} INFO -  at 3.0s,\testimator lgbm's best error=0.4495,\tbest estimator lgbm's best error=0.4495\n",
      "[flaml.automl.logger: 03-14 17:27:19] {2218} INFO - iteration 30, current learner lgbm\n",
      "[flaml.automl.logger: 03-14 17:27:19] {2391} INFO -  at 3.1s,\testimator lgbm's best error=0.4495,\tbest estimator lgbm's best error=0.4495\n",
      "[flaml.automl.logger: 03-14 17:27:19] {2218} INFO - iteration 31, current learner lgbm\n",
      "[flaml.automl.logger: 03-14 17:27:19] {2391} INFO -  at 3.2s,\testimator lgbm's best error=0.4495,\tbest estimator lgbm's best error=0.4495\n",
      "[flaml.automl.logger: 03-14 17:27:19] {2218} INFO - iteration 32, current learner lgbm\n",
      "[flaml.automl.logger: 03-14 17:27:19] {2391} INFO -  at 3.3s,\testimator lgbm's best error=0.4495,\tbest estimator lgbm's best error=0.4495\n",
      "[flaml.automl.logger: 03-14 17:27:19] {2218} INFO - iteration 33, current learner lgbm\n",
      "[flaml.automl.logger: 03-14 17:27:19] {2391} INFO -  at 3.4s,\testimator lgbm's best error=0.4495,\tbest estimator lgbm's best error=0.4495\n",
      "[flaml.automl.logger: 03-14 17:27:19] {2218} INFO - iteration 34, current learner lgbm\n",
      "[flaml.automl.logger: 03-14 17:27:19] {2391} INFO -  at 3.5s,\testimator lgbm's best error=0.4495,\tbest estimator lgbm's best error=0.4495\n",
      "[flaml.automl.logger: 03-14 17:27:19] {2218} INFO - iteration 35, current learner lgbm\n",
      "[flaml.automl.logger: 03-14 17:27:19] {2391} INFO -  at 3.6s,\testimator lgbm's best error=0.4495,\tbest estimator lgbm's best error=0.4495\n",
      "[flaml.automl.logger: 03-14 17:27:19] {2218} INFO - iteration 36, current learner lgbm\n",
      "[flaml.automl.logger: 03-14 17:27:19] {2391} INFO -  at 3.7s,\testimator lgbm's best error=0.4495,\tbest estimator lgbm's best error=0.4495\n",
      "[flaml.automl.logger: 03-14 17:27:19] {2218} INFO - iteration 37, current learner lgbm\n",
      "[flaml.automl.logger: 03-14 17:27:19] {2391} INFO -  at 3.8s,\testimator lgbm's best error=0.4495,\tbest estimator lgbm's best error=0.4495\n",
      "[flaml.automl.logger: 03-14 17:27:19] {2218} INFO - iteration 38, current learner lgbm\n",
      "[flaml.automl.logger: 03-14 17:27:20] {2391} INFO -  at 3.9s,\testimator lgbm's best error=0.4495,\tbest estimator lgbm's best error=0.4495\n",
      "[flaml.automl.logger: 03-14 17:27:20] {2218} INFO - iteration 39, current learner lgbm\n",
      "[flaml.automl.logger: 03-14 17:27:20] {2391} INFO -  at 4.0s,\testimator lgbm's best error=0.4495,\tbest estimator lgbm's best error=0.4495\n",
      "[flaml.automl.logger: 03-14 17:27:20] {2218} INFO - iteration 40, current learner lgbm\n",
      "[flaml.automl.logger: 03-14 17:27:20] {2391} INFO -  at 4.3s,\testimator lgbm's best error=0.4495,\tbest estimator lgbm's best error=0.4495\n",
      "[flaml.automl.logger: 03-14 17:27:20] {2218} INFO - iteration 41, current learner lgbm\n",
      "[flaml.automl.logger: 03-14 17:27:20] {2391} INFO -  at 4.4s,\testimator lgbm's best error=0.4495,\tbest estimator lgbm's best error=0.4495\n",
      "[flaml.automl.logger: 03-14 17:27:20] {2218} INFO - iteration 42, current learner lgbm\n",
      "[flaml.automl.logger: 03-14 17:27:20] {2391} INFO -  at 4.5s,\testimator lgbm's best error=0.4495,\tbest estimator lgbm's best error=0.4495\n",
      "[flaml.automl.logger: 03-14 17:27:20] {2218} INFO - iteration 43, current learner lgbm\n",
      "[flaml.automl.logger: 03-14 17:27:20] {2391} INFO -  at 4.6s,\testimator lgbm's best error=0.4495,\tbest estimator lgbm's best error=0.4495\n",
      "[flaml.automl.logger: 03-14 17:27:20] {2218} INFO - iteration 44, current learner lgbm\n",
      "[flaml.automl.logger: 03-14 17:27:20] {2391} INFO -  at 4.7s,\testimator lgbm's best error=0.4495,\tbest estimator lgbm's best error=0.4495\n",
      "[flaml.automl.logger: 03-14 17:27:20] {2218} INFO - iteration 45, current learner lgbm\n",
      "[flaml.automl.logger: 03-14 17:27:20] {2391} INFO -  at 4.8s,\testimator lgbm's best error=0.4495,\tbest estimator lgbm's best error=0.4495\n",
      "[flaml.automl.logger: 03-14 17:27:20] {2218} INFO - iteration 46, current learner lgbm\n",
      "[flaml.automl.logger: 03-14 17:27:20] {2391} INFO -  at 4.9s,\testimator lgbm's best error=0.4495,\tbest estimator lgbm's best error=0.4495\n",
      "[flaml.automl.logger: 03-14 17:27:20] {2218} INFO - iteration 47, current learner lgbm\n",
      "[flaml.automl.logger: 03-14 17:27:21] {2391} INFO -  at 5.0s,\testimator lgbm's best error=0.4495,\tbest estimator lgbm's best error=0.4495\n",
      "[flaml.automl.logger: 03-14 17:27:21] {2218} INFO - iteration 48, current learner lgbm\n",
      "[flaml.automl.logger: 03-14 17:27:21] {2391} INFO -  at 5.1s,\testimator lgbm's best error=0.4495,\tbest estimator lgbm's best error=0.4495\n",
      "[flaml.automl.logger: 03-14 17:27:21] {2218} INFO - iteration 49, current learner lgbm\n",
      "[flaml.automl.logger: 03-14 17:27:21] {2391} INFO -  at 5.2s,\testimator lgbm's best error=0.4495,\tbest estimator lgbm's best error=0.4495\n",
      "[flaml.automl.logger: 03-14 17:27:21] {2218} INFO - iteration 50, current learner lgbm\n",
      "[flaml.automl.logger: 03-14 17:27:21] {2391} INFO -  at 5.3s,\testimator lgbm's best error=0.4495,\tbest estimator lgbm's best error=0.4495\n",
      "[flaml.automl.logger: 03-14 17:27:21] {2218} INFO - iteration 51, current learner lgbm\n",
      "[flaml.automl.logger: 03-14 17:27:21] {2391} INFO -  at 5.4s,\testimator lgbm's best error=0.4495,\tbest estimator lgbm's best error=0.4495\n",
      "[flaml.automl.logger: 03-14 17:27:21] {2218} INFO - iteration 52, current learner lgbm\n",
      "[flaml.automl.logger: 03-14 17:27:21] {2391} INFO -  at 5.5s,\testimator lgbm's best error=0.4495,\tbest estimator lgbm's best error=0.4495\n",
      "[flaml.automl.logger: 03-14 17:27:21] {2218} INFO - iteration 53, current learner lgbm\n",
      "[flaml.automl.logger: 03-14 17:27:21] {2391} INFO -  at 5.6s,\testimator lgbm's best error=0.4495,\tbest estimator lgbm's best error=0.4495\n",
      "[flaml.automl.logger: 03-14 17:27:21] {2218} INFO - iteration 54, current learner lgbm\n",
      "[flaml.automl.logger: 03-14 17:27:21] {2391} INFO -  at 5.7s,\testimator lgbm's best error=0.4495,\tbest estimator lgbm's best error=0.4495\n",
      "[flaml.automl.logger: 03-14 17:27:21] {2218} INFO - iteration 55, current learner lgbm\n",
      "[flaml.automl.logger: 03-14 17:27:21] {2391} INFO -  at 5.8s,\testimator lgbm's best error=0.4495,\tbest estimator lgbm's best error=0.4495\n",
      "[flaml.automl.logger: 03-14 17:27:21] {2218} INFO - iteration 56, current learner lgbm\n",
      "[flaml.automl.logger: 03-14 17:27:21] {2391} INFO -  at 5.9s,\testimator lgbm's best error=0.4495,\tbest estimator lgbm's best error=0.4495\n",
      "[flaml.automl.logger: 03-14 17:27:21] {2218} INFO - iteration 57, current learner lgbm\n",
      "[flaml.automl.logger: 03-14 17:27:22] {2391} INFO -  at 5.9s,\testimator lgbm's best error=0.4495,\tbest estimator lgbm's best error=0.4495\n",
      "[flaml.automl.logger: 03-14 17:27:22] {2218} INFO - iteration 58, current learner lgbm\n",
      "[flaml.automl.logger: 03-14 17:27:22] {2391} INFO -  at 6.2s,\testimator lgbm's best error=0.4495,\tbest estimator lgbm's best error=0.4495\n",
      "[flaml.automl.logger: 03-14 17:27:22] {2218} INFO - iteration 59, current learner lgbm\n",
      "[flaml.automl.logger: 03-14 17:27:22] {2391} INFO -  at 6.3s,\testimator lgbm's best error=0.4412,\tbest estimator lgbm's best error=0.4412\n",
      "[flaml.automl.logger: 03-14 17:27:22] {2218} INFO - iteration 60, current learner lgbm\n",
      "[flaml.automl.logger: 03-14 17:27:22] {2391} INFO -  at 6.4s,\testimator lgbm's best error=0.4412,\tbest estimator lgbm's best error=0.4412\n",
      "[flaml.automl.logger: 03-14 17:27:22] {2218} INFO - iteration 61, current learner lgbm\n",
      "[flaml.automl.logger: 03-14 17:27:22] {2391} INFO -  at 6.5s,\testimator lgbm's best error=0.4345,\tbest estimator lgbm's best error=0.4345\n",
      "[flaml.automl.logger: 03-14 17:27:22] {2218} INFO - iteration 62, current learner lgbm\n",
      "[flaml.automl.logger: 03-14 17:27:22] {2391} INFO -  at 6.6s,\testimator lgbm's best error=0.4345,\tbest estimator lgbm's best error=0.4345\n",
      "[flaml.automl.logger: 03-14 17:27:22] {2218} INFO - iteration 63, current learner lgbm\n",
      "[flaml.automl.logger: 03-14 17:27:22] {2391} INFO -  at 6.7s,\testimator lgbm's best error=0.4345,\tbest estimator lgbm's best error=0.4345\n",
      "[flaml.automl.logger: 03-14 17:27:22] {2218} INFO - iteration 64, current learner lgbm\n",
      "[flaml.automl.logger: 03-14 17:27:22] {2391} INFO -  at 6.7s,\testimator lgbm's best error=0.4345,\tbest estimator lgbm's best error=0.4345\n",
      "[flaml.automl.logger: 03-14 17:27:22] {2218} INFO - iteration 65, current learner lgbm\n",
      "[flaml.automl.logger: 03-14 17:27:22] {2391} INFO -  at 6.8s,\testimator lgbm's best error=0.4335,\tbest estimator lgbm's best error=0.4335\n",
      "[flaml.automl.logger: 03-14 17:27:22] {2218} INFO - iteration 66, current learner lgbm\n",
      "[flaml.automl.logger: 03-14 17:27:23] {2391} INFO -  at 6.9s,\testimator lgbm's best error=0.4335,\tbest estimator lgbm's best error=0.4335\n",
      "[flaml.automl.logger: 03-14 17:27:23] {2218} INFO - iteration 67, current learner lgbm\n",
      "[flaml.automl.logger: 03-14 17:27:23] {2391} INFO -  at 7.0s,\testimator lgbm's best error=0.4335,\tbest estimator lgbm's best error=0.4335\n",
      "[flaml.automl.logger: 03-14 17:27:23] {2218} INFO - iteration 68, current learner lgbm\n",
      "[flaml.automl.logger: 03-14 17:27:23] {2391} INFO -  at 7.2s,\testimator lgbm's best error=0.4335,\tbest estimator lgbm's best error=0.4335\n",
      "[flaml.automl.logger: 03-14 17:27:23] {2218} INFO - iteration 69, current learner lgbm\n",
      "[flaml.automl.logger: 03-14 17:27:23] {2391} INFO -  at 7.3s,\testimator lgbm's best error=0.4335,\tbest estimator lgbm's best error=0.4335\n",
      "[flaml.automl.logger: 03-14 17:27:23] {2218} INFO - iteration 70, current learner lgbm\n",
      "[flaml.automl.logger: 03-14 17:27:23] {2391} INFO -  at 7.4s,\testimator lgbm's best error=0.4335,\tbest estimator lgbm's best error=0.4335\n",
      "[flaml.automl.logger: 03-14 17:27:23] {2218} INFO - iteration 71, current learner lgbm\n",
      "[flaml.automl.logger: 03-14 17:27:23] {2391} INFO -  at 7.5s,\testimator lgbm's best error=0.4335,\tbest estimator lgbm's best error=0.4335\n",
      "[flaml.automl.logger: 03-14 17:27:23] {2218} INFO - iteration 72, current learner lgbm\n",
      "[flaml.automl.logger: 03-14 17:27:23] {2391} INFO -  at 7.6s,\testimator lgbm's best error=0.4335,\tbest estimator lgbm's best error=0.4335\n",
      "[flaml.automl.logger: 03-14 17:27:23] {2218} INFO - iteration 73, current learner lgbm\n",
      "[flaml.automl.logger: 03-14 17:27:23] {2391} INFO -  at 7.7s,\testimator lgbm's best error=0.4335,\tbest estimator lgbm's best error=0.4335\n",
      "[flaml.automl.logger: 03-14 17:27:23] {2218} INFO - iteration 74, current learner lgbm\n",
      "[flaml.automl.logger: 03-14 17:27:23] {2391} INFO -  at 7.8s,\testimator lgbm's best error=0.4184,\tbest estimator lgbm's best error=0.4184\n",
      "[flaml.automl.logger: 03-14 17:27:23] {2218} INFO - iteration 75, current learner lgbm\n",
      "[flaml.automl.logger: 03-14 17:27:23] {2391} INFO -  at 7.9s,\testimator lgbm's best error=0.4184,\tbest estimator lgbm's best error=0.4184\n",
      "[flaml.automl.logger: 03-14 17:27:23] {2218} INFO - iteration 76, current learner lgbm\n",
      "[flaml.automl.logger: 03-14 17:27:24] {2391} INFO -  at 8.1s,\testimator lgbm's best error=0.4184,\tbest estimator lgbm's best error=0.4184\n",
      "[flaml.automl.logger: 03-14 17:27:24] {2218} INFO - iteration 77, current learner lgbm\n",
      "[flaml.automl.logger: 03-14 17:27:24] {2391} INFO -  at 8.2s,\testimator lgbm's best error=0.3999,\tbest estimator lgbm's best error=0.3999\n",
      "[flaml.automl.logger: 03-14 17:27:24] {2218} INFO - iteration 78, current learner lgbm\n",
      "[flaml.automl.logger: 03-14 17:27:24] {2391} INFO -  at 8.2s,\testimator lgbm's best error=0.3999,\tbest estimator lgbm's best error=0.3999\n",
      "[flaml.automl.logger: 03-14 17:27:24] {2218} INFO - iteration 79, current learner lgbm\n",
      "[flaml.automl.logger: 03-14 17:27:24] {2391} INFO -  at 8.3s,\testimator lgbm's best error=0.3999,\tbest estimator lgbm's best error=0.3999\n",
      "[flaml.automl.logger: 03-14 17:27:24] {2218} INFO - iteration 80, current learner lgbm\n",
      "[flaml.automl.logger: 03-14 17:27:24] {2391} INFO -  at 8.4s,\testimator lgbm's best error=0.3999,\tbest estimator lgbm's best error=0.3999\n",
      "[flaml.automl.logger: 03-14 17:27:24] {2218} INFO - iteration 81, current learner lgbm\n",
      "[flaml.automl.logger: 03-14 17:27:24] {2391} INFO -  at 8.5s,\testimator lgbm's best error=0.3999,\tbest estimator lgbm's best error=0.3999\n",
      "[flaml.automl.logger: 03-14 17:27:24] {2218} INFO - iteration 82, current learner lgbm\n",
      "[flaml.automl.logger: 03-14 17:27:24] {2391} INFO -  at 8.5s,\testimator lgbm's best error=0.3999,\tbest estimator lgbm's best error=0.3999\n",
      "[flaml.automl.logger: 03-14 17:27:24] {2218} INFO - iteration 83, current learner lgbm\n",
      "[flaml.automl.logger: 03-14 17:27:24] {2391} INFO -  at 8.6s,\testimator lgbm's best error=0.3999,\tbest estimator lgbm's best error=0.3999\n",
      "[flaml.automl.logger: 03-14 17:27:24] {2218} INFO - iteration 84, current learner lgbm\n",
      "[flaml.automl.logger: 03-14 17:27:24] {2391} INFO -  at 8.7s,\testimator lgbm's best error=0.3999,\tbest estimator lgbm's best error=0.3999\n",
      "[flaml.automl.logger: 03-14 17:27:24] {2218} INFO - iteration 85, current learner lgbm\n",
      "[flaml.automl.logger: 03-14 17:27:24] {2391} INFO -  at 8.8s,\testimator lgbm's best error=0.3999,\tbest estimator lgbm's best error=0.3999\n",
      "[flaml.automl.logger: 03-14 17:27:24] {2218} INFO - iteration 86, current learner lgbm\n",
      "[flaml.automl.logger: 03-14 17:27:24] {2391} INFO -  at 8.8s,\testimator lgbm's best error=0.3999,\tbest estimator lgbm's best error=0.3999\n",
      "[flaml.automl.logger: 03-14 17:27:24] {2218} INFO - iteration 87, current learner lgbm\n",
      "[flaml.automl.logger: 03-14 17:27:24] {2391} INFO -  at 8.9s,\testimator lgbm's best error=0.3999,\tbest estimator lgbm's best error=0.3999\n",
      "[flaml.automl.logger: 03-14 17:27:24] {2218} INFO - iteration 88, current learner lgbm\n",
      "[flaml.automl.logger: 03-14 17:27:25] {2391} INFO -  at 9.0s,\testimator lgbm's best error=0.3999,\tbest estimator lgbm's best error=0.3999\n",
      "[flaml.automl.logger: 03-14 17:27:25] {2218} INFO - iteration 89, current learner lgbm\n",
      "[flaml.automl.logger: 03-14 17:27:25] {2391} INFO -  at 9.1s,\testimator lgbm's best error=0.3999,\tbest estimator lgbm's best error=0.3999\n",
      "[flaml.automl.logger: 03-14 17:27:25] {2218} INFO - iteration 90, current learner lgbm\n",
      "[flaml.automl.logger: 03-14 17:27:25] {2391} INFO -  at 9.1s,\testimator lgbm's best error=0.3999,\tbest estimator lgbm's best error=0.3999\n",
      "[flaml.automl.logger: 03-14 17:27:25] {2218} INFO - iteration 91, current learner lgbm\n",
      "[flaml.automl.logger: 03-14 17:27:25] {2391} INFO -  at 9.2s,\testimator lgbm's best error=0.3999,\tbest estimator lgbm's best error=0.3999\n",
      "[flaml.automl.logger: 03-14 17:27:25] {2218} INFO - iteration 92, current learner lgbm\n",
      "[flaml.automl.logger: 03-14 17:27:25] {2391} INFO -  at 9.3s,\testimator lgbm's best error=0.3999,\tbest estimator lgbm's best error=0.3999\n",
      "[flaml.automl.logger: 03-14 17:27:25] {2218} INFO - iteration 93, current learner lgbm\n",
      "[flaml.automl.logger: 03-14 17:27:25] {2391} INFO -  at 9.4s,\testimator lgbm's best error=0.3999,\tbest estimator lgbm's best error=0.3999\n",
      "[flaml.automl.logger: 03-14 17:27:25] {2218} INFO - iteration 94, current learner lgbm\n",
      "[flaml.automl.logger: 03-14 17:27:25] {2391} INFO -  at 9.5s,\testimator lgbm's best error=0.3999,\tbest estimator lgbm's best error=0.3999\n",
      "[flaml.automl.logger: 03-14 17:27:25] {2218} INFO - iteration 95, current learner lgbm\n",
      "[flaml.automl.logger: 03-14 17:27:25] {2391} INFO -  at 9.6s,\testimator lgbm's best error=0.3999,\tbest estimator lgbm's best error=0.3999\n",
      "[flaml.automl.logger: 03-14 17:27:25] {2218} INFO - iteration 96, current learner lgbm\n",
      "[flaml.automl.logger: 03-14 17:27:25] {2391} INFO -  at 9.6s,\testimator lgbm's best error=0.3999,\tbest estimator lgbm's best error=0.3999\n",
      "[flaml.automl.logger: 03-14 17:27:25] {2218} INFO - iteration 97, current learner lgbm\n",
      "[flaml.automl.logger: 03-14 17:27:25] {2391} INFO -  at 9.7s,\testimator lgbm's best error=0.3999,\tbest estimator lgbm's best error=0.3999\n",
      "[flaml.automl.logger: 03-14 17:27:25] {2218} INFO - iteration 98, current learner lgbm\n",
      "[flaml.automl.logger: 03-14 17:27:25] {2391} INFO -  at 9.8s,\testimator lgbm's best error=0.3999,\tbest estimator lgbm's best error=0.3999\n",
      "[flaml.automl.logger: 03-14 17:27:25] {2218} INFO - iteration 99, current learner lgbm\n",
      "[flaml.automl.logger: 03-14 17:27:25] {2391} INFO -  at 9.9s,\testimator lgbm's best error=0.3999,\tbest estimator lgbm's best error=0.3999\n",
      "[flaml.automl.logger: 03-14 17:27:25] {2218} INFO - iteration 100, current learner lgbm\n",
      "[flaml.automl.logger: 03-14 17:27:26] {2391} INFO -  at 9.9s,\testimator lgbm's best error=0.3999,\tbest estimator lgbm's best error=0.3999\n",
      "[flaml.automl.logger: 03-14 17:27:26] {2218} INFO - iteration 101, current learner lgbm\n",
      "[flaml.automl.logger: 03-14 17:27:26] {2391} INFO -  at 10.0s,\testimator lgbm's best error=0.3999,\tbest estimator lgbm's best error=0.3999\n",
      "[flaml.automl.logger: 03-14 17:27:26] {2218} INFO - iteration 102, current learner lgbm\n",
      "[flaml.automl.logger: 03-14 17:27:26] {2391} INFO -  at 10.2s,\testimator lgbm's best error=0.3999,\tbest estimator lgbm's best error=0.3999\n",
      "[flaml.automl.logger: 03-14 17:27:26] {2218} INFO - iteration 103, current learner lgbm\n",
      "[flaml.automl.logger: 03-14 17:27:26] {2391} INFO -  at 10.2s,\testimator lgbm's best error=0.3999,\tbest estimator lgbm's best error=0.3999\n",
      "[flaml.automl.logger: 03-14 17:27:26] {2218} INFO - iteration 104, current learner lgbm\n",
      "[flaml.automl.logger: 03-14 17:27:26] {2391} INFO -  at 10.3s,\testimator lgbm's best error=0.3999,\tbest estimator lgbm's best error=0.3999\n",
      "[flaml.automl.logger: 03-14 17:27:26] {2218} INFO - iteration 105, current learner lgbm\n",
      "[flaml.automl.logger: 03-14 17:27:26] {2391} INFO -  at 10.4s,\testimator lgbm's best error=0.3999,\tbest estimator lgbm's best error=0.3999\n",
      "[flaml.automl.logger: 03-14 17:27:26] {2218} INFO - iteration 106, current learner lgbm\n",
      "[flaml.automl.logger: 03-14 17:27:26] {2391} INFO -  at 10.5s,\testimator lgbm's best error=0.3999,\tbest estimator lgbm's best error=0.3999\n",
      "[flaml.automl.logger: 03-14 17:27:26] {2218} INFO - iteration 107, current learner lgbm\n",
      "[flaml.automl.logger: 03-14 17:27:26] {2391} INFO -  at 10.5s,\testimator lgbm's best error=0.3999,\tbest estimator lgbm's best error=0.3999\n",
      "[flaml.automl.logger: 03-14 17:27:26] {2218} INFO - iteration 108, current learner lgbm\n",
      "[flaml.automl.logger: 03-14 17:27:26] {2391} INFO -  at 10.6s,\testimator lgbm's best error=0.3999,\tbest estimator lgbm's best error=0.3999\n",
      "[flaml.automl.logger: 03-14 17:27:26] {2218} INFO - iteration 109, current learner lgbm\n",
      "[flaml.automl.logger: 03-14 17:27:26] {2391} INFO -  at 10.7s,\testimator lgbm's best error=0.3999,\tbest estimator lgbm's best error=0.3999\n",
      "[flaml.automl.logger: 03-14 17:27:26] {2218} INFO - iteration 110, current learner lgbm\n",
      "[flaml.automl.logger: 03-14 17:27:26] {2391} INFO -  at 10.9s,\testimator lgbm's best error=0.3999,\tbest estimator lgbm's best error=0.3999\n",
      "[flaml.automl.logger: 03-14 17:27:26] {2218} INFO - iteration 111, current learner lgbm\n",
      "[flaml.automl.logger: 03-14 17:27:27] {2391} INFO -  at 10.9s,\testimator lgbm's best error=0.3999,\tbest estimator lgbm's best error=0.3999\n",
      "[flaml.automl.logger: 03-14 17:27:27] {2218} INFO - iteration 112, current learner lgbm\n",
      "[flaml.automl.logger: 03-14 17:27:27] {2391} INFO -  at 11.0s,\testimator lgbm's best error=0.3999,\tbest estimator lgbm's best error=0.3999\n",
      "[flaml.automl.logger: 03-14 17:27:27] {2218} INFO - iteration 113, current learner lgbm\n",
      "[flaml.automl.logger: 03-14 17:27:27] {2391} INFO -  at 11.1s,\testimator lgbm's best error=0.3999,\tbest estimator lgbm's best error=0.3999\n",
      "[flaml.automl.logger: 03-14 17:27:27] {2218} INFO - iteration 114, current learner lgbm\n",
      "[flaml.automl.logger: 03-14 17:27:27] {2391} INFO -  at 11.2s,\testimator lgbm's best error=0.3999,\tbest estimator lgbm's best error=0.3999\n",
      "[flaml.automl.logger: 03-14 17:27:27] {2218} INFO - iteration 115, current learner lgbm\n",
      "[flaml.automl.logger: 03-14 17:27:27] {2391} INFO -  at 11.2s,\testimator lgbm's best error=0.3999,\tbest estimator lgbm's best error=0.3999\n",
      "[flaml.automl.logger: 03-14 17:27:27] {2218} INFO - iteration 116, current learner lgbm\n",
      "[flaml.automl.logger: 03-14 17:27:27] {2391} INFO -  at 11.3s,\testimator lgbm's best error=0.3999,\tbest estimator lgbm's best error=0.3999\n",
      "[flaml.automl.logger: 03-14 17:27:27] {2218} INFO - iteration 117, current learner lgbm\n",
      "[flaml.automl.logger: 03-14 17:27:27] {2391} INFO -  at 11.4s,\testimator lgbm's best error=0.3999,\tbest estimator lgbm's best error=0.3999\n",
      "[flaml.automl.logger: 03-14 17:27:27] {2218} INFO - iteration 118, current learner lgbm\n",
      "[flaml.automl.logger: 03-14 17:27:27] {2391} INFO -  at 11.5s,\testimator lgbm's best error=0.3999,\tbest estimator lgbm's best error=0.3999\n",
      "[flaml.automl.logger: 03-14 17:27:27] {2218} INFO - iteration 119, current learner lgbm\n",
      "[flaml.automl.logger: 03-14 17:27:27] {2391} INFO -  at 11.6s,\testimator lgbm's best error=0.3999,\tbest estimator lgbm's best error=0.3999\n",
      "[flaml.automl.logger: 03-14 17:27:27] {2218} INFO - iteration 120, current learner lgbm\n",
      "[flaml.automl.logger: 03-14 17:27:27] {2391} INFO -  at 11.7s,\testimator lgbm's best error=0.3999,\tbest estimator lgbm's best error=0.3999\n",
      "[flaml.automl.logger: 03-14 17:27:27] {2218} INFO - iteration 121, current learner lgbm\n",
      "[flaml.automl.logger: 03-14 17:27:27] {2391} INFO -  at 11.7s,\testimator lgbm's best error=0.3999,\tbest estimator lgbm's best error=0.3999\n",
      "[flaml.automl.logger: 03-14 17:27:27] {2218} INFO - iteration 122, current learner lgbm\n",
      "[flaml.automl.logger: 03-14 17:27:27] {2391} INFO -  at 11.8s,\testimator lgbm's best error=0.3999,\tbest estimator lgbm's best error=0.3999\n",
      "[flaml.automl.logger: 03-14 17:27:27] {2218} INFO - iteration 123, current learner lgbm\n",
      "[flaml.automl.logger: 03-14 17:27:27] {2391} INFO -  at 11.9s,\testimator lgbm's best error=0.3999,\tbest estimator lgbm's best error=0.3999\n",
      "[flaml.automl.logger: 03-14 17:27:27] {2218} INFO - iteration 124, current learner lgbm\n",
      "[flaml.automl.logger: 03-14 17:27:28] {2391} INFO -  at 12.0s,\testimator lgbm's best error=0.3999,\tbest estimator lgbm's best error=0.3999\n",
      "[flaml.automl.logger: 03-14 17:27:28] {2218} INFO - iteration 125, current learner lgbm\n",
      "[flaml.automl.logger: 03-14 17:27:28] {2391} INFO -  at 12.0s,\testimator lgbm's best error=0.3999,\tbest estimator lgbm's best error=0.3999\n",
      "[flaml.automl.logger: 03-14 17:27:28] {2218} INFO - iteration 126, current learner lgbm\n",
      "[flaml.automl.logger: 03-14 17:27:28] {2391} INFO -  at 12.1s,\testimator lgbm's best error=0.3999,\tbest estimator lgbm's best error=0.3999\n",
      "[flaml.automl.logger: 03-14 17:27:28] {2218} INFO - iteration 127, current learner lgbm\n",
      "[flaml.automl.logger: 03-14 17:27:28] {2391} INFO -  at 12.2s,\testimator lgbm's best error=0.3999,\tbest estimator lgbm's best error=0.3999\n",
      "[flaml.automl.logger: 03-14 17:27:28] {2218} INFO - iteration 128, current learner lgbm\n",
      "[flaml.automl.logger: 03-14 17:27:28] {2391} INFO -  at 12.3s,\testimator lgbm's best error=0.3999,\tbest estimator lgbm's best error=0.3999\n",
      "[flaml.automl.logger: 03-14 17:27:28] {2218} INFO - iteration 129, current learner lgbm\n",
      "[flaml.automl.logger: 03-14 17:27:28] {2391} INFO -  at 12.3s,\testimator lgbm's best error=0.3999,\tbest estimator lgbm's best error=0.3999\n",
      "[flaml.automl.logger: 03-14 17:27:28] {2218} INFO - iteration 130, current learner lgbm\n",
      "[flaml.automl.logger: 03-14 17:27:28] {2391} INFO -  at 12.4s,\testimator lgbm's best error=0.3942,\tbest estimator lgbm's best error=0.3942\n",
      "[flaml.automl.logger: 03-14 17:27:28] {2218} INFO - iteration 131, current learner lgbm\n",
      "[flaml.automl.logger: 03-14 17:27:28] {2391} INFO -  at 12.5s,\testimator lgbm's best error=0.3942,\tbest estimator lgbm's best error=0.3942\n",
      "[flaml.automl.logger: 03-14 17:27:28] {2218} INFO - iteration 132, current learner lgbm\n",
      "[flaml.automl.logger: 03-14 17:27:28] {2391} INFO -  at 12.6s,\testimator lgbm's best error=0.3942,\tbest estimator lgbm's best error=0.3942\n",
      "[flaml.automl.logger: 03-14 17:27:28] {2218} INFO - iteration 133, current learner lgbm\n",
      "[flaml.automl.logger: 03-14 17:27:28] {2391} INFO -  at 12.7s,\testimator lgbm's best error=0.3942,\tbest estimator lgbm's best error=0.3942\n",
      "[flaml.automl.logger: 03-14 17:27:28] {2218} INFO - iteration 134, current learner lgbm\n",
      "[flaml.automl.logger: 03-14 17:27:28] {2391} INFO -  at 12.7s,\testimator lgbm's best error=0.3942,\tbest estimator lgbm's best error=0.3942\n",
      "[flaml.automl.logger: 03-14 17:27:28] {2218} INFO - iteration 135, current learner lgbm\n",
      "[flaml.automl.logger: 03-14 17:27:28] {2391} INFO -  at 12.8s,\testimator lgbm's best error=0.3942,\tbest estimator lgbm's best error=0.3942\n",
      "[flaml.automl.logger: 03-14 17:27:28] {2218} INFO - iteration 136, current learner lgbm\n",
      "[flaml.automl.logger: 03-14 17:27:28] {2391} INFO -  at 12.9s,\testimator lgbm's best error=0.3942,\tbest estimator lgbm's best error=0.3942\n",
      "[flaml.automl.logger: 03-14 17:27:28] {2218} INFO - iteration 137, current learner lgbm\n",
      "[flaml.automl.logger: 03-14 17:27:29] {2391} INFO -  at 13.0s,\testimator lgbm's best error=0.3942,\tbest estimator lgbm's best error=0.3942\n",
      "[flaml.automl.logger: 03-14 17:27:29] {2218} INFO - iteration 138, current learner lgbm\n",
      "[flaml.automl.logger: 03-14 17:27:29] {2391} INFO -  at 13.1s,\testimator lgbm's best error=0.3942,\tbest estimator lgbm's best error=0.3942\n",
      "[flaml.automl.logger: 03-14 17:27:29] {2218} INFO - iteration 139, current learner lgbm\n",
      "[flaml.automl.logger: 03-14 17:27:29] {2391} INFO -  at 13.2s,\testimator lgbm's best error=0.3942,\tbest estimator lgbm's best error=0.3942\n",
      "[flaml.automl.logger: 03-14 17:27:29] {2218} INFO - iteration 140, current learner lgbm\n",
      "[flaml.automl.logger: 03-14 17:27:29] {2391} INFO -  at 13.2s,\testimator lgbm's best error=0.3942,\tbest estimator lgbm's best error=0.3942\n",
      "[flaml.automl.logger: 03-14 17:27:29] {2218} INFO - iteration 141, current learner lgbm\n",
      "[flaml.automl.logger: 03-14 17:27:29] {2391} INFO -  at 13.4s,\testimator lgbm's best error=0.3942,\tbest estimator lgbm's best error=0.3942\n",
      "[flaml.automl.logger: 03-14 17:27:29] {2218} INFO - iteration 142, current learner lgbm\n",
      "[flaml.automl.logger: 03-14 17:27:29] {2391} INFO -  at 13.4s,\testimator lgbm's best error=0.3942,\tbest estimator lgbm's best error=0.3942\n",
      "[flaml.automl.logger: 03-14 17:27:29] {2218} INFO - iteration 143, current learner lgbm\n",
      "[flaml.automl.logger: 03-14 17:27:29] {2391} INFO -  at 13.5s,\testimator lgbm's best error=0.3942,\tbest estimator lgbm's best error=0.3942\n",
      "[flaml.automl.logger: 03-14 17:27:29] {2218} INFO - iteration 144, current learner lgbm\n",
      "[flaml.automl.logger: 03-14 17:27:29] {2391} INFO -  at 13.7s,\testimator lgbm's best error=0.3942,\tbest estimator lgbm's best error=0.3942\n",
      "[flaml.automl.logger: 03-14 17:27:29] {2218} INFO - iteration 145, current learner lgbm\n",
      "[flaml.automl.logger: 03-14 17:27:29] {2391} INFO -  at 13.7s,\testimator lgbm's best error=0.3942,\tbest estimator lgbm's best error=0.3942\n",
      "[flaml.automl.logger: 03-14 17:27:29] {2218} INFO - iteration 146, current learner lgbm\n",
      "[flaml.automl.logger: 03-14 17:27:29] {2391} INFO -  at 13.8s,\testimator lgbm's best error=0.3942,\tbest estimator lgbm's best error=0.3942\n",
      "[flaml.automl.logger: 03-14 17:27:29] {2218} INFO - iteration 147, current learner lgbm\n",
      "[flaml.automl.logger: 03-14 17:27:29] {2391} INFO -  at 13.9s,\testimator lgbm's best error=0.3942,\tbest estimator lgbm's best error=0.3942\n",
      "[flaml.automl.logger: 03-14 17:27:29] {2218} INFO - iteration 148, current learner lgbm\n",
      "[flaml.automl.logger: 03-14 17:27:30] {2391} INFO -  at 14.0s,\testimator lgbm's best error=0.3942,\tbest estimator lgbm's best error=0.3942\n",
      "[flaml.automl.logger: 03-14 17:27:30] {2218} INFO - iteration 149, current learner lgbm\n",
      "[flaml.automl.logger: 03-14 17:27:30] {2391} INFO -  at 14.1s,\testimator lgbm's best error=0.3942,\tbest estimator lgbm's best error=0.3942\n",
      "[flaml.automl.logger: 03-14 17:27:30] {2218} INFO - iteration 150, current learner lgbm\n",
      "[flaml.automl.logger: 03-14 17:27:30] {2391} INFO -  at 14.2s,\testimator lgbm's best error=0.3942,\tbest estimator lgbm's best error=0.3942\n",
      "[flaml.automl.logger: 03-14 17:27:30] {2218} INFO - iteration 151, current learner lgbm\n",
      "[flaml.automl.logger: 03-14 17:27:30] {2391} INFO -  at 14.2s,\testimator lgbm's best error=0.3942,\tbest estimator lgbm's best error=0.3942\n",
      "[flaml.automl.logger: 03-14 17:27:30] {2218} INFO - iteration 152, current learner lgbm\n",
      "[flaml.automl.logger: 03-14 17:27:30] {2391} INFO -  at 14.3s,\testimator lgbm's best error=0.3942,\tbest estimator lgbm's best error=0.3942\n",
      "[flaml.automl.logger: 03-14 17:27:30] {2218} INFO - iteration 153, current learner lgbm\n",
      "[flaml.automl.logger: 03-14 17:27:30] {2391} INFO -  at 14.4s,\testimator lgbm's best error=0.3942,\tbest estimator lgbm's best error=0.3942\n",
      "[flaml.automl.logger: 03-14 17:27:30] {2218} INFO - iteration 154, current learner lgbm\n",
      "[flaml.automl.logger: 03-14 17:27:30] {2391} INFO -  at 14.5s,\testimator lgbm's best error=0.3942,\tbest estimator lgbm's best error=0.3942\n",
      "[flaml.automl.logger: 03-14 17:27:30] {2218} INFO - iteration 155, current learner lgbm\n",
      "[flaml.automl.logger: 03-14 17:27:30] {2391} INFO -  at 14.5s,\testimator lgbm's best error=0.3942,\tbest estimator lgbm's best error=0.3942\n",
      "[flaml.automl.logger: 03-14 17:27:30] {2218} INFO - iteration 156, current learner lgbm\n",
      "[flaml.automl.logger: 03-14 17:27:30] {2391} INFO -  at 14.6s,\testimator lgbm's best error=0.3942,\tbest estimator lgbm's best error=0.3942\n",
      "[flaml.automl.logger: 03-14 17:27:30] {2218} INFO - iteration 157, current learner lgbm\n",
      "[flaml.automl.logger: 03-14 17:27:30] {2391} INFO -  at 14.7s,\testimator lgbm's best error=0.3942,\tbest estimator lgbm's best error=0.3942\n",
      "[flaml.automl.logger: 03-14 17:27:30] {2218} INFO - iteration 158, current learner lgbm\n",
      "[flaml.automl.logger: 03-14 17:27:30] {2391} INFO -  at 14.8s,\testimator lgbm's best error=0.3942,\tbest estimator lgbm's best error=0.3942\n",
      "[flaml.automl.logger: 03-14 17:27:30] {2218} INFO - iteration 159, current learner lgbm\n",
      "[flaml.automl.logger: 03-14 17:27:30] {2391} INFO -  at 14.9s,\testimator lgbm's best error=0.3942,\tbest estimator lgbm's best error=0.3942\n",
      "[flaml.automl.logger: 03-14 17:27:30] {2218} INFO - iteration 160, current learner lgbm\n",
      "[flaml.automl.logger: 03-14 17:27:31] {2391} INFO -  at 15.0s,\testimator lgbm's best error=0.3942,\tbest estimator lgbm's best error=0.3942\n",
      "[flaml.automl.logger: 03-14 17:27:31] {2218} INFO - iteration 161, current learner lgbm\n",
      "[flaml.automl.logger: 03-14 17:27:31] {2391} INFO -  at 15.1s,\testimator lgbm's best error=0.3942,\tbest estimator lgbm's best error=0.3942\n",
      "[flaml.automl.logger: 03-14 17:27:31] {2218} INFO - iteration 162, current learner lgbm\n",
      "[flaml.automl.logger: 03-14 17:27:31] {2391} INFO -  at 15.2s,\testimator lgbm's best error=0.3942,\tbest estimator lgbm's best error=0.3942\n",
      "[flaml.automl.logger: 03-14 17:27:31] {2218} INFO - iteration 163, current learner lgbm\n",
      "[flaml.automl.logger: 03-14 17:27:31] {2391} INFO -  at 15.2s,\testimator lgbm's best error=0.3942,\tbest estimator lgbm's best error=0.3942\n",
      "[flaml.automl.logger: 03-14 17:27:31] {2218} INFO - iteration 164, current learner lgbm\n",
      "[flaml.automl.logger: 03-14 17:27:31] {2391} INFO -  at 15.3s,\testimator lgbm's best error=0.3942,\tbest estimator lgbm's best error=0.3942\n",
      "[flaml.automl.logger: 03-14 17:27:31] {2218} INFO - iteration 165, current learner lgbm\n",
      "[flaml.automl.logger: 03-14 17:27:31] {2391} INFO -  at 15.4s,\testimator lgbm's best error=0.3942,\tbest estimator lgbm's best error=0.3942\n",
      "[flaml.automl.logger: 03-14 17:27:31] {2218} INFO - iteration 166, current learner lgbm\n",
      "[flaml.automl.logger: 03-14 17:27:31] {2391} INFO -  at 15.5s,\testimator lgbm's best error=0.3942,\tbest estimator lgbm's best error=0.3942\n",
      "[flaml.automl.logger: 03-14 17:27:31] {2218} INFO - iteration 167, current learner lgbm\n",
      "[flaml.automl.logger: 03-14 17:27:31] {2391} INFO -  at 15.6s,\testimator lgbm's best error=0.3942,\tbest estimator lgbm's best error=0.3942\n",
      "[flaml.automl.logger: 03-14 17:27:31] {2218} INFO - iteration 168, current learner lgbm\n",
      "[flaml.automl.logger: 03-14 17:27:31] {2391} INFO -  at 15.7s,\testimator lgbm's best error=0.3942,\tbest estimator lgbm's best error=0.3942\n",
      "[flaml.automl.logger: 03-14 17:27:31] {2218} INFO - iteration 169, current learner lgbm\n",
      "[flaml.automl.logger: 03-14 17:27:31] {2391} INFO -  at 15.8s,\testimator lgbm's best error=0.3942,\tbest estimator lgbm's best error=0.3942\n",
      "[flaml.automl.logger: 03-14 17:27:31] {2218} INFO - iteration 170, current learner lgbm\n",
      "[flaml.automl.logger: 03-14 17:27:32] {2391} INFO -  at 15.9s,\testimator lgbm's best error=0.3942,\tbest estimator lgbm's best error=0.3942\n",
      "[flaml.automl.logger: 03-14 17:27:32] {2218} INFO - iteration 171, current learner lgbm\n",
      "[flaml.automl.logger: 03-14 17:27:32] {2391} INFO -  at 16.0s,\testimator lgbm's best error=0.3942,\tbest estimator lgbm's best error=0.3942\n",
      "[flaml.automl.logger: 03-14 17:27:32] {2218} INFO - iteration 172, current learner lgbm\n",
      "[flaml.automl.logger: 03-14 17:27:32] {2391} INFO -  at 16.1s,\testimator lgbm's best error=0.3942,\tbest estimator lgbm's best error=0.3942\n",
      "[flaml.automl.logger: 03-14 17:27:32] {2218} INFO - iteration 173, current learner lgbm\n",
      "[flaml.automl.logger: 03-14 17:27:32] {2391} INFO -  at 16.1s,\testimator lgbm's best error=0.3942,\tbest estimator lgbm's best error=0.3942\n",
      "[flaml.automl.logger: 03-14 17:27:32] {2218} INFO - iteration 174, current learner lgbm\n",
      "[flaml.automl.logger: 03-14 17:27:32] {2391} INFO -  at 16.2s,\testimator lgbm's best error=0.3942,\tbest estimator lgbm's best error=0.3942\n",
      "[flaml.automl.logger: 03-14 17:27:32] {2218} INFO - iteration 175, current learner lgbm\n",
      "[flaml.automl.logger: 03-14 17:27:32] {2391} INFO -  at 16.3s,\testimator lgbm's best error=0.3942,\tbest estimator lgbm's best error=0.3942\n",
      "[flaml.automl.logger: 03-14 17:27:32] {2218} INFO - iteration 176, current learner lgbm\n",
      "[flaml.automl.logger: 03-14 17:27:32] {2391} INFO -  at 16.4s,\testimator lgbm's best error=0.3942,\tbest estimator lgbm's best error=0.3942\n",
      "[flaml.automl.logger: 03-14 17:27:32] {2218} INFO - iteration 177, current learner lgbm\n",
      "[flaml.automl.logger: 03-14 17:27:32] {2391} INFO -  at 16.5s,\testimator lgbm's best error=0.3942,\tbest estimator lgbm's best error=0.3942\n",
      "[flaml.automl.logger: 03-14 17:27:32] {2218} INFO - iteration 178, current learner lgbm\n",
      "[flaml.automl.logger: 03-14 17:27:32] {2391} INFO -  at 16.6s,\testimator lgbm's best error=0.3942,\tbest estimator lgbm's best error=0.3942\n",
      "[flaml.automl.logger: 03-14 17:27:32] {2218} INFO - iteration 179, current learner lgbm\n",
      "[flaml.automl.logger: 03-14 17:27:32] {2391} INFO -  at 16.7s,\testimator lgbm's best error=0.3942,\tbest estimator lgbm's best error=0.3942\n",
      "[flaml.automl.logger: 03-14 17:27:32] {2218} INFO - iteration 180, current learner lgbm\n",
      "[flaml.automl.logger: 03-14 17:27:32] {2391} INFO -  at 16.7s,\testimator lgbm's best error=0.3942,\tbest estimator lgbm's best error=0.3942\n",
      "[flaml.automl.logger: 03-14 17:27:32] {2218} INFO - iteration 181, current learner lgbm\n",
      "[flaml.automl.logger: 03-14 17:27:32] {2391} INFO -  at 16.8s,\testimator lgbm's best error=0.3942,\tbest estimator lgbm's best error=0.3942\n",
      "[flaml.automl.logger: 03-14 17:27:32] {2218} INFO - iteration 182, current learner lgbm\n",
      "[flaml.automl.logger: 03-14 17:27:32] {2391} INFO -  at 16.9s,\testimator lgbm's best error=0.3942,\tbest estimator lgbm's best error=0.3942\n",
      "[flaml.automl.logger: 03-14 17:27:32] {2218} INFO - iteration 183, current learner lgbm\n",
      "[flaml.automl.logger: 03-14 17:27:33] {2391} INFO -  at 17.0s,\testimator lgbm's best error=0.3942,\tbest estimator lgbm's best error=0.3942\n",
      "[flaml.automl.logger: 03-14 17:27:33] {2218} INFO - iteration 184, current learner lgbm\n",
      "[flaml.automl.logger: 03-14 17:27:33] {2391} INFO -  at 17.0s,\testimator lgbm's best error=0.3942,\tbest estimator lgbm's best error=0.3942\n",
      "[flaml.automl.logger: 03-14 17:27:33] {2218} INFO - iteration 185, current learner lgbm\n",
      "[flaml.automl.logger: 03-14 17:27:33] {2391} INFO -  at 17.1s,\testimator lgbm's best error=0.3942,\tbest estimator lgbm's best error=0.3942\n",
      "[flaml.automl.logger: 03-14 17:27:33] {2218} INFO - iteration 186, current learner lgbm\n",
      "[flaml.automl.logger: 03-14 17:27:33] {2391} INFO -  at 17.2s,\testimator lgbm's best error=0.3942,\tbest estimator lgbm's best error=0.3942\n",
      "[flaml.automl.logger: 03-14 17:27:33] {2218} INFO - iteration 187, current learner lgbm\n",
      "[flaml.automl.logger: 03-14 17:27:33] {2391} INFO -  at 17.2s,\testimator lgbm's best error=0.3942,\tbest estimator lgbm's best error=0.3942\n",
      "[flaml.automl.logger: 03-14 17:27:33] {2218} INFO - iteration 188, current learner lgbm\n",
      "[flaml.automl.logger: 03-14 17:27:33] {2391} INFO -  at 17.3s,\testimator lgbm's best error=0.3942,\tbest estimator lgbm's best error=0.3942\n",
      "[flaml.automl.logger: 03-14 17:27:33] {2218} INFO - iteration 189, current learner lgbm\n",
      "[flaml.automl.logger: 03-14 17:27:33] {2391} INFO -  at 17.4s,\testimator lgbm's best error=0.3942,\tbest estimator lgbm's best error=0.3942\n",
      "[flaml.automl.logger: 03-14 17:27:33] {2218} INFO - iteration 190, current learner lgbm\n",
      "[flaml.automl.logger: 03-14 17:27:33] {2391} INFO -  at 17.5s,\testimator lgbm's best error=0.3942,\tbest estimator lgbm's best error=0.3942\n",
      "[flaml.automl.logger: 03-14 17:27:33] {2218} INFO - iteration 191, current learner lgbm\n",
      "[flaml.automl.logger: 03-14 17:27:33] {2391} INFO -  at 17.6s,\testimator lgbm's best error=0.3942,\tbest estimator lgbm's best error=0.3942\n",
      "[flaml.automl.logger: 03-14 17:27:33] {2218} INFO - iteration 192, current learner lgbm\n",
      "[flaml.automl.logger: 03-14 17:27:33] {2391} INFO -  at 17.7s,\testimator lgbm's best error=0.3942,\tbest estimator lgbm's best error=0.3942\n",
      "[flaml.automl.logger: 03-14 17:27:33] {2218} INFO - iteration 193, current learner lgbm\n",
      "[flaml.automl.logger: 03-14 17:27:33] {2391} INFO -  at 17.8s,\testimator lgbm's best error=0.3942,\tbest estimator lgbm's best error=0.3942\n",
      "[flaml.automl.logger: 03-14 17:27:33] {2218} INFO - iteration 194, current learner lgbm\n",
      "[flaml.automl.logger: 03-14 17:27:33] {2391} INFO -  at 17.9s,\testimator lgbm's best error=0.3942,\tbest estimator lgbm's best error=0.3942\n",
      "[flaml.automl.logger: 03-14 17:27:33] {2218} INFO - iteration 195, current learner lgbm\n",
      "[flaml.automl.logger: 03-14 17:27:34] {2391} INFO -  at 18.1s,\testimator lgbm's best error=0.3942,\tbest estimator lgbm's best error=0.3942\n",
      "[flaml.automl.logger: 03-14 17:27:34] {2218} INFO - iteration 196, current learner lgbm\n",
      "[flaml.automl.logger: 03-14 17:27:34] {2391} INFO -  at 18.2s,\testimator lgbm's best error=0.3942,\tbest estimator lgbm's best error=0.3942\n",
      "[flaml.automl.logger: 03-14 17:27:34] {2218} INFO - iteration 197, current learner lgbm\n",
      "[flaml.automl.logger: 03-14 17:27:34] {2391} INFO -  at 18.3s,\testimator lgbm's best error=0.3915,\tbest estimator lgbm's best error=0.3915\n",
      "[flaml.automl.logger: 03-14 17:27:34] {2218} INFO - iteration 198, current learner lgbm\n",
      "[flaml.automl.logger: 03-14 17:27:34] {2391} INFO -  at 18.4s,\testimator lgbm's best error=0.3915,\tbest estimator lgbm's best error=0.3915\n",
      "[flaml.automl.logger: 03-14 17:27:34] {2218} INFO - iteration 199, current learner lgbm\n",
      "[flaml.automl.logger: 03-14 17:27:34] {2391} INFO -  at 18.6s,\testimator lgbm's best error=0.3915,\tbest estimator lgbm's best error=0.3915\n",
      "[flaml.automl.logger: 03-14 17:27:34] {2218} INFO - iteration 200, current learner lgbm\n",
      "[flaml.automl.logger: 03-14 17:27:34] {2391} INFO -  at 18.9s,\testimator lgbm's best error=0.3915,\tbest estimator lgbm's best error=0.3915\n",
      "[flaml.automl.logger: 03-14 17:27:34] {2218} INFO - iteration 201, current learner lgbm\n",
      "[flaml.automl.logger: 03-14 17:27:35] {2391} INFO -  at 19.0s,\testimator lgbm's best error=0.3915,\tbest estimator lgbm's best error=0.3915\n",
      "[flaml.automl.logger: 03-14 17:27:35] {2218} INFO - iteration 202, current learner lgbm\n",
      "[flaml.automl.logger: 03-14 17:27:35] {2391} INFO -  at 19.1s,\testimator lgbm's best error=0.3915,\tbest estimator lgbm's best error=0.3915\n",
      "[flaml.automl.logger: 03-14 17:27:35] {2218} INFO - iteration 203, current learner lgbm\n",
      "[flaml.automl.logger: 03-14 17:27:35] {2391} INFO -  at 19.4s,\testimator lgbm's best error=0.3915,\tbest estimator lgbm's best error=0.3915\n",
      "[flaml.automl.logger: 03-14 17:27:35] {2218} INFO - iteration 204, current learner lgbm\n",
      "[flaml.automl.logger: 03-14 17:27:35] {2391} INFO -  at 19.5s,\testimator lgbm's best error=0.3915,\tbest estimator lgbm's best error=0.3915\n",
      "[flaml.automl.logger: 03-14 17:27:35] {2218} INFO - iteration 205, current learner lgbm\n",
      "[flaml.automl.logger: 03-14 17:27:35] {2391} INFO -  at 19.8s,\testimator lgbm's best error=0.3915,\tbest estimator lgbm's best error=0.3915\n",
      "[flaml.automl.logger: 03-14 17:27:35] {2218} INFO - iteration 206, current learner lgbm\n",
      "[flaml.automl.logger: 03-14 17:27:36] {2391} INFO -  at 20.3s,\testimator lgbm's best error=0.3915,\tbest estimator lgbm's best error=0.3915\n",
      "[flaml.automl.logger: 03-14 17:27:36] {2218} INFO - iteration 207, current learner lgbm\n",
      "[flaml.automl.logger: 03-14 17:27:36] {2391} INFO -  at 20.5s,\testimator lgbm's best error=0.3915,\tbest estimator lgbm's best error=0.3915\n",
      "[flaml.automl.logger: 03-14 17:27:36] {2218} INFO - iteration 208, current learner lgbm\n",
      "[flaml.automl.logger: 03-14 17:27:36] {2391} INFO -  at 20.8s,\testimator lgbm's best error=0.3740,\tbest estimator lgbm's best error=0.3740\n",
      "[flaml.automl.logger: 03-14 17:27:36] {2218} INFO - iteration 209, current learner lgbm\n",
      "[flaml.automl.logger: 03-14 17:27:37] {2391} INFO -  at 20.9s,\testimator lgbm's best error=0.3740,\tbest estimator lgbm's best error=0.3740\n",
      "[flaml.automl.logger: 03-14 17:27:37] {2218} INFO - iteration 210, current learner lgbm\n",
      "[flaml.automl.logger: 03-14 17:27:37] {2391} INFO -  at 21.1s,\testimator lgbm's best error=0.3740,\tbest estimator lgbm's best error=0.3740\n",
      "[flaml.automl.logger: 03-14 17:27:37] {2218} INFO - iteration 211, current learner lgbm\n",
      "[flaml.automl.logger: 03-14 17:27:37] {2391} INFO -  at 21.5s,\testimator lgbm's best error=0.3740,\tbest estimator lgbm's best error=0.3740\n",
      "[flaml.automl.logger: 03-14 17:27:37] {2218} INFO - iteration 212, current learner lgbm\n",
      "[flaml.automl.logger: 03-14 17:27:38] {2391} INFO -  at 22.3s,\testimator lgbm's best error=0.3740,\tbest estimator lgbm's best error=0.3740\n",
      "[flaml.automl.logger: 03-14 17:27:38] {2218} INFO - iteration 213, current learner lgbm\n",
      "[flaml.automl.logger: 03-14 17:27:38] {2391} INFO -  at 22.5s,\testimator lgbm's best error=0.3740,\tbest estimator lgbm's best error=0.3740\n",
      "[flaml.automl.logger: 03-14 17:27:38] {2218} INFO - iteration 214, current learner lgbm\n",
      "[flaml.automl.logger: 03-14 17:27:39] {2391} INFO -  at 23.3s,\testimator lgbm's best error=0.3740,\tbest estimator lgbm's best error=0.3740\n",
      "[flaml.automl.logger: 03-14 17:27:39] {2218} INFO - iteration 215, current learner lgbm\n",
      "[flaml.automl.logger: 03-14 17:27:39] {2391} INFO -  at 23.7s,\testimator lgbm's best error=0.3740,\tbest estimator lgbm's best error=0.3740\n",
      "[flaml.automl.logger: 03-14 17:27:39] {2218} INFO - iteration 216, current learner lgbm\n",
      "[flaml.automl.logger: 03-14 17:27:40] {2391} INFO -  at 24.1s,\testimator lgbm's best error=0.3740,\tbest estimator lgbm's best error=0.3740\n",
      "[flaml.automl.logger: 03-14 17:27:40] {2218} INFO - iteration 217, current learner lgbm\n",
      "[flaml.automl.logger: 03-14 17:27:40] {2391} INFO -  at 24.2s,\testimator lgbm's best error=0.3740,\tbest estimator lgbm's best error=0.3740\n",
      "[flaml.automl.logger: 03-14 17:27:40] {2218} INFO - iteration 218, current learner lgbm\n",
      "[flaml.automl.logger: 03-14 17:27:40] {2391} INFO -  at 24.3s,\testimator lgbm's best error=0.3740,\tbest estimator lgbm's best error=0.3740\n",
      "[flaml.automl.logger: 03-14 17:27:40] {2218} INFO - iteration 219, current learner lgbm\n",
      "[flaml.automl.logger: 03-14 17:27:40] {2391} INFO -  at 24.4s,\testimator lgbm's best error=0.3740,\tbest estimator lgbm's best error=0.3740\n",
      "[flaml.automl.logger: 03-14 17:27:40] {2218} INFO - iteration 220, current learner lgbm\n",
      "[flaml.automl.logger: 03-14 17:27:40] {2391} INFO -  at 24.6s,\testimator lgbm's best error=0.3740,\tbest estimator lgbm's best error=0.3740\n",
      "[flaml.automl.logger: 03-14 17:27:40] {2218} INFO - iteration 221, current learner lgbm\n",
      "[flaml.automl.logger: 03-14 17:27:40] {2391} INFO -  at 24.8s,\testimator lgbm's best error=0.3740,\tbest estimator lgbm's best error=0.3740\n",
      "[flaml.automl.logger: 03-14 17:27:40] {2218} INFO - iteration 222, current learner lgbm\n",
      "[flaml.automl.logger: 03-14 17:27:41] {2391} INFO -  at 25.4s,\testimator lgbm's best error=0.3740,\tbest estimator lgbm's best error=0.3740\n",
      "[flaml.automl.logger: 03-14 17:27:41] {2218} INFO - iteration 223, current learner lgbm\n",
      "[flaml.automl.logger: 03-14 17:27:41] {2391} INFO -  at 25.5s,\testimator lgbm's best error=0.3740,\tbest estimator lgbm's best error=0.3740\n",
      "[flaml.automl.logger: 03-14 17:27:41] {2218} INFO - iteration 224, current learner lgbm\n",
      "[flaml.automl.logger: 03-14 17:27:41] {2391} INFO -  at 25.7s,\testimator lgbm's best error=0.3740,\tbest estimator lgbm's best error=0.3740\n",
      "[flaml.automl.logger: 03-14 17:27:41] {2218} INFO - iteration 225, current learner lgbm\n",
      "[flaml.automl.logger: 03-14 17:27:42] {2391} INFO -  at 25.9s,\testimator lgbm's best error=0.3740,\tbest estimator lgbm's best error=0.3740\n",
      "[flaml.automl.logger: 03-14 17:27:42] {2218} INFO - iteration 226, current learner lgbm\n",
      "[flaml.automl.logger: 03-14 17:27:42] {2391} INFO -  at 26.1s,\testimator lgbm's best error=0.3740,\tbest estimator lgbm's best error=0.3740\n",
      "[flaml.automl.logger: 03-14 17:27:42] {2218} INFO - iteration 227, current learner lgbm\n",
      "[flaml.automl.logger: 03-14 17:27:42] {2391} INFO -  at 26.3s,\testimator lgbm's best error=0.3740,\tbest estimator lgbm's best error=0.3740\n",
      "[flaml.automl.logger: 03-14 17:27:42] {2218} INFO - iteration 228, current learner lgbm\n",
      "[flaml.automl.logger: 03-14 17:27:42] {2391} INFO -  at 26.5s,\testimator lgbm's best error=0.3740,\tbest estimator lgbm's best error=0.3740\n",
      "[flaml.automl.logger: 03-14 17:27:42] {2218} INFO - iteration 229, current learner lgbm\n",
      "[flaml.automl.logger: 03-14 17:27:42] {2391} INFO -  at 26.7s,\testimator lgbm's best error=0.3740,\tbest estimator lgbm's best error=0.3740\n",
      "[flaml.automl.logger: 03-14 17:27:42] {2218} INFO - iteration 230, current learner lgbm\n",
      "[flaml.automl.logger: 03-14 17:27:42] {2391} INFO -  at 26.8s,\testimator lgbm's best error=0.3740,\tbest estimator lgbm's best error=0.3740\n",
      "[flaml.automl.logger: 03-14 17:27:42] {2218} INFO - iteration 231, current learner lgbm\n",
      "[flaml.automl.logger: 03-14 17:27:43] {2391} INFO -  at 27.1s,\testimator lgbm's best error=0.3740,\tbest estimator lgbm's best error=0.3740\n",
      "[flaml.automl.logger: 03-14 17:27:43] {2218} INFO - iteration 232, current learner lgbm\n",
      "[flaml.automl.logger: 03-14 17:27:43] {2391} INFO -  at 27.3s,\testimator lgbm's best error=0.3740,\tbest estimator lgbm's best error=0.3740\n",
      "[flaml.automl.logger: 03-14 17:27:43] {2218} INFO - iteration 233, current learner lgbm\n",
      "[flaml.automl.logger: 03-14 17:27:43] {2391} INFO -  at 27.5s,\testimator lgbm's best error=0.3740,\tbest estimator lgbm's best error=0.3740\n",
      "[flaml.automl.logger: 03-14 17:27:43] {2218} INFO - iteration 234, current learner lgbm\n",
      "[flaml.automl.logger: 03-14 17:27:43] {2391} INFO -  at 27.6s,\testimator lgbm's best error=0.3740,\tbest estimator lgbm's best error=0.3740\n",
      "[flaml.automl.logger: 03-14 17:27:43] {2218} INFO - iteration 235, current learner lgbm\n",
      "[flaml.automl.logger: 03-14 17:27:43] {2391} INFO -  at 27.8s,\testimator lgbm's best error=0.3740,\tbest estimator lgbm's best error=0.3740\n",
      "[flaml.automl.logger: 03-14 17:27:43] {2218} INFO - iteration 236, current learner lgbm\n",
      "[flaml.automl.logger: 03-14 17:27:44] {2391} INFO -  at 28.0s,\testimator lgbm's best error=0.3740,\tbest estimator lgbm's best error=0.3740\n",
      "[flaml.automl.logger: 03-14 17:27:44] {2218} INFO - iteration 237, current learner lgbm\n",
      "[flaml.automl.logger: 03-14 17:27:44] {2391} INFO -  at 28.1s,\testimator lgbm's best error=0.3740,\tbest estimator lgbm's best error=0.3740\n",
      "[flaml.automl.logger: 03-14 17:27:44] {2218} INFO - iteration 238, current learner lgbm\n",
      "[flaml.automl.logger: 03-14 17:27:44] {2391} INFO -  at 28.9s,\testimator lgbm's best error=0.3740,\tbest estimator lgbm's best error=0.3740\n",
      "[flaml.automl.logger: 03-14 17:27:44] {2218} INFO - iteration 239, current learner lgbm\n",
      "[flaml.automl.logger: 03-14 17:27:45] {2391} INFO -  at 29.4s,\testimator lgbm's best error=0.3740,\tbest estimator lgbm's best error=0.3740\n",
      "[flaml.automl.logger: 03-14 17:27:45] {2218} INFO - iteration 240, current learner lgbm\n",
      "[flaml.automl.logger: 03-14 17:27:45] {2391} INFO -  at 29.6s,\testimator lgbm's best error=0.3740,\tbest estimator lgbm's best error=0.3740\n",
      "[flaml.automl.logger: 03-14 17:27:45] {2218} INFO - iteration 241, current learner lgbm\n",
      "[flaml.automl.logger: 03-14 17:27:45] {2391} INFO -  at 29.8s,\testimator lgbm's best error=0.3740,\tbest estimator lgbm's best error=0.3740\n",
      "[flaml.automl.logger: 03-14 17:27:45] {2218} INFO - iteration 242, current learner lgbm\n",
      "[flaml.automl.logger: 03-14 17:27:46] {2391} INFO -  at 30.0s,\testimator lgbm's best error=0.3740,\tbest estimator lgbm's best error=0.3740\n",
      "[flaml.automl.logger: 03-14 17:27:46] {2218} INFO - iteration 243, current learner lgbm\n",
      "[flaml.automl.logger: 03-14 17:27:46] {2391} INFO -  at 30.5s,\testimator lgbm's best error=0.3740,\tbest estimator lgbm's best error=0.3740\n",
      "[flaml.automl.logger: 03-14 17:27:46] {2218} INFO - iteration 244, current learner lgbm\n",
      "[flaml.automl.logger: 03-14 17:27:46] {2391} INFO -  at 30.9s,\testimator lgbm's best error=0.3740,\tbest estimator lgbm's best error=0.3740\n",
      "[flaml.automl.logger: 03-14 17:27:46] {2218} INFO - iteration 245, current learner lgbm\n",
      "[flaml.automl.logger: 03-14 17:27:47] {2391} INFO -  at 31.1s,\testimator lgbm's best error=0.3740,\tbest estimator lgbm's best error=0.3740\n",
      "[flaml.automl.logger: 03-14 17:27:47] {2218} INFO - iteration 246, current learner lgbm\n",
      "[flaml.automl.logger: 03-14 17:27:47] {2391} INFO -  at 31.8s,\testimator lgbm's best error=0.3740,\tbest estimator lgbm's best error=0.3740\n",
      "[flaml.automl.logger: 03-14 17:27:47] {2218} INFO - iteration 247, current learner lgbm\n",
      "[flaml.automl.logger: 03-14 17:27:48] {2391} INFO -  at 32.3s,\testimator lgbm's best error=0.3740,\tbest estimator lgbm's best error=0.3740\n",
      "[flaml.automl.logger: 03-14 17:27:48] {2218} INFO - iteration 248, current learner lgbm\n",
      "[flaml.automl.logger: 03-14 17:27:48] {2391} INFO -  at 32.6s,\testimator lgbm's best error=0.3740,\tbest estimator lgbm's best error=0.3740\n",
      "[flaml.automl.logger: 03-14 17:27:48] {2218} INFO - iteration 249, current learner lgbm\n",
      "[flaml.automl.logger: 03-14 17:27:48] {2391} INFO -  at 32.8s,\testimator lgbm's best error=0.3740,\tbest estimator lgbm's best error=0.3740\n",
      "[flaml.automl.logger: 03-14 17:27:48] {2218} INFO - iteration 250, current learner lgbm\n",
      "[flaml.automl.logger: 03-14 17:27:49] {2391} INFO -  at 32.9s,\testimator lgbm's best error=0.3740,\tbest estimator lgbm's best error=0.3740\n",
      "[flaml.automl.logger: 03-14 17:27:49] {2218} INFO - iteration 251, current learner lgbm\n",
      "[flaml.automl.logger: 03-14 17:27:49] {2391} INFO -  at 33.1s,\testimator lgbm's best error=0.3740,\tbest estimator lgbm's best error=0.3740\n",
      "[flaml.automl.logger: 03-14 17:27:49] {2218} INFO - iteration 252, current learner lgbm\n",
      "[flaml.automl.logger: 03-14 17:27:49] {2391} INFO -  at 33.6s,\testimator lgbm's best error=0.3740,\tbest estimator lgbm's best error=0.3740\n",
      "[flaml.automl.logger: 03-14 17:27:49] {2218} INFO - iteration 253, current learner lgbm\n",
      "[flaml.automl.logger: 03-14 17:27:51] {2391} INFO -  at 35.0s,\testimator lgbm's best error=0.3740,\tbest estimator lgbm's best error=0.3740\n",
      "[flaml.automl.logger: 03-14 17:27:51] {2218} INFO - iteration 254, current learner lgbm\n",
      "[flaml.automl.logger: 03-14 17:27:51] {2391} INFO -  at 35.7s,\testimator lgbm's best error=0.3740,\tbest estimator lgbm's best error=0.3740\n",
      "[flaml.automl.logger: 03-14 17:27:51] {2218} INFO - iteration 255, current learner lgbm\n",
      "[flaml.automl.logger: 03-14 17:27:51] {2391} INFO -  at 35.8s,\testimator lgbm's best error=0.3740,\tbest estimator lgbm's best error=0.3740\n",
      "[flaml.automl.logger: 03-14 17:27:51] {2218} INFO - iteration 256, current learner lgbm\n",
      "[flaml.automl.logger: 03-14 17:27:52] {2391} INFO -  at 36.0s,\testimator lgbm's best error=0.3740,\tbest estimator lgbm's best error=0.3740\n",
      "[flaml.automl.logger: 03-14 17:27:52] {2218} INFO - iteration 257, current learner lgbm\n",
      "[flaml.automl.logger: 03-14 17:27:52] {2391} INFO -  at 36.3s,\testimator lgbm's best error=0.3740,\tbest estimator lgbm's best error=0.3740\n",
      "[flaml.automl.logger: 03-14 17:27:52] {2218} INFO - iteration 258, current learner lgbm\n",
      "[flaml.automl.logger: 03-14 17:27:52] {2391} INFO -  at 36.5s,\testimator lgbm's best error=0.3740,\tbest estimator lgbm's best error=0.3740\n",
      "[flaml.automl.logger: 03-14 17:27:52] {2218} INFO - iteration 259, current learner lgbm\n",
      "[flaml.automl.logger: 03-14 17:27:52] {2391} INFO -  at 36.6s,\testimator lgbm's best error=0.3740,\tbest estimator lgbm's best error=0.3740\n",
      "[flaml.automl.logger: 03-14 17:27:52] {2218} INFO - iteration 260, current learner lgbm\n",
      "[flaml.automl.logger: 03-14 17:27:52] {2391} INFO -  at 36.7s,\testimator lgbm's best error=0.3740,\tbest estimator lgbm's best error=0.3740\n",
      "[flaml.automl.logger: 03-14 17:27:52] {2218} INFO - iteration 261, current learner lgbm\n",
      "[flaml.automl.logger: 03-14 17:27:52] {2391} INFO -  at 36.9s,\testimator lgbm's best error=0.3740,\tbest estimator lgbm's best error=0.3740\n",
      "[flaml.automl.logger: 03-14 17:27:52] {2218} INFO - iteration 262, current learner lgbm\n",
      "[flaml.automl.logger: 03-14 17:27:53] {2391} INFO -  at 37.1s,\testimator lgbm's best error=0.3740,\tbest estimator lgbm's best error=0.3740\n",
      "[flaml.automl.logger: 03-14 17:27:53] {2218} INFO - iteration 263, current learner lgbm\n",
      "[flaml.automl.logger: 03-14 17:27:53] {2391} INFO -  at 37.3s,\testimator lgbm's best error=0.3740,\tbest estimator lgbm's best error=0.3740\n",
      "[flaml.automl.logger: 03-14 17:27:53] {2218} INFO - iteration 264, current learner lgbm\n",
      "[flaml.automl.logger: 03-14 17:27:53] {2391} INFO -  at 37.4s,\testimator lgbm's best error=0.3740,\tbest estimator lgbm's best error=0.3740\n",
      "[flaml.automl.logger: 03-14 17:27:53] {2218} INFO - iteration 265, current learner lgbm\n",
      "[flaml.automl.logger: 03-14 17:27:53] {2391} INFO -  at 37.8s,\testimator lgbm's best error=0.3740,\tbest estimator lgbm's best error=0.3740\n",
      "[flaml.automl.logger: 03-14 17:27:53] {2218} INFO - iteration 266, current learner lgbm\n",
      "[flaml.automl.logger: 03-14 17:27:54] {2391} INFO -  at 37.9s,\testimator lgbm's best error=0.3740,\tbest estimator lgbm's best error=0.3740\n",
      "[flaml.automl.logger: 03-14 17:27:54] {2218} INFO - iteration 267, current learner lgbm\n",
      "[flaml.automl.logger: 03-14 17:27:54] {2391} INFO -  at 38.1s,\testimator lgbm's best error=0.3740,\tbest estimator lgbm's best error=0.3740\n",
      "[flaml.automl.logger: 03-14 17:27:54] {2218} INFO - iteration 268, current learner lgbm\n",
      "[flaml.automl.logger: 03-14 17:27:54] {2391} INFO -  at 38.3s,\testimator lgbm's best error=0.3740,\tbest estimator lgbm's best error=0.3740\n",
      "[flaml.automl.logger: 03-14 17:27:54] {2218} INFO - iteration 269, current learner lgbm\n",
      "[flaml.automl.logger: 03-14 17:27:54] {2391} INFO -  at 38.4s,\testimator lgbm's best error=0.3740,\tbest estimator lgbm's best error=0.3740\n",
      "[flaml.automl.logger: 03-14 17:27:54] {2218} INFO - iteration 270, current learner lgbm\n",
      "[flaml.automl.logger: 03-14 17:27:54] {2391} INFO -  at 38.6s,\testimator lgbm's best error=0.3740,\tbest estimator lgbm's best error=0.3740\n",
      "[flaml.automl.logger: 03-14 17:27:54] {2218} INFO - iteration 271, current learner lgbm\n",
      "[flaml.automl.logger: 03-14 17:27:54] {2391} INFO -  at 38.8s,\testimator lgbm's best error=0.3740,\tbest estimator lgbm's best error=0.3740\n",
      "[flaml.automl.logger: 03-14 17:27:54] {2218} INFO - iteration 272, current learner lgbm\n",
      "[flaml.automl.logger: 03-14 17:27:55] {2391} INFO -  at 38.9s,\testimator lgbm's best error=0.3740,\tbest estimator lgbm's best error=0.3740\n",
      "[flaml.automl.logger: 03-14 17:27:55] {2218} INFO - iteration 273, current learner lgbm\n",
      "[flaml.automl.logger: 03-14 17:27:55] {2391} INFO -  at 39.1s,\testimator lgbm's best error=0.3740,\tbest estimator lgbm's best error=0.3740\n",
      "[flaml.automl.logger: 03-14 17:27:55] {2218} INFO - iteration 274, current learner lgbm\n",
      "[flaml.automl.logger: 03-14 17:27:55] {2391} INFO -  at 39.2s,\testimator lgbm's best error=0.3740,\tbest estimator lgbm's best error=0.3740\n",
      "[flaml.automl.logger: 03-14 17:27:55] {2218} INFO - iteration 275, current learner lgbm\n",
      "[flaml.automl.logger: 03-14 17:27:55] {2391} INFO -  at 39.5s,\testimator lgbm's best error=0.3740,\tbest estimator lgbm's best error=0.3740\n",
      "[flaml.automl.logger: 03-14 17:27:55] {2218} INFO - iteration 276, current learner lgbm\n",
      "[flaml.automl.logger: 03-14 17:27:55] {2391} INFO -  at 39.7s,\testimator lgbm's best error=0.3740,\tbest estimator lgbm's best error=0.3740\n",
      "[flaml.automl.logger: 03-14 17:27:55] {2218} INFO - iteration 277, current learner lgbm\n",
      "[flaml.automl.logger: 03-14 17:27:55] {2391} INFO -  at 39.8s,\testimator lgbm's best error=0.3740,\tbest estimator lgbm's best error=0.3740\n",
      "[flaml.automl.logger: 03-14 17:27:55] {2218} INFO - iteration 278, current learner lgbm\n",
      "[flaml.automl.logger: 03-14 17:27:55] {2391} INFO -  at 39.9s,\testimator lgbm's best error=0.3740,\tbest estimator lgbm's best error=0.3740\n",
      "[flaml.automl.logger: 03-14 17:27:55] {2218} INFO - iteration 279, current learner lgbm\n",
      "[flaml.automl.logger: 03-14 17:27:56] {2391} INFO -  at 40.2s,\testimator lgbm's best error=0.3740,\tbest estimator lgbm's best error=0.3740\n",
      "[flaml.automl.logger: 03-14 17:27:56] {2218} INFO - iteration 280, current learner lgbm\n",
      "[flaml.automl.logger: 03-14 17:27:56] {2391} INFO -  at 40.3s,\testimator lgbm's best error=0.3740,\tbest estimator lgbm's best error=0.3740\n",
      "[flaml.automl.logger: 03-14 17:27:56] {2218} INFO - iteration 281, current learner lgbm\n",
      "[flaml.automl.logger: 03-14 17:27:56] {2391} INFO -  at 40.4s,\testimator lgbm's best error=0.3740,\tbest estimator lgbm's best error=0.3740\n",
      "[flaml.automl.logger: 03-14 17:27:56] {2218} INFO - iteration 282, current learner lgbm\n",
      "[flaml.automl.logger: 03-14 17:27:56] {2391} INFO -  at 40.6s,\testimator lgbm's best error=0.3740,\tbest estimator lgbm's best error=0.3740\n",
      "[flaml.automl.logger: 03-14 17:27:56] {2218} INFO - iteration 283, current learner lgbm\n",
      "[flaml.automl.logger: 03-14 17:27:56] {2391} INFO -  at 40.7s,\testimator lgbm's best error=0.3740,\tbest estimator lgbm's best error=0.3740\n",
      "[flaml.automl.logger: 03-14 17:27:56] {2218} INFO - iteration 284, current learner lgbm\n",
      "[flaml.automl.logger: 03-14 17:27:57] {2391} INFO -  at 40.9s,\testimator lgbm's best error=0.3740,\tbest estimator lgbm's best error=0.3740\n",
      "[flaml.automl.logger: 03-14 17:27:57] {2218} INFO - iteration 285, current learner lgbm\n",
      "[flaml.automl.logger: 03-14 17:27:57] {2391} INFO -  at 41.1s,\testimator lgbm's best error=0.3740,\tbest estimator lgbm's best error=0.3740\n",
      "[flaml.automl.logger: 03-14 17:27:57] {2218} INFO - iteration 286, current learner lgbm\n",
      "[flaml.automl.logger: 03-14 17:27:57] {2391} INFO -  at 41.1s,\testimator lgbm's best error=0.3740,\tbest estimator lgbm's best error=0.3740\n",
      "[flaml.automl.logger: 03-14 17:27:57] {2218} INFO - iteration 287, current learner lgbm\n",
      "[flaml.automl.logger: 03-14 17:27:57] {2391} INFO -  at 41.4s,\testimator lgbm's best error=0.3740,\tbest estimator lgbm's best error=0.3740\n",
      "[flaml.automl.logger: 03-14 17:27:57] {2218} INFO - iteration 288, current learner lgbm\n",
      "[flaml.automl.logger: 03-14 17:27:57] {2391} INFO -  at 41.5s,\testimator lgbm's best error=0.3740,\tbest estimator lgbm's best error=0.3740\n",
      "[flaml.automl.logger: 03-14 17:27:57] {2218} INFO - iteration 289, current learner lgbm\n",
      "[flaml.automl.logger: 03-14 17:27:57] {2391} INFO -  at 41.6s,\testimator lgbm's best error=0.3740,\tbest estimator lgbm's best error=0.3740\n",
      "[flaml.automl.logger: 03-14 17:27:57] {2218} INFO - iteration 290, current learner lgbm\n",
      "[flaml.automl.logger: 03-14 17:27:57] {2391} INFO -  at 41.8s,\testimator lgbm's best error=0.3740,\tbest estimator lgbm's best error=0.3740\n",
      "[flaml.automl.logger: 03-14 17:27:57] {2218} INFO - iteration 291, current learner lgbm\n",
      "[flaml.automl.logger: 03-14 17:27:58] {2391} INFO -  at 41.9s,\testimator lgbm's best error=0.3740,\tbest estimator lgbm's best error=0.3740\n",
      "[flaml.automl.logger: 03-14 17:27:58] {2218} INFO - iteration 292, current learner lgbm\n",
      "[flaml.automl.logger: 03-14 17:27:58] {2391} INFO -  at 42.1s,\testimator lgbm's best error=0.3740,\tbest estimator lgbm's best error=0.3740\n",
      "[flaml.automl.logger: 03-14 17:27:58] {2218} INFO - iteration 293, current learner lgbm\n",
      "[flaml.automl.logger: 03-14 17:27:58] {2391} INFO -  at 42.2s,\testimator lgbm's best error=0.3740,\tbest estimator lgbm's best error=0.3740\n",
      "[flaml.automl.logger: 03-14 17:27:58] {2218} INFO - iteration 294, current learner lgbm\n",
      "[flaml.automl.logger: 03-14 17:27:58] {2391} INFO -  at 42.5s,\testimator lgbm's best error=0.3740,\tbest estimator lgbm's best error=0.3740\n",
      "[flaml.automl.logger: 03-14 17:27:58] {2218} INFO - iteration 295, current learner lgbm\n",
      "[flaml.automl.logger: 03-14 17:27:58] {2391} INFO -  at 42.6s,\testimator lgbm's best error=0.3740,\tbest estimator lgbm's best error=0.3740\n",
      "[flaml.automl.logger: 03-14 17:27:58] {2218} INFO - iteration 296, current learner lgbm\n",
      "[flaml.automl.logger: 03-14 17:27:58] {2391} INFO -  at 42.7s,\testimator lgbm's best error=0.3740,\tbest estimator lgbm's best error=0.3740\n",
      "[flaml.automl.logger: 03-14 17:27:58] {2218} INFO - iteration 297, current learner lgbm\n",
      "[flaml.automl.logger: 03-14 17:27:58] {2391} INFO -  at 42.8s,\testimator lgbm's best error=0.3740,\tbest estimator lgbm's best error=0.3740\n",
      "[flaml.automl.logger: 03-14 17:27:58] {2218} INFO - iteration 298, current learner lgbm\n",
      "[flaml.automl.logger: 03-14 17:27:59] {2391} INFO -  at 43.0s,\testimator lgbm's best error=0.3740,\tbest estimator lgbm's best error=0.3740\n",
      "[flaml.automl.logger: 03-14 17:27:59] {2218} INFO - iteration 299, current learner lgbm\n",
      "[flaml.automl.logger: 03-14 17:27:59] {2391} INFO -  at 43.2s,\testimator lgbm's best error=0.3740,\tbest estimator lgbm's best error=0.3740\n",
      "[flaml.automl.logger: 03-14 17:27:59] {2218} INFO - iteration 300, current learner lgbm\n",
      "[flaml.automl.logger: 03-14 17:27:59] {2391} INFO -  at 43.3s,\testimator lgbm's best error=0.3740,\tbest estimator lgbm's best error=0.3740\n",
      "[flaml.automl.logger: 03-14 17:27:59] {2218} INFO - iteration 301, current learner lgbm\n",
      "[flaml.automl.logger: 03-14 17:27:59] {2391} INFO -  at 43.5s,\testimator lgbm's best error=0.3740,\tbest estimator lgbm's best error=0.3740\n",
      "[flaml.automl.logger: 03-14 17:27:59] {2218} INFO - iteration 302, current learner lgbm\n",
      "[flaml.automl.logger: 03-14 17:27:59] {2391} INFO -  at 43.8s,\testimator lgbm's best error=0.3740,\tbest estimator lgbm's best error=0.3740\n",
      "[flaml.automl.logger: 03-14 17:27:59] {2218} INFO - iteration 303, current learner lgbm\n",
      "[flaml.automl.logger: 03-14 17:27:59] {2391} INFO -  at 43.9s,\testimator lgbm's best error=0.3740,\tbest estimator lgbm's best error=0.3740\n",
      "[flaml.automl.logger: 03-14 17:27:59] {2218} INFO - iteration 304, current learner lgbm\n",
      "[flaml.automl.logger: 03-14 17:28:00] {2391} INFO -  at 44.1s,\testimator lgbm's best error=0.3740,\tbest estimator lgbm's best error=0.3740\n",
      "[flaml.automl.logger: 03-14 17:28:00] {2218} INFO - iteration 305, current learner lgbm\n",
      "[flaml.automl.logger: 03-14 17:28:00] {2391} INFO -  at 44.2s,\testimator lgbm's best error=0.3740,\tbest estimator lgbm's best error=0.3740\n",
      "[flaml.automl.logger: 03-14 17:28:00] {2218} INFO - iteration 306, current learner lgbm\n",
      "[flaml.automl.logger: 03-14 17:28:00] {2391} INFO -  at 44.8s,\testimator lgbm's best error=0.3740,\tbest estimator lgbm's best error=0.3740\n",
      "[flaml.automl.logger: 03-14 17:28:00] {2218} INFO - iteration 307, current learner lgbm\n",
      "[flaml.automl.logger: 03-14 17:28:01] {2391} INFO -  at 45.0s,\testimator lgbm's best error=0.3740,\tbest estimator lgbm's best error=0.3740\n",
      "[flaml.automl.logger: 03-14 17:28:01] {2218} INFO - iteration 308, current learner lgbm\n",
      "[flaml.automl.logger: 03-14 17:28:01] {2391} INFO -  at 45.2s,\testimator lgbm's best error=0.3740,\tbest estimator lgbm's best error=0.3740\n",
      "[flaml.automl.logger: 03-14 17:28:01] {2218} INFO - iteration 309, current learner lgbm\n",
      "[flaml.automl.logger: 03-14 17:28:01] {2391} INFO -  at 45.3s,\testimator lgbm's best error=0.3740,\tbest estimator lgbm's best error=0.3740\n",
      "[flaml.automl.logger: 03-14 17:28:01] {2218} INFO - iteration 310, current learner lgbm\n",
      "[flaml.automl.logger: 03-14 17:28:01] {2391} INFO -  at 45.5s,\testimator lgbm's best error=0.3740,\tbest estimator lgbm's best error=0.3740\n",
      "[flaml.automl.logger: 03-14 17:28:01] {2218} INFO - iteration 311, current learner lgbm\n",
      "[flaml.automl.logger: 03-14 17:28:01] {2391} INFO -  at 45.8s,\testimator lgbm's best error=0.3740,\tbest estimator lgbm's best error=0.3740\n",
      "[flaml.automl.logger: 03-14 17:28:01] {2218} INFO - iteration 312, current learner lgbm\n",
      "[flaml.automl.logger: 03-14 17:28:02] {2391} INFO -  at 46.4s,\testimator lgbm's best error=0.3740,\tbest estimator lgbm's best error=0.3740\n",
      "[flaml.automl.logger: 03-14 17:28:02] {2218} INFO - iteration 313, current learner lgbm\n",
      "[flaml.automl.logger: 03-14 17:28:02] {2391} INFO -  at 46.5s,\testimator lgbm's best error=0.3740,\tbest estimator lgbm's best error=0.3740\n",
      "[flaml.automl.logger: 03-14 17:28:02] {2218} INFO - iteration 314, current learner lgbm\n",
      "[flaml.automl.logger: 03-14 17:28:02] {2391} INFO -  at 46.7s,\testimator lgbm's best error=0.3740,\tbest estimator lgbm's best error=0.3740\n",
      "[flaml.automl.logger: 03-14 17:28:02] {2218} INFO - iteration 315, current learner lgbm\n",
      "[flaml.automl.logger: 03-14 17:28:02] {2391} INFO -  at 46.9s,\testimator lgbm's best error=0.3740,\tbest estimator lgbm's best error=0.3740\n",
      "[flaml.automl.logger: 03-14 17:28:02] {2218} INFO - iteration 316, current learner lgbm\n",
      "[flaml.automl.logger: 03-14 17:28:03] {2391} INFO -  at 47.2s,\testimator lgbm's best error=0.3740,\tbest estimator lgbm's best error=0.3740\n",
      "[flaml.automl.logger: 03-14 17:28:03] {2218} INFO - iteration 317, current learner lgbm\n",
      "[flaml.automl.logger: 03-14 17:28:03] {2391} INFO -  at 47.5s,\testimator lgbm's best error=0.3740,\tbest estimator lgbm's best error=0.3740\n",
      "[flaml.automl.logger: 03-14 17:28:03] {2218} INFO - iteration 318, current learner lgbm\n",
      "[flaml.automl.logger: 03-14 17:28:03] {2391} INFO -  at 47.6s,\testimator lgbm's best error=0.3740,\tbest estimator lgbm's best error=0.3740\n",
      "[flaml.automl.logger: 03-14 17:28:03] {2218} INFO - iteration 319, current learner lgbm\n",
      "[flaml.automl.logger: 03-14 17:28:03] {2391} INFO -  at 47.8s,\testimator lgbm's best error=0.3740,\tbest estimator lgbm's best error=0.3740\n",
      "[flaml.automl.logger: 03-14 17:28:03] {2218} INFO - iteration 320, current learner lgbm\n",
      "[flaml.automl.logger: 03-14 17:28:04] {2391} INFO -  at 48.1s,\testimator lgbm's best error=0.3740,\tbest estimator lgbm's best error=0.3740\n",
      "[flaml.automl.logger: 03-14 17:28:04] {2218} INFO - iteration 321, current learner lgbm\n",
      "[flaml.automl.logger: 03-14 17:28:04] {2391} INFO -  at 48.2s,\testimator lgbm's best error=0.3740,\tbest estimator lgbm's best error=0.3740\n",
      "[flaml.automl.logger: 03-14 17:28:04] {2218} INFO - iteration 322, current learner lgbm\n",
      "[flaml.automl.logger: 03-14 17:28:04] {2391} INFO -  at 48.4s,\testimator lgbm's best error=0.3740,\tbest estimator lgbm's best error=0.3740\n",
      "[flaml.automl.logger: 03-14 17:28:04] {2218} INFO - iteration 323, current learner lgbm\n",
      "[flaml.automl.logger: 03-14 17:28:04] {2391} INFO -  at 48.5s,\testimator lgbm's best error=0.3740,\tbest estimator lgbm's best error=0.3740\n",
      "[flaml.automl.logger: 03-14 17:28:04] {2218} INFO - iteration 324, current learner lgbm\n",
      "[flaml.automl.logger: 03-14 17:28:04] {2391} INFO -  at 48.6s,\testimator lgbm's best error=0.3740,\tbest estimator lgbm's best error=0.3740\n",
      "[flaml.automl.logger: 03-14 17:28:04] {2218} INFO - iteration 325, current learner lgbm\n",
      "[flaml.automl.logger: 03-14 17:28:05] {2391} INFO -  at 49.1s,\testimator lgbm's best error=0.3740,\tbest estimator lgbm's best error=0.3740\n",
      "[flaml.automl.logger: 03-14 17:28:05] {2218} INFO - iteration 326, current learner lgbm\n",
      "[flaml.automl.logger: 03-14 17:28:05] {2391} INFO -  at 49.3s,\testimator lgbm's best error=0.3740,\tbest estimator lgbm's best error=0.3740\n",
      "[flaml.automl.logger: 03-14 17:28:05] {2218} INFO - iteration 327, current learner lgbm\n",
      "[flaml.automl.logger: 03-14 17:28:05] {2391} INFO -  at 49.7s,\testimator lgbm's best error=0.3740,\tbest estimator lgbm's best error=0.3740\n",
      "[flaml.automl.logger: 03-14 17:28:05] {2218} INFO - iteration 328, current learner lgbm\n",
      "[flaml.automl.logger: 03-14 17:28:06] {2391} INFO -  at 50.0s,\testimator lgbm's best error=0.3740,\tbest estimator lgbm's best error=0.3740\n",
      "[flaml.automl.logger: 03-14 17:28:06] {2218} INFO - iteration 329, current learner lgbm\n",
      "[flaml.automl.logger: 03-14 17:28:06] {2391} INFO -  at 50.3s,\testimator lgbm's best error=0.3740,\tbest estimator lgbm's best error=0.3740\n",
      "[flaml.automl.logger: 03-14 17:28:06] {2218} INFO - iteration 330, current learner lgbm\n",
      "[flaml.automl.logger: 03-14 17:28:06] {2391} INFO -  at 50.4s,\testimator lgbm's best error=0.3740,\tbest estimator lgbm's best error=0.3740\n",
      "[flaml.automl.logger: 03-14 17:28:06] {2218} INFO - iteration 331, current learner lgbm\n",
      "[flaml.automl.logger: 03-14 17:28:06] {2391} INFO -  at 50.7s,\testimator lgbm's best error=0.3740,\tbest estimator lgbm's best error=0.3740\n",
      "[flaml.automl.logger: 03-14 17:28:06] {2218} INFO - iteration 332, current learner lgbm\n",
      "[flaml.automl.logger: 03-14 17:28:06] {2391} INFO -  at 50.7s,\testimator lgbm's best error=0.3740,\tbest estimator lgbm's best error=0.3740\n",
      "[flaml.automl.logger: 03-14 17:28:06] {2218} INFO - iteration 333, current learner lgbm\n",
      "[flaml.automl.logger: 03-14 17:28:07] {2391} INFO -  at 51.1s,\testimator lgbm's best error=0.3740,\tbest estimator lgbm's best error=0.3740\n",
      "[flaml.automl.logger: 03-14 17:28:07] {2218} INFO - iteration 334, current learner lgbm\n",
      "[flaml.automl.logger: 03-14 17:28:07] {2391} INFO -  at 51.2s,\testimator lgbm's best error=0.3740,\tbest estimator lgbm's best error=0.3740\n",
      "[flaml.automl.logger: 03-14 17:28:07] {2218} INFO - iteration 335, current learner lgbm\n",
      "[flaml.automl.logger: 03-14 17:28:07] {2391} INFO -  at 51.7s,\testimator lgbm's best error=0.3740,\tbest estimator lgbm's best error=0.3740\n",
      "[flaml.automl.logger: 03-14 17:28:07] {2218} INFO - iteration 336, current learner lgbm\n",
      "[flaml.automl.logger: 03-14 17:28:07] {2391} INFO -  at 51.8s,\testimator lgbm's best error=0.3740,\tbest estimator lgbm's best error=0.3740\n",
      "[flaml.automl.logger: 03-14 17:28:07] {2218} INFO - iteration 337, current learner lgbm\n",
      "[flaml.automl.logger: 03-14 17:28:08] {2391} INFO -  at 52.1s,\testimator lgbm's best error=0.3740,\tbest estimator lgbm's best error=0.3740\n",
      "[flaml.automl.logger: 03-14 17:28:08] {2218} INFO - iteration 338, current learner lgbm\n",
      "[flaml.automl.logger: 03-14 17:28:08] {2391} INFO -  at 52.2s,\testimator lgbm's best error=0.3740,\tbest estimator lgbm's best error=0.3740\n",
      "[flaml.automl.logger: 03-14 17:28:08] {2218} INFO - iteration 339, current learner lgbm\n",
      "[flaml.automl.logger: 03-14 17:28:08] {2391} INFO -  at 52.4s,\testimator lgbm's best error=0.3740,\tbest estimator lgbm's best error=0.3740\n",
      "[flaml.automl.logger: 03-14 17:28:08] {2218} INFO - iteration 340, current learner lgbm\n",
      "[flaml.automl.logger: 03-14 17:28:08] {2391} INFO -  at 52.7s,\testimator lgbm's best error=0.3740,\tbest estimator lgbm's best error=0.3740\n",
      "[flaml.automl.logger: 03-14 17:28:08] {2218} INFO - iteration 341, current learner lgbm\n",
      "[flaml.automl.logger: 03-14 17:28:08] {2391} INFO -  at 52.8s,\testimator lgbm's best error=0.3740,\tbest estimator lgbm's best error=0.3740\n",
      "[flaml.automl.logger: 03-14 17:28:08] {2218} INFO - iteration 342, current learner lgbm\n",
      "[flaml.automl.logger: 03-14 17:28:09] {2391} INFO -  at 53.3s,\testimator lgbm's best error=0.3740,\tbest estimator lgbm's best error=0.3740\n",
      "[flaml.automl.logger: 03-14 17:28:09] {2218} INFO - iteration 343, current learner lgbm\n",
      "[flaml.automl.logger: 03-14 17:28:09] {2391} INFO -  at 53.4s,\testimator lgbm's best error=0.3740,\tbest estimator lgbm's best error=0.3740\n",
      "[flaml.automl.logger: 03-14 17:28:09] {2218} INFO - iteration 344, current learner lgbm\n",
      "[flaml.automl.logger: 03-14 17:28:09] {2391} INFO -  at 53.5s,\testimator lgbm's best error=0.3740,\tbest estimator lgbm's best error=0.3740\n",
      "[flaml.automl.logger: 03-14 17:28:09] {2218} INFO - iteration 345, current learner lgbm\n",
      "[flaml.automl.logger: 03-14 17:28:09] {2391} INFO -  at 53.8s,\testimator lgbm's best error=0.3740,\tbest estimator lgbm's best error=0.3740\n",
      "[flaml.automl.logger: 03-14 17:28:09] {2218} INFO - iteration 346, current learner lgbm\n",
      "[flaml.automl.logger: 03-14 17:28:10] {2391} INFO -  at 54.0s,\testimator lgbm's best error=0.3740,\tbest estimator lgbm's best error=0.3740\n",
      "[flaml.automl.logger: 03-14 17:28:10] {2218} INFO - iteration 347, current learner lgbm\n",
      "[flaml.automl.logger: 03-14 17:28:10] {2391} INFO -  at 54.2s,\testimator lgbm's best error=0.3740,\tbest estimator lgbm's best error=0.3740\n",
      "[flaml.automl.logger: 03-14 17:28:10] {2218} INFO - iteration 348, current learner lgbm\n",
      "[flaml.automl.logger: 03-14 17:28:10] {2391} INFO -  at 54.4s,\testimator lgbm's best error=0.3740,\tbest estimator lgbm's best error=0.3740\n",
      "[flaml.automl.logger: 03-14 17:28:10] {2218} INFO - iteration 349, current learner lgbm\n",
      "[flaml.automl.logger: 03-14 17:28:10] {2391} INFO -  at 54.5s,\testimator lgbm's best error=0.3740,\tbest estimator lgbm's best error=0.3740\n",
      "[flaml.automl.logger: 03-14 17:28:10] {2218} INFO - iteration 350, current learner lgbm\n",
      "[flaml.automl.logger: 03-14 17:28:10] {2391} INFO -  at 54.7s,\testimator lgbm's best error=0.3740,\tbest estimator lgbm's best error=0.3740\n",
      "[flaml.automl.logger: 03-14 17:28:10] {2218} INFO - iteration 351, current learner lgbm\n",
      "[flaml.automl.logger: 03-14 17:28:10] {2391} INFO -  at 54.9s,\testimator lgbm's best error=0.3740,\tbest estimator lgbm's best error=0.3740\n",
      "[flaml.automl.logger: 03-14 17:28:10] {2218} INFO - iteration 352, current learner lgbm\n",
      "[flaml.automl.logger: 03-14 17:28:11] {2391} INFO -  at 55.0s,\testimator lgbm's best error=0.3740,\tbest estimator lgbm's best error=0.3740\n",
      "[flaml.automl.logger: 03-14 17:28:11] {2218} INFO - iteration 353, current learner lgbm\n",
      "[flaml.automl.logger: 03-14 17:28:11] {2391} INFO -  at 55.2s,\testimator lgbm's best error=0.3740,\tbest estimator lgbm's best error=0.3740\n",
      "[flaml.automl.logger: 03-14 17:28:11] {2218} INFO - iteration 354, current learner lgbm\n",
      "[flaml.automl.logger: 03-14 17:28:11] {2391} INFO -  at 55.3s,\testimator lgbm's best error=0.3740,\tbest estimator lgbm's best error=0.3740\n",
      "[flaml.automl.logger: 03-14 17:28:11] {2218} INFO - iteration 355, current learner lgbm\n",
      "[flaml.automl.logger: 03-14 17:28:11] {2391} INFO -  at 55.5s,\testimator lgbm's best error=0.3740,\tbest estimator lgbm's best error=0.3740\n",
      "[flaml.automl.logger: 03-14 17:28:11] {2218} INFO - iteration 356, current learner lgbm\n",
      "[flaml.automl.logger: 03-14 17:28:11] {2391} INFO -  at 55.7s,\testimator lgbm's best error=0.3740,\tbest estimator lgbm's best error=0.3740\n",
      "[flaml.automl.logger: 03-14 17:28:11] {2218} INFO - iteration 357, current learner lgbm\n",
      "[flaml.automl.logger: 03-14 17:28:12] {2391} INFO -  at 56.0s,\testimator lgbm's best error=0.3740,\tbest estimator lgbm's best error=0.3740\n",
      "[flaml.automl.logger: 03-14 17:28:12] {2218} INFO - iteration 358, current learner lgbm\n",
      "[flaml.automl.logger: 03-14 17:28:12] {2391} INFO -  at 56.2s,\testimator lgbm's best error=0.3740,\tbest estimator lgbm's best error=0.3740\n",
      "[flaml.automl.logger: 03-14 17:28:12] {2218} INFO - iteration 359, current learner lgbm\n",
      "[flaml.automl.logger: 03-14 17:28:12] {2391} INFO -  at 56.4s,\testimator lgbm's best error=0.3740,\tbest estimator lgbm's best error=0.3740\n",
      "[flaml.automl.logger: 03-14 17:28:12] {2218} INFO - iteration 360, current learner lgbm\n",
      "[flaml.automl.logger: 03-14 17:28:12] {2391} INFO -  at 56.6s,\testimator lgbm's best error=0.3740,\tbest estimator lgbm's best error=0.3740\n",
      "[flaml.automl.logger: 03-14 17:28:12] {2218} INFO - iteration 361, current learner lgbm\n",
      "[flaml.automl.logger: 03-14 17:28:12] {2391} INFO -  at 56.9s,\testimator lgbm's best error=0.3740,\tbest estimator lgbm's best error=0.3740\n",
      "[flaml.automl.logger: 03-14 17:28:12] {2218} INFO - iteration 362, current learner lgbm\n",
      "[flaml.automl.logger: 03-14 17:28:13] {2391} INFO -  at 57.0s,\testimator lgbm's best error=0.3740,\tbest estimator lgbm's best error=0.3740\n",
      "[flaml.automl.logger: 03-14 17:28:13] {2218} INFO - iteration 363, current learner lgbm\n",
      "[flaml.automl.logger: 03-14 17:28:13] {2391} INFO -  at 57.2s,\testimator lgbm's best error=0.3740,\tbest estimator lgbm's best error=0.3740\n",
      "[flaml.automl.logger: 03-14 17:28:13] {2218} INFO - iteration 364, current learner lgbm\n",
      "[flaml.automl.logger: 03-14 17:28:13] {2391} INFO -  at 57.4s,\testimator lgbm's best error=0.3740,\tbest estimator lgbm's best error=0.3740\n",
      "[flaml.automl.logger: 03-14 17:28:13] {2218} INFO - iteration 365, current learner lgbm\n",
      "[flaml.automl.logger: 03-14 17:28:13] {2391} INFO -  at 57.5s,\testimator lgbm's best error=0.3740,\tbest estimator lgbm's best error=0.3740\n",
      "[flaml.automl.logger: 03-14 17:28:13] {2218} INFO - iteration 366, current learner lgbm\n",
      "[flaml.automl.logger: 03-14 17:28:13] {2391} INFO -  at 57.6s,\testimator lgbm's best error=0.3740,\tbest estimator lgbm's best error=0.3740\n",
      "[flaml.automl.logger: 03-14 17:28:13] {2218} INFO - iteration 367, current learner lgbm\n",
      "[flaml.automl.logger: 03-14 17:28:13] {2391} INFO -  at 57.8s,\testimator lgbm's best error=0.3740,\tbest estimator lgbm's best error=0.3740\n",
      "[flaml.automl.logger: 03-14 17:28:13] {2218} INFO - iteration 368, current learner lgbm\n",
      "[flaml.automl.logger: 03-14 17:28:13] {2391} INFO -  at 57.9s,\testimator lgbm's best error=0.3740,\tbest estimator lgbm's best error=0.3740\n",
      "[flaml.automl.logger: 03-14 17:28:13] {2218} INFO - iteration 369, current learner lgbm\n",
      "[flaml.automl.logger: 03-14 17:28:14] {2391} INFO -  at 58.1s,\testimator lgbm's best error=0.3740,\tbest estimator lgbm's best error=0.3740\n",
      "[flaml.automl.logger: 03-14 17:28:14] {2218} INFO - iteration 370, current learner lgbm\n",
      "[flaml.automl.logger: 03-14 17:28:14] {2391} INFO -  at 58.4s,\testimator lgbm's best error=0.3740,\tbest estimator lgbm's best error=0.3740\n",
      "[flaml.automl.logger: 03-14 17:28:14] {2218} INFO - iteration 371, current learner lgbm\n",
      "[flaml.automl.logger: 03-14 17:28:14] {2391} INFO -  at 58.5s,\testimator lgbm's best error=0.3740,\tbest estimator lgbm's best error=0.3740\n",
      "[flaml.automl.logger: 03-14 17:28:14] {2218} INFO - iteration 372, current learner lgbm\n",
      "[flaml.automl.logger: 03-14 17:28:14] {2391} INFO -  at 58.7s,\testimator lgbm's best error=0.3740,\tbest estimator lgbm's best error=0.3740\n",
      "[flaml.automl.logger: 03-14 17:28:14] {2218} INFO - iteration 373, current learner lgbm\n",
      "[flaml.automl.logger: 03-14 17:28:14] {2391} INFO -  at 58.9s,\testimator lgbm's best error=0.3740,\tbest estimator lgbm's best error=0.3740\n",
      "[flaml.automl.logger: 03-14 17:28:14] {2218} INFO - iteration 374, current learner lgbm\n",
      "[flaml.automl.logger: 03-14 17:28:15] {2391} INFO -  at 59.0s,\testimator lgbm's best error=0.3740,\tbest estimator lgbm's best error=0.3740\n",
      "[flaml.automl.logger: 03-14 17:28:15] {2218} INFO - iteration 375, current learner lgbm\n",
      "[flaml.automl.logger: 03-14 17:28:15] {2391} INFO -  at 59.3s,\testimator lgbm's best error=0.3740,\tbest estimator lgbm's best error=0.3740\n",
      "[flaml.automl.logger: 03-14 17:28:15] {2218} INFO - iteration 376, current learner lgbm\n",
      "[flaml.automl.logger: 03-14 17:28:15] {2391} INFO -  at 59.5s,\testimator lgbm's best error=0.3740,\tbest estimator lgbm's best error=0.3740\n",
      "[flaml.automl.logger: 03-14 17:28:15] {2218} INFO - iteration 377, current learner lgbm\n",
      "[flaml.automl.logger: 03-14 17:28:15] {2391} INFO -  at 59.7s,\testimator lgbm's best error=0.3740,\tbest estimator lgbm's best error=0.3740\n",
      "[flaml.automl.logger: 03-14 17:28:15] {2218} INFO - iteration 378, current learner lgbm\n",
      "[flaml.automl.logger: 03-14 17:28:15] {2391} INFO -  at 59.9s,\testimator lgbm's best error=0.3740,\tbest estimator lgbm's best error=0.3740\n",
      "[flaml.automl.logger: 03-14 17:28:15] {2218} INFO - iteration 379, current learner lgbm\n",
      "[flaml.automl.logger: 03-14 17:28:16] {2391} INFO -  at 60.0s,\testimator lgbm's best error=0.3740,\tbest estimator lgbm's best error=0.3740\n",
      "[flaml.automl.logger: 03-14 17:28:16] {2218} INFO - iteration 380, current learner lgbm\n",
      "[flaml.automl.logger: 03-14 17:28:16] {2391} INFO -  at 60.1s,\testimator lgbm's best error=0.3740,\tbest estimator lgbm's best error=0.3740\n",
      "[flaml.automl.logger: 03-14 17:28:16] {2218} INFO - iteration 381, current learner lgbm\n",
      "[flaml.automl.logger: 03-14 17:28:16] {2391} INFO -  at 60.3s,\testimator lgbm's best error=0.3740,\tbest estimator lgbm's best error=0.3740\n",
      "[flaml.automl.logger: 03-14 17:28:16] {2218} INFO - iteration 382, current learner lgbm\n",
      "[flaml.automl.logger: 03-14 17:28:16] {2391} INFO -  at 60.4s,\testimator lgbm's best error=0.3740,\tbest estimator lgbm's best error=0.3740\n",
      "[flaml.automl.logger: 03-14 17:28:16] {2218} INFO - iteration 383, current learner lgbm\n",
      "[flaml.automl.logger: 03-14 17:28:16] {2391} INFO -  at 60.6s,\testimator lgbm's best error=0.3740,\tbest estimator lgbm's best error=0.3740\n",
      "[flaml.automl.logger: 03-14 17:28:16] {2218} INFO - iteration 384, current learner lgbm\n",
      "[flaml.automl.logger: 03-14 17:28:16] {2391} INFO -  at 60.7s,\testimator lgbm's best error=0.3740,\tbest estimator lgbm's best error=0.3740\n",
      "[flaml.automl.logger: 03-14 17:28:16] {2218} INFO - iteration 385, current learner lgbm\n",
      "[flaml.automl.logger: 03-14 17:28:16] {2391} INFO -  at 60.8s,\testimator lgbm's best error=0.3740,\tbest estimator lgbm's best error=0.3740\n",
      "[flaml.automl.logger: 03-14 17:28:16] {2218} INFO - iteration 386, current learner lgbm\n",
      "[flaml.automl.logger: 03-14 17:28:17] {2391} INFO -  at 61.0s,\testimator lgbm's best error=0.3740,\tbest estimator lgbm's best error=0.3740\n",
      "[flaml.automl.logger: 03-14 17:28:17] {2218} INFO - iteration 387, current learner lgbm\n",
      "[flaml.automl.logger: 03-14 17:28:17] {2391} INFO -  at 61.2s,\testimator lgbm's best error=0.3740,\tbest estimator lgbm's best error=0.3740\n",
      "[flaml.automl.logger: 03-14 17:28:17] {2218} INFO - iteration 388, current learner lgbm\n",
      "[flaml.automl.logger: 03-14 17:28:17] {2391} INFO -  at 61.5s,\testimator lgbm's best error=0.3740,\tbest estimator lgbm's best error=0.3740\n",
      "[flaml.automl.logger: 03-14 17:28:17] {2218} INFO - iteration 389, current learner lgbm\n",
      "[flaml.automl.logger: 03-14 17:28:17] {2391} INFO -  at 61.6s,\testimator lgbm's best error=0.3740,\tbest estimator lgbm's best error=0.3740\n",
      "[flaml.automl.logger: 03-14 17:28:17] {2218} INFO - iteration 390, current learner lgbm\n",
      "[flaml.automl.logger: 03-14 17:28:17] {2391} INFO -  at 61.8s,\testimator lgbm's best error=0.3740,\tbest estimator lgbm's best error=0.3740\n",
      "[flaml.automl.logger: 03-14 17:28:17] {2218} INFO - iteration 391, current learner lgbm\n",
      "[flaml.automl.logger: 03-14 17:28:18] {2391} INFO -  at 62.9s,\testimator lgbm's best error=0.3740,\tbest estimator lgbm's best error=0.3740\n",
      "[flaml.automl.logger: 03-14 17:28:18] {2218} INFO - iteration 392, current learner lgbm\n",
      "[flaml.automl.logger: 03-14 17:28:19] {2391} INFO -  at 63.0s,\testimator lgbm's best error=0.3740,\tbest estimator lgbm's best error=0.3740\n",
      "[flaml.automl.logger: 03-14 17:28:19] {2218} INFO - iteration 393, current learner lgbm\n",
      "[flaml.automl.logger: 03-14 17:28:19] {2391} INFO -  at 63.4s,\testimator lgbm's best error=0.3740,\tbest estimator lgbm's best error=0.3740\n",
      "[flaml.automl.logger: 03-14 17:28:19] {2218} INFO - iteration 394, current learner lgbm\n",
      "[flaml.automl.logger: 03-14 17:28:19] {2391} INFO -  at 63.5s,\testimator lgbm's best error=0.3740,\tbest estimator lgbm's best error=0.3740\n",
      "[flaml.automl.logger: 03-14 17:28:19] {2218} INFO - iteration 395, current learner lgbm\n",
      "[flaml.automl.logger: 03-14 17:28:20] {2391} INFO -  at 63.9s,\testimator lgbm's best error=0.3740,\tbest estimator lgbm's best error=0.3740\n",
      "[flaml.automl.logger: 03-14 17:28:20] {2218} INFO - iteration 396, current learner lgbm\n",
      "[flaml.automl.logger: 03-14 17:28:20] {2391} INFO -  at 64.1s,\testimator lgbm's best error=0.3740,\tbest estimator lgbm's best error=0.3740\n",
      "[flaml.automl.logger: 03-14 17:28:20] {2218} INFO - iteration 397, current learner lgbm\n",
      "[flaml.automl.logger: 03-14 17:28:20] {2391} INFO -  at 64.3s,\testimator lgbm's best error=0.3740,\tbest estimator lgbm's best error=0.3740\n",
      "[flaml.automl.logger: 03-14 17:28:20] {2218} INFO - iteration 398, current learner lgbm\n",
      "[flaml.automl.logger: 03-14 17:28:20] {2391} INFO -  at 64.6s,\testimator lgbm's best error=0.3740,\tbest estimator lgbm's best error=0.3740\n",
      "[flaml.automl.logger: 03-14 17:28:20] {2218} INFO - iteration 399, current learner lgbm\n",
      "[flaml.automl.logger: 03-14 17:28:20] {2391} INFO -  at 64.8s,\testimator lgbm's best error=0.3740,\tbest estimator lgbm's best error=0.3740\n",
      "[flaml.automl.logger: 03-14 17:28:20] {2218} INFO - iteration 400, current learner lgbm\n",
      "[flaml.automl.logger: 03-14 17:28:21] {2391} INFO -  at 65.0s,\testimator lgbm's best error=0.3740,\tbest estimator lgbm's best error=0.3740\n",
      "[flaml.automl.logger: 03-14 17:28:21] {2218} INFO - iteration 401, current learner lgbm\n",
      "[flaml.automl.logger: 03-14 17:28:21] {2391} INFO -  at 65.1s,\testimator lgbm's best error=0.3740,\tbest estimator lgbm's best error=0.3740\n",
      "[flaml.automl.logger: 03-14 17:28:21] {2218} INFO - iteration 402, current learner lgbm\n",
      "[flaml.automl.logger: 03-14 17:28:21] {2391} INFO -  at 65.2s,\testimator lgbm's best error=0.3740,\tbest estimator lgbm's best error=0.3740\n",
      "[flaml.automl.logger: 03-14 17:28:21] {2218} INFO - iteration 403, current learner lgbm\n",
      "[flaml.automl.logger: 03-14 17:28:21] {2391} INFO -  at 65.4s,\testimator lgbm's best error=0.3740,\tbest estimator lgbm's best error=0.3740\n",
      "[flaml.automl.logger: 03-14 17:28:21] {2218} INFO - iteration 404, current learner lgbm\n",
      "[flaml.automl.logger: 03-14 17:28:21] {2391} INFO -  at 65.6s,\testimator lgbm's best error=0.3740,\tbest estimator lgbm's best error=0.3740\n",
      "[flaml.automl.logger: 03-14 17:28:21] {2218} INFO - iteration 405, current learner lgbm\n",
      "[flaml.automl.logger: 03-14 17:28:21] {2391} INFO -  at 65.7s,\testimator lgbm's best error=0.3740,\tbest estimator lgbm's best error=0.3740\n",
      "[flaml.automl.logger: 03-14 17:28:21] {2218} INFO - iteration 406, current learner lgbm\n",
      "[flaml.automl.logger: 03-14 17:28:21] {2391} INFO -  at 65.8s,\testimator lgbm's best error=0.3740,\tbest estimator lgbm's best error=0.3740\n",
      "[flaml.automl.logger: 03-14 17:28:21] {2218} INFO - iteration 407, current learner lgbm\n",
      "[flaml.automl.logger: 03-14 17:28:22] {2391} INFO -  at 66.0s,\testimator lgbm's best error=0.3740,\tbest estimator lgbm's best error=0.3740\n",
      "[flaml.automl.logger: 03-14 17:28:22] {2218} INFO - iteration 408, current learner lgbm\n",
      "[flaml.automl.logger: 03-14 17:28:22] {2391} INFO -  at 66.1s,\testimator lgbm's best error=0.3740,\tbest estimator lgbm's best error=0.3740\n",
      "[flaml.automl.logger: 03-14 17:28:22] {2218} INFO - iteration 409, current learner lgbm\n",
      "[flaml.automl.logger: 03-14 17:28:22] {2391} INFO -  at 66.4s,\testimator lgbm's best error=0.3740,\tbest estimator lgbm's best error=0.3740\n",
      "[flaml.automl.logger: 03-14 17:28:22] {2218} INFO - iteration 410, current learner lgbm\n",
      "[flaml.automl.logger: 03-14 17:28:22] {2391} INFO -  at 66.5s,\testimator lgbm's best error=0.3740,\tbest estimator lgbm's best error=0.3740\n",
      "[flaml.automl.logger: 03-14 17:28:22] {2218} INFO - iteration 411, current learner lgbm\n",
      "[flaml.automl.logger: 03-14 17:28:22] {2391} INFO -  at 66.8s,\testimator lgbm's best error=0.3740,\tbest estimator lgbm's best error=0.3740\n",
      "[flaml.automl.logger: 03-14 17:28:22] {2218} INFO - iteration 412, current learner lgbm\n",
      "[flaml.automl.logger: 03-14 17:28:23] {2391} INFO -  at 67.0s,\testimator lgbm's best error=0.3740,\tbest estimator lgbm's best error=0.3740\n",
      "[flaml.automl.logger: 03-14 17:28:23] {2218} INFO - iteration 413, current learner lgbm\n",
      "[flaml.automl.logger: 03-14 17:28:23] {2391} INFO -  at 67.2s,\testimator lgbm's best error=0.3740,\tbest estimator lgbm's best error=0.3740\n",
      "[flaml.automl.logger: 03-14 17:28:23] {2218} INFO - iteration 414, current learner lgbm\n",
      "[flaml.automl.logger: 03-14 17:28:23] {2391} INFO -  at 67.4s,\testimator lgbm's best error=0.3740,\tbest estimator lgbm's best error=0.3740\n",
      "[flaml.automl.logger: 03-14 17:28:23] {2218} INFO - iteration 415, current learner lgbm\n",
      "[flaml.automl.logger: 03-14 17:28:23] {2391} INFO -  at 67.8s,\testimator lgbm's best error=0.3740,\tbest estimator lgbm's best error=0.3740\n",
      "[flaml.automl.logger: 03-14 17:28:23] {2218} INFO - iteration 416, current learner lgbm\n",
      "[flaml.automl.logger: 03-14 17:28:23] {2391} INFO -  at 67.9s,\testimator lgbm's best error=0.3740,\tbest estimator lgbm's best error=0.3740\n",
      "[flaml.automl.logger: 03-14 17:28:23] {2218} INFO - iteration 417, current learner lgbm\n",
      "[flaml.automl.logger: 03-14 17:28:24] {2391} INFO -  at 68.2s,\testimator lgbm's best error=0.3740,\tbest estimator lgbm's best error=0.3740\n",
      "[flaml.automl.logger: 03-14 17:28:24] {2218} INFO - iteration 418, current learner lgbm\n",
      "[flaml.automl.logger: 03-14 17:28:24] {2391} INFO -  at 68.3s,\testimator lgbm's best error=0.3740,\tbest estimator lgbm's best error=0.3740\n",
      "[flaml.automl.logger: 03-14 17:28:24] {2218} INFO - iteration 419, current learner lgbm\n",
      "[flaml.automl.logger: 03-14 17:28:24] {2391} INFO -  at 68.5s,\testimator lgbm's best error=0.3740,\tbest estimator lgbm's best error=0.3740\n",
      "[flaml.automl.logger: 03-14 17:28:24] {2218} INFO - iteration 420, current learner lgbm\n",
      "[flaml.automl.logger: 03-14 17:28:24] {2391} INFO -  at 68.7s,\testimator lgbm's best error=0.3740,\tbest estimator lgbm's best error=0.3740\n",
      "[flaml.automl.logger: 03-14 17:28:24] {2218} INFO - iteration 421, current learner lgbm\n",
      "[flaml.automl.logger: 03-14 17:28:24] {2391} INFO -  at 68.9s,\testimator lgbm's best error=0.3740,\tbest estimator lgbm's best error=0.3740\n",
      "[flaml.automl.logger: 03-14 17:28:24] {2218} INFO - iteration 422, current learner lgbm\n",
      "[flaml.automl.logger: 03-14 17:28:25] {2391} INFO -  at 69.0s,\testimator lgbm's best error=0.3740,\tbest estimator lgbm's best error=0.3740\n",
      "[flaml.automl.logger: 03-14 17:28:25] {2218} INFO - iteration 423, current learner lgbm\n",
      "[flaml.automl.logger: 03-14 17:28:25] {2391} INFO -  at 69.2s,\testimator lgbm's best error=0.3740,\tbest estimator lgbm's best error=0.3740\n",
      "[flaml.automl.logger: 03-14 17:28:25] {2218} INFO - iteration 424, current learner lgbm\n",
      "[flaml.automl.logger: 03-14 17:28:25] {2391} INFO -  at 69.3s,\testimator lgbm's best error=0.3740,\tbest estimator lgbm's best error=0.3740\n",
      "[flaml.automl.logger: 03-14 17:28:25] {2218} INFO - iteration 425, current learner lgbm\n",
      "[flaml.automl.logger: 03-14 17:28:25] {2391} INFO -  at 69.8s,\testimator lgbm's best error=0.3740,\tbest estimator lgbm's best error=0.3740\n",
      "[flaml.automl.logger: 03-14 17:28:25] {2218} INFO - iteration 426, current learner lgbm\n",
      "[flaml.automl.logger: 03-14 17:28:25] {2391} INFO -  at 69.9s,\testimator lgbm's best error=0.3740,\tbest estimator lgbm's best error=0.3740\n",
      "[flaml.automl.logger: 03-14 17:28:25] {2218} INFO - iteration 427, current learner lgbm\n",
      "[flaml.automl.logger: 03-14 17:28:26] {2391} INFO -  at 70.2s,\testimator lgbm's best error=0.3740,\tbest estimator lgbm's best error=0.3740\n",
      "[flaml.automl.logger: 03-14 17:28:26] {2218} INFO - iteration 428, current learner lgbm\n",
      "[flaml.automl.logger: 03-14 17:28:26] {2391} INFO -  at 70.5s,\testimator lgbm's best error=0.3740,\tbest estimator lgbm's best error=0.3740\n",
      "[flaml.automl.logger: 03-14 17:28:26] {2218} INFO - iteration 429, current learner lgbm\n",
      "[flaml.automl.logger: 03-14 17:28:26] {2391} INFO -  at 70.6s,\testimator lgbm's best error=0.3740,\tbest estimator lgbm's best error=0.3740\n",
      "[flaml.automl.logger: 03-14 17:28:26] {2218} INFO - iteration 430, current learner lgbm\n",
      "[flaml.automl.logger: 03-14 17:28:26] {2391} INFO -  at 70.8s,\testimator lgbm's best error=0.3740,\tbest estimator lgbm's best error=0.3740\n",
      "[flaml.automl.logger: 03-14 17:28:26] {2218} INFO - iteration 431, current learner lgbm\n",
      "[flaml.automl.logger: 03-14 17:28:27] {2391} INFO -  at 71.1s,\testimator lgbm's best error=0.3740,\tbest estimator lgbm's best error=0.3740\n",
      "[flaml.automl.logger: 03-14 17:28:27] {2218} INFO - iteration 432, current learner lgbm\n",
      "[flaml.automl.logger: 03-14 17:28:27] {2391} INFO -  at 71.3s,\testimator lgbm's best error=0.3740,\tbest estimator lgbm's best error=0.3740\n",
      "[flaml.automl.logger: 03-14 17:28:27] {2218} INFO - iteration 433, current learner lgbm\n",
      "[flaml.automl.logger: 03-14 17:28:27] {2391} INFO -  at 71.5s,\testimator lgbm's best error=0.3740,\tbest estimator lgbm's best error=0.3740\n",
      "[flaml.automl.logger: 03-14 17:28:27] {2218} INFO - iteration 434, current learner lgbm\n",
      "[flaml.automl.logger: 03-14 17:28:27] {2391} INFO -  at 71.6s,\testimator lgbm's best error=0.3740,\tbest estimator lgbm's best error=0.3740\n",
      "[flaml.automl.logger: 03-14 17:28:27] {2218} INFO - iteration 435, current learner lgbm\n",
      "[flaml.automl.logger: 03-14 17:28:27] {2391} INFO -  at 71.9s,\testimator lgbm's best error=0.3740,\tbest estimator lgbm's best error=0.3740\n",
      "[flaml.automl.logger: 03-14 17:28:27] {2218} INFO - iteration 436, current learner lgbm\n",
      "[flaml.automl.logger: 03-14 17:28:28] {2391} INFO -  at 72.0s,\testimator lgbm's best error=0.3740,\tbest estimator lgbm's best error=0.3740\n",
      "[flaml.automl.logger: 03-14 17:28:28] {2218} INFO - iteration 437, current learner lgbm\n",
      "[flaml.automl.logger: 03-14 17:28:28] {2391} INFO -  at 72.3s,\testimator lgbm's best error=0.3740,\tbest estimator lgbm's best error=0.3740\n",
      "[flaml.automl.logger: 03-14 17:28:28] {2218} INFO - iteration 438, current learner lgbm\n",
      "[flaml.automl.logger: 03-14 17:28:28] {2391} INFO -  at 72.6s,\testimator lgbm's best error=0.3740,\tbest estimator lgbm's best error=0.3740\n",
      "[flaml.automl.logger: 03-14 17:28:28] {2218} INFO - iteration 439, current learner lgbm\n",
      "[flaml.automl.logger: 03-14 17:28:28] {2391} INFO -  at 72.7s,\testimator lgbm's best error=0.3740,\tbest estimator lgbm's best error=0.3740\n",
      "[flaml.automl.logger: 03-14 17:28:28] {2218} INFO - iteration 440, current learner lgbm\n",
      "[flaml.automl.logger: 03-14 17:28:29] {2391} INFO -  at 73.1s,\testimator lgbm's best error=0.3740,\tbest estimator lgbm's best error=0.3740\n",
      "[flaml.automl.logger: 03-14 17:28:29] {2218} INFO - iteration 441, current learner lgbm\n",
      "[flaml.automl.logger: 03-14 17:28:29] {2391} INFO -  at 73.2s,\testimator lgbm's best error=0.3740,\tbest estimator lgbm's best error=0.3740\n",
      "[flaml.automl.logger: 03-14 17:28:29] {2218} INFO - iteration 442, current learner lgbm\n",
      "[flaml.automl.logger: 03-14 17:28:29] {2391} INFO -  at 73.4s,\testimator lgbm's best error=0.3740,\tbest estimator lgbm's best error=0.3740\n",
      "[flaml.automl.logger: 03-14 17:28:29] {2218} INFO - iteration 443, current learner lgbm\n",
      "[flaml.automl.logger: 03-14 17:28:29] {2391} INFO -  at 73.5s,\testimator lgbm's best error=0.3740,\tbest estimator lgbm's best error=0.3740\n",
      "[flaml.automl.logger: 03-14 17:28:29] {2218} INFO - iteration 444, current learner lgbm\n",
      "[flaml.automl.logger: 03-14 17:28:29] {2391} INFO -  at 73.8s,\testimator lgbm's best error=0.3740,\tbest estimator lgbm's best error=0.3740\n",
      "[flaml.automl.logger: 03-14 17:28:29] {2218} INFO - iteration 445, current learner lgbm\n",
      "[flaml.automl.logger: 03-14 17:28:29] {2391} INFO -  at 73.9s,\testimator lgbm's best error=0.3740,\tbest estimator lgbm's best error=0.3740\n",
      "[flaml.automl.logger: 03-14 17:28:29] {2218} INFO - iteration 446, current learner lgbm\n",
      "[flaml.automl.logger: 03-14 17:28:30] {2391} INFO -  at 74.1s,\testimator lgbm's best error=0.3740,\tbest estimator lgbm's best error=0.3740\n",
      "[flaml.automl.logger: 03-14 17:28:30] {2218} INFO - iteration 447, current learner lgbm\n",
      "[flaml.automl.logger: 03-14 17:28:30] {2391} INFO -  at 74.2s,\testimator lgbm's best error=0.3740,\tbest estimator lgbm's best error=0.3740\n",
      "[flaml.automl.logger: 03-14 17:28:30] {2218} INFO - iteration 448, current learner lgbm\n",
      "[flaml.automl.logger: 03-14 17:28:30] {2391} INFO -  at 74.3s,\testimator lgbm's best error=0.3740,\tbest estimator lgbm's best error=0.3740\n",
      "[flaml.automl.logger: 03-14 17:28:30] {2218} INFO - iteration 449, current learner lgbm\n",
      "[flaml.automl.logger: 03-14 17:28:30] {2391} INFO -  at 74.7s,\testimator lgbm's best error=0.3740,\tbest estimator lgbm's best error=0.3740\n",
      "[flaml.automl.logger: 03-14 17:28:30] {2218} INFO - iteration 450, current learner lgbm\n",
      "[flaml.automl.logger: 03-14 17:28:31] {2391} INFO -  at 75.4s,\testimator lgbm's best error=0.3740,\tbest estimator lgbm's best error=0.3740\n",
      "[flaml.automl.logger: 03-14 17:28:31] {2218} INFO - iteration 451, current learner lgbm\n",
      "[flaml.automl.logger: 03-14 17:28:31] {2391} INFO -  at 75.5s,\testimator lgbm's best error=0.3740,\tbest estimator lgbm's best error=0.3740\n",
      "[flaml.automl.logger: 03-14 17:28:31] {2218} INFO - iteration 452, current learner lgbm\n",
      "[flaml.automl.logger: 03-14 17:28:31] {2391} INFO -  at 75.6s,\testimator lgbm's best error=0.3740,\tbest estimator lgbm's best error=0.3740\n",
      "[flaml.automl.logger: 03-14 17:28:31] {2218} INFO - iteration 453, current learner lgbm\n",
      "[flaml.automl.logger: 03-14 17:28:32] {2391} INFO -  at 76.0s,\testimator lgbm's best error=0.3740,\tbest estimator lgbm's best error=0.3740\n",
      "[flaml.automl.logger: 03-14 17:28:32] {2218} INFO - iteration 454, current learner lgbm\n",
      "[flaml.automl.logger: 03-14 17:28:32] {2391} INFO -  at 76.4s,\testimator lgbm's best error=0.3740,\tbest estimator lgbm's best error=0.3740\n",
      "[flaml.automl.logger: 03-14 17:28:32] {2218} INFO - iteration 455, current learner lgbm\n",
      "[flaml.automl.logger: 03-14 17:28:32] {2391} INFO -  at 76.6s,\testimator lgbm's best error=0.3740,\tbest estimator lgbm's best error=0.3740\n",
      "[flaml.automl.logger: 03-14 17:28:32] {2218} INFO - iteration 456, current learner lgbm\n",
      "[flaml.automl.logger: 03-14 17:28:32] {2391} INFO -  at 76.8s,\testimator lgbm's best error=0.3740,\tbest estimator lgbm's best error=0.3740\n",
      "[flaml.automl.logger: 03-14 17:28:32] {2218} INFO - iteration 457, current learner lgbm\n",
      "[flaml.automl.logger: 03-14 17:28:33] {2391} INFO -  at 77.0s,\testimator lgbm's best error=0.3740,\tbest estimator lgbm's best error=0.3740\n",
      "[flaml.automl.logger: 03-14 17:28:33] {2218} INFO - iteration 458, current learner lgbm\n",
      "[flaml.automl.logger: 03-14 17:28:33] {2391} INFO -  at 77.3s,\testimator lgbm's best error=0.3740,\tbest estimator lgbm's best error=0.3740\n",
      "[flaml.automl.logger: 03-14 17:28:33] {2218} INFO - iteration 459, current learner lgbm\n",
      "[flaml.automl.logger: 03-14 17:28:33] {2391} INFO -  at 77.5s,\testimator lgbm's best error=0.3740,\tbest estimator lgbm's best error=0.3740\n",
      "[flaml.automl.logger: 03-14 17:28:33] {2218} INFO - iteration 460, current learner lgbm\n",
      "[flaml.automl.logger: 03-14 17:28:33] {2391} INFO -  at 77.8s,\testimator lgbm's best error=0.3740,\tbest estimator lgbm's best error=0.3740\n",
      "[flaml.automl.logger: 03-14 17:28:33] {2218} INFO - iteration 461, current learner lgbm\n",
      "[flaml.automl.logger: 03-14 17:28:34] {2391} INFO -  at 78.0s,\testimator lgbm's best error=0.3740,\tbest estimator lgbm's best error=0.3740\n",
      "[flaml.automl.logger: 03-14 17:28:34] {2218} INFO - iteration 462, current learner lgbm\n",
      "[flaml.automl.logger: 03-14 17:28:34] {2391} INFO -  at 78.2s,\testimator lgbm's best error=0.3740,\tbest estimator lgbm's best error=0.3740\n",
      "[flaml.automl.logger: 03-14 17:28:34] {2218} INFO - iteration 463, current learner lgbm\n",
      "[flaml.automl.logger: 03-14 17:28:34] {2391} INFO -  at 78.4s,\testimator lgbm's best error=0.3740,\tbest estimator lgbm's best error=0.3740\n",
      "[flaml.automl.logger: 03-14 17:28:34] {2218} INFO - iteration 464, current learner lgbm\n",
      "[flaml.automl.logger: 03-14 17:28:34] {2391} INFO -  at 78.9s,\testimator lgbm's best error=0.3740,\tbest estimator lgbm's best error=0.3740\n",
      "[flaml.automl.logger: 03-14 17:28:34] {2218} INFO - iteration 465, current learner lgbm\n",
      "[flaml.automl.logger: 03-14 17:28:35] {2391} INFO -  at 79.0s,\testimator lgbm's best error=0.3740,\tbest estimator lgbm's best error=0.3740\n",
      "[flaml.automl.logger: 03-14 17:28:35] {2218} INFO - iteration 466, current learner lgbm\n",
      "[flaml.automl.logger: 03-14 17:28:35] {2391} INFO -  at 79.2s,\testimator lgbm's best error=0.3740,\tbest estimator lgbm's best error=0.3740\n",
      "[flaml.automl.logger: 03-14 17:28:35] {2218} INFO - iteration 467, current learner lgbm\n",
      "[flaml.automl.logger: 03-14 17:28:35] {2391} INFO -  at 79.4s,\testimator lgbm's best error=0.3740,\tbest estimator lgbm's best error=0.3740\n",
      "[flaml.automl.logger: 03-14 17:28:35] {2218} INFO - iteration 468, current learner lgbm\n",
      "[flaml.automl.logger: 03-14 17:28:35] {2391} INFO -  at 79.7s,\testimator lgbm's best error=0.3740,\tbest estimator lgbm's best error=0.3740\n",
      "[flaml.automl.logger: 03-14 17:28:35] {2218} INFO - iteration 469, current learner lgbm\n",
      "[flaml.automl.logger: 03-14 17:28:35] {2391} INFO -  at 79.8s,\testimator lgbm's best error=0.3740,\tbest estimator lgbm's best error=0.3740\n",
      "[flaml.automl.logger: 03-14 17:28:35] {2218} INFO - iteration 470, current learner lgbm\n",
      "[flaml.automl.logger: 03-14 17:28:36] {2391} INFO -  at 80.1s,\testimator lgbm's best error=0.3740,\tbest estimator lgbm's best error=0.3740\n",
      "[flaml.automl.logger: 03-14 17:28:36] {2218} INFO - iteration 471, current learner lgbm\n",
      "[flaml.automl.logger: 03-14 17:28:36] {2391} INFO -  at 80.3s,\testimator lgbm's best error=0.3740,\tbest estimator lgbm's best error=0.3740\n",
      "[flaml.automl.logger: 03-14 17:28:36] {2218} INFO - iteration 472, current learner lgbm\n",
      "[flaml.automl.logger: 03-14 17:28:36] {2391} INFO -  at 80.7s,\testimator lgbm's best error=0.3740,\tbest estimator lgbm's best error=0.3740\n",
      "[flaml.automl.logger: 03-14 17:28:36] {2218} INFO - iteration 473, current learner lgbm\n",
      "[flaml.automl.logger: 03-14 17:28:36] {2391} INFO -  at 80.8s,\testimator lgbm's best error=0.3740,\tbest estimator lgbm's best error=0.3740\n",
      "[flaml.automl.logger: 03-14 17:28:36] {2218} INFO - iteration 474, current learner lgbm\n",
      "[flaml.automl.logger: 03-14 17:28:37] {2391} INFO -  at 81.0s,\testimator lgbm's best error=0.3740,\tbest estimator lgbm's best error=0.3740\n",
      "[flaml.automl.logger: 03-14 17:28:37] {2218} INFO - iteration 475, current learner lgbm\n",
      "[flaml.automl.logger: 03-14 17:28:37] {2391} INFO -  at 81.3s,\testimator lgbm's best error=0.3740,\tbest estimator lgbm's best error=0.3740\n",
      "[flaml.automl.logger: 03-14 17:28:37] {2218} INFO - iteration 476, current learner lgbm\n",
      "[flaml.automl.logger: 03-14 17:28:37] {2391} INFO -  at 81.5s,\testimator lgbm's best error=0.3740,\tbest estimator lgbm's best error=0.3740\n",
      "[flaml.automl.logger: 03-14 17:28:37] {2218} INFO - iteration 477, current learner lgbm\n",
      "[flaml.automl.logger: 03-14 17:28:37] {2391} INFO -  at 81.8s,\testimator lgbm's best error=0.3740,\tbest estimator lgbm's best error=0.3740\n",
      "[flaml.automl.logger: 03-14 17:28:37] {2218} INFO - iteration 478, current learner lgbm\n",
      "[flaml.automl.logger: 03-14 17:28:37] {2391} INFO -  at 81.9s,\testimator lgbm's best error=0.3740,\tbest estimator lgbm's best error=0.3740\n",
      "[flaml.automl.logger: 03-14 17:28:37] {2218} INFO - iteration 479, current learner lgbm\n",
      "[flaml.automl.logger: 03-14 17:28:38] {2391} INFO -  at 82.1s,\testimator lgbm's best error=0.3740,\tbest estimator lgbm's best error=0.3740\n",
      "[flaml.automl.logger: 03-14 17:28:38] {2218} INFO - iteration 480, current learner lgbm\n",
      "[flaml.automl.logger: 03-14 17:28:38] {2391} INFO -  at 82.2s,\testimator lgbm's best error=0.3740,\tbest estimator lgbm's best error=0.3740\n",
      "[flaml.automl.logger: 03-14 17:28:38] {2218} INFO - iteration 481, current learner lgbm\n",
      "[flaml.automl.logger: 03-14 17:28:38] {2391} INFO -  at 82.4s,\testimator lgbm's best error=0.3740,\tbest estimator lgbm's best error=0.3740\n",
      "[flaml.automl.logger: 03-14 17:28:38] {2218} INFO - iteration 482, current learner lgbm\n",
      "[flaml.automl.logger: 03-14 17:28:38] {2391} INFO -  at 82.6s,\testimator lgbm's best error=0.3740,\tbest estimator lgbm's best error=0.3740\n",
      "[flaml.automl.logger: 03-14 17:28:38] {2218} INFO - iteration 483, current learner lgbm\n",
      "[flaml.automl.logger: 03-14 17:28:38] {2391} INFO -  at 82.7s,\testimator lgbm's best error=0.3740,\tbest estimator lgbm's best error=0.3740\n",
      "[flaml.automl.logger: 03-14 17:28:38] {2218} INFO - iteration 484, current learner lgbm\n",
      "[flaml.automl.logger: 03-14 17:28:38] {2391} INFO -  at 82.9s,\testimator lgbm's best error=0.3740,\tbest estimator lgbm's best error=0.3740\n",
      "[flaml.automl.logger: 03-14 17:28:38] {2218} INFO - iteration 485, current learner lgbm\n",
      "[flaml.automl.logger: 03-14 17:28:39] {2391} INFO -  at 83.0s,\testimator lgbm's best error=0.3740,\tbest estimator lgbm's best error=0.3740\n",
      "[flaml.automl.logger: 03-14 17:28:39] {2218} INFO - iteration 486, current learner lgbm\n",
      "[flaml.automl.logger: 03-14 17:28:39] {2391} INFO -  at 83.2s,\testimator lgbm's best error=0.3740,\tbest estimator lgbm's best error=0.3740\n",
      "[flaml.automl.logger: 03-14 17:28:39] {2218} INFO - iteration 487, current learner lgbm\n",
      "[flaml.automl.logger: 03-14 17:28:39] {2391} INFO -  at 83.4s,\testimator lgbm's best error=0.3740,\tbest estimator lgbm's best error=0.3740\n",
      "[flaml.automl.logger: 03-14 17:28:39] {2218} INFO - iteration 488, current learner lgbm\n",
      "[flaml.automl.logger: 03-14 17:28:39] {2391} INFO -  at 83.5s,\testimator lgbm's best error=0.3740,\tbest estimator lgbm's best error=0.3740\n",
      "[flaml.automl.logger: 03-14 17:28:39] {2218} INFO - iteration 489, current learner lgbm\n",
      "[flaml.automl.logger: 03-14 17:28:39] {2391} INFO -  at 83.7s,\testimator lgbm's best error=0.3740,\tbest estimator lgbm's best error=0.3740\n",
      "[flaml.automl.logger: 03-14 17:28:39] {2218} INFO - iteration 490, current learner lgbm\n",
      "[flaml.automl.logger: 03-14 17:28:39] {2391} INFO -  at 83.8s,\testimator lgbm's best error=0.3740,\tbest estimator lgbm's best error=0.3740\n",
      "[flaml.automl.logger: 03-14 17:28:39] {2218} INFO - iteration 491, current learner lgbm\n",
      "[flaml.automl.logger: 03-14 17:28:40] {2391} INFO -  at 84.0s,\testimator lgbm's best error=0.3740,\tbest estimator lgbm's best error=0.3740\n",
      "[flaml.automl.logger: 03-14 17:28:40] {2218} INFO - iteration 492, current learner lgbm\n",
      "[flaml.automl.logger: 03-14 17:28:40] {2391} INFO -  at 84.2s,\testimator lgbm's best error=0.3740,\tbest estimator lgbm's best error=0.3740\n",
      "[flaml.automl.logger: 03-14 17:28:40] {2218} INFO - iteration 493, current learner lgbm\n",
      "[flaml.automl.logger: 03-14 17:28:40] {2391} INFO -  at 84.5s,\testimator lgbm's best error=0.3740,\tbest estimator lgbm's best error=0.3740\n",
      "[flaml.automl.logger: 03-14 17:28:40] {2218} INFO - iteration 494, current learner lgbm\n",
      "[flaml.automl.logger: 03-14 17:28:40] {2391} INFO -  at 84.9s,\testimator lgbm's best error=0.3740,\tbest estimator lgbm's best error=0.3740\n",
      "[flaml.automl.logger: 03-14 17:28:40] {2218} INFO - iteration 495, current learner lgbm\n",
      "[flaml.automl.logger: 03-14 17:28:41] {2391} INFO -  at 85.0s,\testimator lgbm's best error=0.3740,\tbest estimator lgbm's best error=0.3740\n",
      "[flaml.automl.logger: 03-14 17:28:41] {2218} INFO - iteration 496, current learner lgbm\n",
      "[flaml.automl.logger: 03-14 17:28:41] {2391} INFO -  at 85.1s,\testimator lgbm's best error=0.3740,\tbest estimator lgbm's best error=0.3740\n",
      "[flaml.automl.logger: 03-14 17:28:41] {2218} INFO - iteration 497, current learner lgbm\n",
      "[flaml.automl.logger: 03-14 17:28:41] {2391} INFO -  at 85.4s,\testimator lgbm's best error=0.3740,\tbest estimator lgbm's best error=0.3740\n",
      "[flaml.automl.logger: 03-14 17:28:41] {2218} INFO - iteration 498, current learner lgbm\n",
      "[flaml.automl.logger: 03-14 17:28:41] {2391} INFO -  at 85.8s,\testimator lgbm's best error=0.3740,\tbest estimator lgbm's best error=0.3740\n",
      "[flaml.automl.logger: 03-14 17:28:41] {2218} INFO - iteration 499, current learner lgbm\n",
      "[flaml.automl.logger: 03-14 17:28:42] {2391} INFO -  at 85.9s,\testimator lgbm's best error=0.3740,\tbest estimator lgbm's best error=0.3740\n",
      "[flaml.automl.logger: 03-14 17:28:42] {2218} INFO - iteration 500, current learner lgbm\n",
      "[flaml.automl.logger: 03-14 17:28:42] {2391} INFO -  at 86.1s,\testimator lgbm's best error=0.3740,\tbest estimator lgbm's best error=0.3740\n",
      "[flaml.automl.logger: 03-14 17:28:42] {2218} INFO - iteration 501, current learner lgbm\n",
      "[flaml.automl.logger: 03-14 17:28:42] {2391} INFO -  at 86.2s,\testimator lgbm's best error=0.3740,\tbest estimator lgbm's best error=0.3740\n",
      "[flaml.automl.logger: 03-14 17:28:42] {2218} INFO - iteration 502, current learner lgbm\n",
      "[flaml.automl.logger: 03-14 17:28:42] {2391} INFO -  at 86.5s,\testimator lgbm's best error=0.3740,\tbest estimator lgbm's best error=0.3740\n",
      "[flaml.automl.logger: 03-14 17:28:42] {2218} INFO - iteration 503, current learner lgbm\n",
      "[flaml.automl.logger: 03-14 17:28:42] {2391} INFO -  at 86.7s,\testimator lgbm's best error=0.3740,\tbest estimator lgbm's best error=0.3740\n",
      "[flaml.automl.logger: 03-14 17:28:42] {2218} INFO - iteration 504, current learner lgbm\n",
      "[flaml.automl.logger: 03-14 17:28:42] {2391} INFO -  at 86.8s,\testimator lgbm's best error=0.3740,\tbest estimator lgbm's best error=0.3740\n",
      "[flaml.automl.logger: 03-14 17:28:42] {2218} INFO - iteration 505, current learner lgbm\n",
      "[flaml.automl.logger: 03-14 17:28:43] {2391} INFO -  at 87.1s,\testimator lgbm's best error=0.3740,\tbest estimator lgbm's best error=0.3740\n",
      "[flaml.automl.logger: 03-14 17:28:43] {2218} INFO - iteration 506, current learner lgbm\n",
      "[flaml.automl.logger: 03-14 17:28:43] {2391} INFO -  at 87.2s,\testimator lgbm's best error=0.3740,\tbest estimator lgbm's best error=0.3740\n",
      "[flaml.automl.logger: 03-14 17:28:43] {2218} INFO - iteration 507, current learner lgbm\n",
      "[flaml.automl.logger: 03-14 17:28:43] {2391} INFO -  at 87.3s,\testimator lgbm's best error=0.3740,\tbest estimator lgbm's best error=0.3740\n",
      "[flaml.automl.logger: 03-14 17:28:43] {2218} INFO - iteration 508, current learner lgbm\n",
      "[flaml.automl.logger: 03-14 17:28:43] {2391} INFO -  at 87.5s,\testimator lgbm's best error=0.3740,\tbest estimator lgbm's best error=0.3740\n",
      "[flaml.automl.logger: 03-14 17:28:43] {2218} INFO - iteration 509, current learner lgbm\n",
      "[flaml.automl.logger: 03-14 17:28:43] {2391} INFO -  at 87.6s,\testimator lgbm's best error=0.3740,\tbest estimator lgbm's best error=0.3740\n",
      "[flaml.automl.logger: 03-14 17:28:43] {2218} INFO - iteration 510, current learner lgbm\n",
      "[flaml.automl.logger: 03-14 17:28:43] {2391} INFO -  at 87.8s,\testimator lgbm's best error=0.3740,\tbest estimator lgbm's best error=0.3740\n",
      "[flaml.automl.logger: 03-14 17:28:43] {2218} INFO - iteration 511, current learner lgbm\n",
      "[flaml.automl.logger: 03-14 17:28:44] {2391} INFO -  at 87.9s,\testimator lgbm's best error=0.3740,\tbest estimator lgbm's best error=0.3740\n",
      "[flaml.automl.logger: 03-14 17:28:44] {2218} INFO - iteration 512, current learner lgbm\n",
      "[flaml.automl.logger: 03-14 17:28:44] {2391} INFO -  at 88.1s,\testimator lgbm's best error=0.3740,\tbest estimator lgbm's best error=0.3740\n",
      "[flaml.automl.logger: 03-14 17:28:44] {2218} INFO - iteration 513, current learner lgbm\n",
      "[flaml.automl.logger: 03-14 17:28:44] {2391} INFO -  at 88.3s,\testimator lgbm's best error=0.3740,\tbest estimator lgbm's best error=0.3740\n",
      "[flaml.automl.logger: 03-14 17:28:44] {2218} INFO - iteration 514, current learner lgbm\n",
      "[flaml.automl.logger: 03-14 17:28:44] {2391} INFO -  at 88.4s,\testimator lgbm's best error=0.3740,\tbest estimator lgbm's best error=0.3740\n",
      "[flaml.automl.logger: 03-14 17:28:44] {2218} INFO - iteration 515, current learner lgbm\n",
      "[flaml.automl.logger: 03-14 17:28:44] {2391} INFO -  at 88.5s,\testimator lgbm's best error=0.3740,\tbest estimator lgbm's best error=0.3740\n",
      "[flaml.automl.logger: 03-14 17:28:44] {2218} INFO - iteration 516, current learner lgbm\n",
      "[flaml.automl.logger: 03-14 17:28:44] {2391} INFO -  at 88.6s,\testimator lgbm's best error=0.3740,\tbest estimator lgbm's best error=0.3740\n",
      "[flaml.automl.logger: 03-14 17:28:44] {2218} INFO - iteration 517, current learner lgbm\n",
      "[flaml.automl.logger: 03-14 17:28:44] {2391} INFO -  at 88.8s,\testimator lgbm's best error=0.3740,\tbest estimator lgbm's best error=0.3740\n",
      "[flaml.automl.logger: 03-14 17:28:44] {2218} INFO - iteration 518, current learner lgbm\n",
      "[flaml.automl.logger: 03-14 17:28:45] {2391} INFO -  at 89.3s,\testimator lgbm's best error=0.3740,\tbest estimator lgbm's best error=0.3740\n",
      "[flaml.automl.logger: 03-14 17:28:45] {2218} INFO - iteration 519, current learner lgbm\n",
      "[flaml.automl.logger: 03-14 17:28:45] {2391} INFO -  at 89.3s,\testimator lgbm's best error=0.3740,\tbest estimator lgbm's best error=0.3740\n",
      "[flaml.automl.logger: 03-14 17:28:45] {2218} INFO - iteration 520, current learner lgbm\n",
      "[flaml.automl.logger: 03-14 17:28:45] {2391} INFO -  at 89.4s,\testimator lgbm's best error=0.3740,\tbest estimator lgbm's best error=0.3740\n",
      "[flaml.automl.logger: 03-14 17:28:45] {2218} INFO - iteration 521, current learner lgbm\n",
      "[flaml.automl.logger: 03-14 17:28:45] {2391} INFO -  at 89.8s,\testimator lgbm's best error=0.3740,\tbest estimator lgbm's best error=0.3740\n",
      "[flaml.automl.logger: 03-14 17:28:45] {2218} INFO - iteration 522, current learner lgbm\n",
      "[flaml.automl.logger: 03-14 17:28:46] {2391} INFO -  at 90.0s,\testimator lgbm's best error=0.3740,\tbest estimator lgbm's best error=0.3740\n",
      "[flaml.automl.logger: 03-14 17:28:46] {2218} INFO - iteration 523, current learner lgbm\n",
      "[flaml.automl.logger: 03-14 17:28:46] {2391} INFO -  at 90.1s,\testimator lgbm's best error=0.3740,\tbest estimator lgbm's best error=0.3740\n",
      "[flaml.automl.logger: 03-14 17:28:46] {2218} INFO - iteration 524, current learner lgbm\n",
      "[flaml.automl.logger: 03-14 17:28:46] {2391} INFO -  at 90.2s,\testimator lgbm's best error=0.3740,\tbest estimator lgbm's best error=0.3740\n",
      "[flaml.automl.logger: 03-14 17:28:46] {2218} INFO - iteration 525, current learner lgbm\n",
      "[flaml.automl.logger: 03-14 17:28:46] {2391} INFO -  at 90.5s,\testimator lgbm's best error=0.3740,\tbest estimator lgbm's best error=0.3740\n",
      "[flaml.automl.logger: 03-14 17:28:46] {2218} INFO - iteration 526, current learner lgbm\n",
      "[flaml.automl.logger: 03-14 17:28:46] {2391} INFO -  at 90.7s,\testimator lgbm's best error=0.3740,\tbest estimator lgbm's best error=0.3740\n",
      "[flaml.automl.logger: 03-14 17:28:46] {2218} INFO - iteration 527, current learner lgbm\n",
      "[flaml.automl.logger: 03-14 17:28:46] {2391} INFO -  at 90.8s,\testimator lgbm's best error=0.3740,\tbest estimator lgbm's best error=0.3740\n",
      "[flaml.automl.logger: 03-14 17:28:46] {2218} INFO - iteration 528, current learner lgbm\n",
      "[flaml.automl.logger: 03-14 17:28:47] {2391} INFO -  at 90.9s,\testimator lgbm's best error=0.3740,\tbest estimator lgbm's best error=0.3740\n",
      "[flaml.automl.logger: 03-14 17:28:47] {2218} INFO - iteration 529, current learner lgbm\n",
      "[flaml.automl.logger: 03-14 17:28:47] {2391} INFO -  at 91.1s,\testimator lgbm's best error=0.3740,\tbest estimator lgbm's best error=0.3740\n",
      "[flaml.automl.logger: 03-14 17:28:47] {2218} INFO - iteration 530, current learner lgbm\n",
      "[flaml.automl.logger: 03-14 17:28:47] {2391} INFO -  at 91.2s,\testimator lgbm's best error=0.3740,\tbest estimator lgbm's best error=0.3740\n",
      "[flaml.automl.logger: 03-14 17:28:47] {2218} INFO - iteration 531, current learner lgbm\n",
      "[flaml.automl.logger: 03-14 17:28:47] {2391} INFO -  at 91.4s,\testimator lgbm's best error=0.3740,\tbest estimator lgbm's best error=0.3740\n",
      "[flaml.automl.logger: 03-14 17:28:47] {2218} INFO - iteration 532, current learner lgbm\n",
      "[flaml.automl.logger: 03-14 17:28:47] {2391} INFO -  at 91.6s,\testimator lgbm's best error=0.3740,\tbest estimator lgbm's best error=0.3740\n",
      "[flaml.automl.logger: 03-14 17:28:47] {2218} INFO - iteration 533, current learner lgbm\n",
      "[flaml.automl.logger: 03-14 17:28:47] {2391} INFO -  at 91.7s,\testimator lgbm's best error=0.3740,\tbest estimator lgbm's best error=0.3740\n",
      "[flaml.automl.logger: 03-14 17:28:47] {2218} INFO - iteration 534, current learner lgbm\n",
      "[flaml.automl.logger: 03-14 17:28:47] {2391} INFO -  at 91.8s,\testimator lgbm's best error=0.3740,\tbest estimator lgbm's best error=0.3740\n",
      "[flaml.automl.logger: 03-14 17:28:47] {2218} INFO - iteration 535, current learner lgbm\n",
      "[flaml.automl.logger: 03-14 17:28:48] {2391} INFO -  at 92.0s,\testimator lgbm's best error=0.3740,\tbest estimator lgbm's best error=0.3740\n",
      "[flaml.automl.logger: 03-14 17:28:48] {2218} INFO - iteration 536, current learner lgbm\n",
      "[flaml.automl.logger: 03-14 17:28:48] {2391} INFO -  at 92.2s,\testimator lgbm's best error=0.3740,\tbest estimator lgbm's best error=0.3740\n",
      "[flaml.automl.logger: 03-14 17:28:48] {2218} INFO - iteration 537, current learner lgbm\n",
      "[flaml.automl.logger: 03-14 17:28:48] {2391} INFO -  at 92.3s,\testimator lgbm's best error=0.3740,\tbest estimator lgbm's best error=0.3740\n",
      "[flaml.automl.logger: 03-14 17:28:48] {2218} INFO - iteration 538, current learner lgbm\n",
      "[flaml.automl.logger: 03-14 17:28:48] {2391} INFO -  at 92.4s,\testimator lgbm's best error=0.3670,\tbest estimator lgbm's best error=0.3670\n",
      "[flaml.automl.logger: 03-14 17:28:48] {2218} INFO - iteration 539, current learner lgbm\n",
      "[flaml.automl.logger: 03-14 17:28:48] {2391} INFO -  at 92.6s,\testimator lgbm's best error=0.3670,\tbest estimator lgbm's best error=0.3670\n",
      "[flaml.automl.logger: 03-14 17:28:48] {2218} INFO - iteration 540, current learner lgbm\n",
      "[flaml.automl.logger: 03-14 17:28:48] {2391} INFO -  at 92.7s,\testimator lgbm's best error=0.3670,\tbest estimator lgbm's best error=0.3670\n",
      "[flaml.automl.logger: 03-14 17:28:48] {2218} INFO - iteration 541, current learner lgbm\n",
      "[flaml.automl.logger: 03-14 17:28:48] {2391} INFO -  at 92.8s,\testimator lgbm's best error=0.3670,\tbest estimator lgbm's best error=0.3670\n",
      "[flaml.automl.logger: 03-14 17:28:48] {2218} INFO - iteration 542, current learner lgbm\n",
      "[flaml.automl.logger: 03-14 17:28:49] {2391} INFO -  at 93.0s,\testimator lgbm's best error=0.3670,\tbest estimator lgbm's best error=0.3670\n",
      "[flaml.automl.logger: 03-14 17:28:49] {2218} INFO - iteration 543, current learner lgbm\n",
      "[flaml.automl.logger: 03-14 17:28:49] {2391} INFO -  at 93.1s,\testimator lgbm's best error=0.3670,\tbest estimator lgbm's best error=0.3670\n",
      "[flaml.automl.logger: 03-14 17:28:49] {2218} INFO - iteration 544, current learner lgbm\n",
      "[flaml.automl.logger: 03-14 17:28:49] {2391} INFO -  at 93.2s,\testimator lgbm's best error=0.3670,\tbest estimator lgbm's best error=0.3670\n",
      "[flaml.automl.logger: 03-14 17:28:49] {2218} INFO - iteration 545, current learner lgbm\n",
      "[flaml.automl.logger: 03-14 17:28:49] {2391} INFO -  at 93.3s,\testimator lgbm's best error=0.3670,\tbest estimator lgbm's best error=0.3670\n",
      "[flaml.automl.logger: 03-14 17:28:49] {2218} INFO - iteration 546, current learner lgbm\n",
      "[flaml.automl.logger: 03-14 17:28:49] {2391} INFO -  at 93.4s,\testimator lgbm's best error=0.3670,\tbest estimator lgbm's best error=0.3670\n",
      "[flaml.automl.logger: 03-14 17:28:49] {2218} INFO - iteration 547, current learner lgbm\n",
      "[flaml.automl.logger: 03-14 17:28:49] {2391} INFO -  at 93.5s,\testimator lgbm's best error=0.3670,\tbest estimator lgbm's best error=0.3670\n",
      "[flaml.automl.logger: 03-14 17:28:49] {2218} INFO - iteration 548, current learner lgbm\n",
      "[flaml.automl.logger: 03-14 17:28:49] {2391} INFO -  at 93.6s,\testimator lgbm's best error=0.3670,\tbest estimator lgbm's best error=0.3670\n",
      "[flaml.automl.logger: 03-14 17:28:49] {2218} INFO - iteration 549, current learner lgbm\n",
      "[flaml.automl.logger: 03-14 17:28:49] {2391} INFO -  at 93.7s,\testimator lgbm's best error=0.3670,\tbest estimator lgbm's best error=0.3670\n",
      "[flaml.automl.logger: 03-14 17:28:49] {2218} INFO - iteration 550, current learner lgbm\n",
      "[flaml.automl.logger: 03-14 17:28:49] {2391} INFO -  at 93.8s,\testimator lgbm's best error=0.3670,\tbest estimator lgbm's best error=0.3670\n",
      "[flaml.automl.logger: 03-14 17:28:49] {2218} INFO - iteration 551, current learner lgbm\n",
      "[flaml.automl.logger: 03-14 17:28:49] {2391} INFO -  at 93.9s,\testimator lgbm's best error=0.3670,\tbest estimator lgbm's best error=0.3670\n",
      "[flaml.automl.logger: 03-14 17:28:49] {2218} INFO - iteration 552, current learner lgbm\n",
      "[flaml.automl.logger: 03-14 17:28:50] {2391} INFO -  at 94.0s,\testimator lgbm's best error=0.3670,\tbest estimator lgbm's best error=0.3670\n",
      "[flaml.automl.logger: 03-14 17:28:50] {2218} INFO - iteration 553, current learner lgbm\n",
      "[flaml.automl.logger: 03-14 17:28:50] {2391} INFO -  at 94.1s,\testimator lgbm's best error=0.3670,\tbest estimator lgbm's best error=0.3670\n",
      "[flaml.automl.logger: 03-14 17:28:50] {2218} INFO - iteration 554, current learner lgbm\n",
      "[flaml.automl.logger: 03-14 17:28:50] {2391} INFO -  at 94.2s,\testimator lgbm's best error=0.3670,\tbest estimator lgbm's best error=0.3670\n",
      "[flaml.automl.logger: 03-14 17:28:50] {2218} INFO - iteration 555, current learner lgbm\n",
      "[flaml.automl.logger: 03-14 17:28:50] {2391} INFO -  at 94.3s,\testimator lgbm's best error=0.3670,\tbest estimator lgbm's best error=0.3670\n",
      "[flaml.automl.logger: 03-14 17:28:50] {2218} INFO - iteration 556, current learner lgbm\n",
      "[flaml.automl.logger: 03-14 17:28:50] {2391} INFO -  at 94.4s,\testimator lgbm's best error=0.3670,\tbest estimator lgbm's best error=0.3670\n",
      "[flaml.automl.logger: 03-14 17:28:50] {2218} INFO - iteration 557, current learner lgbm\n",
      "[flaml.automl.logger: 03-14 17:28:50] {2391} INFO -  at 94.5s,\testimator lgbm's best error=0.3670,\tbest estimator lgbm's best error=0.3670\n",
      "[flaml.automl.logger: 03-14 17:28:50] {2218} INFO - iteration 558, current learner lgbm\n",
      "[flaml.automl.logger: 03-14 17:28:50] {2391} INFO -  at 94.6s,\testimator lgbm's best error=0.3670,\tbest estimator lgbm's best error=0.3670\n",
      "[flaml.automl.logger: 03-14 17:28:50] {2218} INFO - iteration 559, current learner lgbm\n",
      "[flaml.automl.logger: 03-14 17:28:50] {2391} INFO -  at 94.8s,\testimator lgbm's best error=0.3670,\tbest estimator lgbm's best error=0.3670\n",
      "[flaml.automl.logger: 03-14 17:28:50] {2218} INFO - iteration 560, current learner lgbm\n",
      "[flaml.automl.logger: 03-14 17:28:50] {2391} INFO -  at 94.9s,\testimator lgbm's best error=0.3670,\tbest estimator lgbm's best error=0.3670\n",
      "[flaml.automl.logger: 03-14 17:28:50] {2218} INFO - iteration 561, current learner lgbm\n",
      "[flaml.automl.logger: 03-14 17:28:51] {2391} INFO -  at 95.0s,\testimator lgbm's best error=0.3670,\tbest estimator lgbm's best error=0.3670\n",
      "[flaml.automl.logger: 03-14 17:28:51] {2218} INFO - iteration 562, current learner lgbm\n",
      "[flaml.automl.logger: 03-14 17:28:51] {2391} INFO -  at 95.1s,\testimator lgbm's best error=0.3670,\tbest estimator lgbm's best error=0.3670\n",
      "[flaml.automl.logger: 03-14 17:28:51] {2218} INFO - iteration 563, current learner lgbm\n",
      "[flaml.automl.logger: 03-14 17:28:51] {2391} INFO -  at 95.2s,\testimator lgbm's best error=0.3670,\tbest estimator lgbm's best error=0.3670\n",
      "[flaml.automl.logger: 03-14 17:28:51] {2218} INFO - iteration 564, current learner lgbm\n",
      "[flaml.automl.logger: 03-14 17:28:51] {2391} INFO -  at 95.3s,\testimator lgbm's best error=0.3670,\tbest estimator lgbm's best error=0.3670\n",
      "[flaml.automl.logger: 03-14 17:28:51] {2218} INFO - iteration 565, current learner lgbm\n",
      "[flaml.automl.logger: 03-14 17:28:51] {2391} INFO -  at 95.4s,\testimator lgbm's best error=0.3670,\tbest estimator lgbm's best error=0.3670\n",
      "[flaml.automl.logger: 03-14 17:28:51] {2218} INFO - iteration 566, current learner lgbm\n",
      "[flaml.automl.logger: 03-14 17:28:51] {2391} INFO -  at 95.7s,\testimator lgbm's best error=0.3670,\tbest estimator lgbm's best error=0.3670\n",
      "[flaml.automl.logger: 03-14 17:28:51] {2218} INFO - iteration 567, current learner lgbm\n",
      "[flaml.automl.logger: 03-14 17:28:52] {2391} INFO -  at 96.0s,\testimator lgbm's best error=0.3670,\tbest estimator lgbm's best error=0.3670\n",
      "[flaml.automl.logger: 03-14 17:28:52] {2218} INFO - iteration 568, current learner lgbm\n",
      "[flaml.automl.logger: 03-14 17:28:52] {2391} INFO -  at 96.5s,\testimator lgbm's best error=0.3670,\tbest estimator lgbm's best error=0.3670\n",
      "[flaml.automl.logger: 03-14 17:28:52] {2218} INFO - iteration 569, current learner lgbm\n",
      "[flaml.automl.logger: 03-14 17:28:52] {2391} INFO -  at 96.6s,\testimator lgbm's best error=0.3670,\tbest estimator lgbm's best error=0.3670\n",
      "[flaml.automl.logger: 03-14 17:28:52] {2218} INFO - iteration 570, current learner lgbm\n",
      "[flaml.automl.logger: 03-14 17:28:52] {2391} INFO -  at 96.7s,\testimator lgbm's best error=0.3670,\tbest estimator lgbm's best error=0.3670\n",
      "[flaml.automl.logger: 03-14 17:28:52] {2218} INFO - iteration 571, current learner lgbm\n",
      "[flaml.automl.logger: 03-14 17:28:52] {2391} INFO -  at 96.8s,\testimator lgbm's best error=0.3670,\tbest estimator lgbm's best error=0.3670\n",
      "[flaml.automl.logger: 03-14 17:28:52] {2218} INFO - iteration 572, current learner lgbm\n",
      "[flaml.automl.logger: 03-14 17:28:53] {2391} INFO -  at 97.0s,\testimator lgbm's best error=0.3670,\tbest estimator lgbm's best error=0.3670\n",
      "[flaml.automl.logger: 03-14 17:28:53] {2218} INFO - iteration 573, current learner lgbm\n",
      "[flaml.automl.logger: 03-14 17:28:53] {2391} INFO -  at 97.0s,\testimator lgbm's best error=0.3670,\tbest estimator lgbm's best error=0.3670\n",
      "[flaml.automl.logger: 03-14 17:28:53] {2218} INFO - iteration 574, current learner lgbm\n",
      "[flaml.automl.logger: 03-14 17:28:53] {2391} INFO -  at 97.1s,\testimator lgbm's best error=0.3670,\tbest estimator lgbm's best error=0.3670\n",
      "[flaml.automl.logger: 03-14 17:28:53] {2218} INFO - iteration 575, current learner lgbm\n",
      "[flaml.automl.logger: 03-14 17:28:53] {2391} INFO -  at 97.3s,\testimator lgbm's best error=0.3670,\tbest estimator lgbm's best error=0.3670\n",
      "[flaml.automl.logger: 03-14 17:28:53] {2218} INFO - iteration 576, current learner lgbm\n",
      "[flaml.automl.logger: 03-14 17:28:53] {2391} INFO -  at 97.4s,\testimator lgbm's best error=0.3670,\tbest estimator lgbm's best error=0.3670\n",
      "[flaml.automl.logger: 03-14 17:28:53] {2218} INFO - iteration 577, current learner lgbm\n",
      "[flaml.automl.logger: 03-14 17:28:53] {2391} INFO -  at 97.5s,\testimator lgbm's best error=0.3670,\tbest estimator lgbm's best error=0.3670\n",
      "[flaml.automl.logger: 03-14 17:28:53] {2218} INFO - iteration 578, current learner lgbm\n",
      "[flaml.automl.logger: 03-14 17:28:53] {2391} INFO -  at 97.7s,\testimator lgbm's best error=0.3670,\tbest estimator lgbm's best error=0.3670\n",
      "[flaml.automl.logger: 03-14 17:28:53] {2218} INFO - iteration 579, current learner lgbm\n",
      "[flaml.automl.logger: 03-14 17:28:53] {2391} INFO -  at 97.7s,\testimator lgbm's best error=0.3670,\tbest estimator lgbm's best error=0.3670\n",
      "[flaml.automl.logger: 03-14 17:28:53] {2218} INFO - iteration 580, current learner lgbm\n",
      "[flaml.automl.logger: 03-14 17:28:53] {2391} INFO -  at 97.8s,\testimator lgbm's best error=0.3670,\tbest estimator lgbm's best error=0.3670\n",
      "[flaml.automl.logger: 03-14 17:28:53] {2218} INFO - iteration 581, current learner lgbm\n",
      "[flaml.automl.logger: 03-14 17:28:53] {2391} INFO -  at 97.9s,\testimator lgbm's best error=0.3670,\tbest estimator lgbm's best error=0.3670\n",
      "[flaml.automl.logger: 03-14 17:28:53] {2218} INFO - iteration 582, current learner lgbm\n",
      "[flaml.automl.logger: 03-14 17:28:54] {2391} INFO -  at 98.0s,\testimator lgbm's best error=0.3670,\tbest estimator lgbm's best error=0.3670\n",
      "[flaml.automl.logger: 03-14 17:28:54] {2218} INFO - iteration 583, current learner lgbm\n",
      "[flaml.automl.logger: 03-14 17:28:54] {2391} INFO -  at 98.1s,\testimator lgbm's best error=0.3670,\tbest estimator lgbm's best error=0.3670\n",
      "[flaml.automl.logger: 03-14 17:28:54] {2218} INFO - iteration 584, current learner lgbm\n",
      "[flaml.automl.logger: 03-14 17:28:54] {2391} INFO -  at 98.2s,\testimator lgbm's best error=0.3670,\tbest estimator lgbm's best error=0.3670\n",
      "[flaml.automl.logger: 03-14 17:28:54] {2218} INFO - iteration 585, current learner lgbm\n",
      "[flaml.automl.logger: 03-14 17:28:54] {2391} INFO -  at 98.3s,\testimator lgbm's best error=0.3670,\tbest estimator lgbm's best error=0.3670\n",
      "[flaml.automl.logger: 03-14 17:28:54] {2218} INFO - iteration 586, current learner lgbm\n",
      "[flaml.automl.logger: 03-14 17:28:54] {2391} INFO -  at 98.4s,\testimator lgbm's best error=0.3670,\tbest estimator lgbm's best error=0.3670\n",
      "[flaml.automl.logger: 03-14 17:28:54] {2218} INFO - iteration 587, current learner lgbm\n",
      "[flaml.automl.logger: 03-14 17:28:54] {2391} INFO -  at 98.5s,\testimator lgbm's best error=0.3670,\tbest estimator lgbm's best error=0.3670\n",
      "[flaml.automl.logger: 03-14 17:28:54] {2218} INFO - iteration 588, current learner lgbm\n",
      "[flaml.automl.logger: 03-14 17:28:54] {2391} INFO -  at 98.6s,\testimator lgbm's best error=0.3670,\tbest estimator lgbm's best error=0.3670\n",
      "[flaml.automl.logger: 03-14 17:28:54] {2218} INFO - iteration 589, current learner lgbm\n",
      "[flaml.automl.logger: 03-14 17:28:54] {2391} INFO -  at 98.7s,\testimator lgbm's best error=0.3670,\tbest estimator lgbm's best error=0.3670\n",
      "[flaml.automl.logger: 03-14 17:28:54] {2218} INFO - iteration 590, current learner lgbm\n",
      "[flaml.automl.logger: 03-14 17:28:54] {2391} INFO -  at 98.9s,\testimator lgbm's best error=0.3670,\tbest estimator lgbm's best error=0.3670\n",
      "[flaml.automl.logger: 03-14 17:28:54] {2218} INFO - iteration 591, current learner lgbm\n",
      "[flaml.automl.logger: 03-14 17:28:55] {2391} INFO -  at 99.0s,\testimator lgbm's best error=0.3670,\tbest estimator lgbm's best error=0.3670\n",
      "[flaml.automl.logger: 03-14 17:28:55] {2218} INFO - iteration 592, current learner lgbm\n",
      "[flaml.automl.logger: 03-14 17:28:55] {2391} INFO -  at 99.4s,\testimator lgbm's best error=0.3670,\tbest estimator lgbm's best error=0.3670\n",
      "[flaml.automl.logger: 03-14 17:28:55] {2218} INFO - iteration 593, current learner lgbm\n",
      "[flaml.automl.logger: 03-14 17:28:55] {2391} INFO -  at 99.5s,\testimator lgbm's best error=0.3670,\tbest estimator lgbm's best error=0.3670\n",
      "[flaml.automl.logger: 03-14 17:28:55] {2218} INFO - iteration 594, current learner lgbm\n",
      "[flaml.automl.logger: 03-14 17:28:55] {2391} INFO -  at 99.6s,\testimator lgbm's best error=0.3670,\tbest estimator lgbm's best error=0.3670\n",
      "[flaml.automl.logger: 03-14 17:28:55] {2218} INFO - iteration 595, current learner lgbm\n",
      "[flaml.automl.logger: 03-14 17:28:55] {2391} INFO -  at 99.7s,\testimator lgbm's best error=0.3670,\tbest estimator lgbm's best error=0.3670\n",
      "[flaml.automl.logger: 03-14 17:28:55] {2218} INFO - iteration 596, current learner lgbm\n",
      "[flaml.automl.logger: 03-14 17:28:55] {2391} INFO -  at 99.8s,\testimator lgbm's best error=0.3670,\tbest estimator lgbm's best error=0.3670\n",
      "[flaml.automl.logger: 03-14 17:28:55] {2218} INFO - iteration 597, current learner lgbm\n",
      "[flaml.automl.logger: 03-14 17:28:56] {2391} INFO -  at 99.9s,\testimator lgbm's best error=0.3670,\tbest estimator lgbm's best error=0.3670\n",
      "[flaml.automl.logger: 03-14 17:28:56] {2218} INFO - iteration 598, current learner lgbm\n",
      "[flaml.automl.logger: 03-14 17:28:56] {2391} INFO -  at 100.0s,\testimator lgbm's best error=0.3670,\tbest estimator lgbm's best error=0.3670\n",
      "[flaml.automl.logger: 03-14 17:28:56] {2218} INFO - iteration 599, current learner lgbm\n",
      "[flaml.automl.logger: 03-14 17:28:56] {2391} INFO -  at 100.1s,\testimator lgbm's best error=0.3670,\tbest estimator lgbm's best error=0.3670\n",
      "[flaml.automl.logger: 03-14 17:28:56] {2218} INFO - iteration 600, current learner lgbm\n",
      "[flaml.automl.logger: 03-14 17:28:56] {2391} INFO -  at 100.2s,\testimator lgbm's best error=0.3670,\tbest estimator lgbm's best error=0.3670\n",
      "[flaml.automl.logger: 03-14 17:28:56] {2218} INFO - iteration 601, current learner lgbm\n",
      "[flaml.automl.logger: 03-14 17:28:56] {2391} INFO -  at 100.3s,\testimator lgbm's best error=0.3670,\tbest estimator lgbm's best error=0.3670\n",
      "[flaml.automl.logger: 03-14 17:28:56] {2218} INFO - iteration 602, current learner lgbm\n",
      "[flaml.automl.logger: 03-14 17:28:56] {2391} INFO -  at 100.5s,\testimator lgbm's best error=0.3670,\tbest estimator lgbm's best error=0.3670\n",
      "[flaml.automl.logger: 03-14 17:28:56] {2218} INFO - iteration 603, current learner lgbm\n",
      "[flaml.automl.logger: 03-14 17:28:56] {2391} INFO -  at 100.6s,\testimator lgbm's best error=0.3670,\tbest estimator lgbm's best error=0.3670\n",
      "[flaml.automl.logger: 03-14 17:28:56] {2218} INFO - iteration 604, current learner lgbm\n",
      "[flaml.automl.logger: 03-14 17:28:56] {2391} INFO -  at 100.7s,\testimator lgbm's best error=0.3670,\tbest estimator lgbm's best error=0.3670\n",
      "[flaml.automl.logger: 03-14 17:28:56] {2218} INFO - iteration 605, current learner lgbm\n",
      "[flaml.automl.logger: 03-14 17:28:57] {2391} INFO -  at 101.0s,\testimator lgbm's best error=0.3670,\tbest estimator lgbm's best error=0.3670\n",
      "[flaml.automl.logger: 03-14 17:28:57] {2218} INFO - iteration 606, current learner lgbm\n",
      "[flaml.automl.logger: 03-14 17:28:57] {2391} INFO -  at 101.2s,\testimator lgbm's best error=0.3670,\tbest estimator lgbm's best error=0.3670\n",
      "[flaml.automl.logger: 03-14 17:28:57] {2218} INFO - iteration 607, current learner lgbm\n",
      "[flaml.automl.logger: 03-14 17:28:57] {2391} INFO -  at 101.5s,\testimator lgbm's best error=0.3670,\tbest estimator lgbm's best error=0.3670\n",
      "[flaml.automl.logger: 03-14 17:28:57] {2218} INFO - iteration 608, current learner lgbm\n",
      "[flaml.automl.logger: 03-14 17:28:57] {2391} INFO -  at 101.6s,\testimator lgbm's best error=0.3670,\tbest estimator lgbm's best error=0.3670\n",
      "[flaml.automl.logger: 03-14 17:28:57] {2218} INFO - iteration 609, current learner lgbm\n",
      "[flaml.automl.logger: 03-14 17:28:57] {2391} INFO -  at 101.7s,\testimator lgbm's best error=0.3670,\tbest estimator lgbm's best error=0.3670\n",
      "[flaml.automl.logger: 03-14 17:28:57] {2218} INFO - iteration 610, current learner lgbm\n",
      "[flaml.automl.logger: 03-14 17:28:57] {2391} INFO -  at 101.9s,\testimator lgbm's best error=0.3670,\tbest estimator lgbm's best error=0.3670\n",
      "[flaml.automl.logger: 03-14 17:28:57] {2218} INFO - iteration 611, current learner lgbm\n",
      "[flaml.automl.logger: 03-14 17:28:58] {2391} INFO -  at 102.0s,\testimator lgbm's best error=0.3670,\tbest estimator lgbm's best error=0.3670\n",
      "[flaml.automl.logger: 03-14 17:28:58] {2218} INFO - iteration 612, current learner lgbm\n",
      "[flaml.automl.logger: 03-14 17:28:58] {2391} INFO -  at 102.1s,\testimator lgbm's best error=0.3670,\tbest estimator lgbm's best error=0.3670\n",
      "[flaml.automl.logger: 03-14 17:28:58] {2218} INFO - iteration 613, current learner lgbm\n",
      "[flaml.automl.logger: 03-14 17:28:58] {2391} INFO -  at 102.3s,\testimator lgbm's best error=0.3670,\tbest estimator lgbm's best error=0.3670\n",
      "[flaml.automl.logger: 03-14 17:28:58] {2218} INFO - iteration 614, current learner lgbm\n",
      "[flaml.automl.logger: 03-14 17:28:58] {2391} INFO -  at 102.5s,\testimator lgbm's best error=0.3670,\tbest estimator lgbm's best error=0.3670\n",
      "[flaml.automl.logger: 03-14 17:28:58] {2218} INFO - iteration 615, current learner lgbm\n",
      "[flaml.automl.logger: 03-14 17:28:58] {2391} INFO -  at 102.7s,\testimator lgbm's best error=0.3670,\tbest estimator lgbm's best error=0.3670\n",
      "[flaml.automl.logger: 03-14 17:28:58] {2218} INFO - iteration 616, current learner lgbm\n",
      "[flaml.automl.logger: 03-14 17:28:58] {2391} INFO -  at 102.9s,\testimator lgbm's best error=0.3670,\tbest estimator lgbm's best error=0.3670\n",
      "[flaml.automl.logger: 03-14 17:28:58] {2218} INFO - iteration 617, current learner lgbm\n",
      "[flaml.automl.logger: 03-14 17:28:59] {2391} INFO -  at 103.0s,\testimator lgbm's best error=0.3670,\tbest estimator lgbm's best error=0.3670\n",
      "[flaml.automl.logger: 03-14 17:28:59] {2218} INFO - iteration 618, current learner lgbm\n",
      "[flaml.automl.logger: 03-14 17:28:59] {2391} INFO -  at 103.1s,\testimator lgbm's best error=0.3670,\tbest estimator lgbm's best error=0.3670\n",
      "[flaml.automl.logger: 03-14 17:28:59] {2218} INFO - iteration 619, current learner lgbm\n",
      "[flaml.automl.logger: 03-14 17:29:00] {2391} INFO -  at 104.2s,\testimator lgbm's best error=0.3670,\tbest estimator lgbm's best error=0.3670\n",
      "[flaml.automl.logger: 03-14 17:29:00] {2218} INFO - iteration 620, current learner lgbm\n",
      "[flaml.automl.logger: 03-14 17:29:00] {2391} INFO -  at 104.4s,\testimator lgbm's best error=0.3670,\tbest estimator lgbm's best error=0.3670\n",
      "[flaml.automl.logger: 03-14 17:29:00] {2218} INFO - iteration 621, current learner lgbm\n",
      "[flaml.automl.logger: 03-14 17:29:00] {2391} INFO -  at 104.5s,\testimator lgbm's best error=0.3670,\tbest estimator lgbm's best error=0.3670\n",
      "[flaml.automl.logger: 03-14 17:29:00] {2218} INFO - iteration 622, current learner lgbm\n",
      "[flaml.automl.logger: 03-14 17:29:00] {2391} INFO -  at 104.7s,\testimator lgbm's best error=0.3670,\tbest estimator lgbm's best error=0.3670\n",
      "[flaml.automl.logger: 03-14 17:29:00] {2218} INFO - iteration 623, current learner lgbm\n",
      "[flaml.automl.logger: 03-14 17:29:00] {2391} INFO -  at 104.9s,\testimator lgbm's best error=0.3670,\tbest estimator lgbm's best error=0.3670\n",
      "[flaml.automl.logger: 03-14 17:29:00] {2218} INFO - iteration 624, current learner lgbm\n",
      "[flaml.automl.logger: 03-14 17:29:01] {2391} INFO -  at 105.0s,\testimator lgbm's best error=0.3670,\tbest estimator lgbm's best error=0.3670\n",
      "[flaml.automl.logger: 03-14 17:29:01] {2218} INFO - iteration 625, current learner lgbm\n",
      "[flaml.automl.logger: 03-14 17:29:01] {2391} INFO -  at 105.2s,\testimator lgbm's best error=0.3670,\tbest estimator lgbm's best error=0.3670\n",
      "[flaml.automl.logger: 03-14 17:29:01] {2218} INFO - iteration 626, current learner lgbm\n",
      "[flaml.automl.logger: 03-14 17:29:01] {2391} INFO -  at 105.4s,\testimator lgbm's best error=0.3670,\tbest estimator lgbm's best error=0.3670\n",
      "[flaml.automl.logger: 03-14 17:29:01] {2218} INFO - iteration 627, current learner lgbm\n",
      "[flaml.automl.logger: 03-14 17:29:01] {2391} INFO -  at 105.5s,\testimator lgbm's best error=0.3670,\tbest estimator lgbm's best error=0.3670\n",
      "[flaml.automl.logger: 03-14 17:29:01] {2218} INFO - iteration 628, current learner lgbm\n",
      "[flaml.automl.logger: 03-14 17:29:01] {2391} INFO -  at 105.7s,\testimator lgbm's best error=0.3670,\tbest estimator lgbm's best error=0.3670\n",
      "[flaml.automl.logger: 03-14 17:29:01] {2218} INFO - iteration 629, current learner lgbm\n",
      "[flaml.automl.logger: 03-14 17:29:01] {2391} INFO -  at 105.8s,\testimator lgbm's best error=0.3670,\tbest estimator lgbm's best error=0.3670\n",
      "[flaml.automl.logger: 03-14 17:29:01] {2218} INFO - iteration 630, current learner lgbm\n",
      "[flaml.automl.logger: 03-14 17:29:02] {2391} INFO -  at 105.9s,\testimator lgbm's best error=0.3670,\tbest estimator lgbm's best error=0.3670\n",
      "[flaml.automl.logger: 03-14 17:29:02] {2218} INFO - iteration 631, current learner lgbm\n",
      "[flaml.automl.logger: 03-14 17:29:02] {2391} INFO -  at 106.2s,\testimator lgbm's best error=0.3670,\tbest estimator lgbm's best error=0.3670\n",
      "[flaml.automl.logger: 03-14 17:29:02] {2218} INFO - iteration 632, current learner lgbm\n",
      "[flaml.automl.logger: 03-14 17:29:02] {2391} INFO -  at 106.2s,\testimator lgbm's best error=0.3670,\tbest estimator lgbm's best error=0.3670\n",
      "[flaml.automl.logger: 03-14 17:29:02] {2218} INFO - iteration 633, current learner lgbm\n",
      "[flaml.automl.logger: 03-14 17:29:02] {2391} INFO -  at 106.4s,\testimator lgbm's best error=0.3670,\tbest estimator lgbm's best error=0.3670\n",
      "[flaml.automl.logger: 03-14 17:29:02] {2218} INFO - iteration 634, current learner lgbm\n",
      "[flaml.automl.logger: 03-14 17:29:02] {2391} INFO -  at 106.5s,\testimator lgbm's best error=0.3670,\tbest estimator lgbm's best error=0.3670\n",
      "[flaml.automl.logger: 03-14 17:29:02] {2218} INFO - iteration 635, current learner lgbm\n",
      "[flaml.automl.logger: 03-14 17:29:02] {2391} INFO -  at 106.7s,\testimator lgbm's best error=0.3670,\tbest estimator lgbm's best error=0.3670\n",
      "[flaml.automl.logger: 03-14 17:29:02] {2218} INFO - iteration 636, current learner lgbm\n",
      "[flaml.automl.logger: 03-14 17:29:02] {2391} INFO -  at 106.8s,\testimator lgbm's best error=0.3670,\tbest estimator lgbm's best error=0.3670\n",
      "[flaml.automl.logger: 03-14 17:29:02] {2218} INFO - iteration 637, current learner lgbm\n",
      "[flaml.automl.logger: 03-14 17:29:03] {2391} INFO -  at 106.9s,\testimator lgbm's best error=0.3670,\tbest estimator lgbm's best error=0.3670\n",
      "[flaml.automl.logger: 03-14 17:29:03] {2218} INFO - iteration 638, current learner lgbm\n",
      "[flaml.automl.logger: 03-14 17:29:03] {2391} INFO -  at 107.1s,\testimator lgbm's best error=0.3670,\tbest estimator lgbm's best error=0.3670\n",
      "[flaml.automl.logger: 03-14 17:29:03] {2218} INFO - iteration 639, current learner lgbm\n",
      "[flaml.automl.logger: 03-14 17:29:03] {2391} INFO -  at 107.2s,\testimator lgbm's best error=0.3670,\tbest estimator lgbm's best error=0.3670\n",
      "[flaml.automl.logger: 03-14 17:29:03] {2218} INFO - iteration 640, current learner lgbm\n",
      "[flaml.automl.logger: 03-14 17:29:03] {2391} INFO -  at 107.2s,\testimator lgbm's best error=0.3670,\tbest estimator lgbm's best error=0.3670\n",
      "[flaml.automl.logger: 03-14 17:29:03] {2218} INFO - iteration 641, current learner lgbm\n",
      "[flaml.automl.logger: 03-14 17:29:03] {2391} INFO -  at 107.3s,\testimator lgbm's best error=0.3670,\tbest estimator lgbm's best error=0.3670\n",
      "[flaml.automl.logger: 03-14 17:29:03] {2218} INFO - iteration 642, current learner lgbm\n",
      "[flaml.automl.logger: 03-14 17:29:03] {2391} INFO -  at 107.6s,\testimator lgbm's best error=0.3670,\tbest estimator lgbm's best error=0.3670\n",
      "[flaml.automl.logger: 03-14 17:29:03] {2218} INFO - iteration 643, current learner lgbm\n",
      "[flaml.automl.logger: 03-14 17:29:03] {2391} INFO -  at 107.6s,\testimator lgbm's best error=0.3670,\tbest estimator lgbm's best error=0.3670\n",
      "[flaml.automl.logger: 03-14 17:29:03] {2218} INFO - iteration 644, current learner lgbm\n",
      "[flaml.automl.logger: 03-14 17:29:03] {2391} INFO -  at 107.8s,\testimator lgbm's best error=0.3670,\tbest estimator lgbm's best error=0.3670\n",
      "[flaml.automl.logger: 03-14 17:29:03] {2218} INFO - iteration 645, current learner lgbm\n",
      "[flaml.automl.logger: 03-14 17:29:03] {2391} INFO -  at 107.9s,\testimator lgbm's best error=0.3670,\tbest estimator lgbm's best error=0.3670\n",
      "[flaml.automl.logger: 03-14 17:29:03] {2218} INFO - iteration 646, current learner lgbm\n",
      "[flaml.automl.logger: 03-14 17:29:04] {2391} INFO -  at 108.0s,\testimator lgbm's best error=0.3670,\tbest estimator lgbm's best error=0.3670\n",
      "[flaml.automl.logger: 03-14 17:29:04] {2218} INFO - iteration 647, current learner lgbm\n",
      "[flaml.automl.logger: 03-14 17:29:04] {2391} INFO -  at 108.1s,\testimator lgbm's best error=0.3670,\tbest estimator lgbm's best error=0.3670\n",
      "[flaml.automl.logger: 03-14 17:29:04] {2218} INFO - iteration 648, current learner lgbm\n",
      "[flaml.automl.logger: 03-14 17:29:04] {2391} INFO -  at 108.2s,\testimator lgbm's best error=0.3670,\tbest estimator lgbm's best error=0.3670\n",
      "[flaml.automl.logger: 03-14 17:29:04] {2218} INFO - iteration 649, current learner lgbm\n",
      "[flaml.automl.logger: 03-14 17:29:04] {2391} INFO -  at 108.3s,\testimator lgbm's best error=0.3670,\tbest estimator lgbm's best error=0.3670\n",
      "[flaml.automl.logger: 03-14 17:29:04] {2218} INFO - iteration 650, current learner lgbm\n",
      "[flaml.automl.logger: 03-14 17:29:04] {2391} INFO -  at 108.4s,\testimator lgbm's best error=0.3670,\tbest estimator lgbm's best error=0.3670\n",
      "[flaml.automl.logger: 03-14 17:29:04] {2218} INFO - iteration 651, current learner lgbm\n",
      "[flaml.automl.logger: 03-14 17:29:04] {2391} INFO -  at 108.5s,\testimator lgbm's best error=0.3670,\tbest estimator lgbm's best error=0.3670\n",
      "[flaml.automl.logger: 03-14 17:29:04] {2218} INFO - iteration 652, current learner lgbm\n",
      "[flaml.automl.logger: 03-14 17:29:04] {2391} INFO -  at 108.6s,\testimator lgbm's best error=0.3670,\tbest estimator lgbm's best error=0.3670\n",
      "[flaml.automl.logger: 03-14 17:29:04] {2218} INFO - iteration 653, current learner lgbm\n",
      "[flaml.automl.logger: 03-14 17:29:04] {2391} INFO -  at 108.7s,\testimator lgbm's best error=0.3670,\tbest estimator lgbm's best error=0.3670\n",
      "[flaml.automl.logger: 03-14 17:29:04] {2218} INFO - iteration 654, current learner lgbm\n",
      "[flaml.automl.logger: 03-14 17:29:04] {2391} INFO -  at 108.8s,\testimator lgbm's best error=0.3670,\tbest estimator lgbm's best error=0.3670\n",
      "[flaml.automl.logger: 03-14 17:29:04] {2218} INFO - iteration 655, current learner lgbm\n",
      "[flaml.automl.logger: 03-14 17:29:04] {2391} INFO -  at 108.9s,\testimator lgbm's best error=0.3670,\tbest estimator lgbm's best error=0.3670\n",
      "[flaml.automl.logger: 03-14 17:29:04] {2218} INFO - iteration 656, current learner lgbm\n",
      "[flaml.automl.logger: 03-14 17:29:05] {2391} INFO -  at 109.0s,\testimator lgbm's best error=0.3670,\tbest estimator lgbm's best error=0.3670\n",
      "[flaml.automl.logger: 03-14 17:29:05] {2218} INFO - iteration 657, current learner lgbm\n",
      "[flaml.automl.logger: 03-14 17:29:05] {2391} INFO -  at 109.1s,\testimator lgbm's best error=0.3670,\tbest estimator lgbm's best error=0.3670\n",
      "[flaml.automl.logger: 03-14 17:29:05] {2218} INFO - iteration 658, current learner lgbm\n",
      "[flaml.automl.logger: 03-14 17:29:05] {2391} INFO -  at 109.2s,\testimator lgbm's best error=0.3670,\tbest estimator lgbm's best error=0.3670\n",
      "[flaml.automl.logger: 03-14 17:29:05] {2218} INFO - iteration 659, current learner lgbm\n",
      "[flaml.automl.logger: 03-14 17:29:05] {2391} INFO -  at 109.4s,\testimator lgbm's best error=0.3670,\tbest estimator lgbm's best error=0.3670\n",
      "[flaml.automl.logger: 03-14 17:29:05] {2218} INFO - iteration 660, current learner lgbm\n",
      "[flaml.automl.logger: 03-14 17:29:05] {2391} INFO -  at 109.4s,\testimator lgbm's best error=0.3670,\tbest estimator lgbm's best error=0.3670\n",
      "[flaml.automl.logger: 03-14 17:29:05] {2218} INFO - iteration 661, current learner lgbm\n",
      "[flaml.automl.logger: 03-14 17:29:05] {2391} INFO -  at 109.6s,\testimator lgbm's best error=0.3670,\tbest estimator lgbm's best error=0.3670\n",
      "[flaml.automl.logger: 03-14 17:29:05] {2218} INFO - iteration 662, current learner lgbm\n",
      "[flaml.automl.logger: 03-14 17:29:05] {2391} INFO -  at 109.7s,\testimator lgbm's best error=0.3670,\tbest estimator lgbm's best error=0.3670\n",
      "[flaml.automl.logger: 03-14 17:29:05] {2218} INFO - iteration 663, current learner lgbm\n",
      "[flaml.automl.logger: 03-14 17:29:05] {2391} INFO -  at 109.7s,\testimator lgbm's best error=0.3670,\tbest estimator lgbm's best error=0.3670\n",
      "[flaml.automl.logger: 03-14 17:29:05] {2218} INFO - iteration 664, current learner lgbm\n",
      "[flaml.automl.logger: 03-14 17:29:05] {2391} INFO -  at 109.8s,\testimator lgbm's best error=0.3670,\tbest estimator lgbm's best error=0.3670\n",
      "[flaml.automl.logger: 03-14 17:29:05] {2218} INFO - iteration 665, current learner lgbm\n",
      "[flaml.automl.logger: 03-14 17:29:06] {2391} INFO -  at 109.9s,\testimator lgbm's best error=0.3670,\tbest estimator lgbm's best error=0.3670\n",
      "[flaml.automl.logger: 03-14 17:29:06] {2218} INFO - iteration 666, current learner lgbm\n",
      "[flaml.automl.logger: 03-14 17:29:06] {2391} INFO -  at 110.0s,\testimator lgbm's best error=0.3670,\tbest estimator lgbm's best error=0.3670\n",
      "[flaml.automl.logger: 03-14 17:29:06] {2218} INFO - iteration 667, current learner lgbm\n",
      "[flaml.automl.logger: 03-14 17:29:06] {2391} INFO -  at 110.1s,\testimator lgbm's best error=0.3670,\tbest estimator lgbm's best error=0.3670\n",
      "[flaml.automl.logger: 03-14 17:29:06] {2218} INFO - iteration 668, current learner lgbm\n",
      "[flaml.automl.logger: 03-14 17:29:06] {2391} INFO -  at 110.2s,\testimator lgbm's best error=0.3670,\tbest estimator lgbm's best error=0.3670\n",
      "[flaml.automl.logger: 03-14 17:29:06] {2218} INFO - iteration 669, current learner lgbm\n",
      "[flaml.automl.logger: 03-14 17:29:06] {2391} INFO -  at 110.3s,\testimator lgbm's best error=0.3670,\tbest estimator lgbm's best error=0.3670\n",
      "[flaml.automl.logger: 03-14 17:29:06] {2218} INFO - iteration 670, current learner lgbm\n",
      "[flaml.automl.logger: 03-14 17:29:06] {2391} INFO -  at 110.4s,\testimator lgbm's best error=0.3670,\tbest estimator lgbm's best error=0.3670\n",
      "[flaml.automl.logger: 03-14 17:29:06] {2218} INFO - iteration 671, current learner lgbm\n",
      "[flaml.automl.logger: 03-14 17:29:06] {2391} INFO -  at 110.6s,\testimator lgbm's best error=0.3670,\tbest estimator lgbm's best error=0.3670\n",
      "[flaml.automl.logger: 03-14 17:29:06] {2218} INFO - iteration 672, current learner lgbm\n",
      "[flaml.automl.logger: 03-14 17:29:06] {2391} INFO -  at 110.7s,\testimator lgbm's best error=0.3670,\tbest estimator lgbm's best error=0.3670\n",
      "[flaml.automl.logger: 03-14 17:29:06] {2218} INFO - iteration 673, current learner lgbm\n",
      "[flaml.automl.logger: 03-14 17:29:06] {2391} INFO -  at 110.8s,\testimator lgbm's best error=0.3670,\tbest estimator lgbm's best error=0.3670\n",
      "[flaml.automl.logger: 03-14 17:29:06] {2218} INFO - iteration 674, current learner lgbm\n",
      "[flaml.automl.logger: 03-14 17:29:06] {2391} INFO -  at 110.9s,\testimator lgbm's best error=0.3670,\tbest estimator lgbm's best error=0.3670\n",
      "[flaml.automl.logger: 03-14 17:29:06] {2218} INFO - iteration 675, current learner lgbm\n",
      "[flaml.automl.logger: 03-14 17:29:07] {2391} INFO -  at 111.0s,\testimator lgbm's best error=0.3670,\tbest estimator lgbm's best error=0.3670\n",
      "[flaml.automl.logger: 03-14 17:29:07] {2218} INFO - iteration 676, current learner lgbm\n",
      "[flaml.automl.logger: 03-14 17:29:07] {2391} INFO -  at 111.0s,\testimator lgbm's best error=0.3670,\tbest estimator lgbm's best error=0.3670\n",
      "[flaml.automl.logger: 03-14 17:29:07] {2218} INFO - iteration 677, current learner lgbm\n",
      "[flaml.automl.logger: 03-14 17:29:07] {2391} INFO -  at 111.2s,\testimator lgbm's best error=0.3670,\tbest estimator lgbm's best error=0.3670\n",
      "[flaml.automl.logger: 03-14 17:29:07] {2218} INFO - iteration 678, current learner lgbm\n",
      "[flaml.automl.logger: 03-14 17:29:07] {2391} INFO -  at 111.4s,\testimator lgbm's best error=0.3670,\tbest estimator lgbm's best error=0.3670\n",
      "[flaml.automl.logger: 03-14 17:29:07] {2218} INFO - iteration 679, current learner lgbm\n",
      "[flaml.automl.logger: 03-14 17:29:07] {2391} INFO -  at 111.6s,\testimator lgbm's best error=0.3670,\tbest estimator lgbm's best error=0.3670\n",
      "[flaml.automl.logger: 03-14 17:29:07] {2218} INFO - iteration 680, current learner lgbm\n",
      "[flaml.automl.logger: 03-14 17:29:07] {2391} INFO -  at 111.8s,\testimator lgbm's best error=0.3670,\tbest estimator lgbm's best error=0.3670\n",
      "[flaml.automl.logger: 03-14 17:29:07] {2218} INFO - iteration 681, current learner lgbm\n",
      "[flaml.automl.logger: 03-14 17:29:08] {2391} INFO -  at 111.9s,\testimator lgbm's best error=0.3670,\tbest estimator lgbm's best error=0.3670\n",
      "[flaml.automl.logger: 03-14 17:29:08] {2218} INFO - iteration 682, current learner lgbm\n",
      "[flaml.automl.logger: 03-14 17:29:08] {2391} INFO -  at 112.0s,\testimator lgbm's best error=0.3670,\tbest estimator lgbm's best error=0.3670\n",
      "[flaml.automl.logger: 03-14 17:29:08] {2218} INFO - iteration 683, current learner lgbm\n",
      "[flaml.automl.logger: 03-14 17:29:08] {2391} INFO -  at 112.2s,\testimator lgbm's best error=0.3670,\tbest estimator lgbm's best error=0.3670\n",
      "[flaml.automl.logger: 03-14 17:29:08] {2218} INFO - iteration 684, current learner lgbm\n",
      "[flaml.automl.logger: 03-14 17:29:08] {2391} INFO -  at 112.3s,\testimator lgbm's best error=0.3670,\tbest estimator lgbm's best error=0.3670\n",
      "[flaml.automl.logger: 03-14 17:29:08] {2218} INFO - iteration 685, current learner lgbm\n",
      "[flaml.automl.logger: 03-14 17:29:08] {2391} INFO -  at 112.4s,\testimator lgbm's best error=0.3670,\tbest estimator lgbm's best error=0.3670\n",
      "[flaml.automl.logger: 03-14 17:29:08] {2218} INFO - iteration 686, current learner lgbm\n",
      "[flaml.automl.logger: 03-14 17:29:08] {2391} INFO -  at 112.5s,\testimator lgbm's best error=0.3670,\tbest estimator lgbm's best error=0.3670\n",
      "[flaml.automl.logger: 03-14 17:29:08] {2218} INFO - iteration 687, current learner lgbm\n",
      "[flaml.automl.logger: 03-14 17:29:08] {2391} INFO -  at 112.6s,\testimator lgbm's best error=0.3670,\tbest estimator lgbm's best error=0.3670\n",
      "[flaml.automl.logger: 03-14 17:29:08] {2218} INFO - iteration 688, current learner lgbm\n",
      "[flaml.automl.logger: 03-14 17:29:08] {2391} INFO -  at 112.7s,\testimator lgbm's best error=0.3670,\tbest estimator lgbm's best error=0.3670\n",
      "[flaml.automl.logger: 03-14 17:29:08] {2218} INFO - iteration 689, current learner lgbm\n",
      "[flaml.automl.logger: 03-14 17:29:08] {2391} INFO -  at 112.8s,\testimator lgbm's best error=0.3670,\tbest estimator lgbm's best error=0.3670\n",
      "[flaml.automl.logger: 03-14 17:29:08] {2218} INFO - iteration 690, current learner lgbm\n",
      "[flaml.automl.logger: 03-14 17:29:08] {2391} INFO -  at 112.9s,\testimator lgbm's best error=0.3670,\tbest estimator lgbm's best error=0.3670\n",
      "[flaml.automl.logger: 03-14 17:29:08] {2218} INFO - iteration 691, current learner lgbm\n",
      "[flaml.automl.logger: 03-14 17:29:09] {2391} INFO -  at 113.0s,\testimator lgbm's best error=0.3670,\tbest estimator lgbm's best error=0.3670\n",
      "[flaml.automl.logger: 03-14 17:29:09] {2218} INFO - iteration 692, current learner lgbm\n",
      "[flaml.automl.logger: 03-14 17:29:09] {2391} INFO -  at 113.1s,\testimator lgbm's best error=0.3670,\tbest estimator lgbm's best error=0.3670\n",
      "[flaml.automl.logger: 03-14 17:29:09] {2218} INFO - iteration 693, current learner lgbm\n",
      "[flaml.automl.logger: 03-14 17:29:09] {2391} INFO -  at 113.2s,\testimator lgbm's best error=0.3670,\tbest estimator lgbm's best error=0.3670\n",
      "[flaml.automl.logger: 03-14 17:29:09] {2218} INFO - iteration 694, current learner lgbm\n",
      "[flaml.automl.logger: 03-14 17:29:09] {2391} INFO -  at 113.3s,\testimator lgbm's best error=0.3670,\tbest estimator lgbm's best error=0.3670\n",
      "[flaml.automl.logger: 03-14 17:29:09] {2218} INFO - iteration 695, current learner lgbm\n",
      "[flaml.automl.logger: 03-14 17:29:09] {2391} INFO -  at 113.4s,\testimator lgbm's best error=0.3670,\tbest estimator lgbm's best error=0.3670\n",
      "[flaml.automl.logger: 03-14 17:29:09] {2218} INFO - iteration 696, current learner lgbm\n",
      "[flaml.automl.logger: 03-14 17:29:09] {2391} INFO -  at 113.5s,\testimator lgbm's best error=0.3670,\tbest estimator lgbm's best error=0.3670\n",
      "[flaml.automl.logger: 03-14 17:29:09] {2218} INFO - iteration 697, current learner lgbm\n",
      "[flaml.automl.logger: 03-14 17:29:09] {2391} INFO -  at 113.6s,\testimator lgbm's best error=0.3670,\tbest estimator lgbm's best error=0.3670\n",
      "[flaml.automl.logger: 03-14 17:29:09] {2218} INFO - iteration 698, current learner lgbm\n",
      "[flaml.automl.logger: 03-14 17:29:09] {2391} INFO -  at 113.7s,\testimator lgbm's best error=0.3670,\tbest estimator lgbm's best error=0.3670\n",
      "[flaml.automl.logger: 03-14 17:29:09] {2218} INFO - iteration 699, current learner lgbm\n",
      "[flaml.automl.logger: 03-14 17:29:09] {2391} INFO -  at 113.8s,\testimator lgbm's best error=0.3670,\tbest estimator lgbm's best error=0.3670\n",
      "[flaml.automl.logger: 03-14 17:29:09] {2218} INFO - iteration 700, current learner lgbm\n",
      "[flaml.automl.logger: 03-14 17:29:09] {2391} INFO -  at 113.9s,\testimator lgbm's best error=0.3670,\tbest estimator lgbm's best error=0.3670\n",
      "[flaml.automl.logger: 03-14 17:29:09] {2218} INFO - iteration 701, current learner lgbm\n",
      "[flaml.automl.logger: 03-14 17:29:10] {2391} INFO -  at 114.1s,\testimator lgbm's best error=0.3670,\tbest estimator lgbm's best error=0.3670\n",
      "[flaml.automl.logger: 03-14 17:29:10] {2218} INFO - iteration 702, current learner lgbm\n",
      "[flaml.automl.logger: 03-14 17:29:10] {2391} INFO -  at 114.2s,\testimator lgbm's best error=0.3670,\tbest estimator lgbm's best error=0.3670\n",
      "[flaml.automl.logger: 03-14 17:29:10] {2218} INFO - iteration 703, current learner lgbm\n",
      "[flaml.automl.logger: 03-14 17:29:10] {2391} INFO -  at 114.3s,\testimator lgbm's best error=0.3670,\tbest estimator lgbm's best error=0.3670\n",
      "[flaml.automl.logger: 03-14 17:29:10] {2218} INFO - iteration 704, current learner lgbm\n",
      "[flaml.automl.logger: 03-14 17:29:10] {2391} INFO -  at 114.3s,\testimator lgbm's best error=0.3670,\tbest estimator lgbm's best error=0.3670\n",
      "[flaml.automl.logger: 03-14 17:29:10] {2218} INFO - iteration 705, current learner lgbm\n",
      "[flaml.automl.logger: 03-14 17:29:10] {2391} INFO -  at 114.5s,\testimator lgbm's best error=0.3670,\tbest estimator lgbm's best error=0.3670\n",
      "[flaml.automl.logger: 03-14 17:29:10] {2218} INFO - iteration 706, current learner lgbm\n",
      "[flaml.automl.logger: 03-14 17:29:10] {2391} INFO -  at 114.6s,\testimator lgbm's best error=0.3670,\tbest estimator lgbm's best error=0.3670\n",
      "[flaml.automl.logger: 03-14 17:29:10] {2218} INFO - iteration 707, current learner lgbm\n",
      "[flaml.automl.logger: 03-14 17:29:10] {2391} INFO -  at 114.7s,\testimator lgbm's best error=0.3670,\tbest estimator lgbm's best error=0.3670\n",
      "[flaml.automl.logger: 03-14 17:29:10] {2218} INFO - iteration 708, current learner lgbm\n",
      "[flaml.automl.logger: 03-14 17:29:10] {2391} INFO -  at 114.8s,\testimator lgbm's best error=0.3670,\tbest estimator lgbm's best error=0.3670\n",
      "[flaml.automl.logger: 03-14 17:29:10] {2218} INFO - iteration 709, current learner lgbm\n",
      "[flaml.automl.logger: 03-14 17:29:11] {2391} INFO -  at 114.9s,\testimator lgbm's best error=0.3670,\tbest estimator lgbm's best error=0.3670\n",
      "[flaml.automl.logger: 03-14 17:29:11] {2218} INFO - iteration 710, current learner lgbm\n",
      "[flaml.automl.logger: 03-14 17:29:11] {2391} INFO -  at 115.1s,\testimator lgbm's best error=0.3670,\tbest estimator lgbm's best error=0.3670\n",
      "[flaml.automl.logger: 03-14 17:29:11] {2218} INFO - iteration 711, current learner lgbm\n",
      "[flaml.automl.logger: 03-14 17:29:11] {2391} INFO -  at 115.1s,\testimator lgbm's best error=0.3670,\tbest estimator lgbm's best error=0.3670\n",
      "[flaml.automl.logger: 03-14 17:29:11] {2218} INFO - iteration 712, current learner lgbm\n",
      "[flaml.automl.logger: 03-14 17:29:11] {2391} INFO -  at 115.4s,\testimator lgbm's best error=0.3670,\tbest estimator lgbm's best error=0.3670\n",
      "[flaml.automl.logger: 03-14 17:29:11] {2218} INFO - iteration 713, current learner lgbm\n",
      "[flaml.automl.logger: 03-14 17:29:11] {2391} INFO -  at 115.5s,\testimator lgbm's best error=0.3670,\tbest estimator lgbm's best error=0.3670\n",
      "[flaml.automl.logger: 03-14 17:29:11] {2218} INFO - iteration 714, current learner lgbm\n",
      "[flaml.automl.logger: 03-14 17:29:11] {2391} INFO -  at 115.7s,\testimator lgbm's best error=0.3670,\tbest estimator lgbm's best error=0.3670\n",
      "[flaml.automl.logger: 03-14 17:29:11] {2218} INFO - iteration 715, current learner lgbm\n",
      "[flaml.automl.logger: 03-14 17:29:11] {2391} INFO -  at 115.8s,\testimator lgbm's best error=0.3670,\tbest estimator lgbm's best error=0.3670\n",
      "[flaml.automl.logger: 03-14 17:29:11] {2218} INFO - iteration 716, current learner lgbm\n",
      "[flaml.automl.logger: 03-14 17:29:11] {2391} INFO -  at 115.9s,\testimator lgbm's best error=0.3670,\tbest estimator lgbm's best error=0.3670\n",
      "[flaml.automl.logger: 03-14 17:29:11] {2218} INFO - iteration 717, current learner lgbm\n",
      "[flaml.automl.logger: 03-14 17:29:12] {2391} INFO -  at 116.0s,\testimator lgbm's best error=0.3670,\tbest estimator lgbm's best error=0.3670\n",
      "[flaml.automl.logger: 03-14 17:29:12] {2218} INFO - iteration 718, current learner lgbm\n",
      "[flaml.automl.logger: 03-14 17:29:12] {2391} INFO -  at 116.1s,\testimator lgbm's best error=0.3670,\tbest estimator lgbm's best error=0.3670\n",
      "[flaml.automl.logger: 03-14 17:29:12] {2218} INFO - iteration 719, current learner lgbm\n",
      "[flaml.automl.logger: 03-14 17:29:12] {2391} INFO -  at 116.2s,\testimator lgbm's best error=0.3670,\tbest estimator lgbm's best error=0.3670\n",
      "[flaml.automl.logger: 03-14 17:29:12] {2218} INFO - iteration 720, current learner lgbm\n",
      "[flaml.automl.logger: 03-14 17:29:12] {2391} INFO -  at 116.4s,\testimator lgbm's best error=0.3670,\tbest estimator lgbm's best error=0.3670\n",
      "[flaml.automl.logger: 03-14 17:29:12] {2218} INFO - iteration 721, current learner lgbm\n",
      "[flaml.automl.logger: 03-14 17:29:12] {2391} INFO -  at 116.5s,\testimator lgbm's best error=0.3670,\tbest estimator lgbm's best error=0.3670\n",
      "[flaml.automl.logger: 03-14 17:29:12] {2218} INFO - iteration 722, current learner lgbm\n",
      "[flaml.automl.logger: 03-14 17:29:12] {2391} INFO -  at 116.6s,\testimator lgbm's best error=0.3670,\tbest estimator lgbm's best error=0.3670\n",
      "[flaml.automl.logger: 03-14 17:29:12] {2218} INFO - iteration 723, current learner lgbm\n",
      "[flaml.automl.logger: 03-14 17:29:12] {2391} INFO -  at 116.7s,\testimator lgbm's best error=0.3670,\tbest estimator lgbm's best error=0.3670\n",
      "[flaml.automl.logger: 03-14 17:29:12] {2218} INFO - iteration 724, current learner lgbm\n",
      "[flaml.automl.logger: 03-14 17:29:12] {2391} INFO -  at 116.8s,\testimator lgbm's best error=0.3670,\tbest estimator lgbm's best error=0.3670\n",
      "[flaml.automl.logger: 03-14 17:29:12] {2218} INFO - iteration 725, current learner lgbm\n",
      "[flaml.automl.logger: 03-14 17:29:13] {2391} INFO -  at 116.9s,\testimator lgbm's best error=0.3670,\tbest estimator lgbm's best error=0.3670\n",
      "[flaml.automl.logger: 03-14 17:29:13] {2218} INFO - iteration 726, current learner lgbm\n",
      "[flaml.automl.logger: 03-14 17:29:13] {2391} INFO -  at 117.1s,\testimator lgbm's best error=0.3670,\tbest estimator lgbm's best error=0.3670\n",
      "[flaml.automl.logger: 03-14 17:29:13] {2218} INFO - iteration 727, current learner lgbm\n",
      "[flaml.automl.logger: 03-14 17:29:13] {2391} INFO -  at 117.2s,\testimator lgbm's best error=0.3670,\tbest estimator lgbm's best error=0.3670\n",
      "[flaml.automl.logger: 03-14 17:29:13] {2218} INFO - iteration 728, current learner lgbm\n",
      "[flaml.automl.logger: 03-14 17:29:13] {2391} INFO -  at 117.3s,\testimator lgbm's best error=0.3670,\tbest estimator lgbm's best error=0.3670\n",
      "[flaml.automl.logger: 03-14 17:29:13] {2218} INFO - iteration 729, current learner lgbm\n",
      "[flaml.automl.logger: 03-14 17:29:13] {2391} INFO -  at 117.4s,\testimator lgbm's best error=0.3670,\tbest estimator lgbm's best error=0.3670\n",
      "[flaml.automl.logger: 03-14 17:29:13] {2218} INFO - iteration 730, current learner lgbm\n",
      "[flaml.automl.logger: 03-14 17:29:13] {2391} INFO -  at 117.5s,\testimator lgbm's best error=0.3670,\tbest estimator lgbm's best error=0.3670\n",
      "[flaml.automl.logger: 03-14 17:29:13] {2218} INFO - iteration 731, current learner lgbm\n",
      "[flaml.automl.logger: 03-14 17:29:13] {2391} INFO -  at 117.6s,\testimator lgbm's best error=0.3670,\tbest estimator lgbm's best error=0.3670\n",
      "[flaml.automl.logger: 03-14 17:29:13] {2218} INFO - iteration 732, current learner lgbm\n",
      "[flaml.automl.logger: 03-14 17:29:13] {2391} INFO -  at 117.7s,\testimator lgbm's best error=0.3670,\tbest estimator lgbm's best error=0.3670\n",
      "[flaml.automl.logger: 03-14 17:29:13] {2218} INFO - iteration 733, current learner lgbm\n",
      "[flaml.automl.logger: 03-14 17:29:13] {2391} INFO -  at 117.8s,\testimator lgbm's best error=0.3670,\tbest estimator lgbm's best error=0.3670\n",
      "[flaml.automl.logger: 03-14 17:29:13] {2218} INFO - iteration 734, current learner lgbm\n",
      "[flaml.automl.logger: 03-14 17:29:14] {2391} INFO -  at 118.0s,\testimator lgbm's best error=0.3670,\tbest estimator lgbm's best error=0.3670\n",
      "[flaml.automl.logger: 03-14 17:29:14] {2218} INFO - iteration 735, current learner lgbm\n",
      "[flaml.automl.logger: 03-14 17:29:14] {2391} INFO -  at 118.1s,\testimator lgbm's best error=0.3670,\tbest estimator lgbm's best error=0.3670\n",
      "[flaml.automl.logger: 03-14 17:29:14] {2218} INFO - iteration 736, current learner lgbm\n",
      "[flaml.automl.logger: 03-14 17:29:14] {2391} INFO -  at 118.2s,\testimator lgbm's best error=0.3670,\tbest estimator lgbm's best error=0.3670\n",
      "[flaml.automl.logger: 03-14 17:29:14] {2218} INFO - iteration 737, current learner lgbm\n",
      "[flaml.automl.logger: 03-14 17:29:14] {2391} INFO -  at 118.4s,\testimator lgbm's best error=0.3670,\tbest estimator lgbm's best error=0.3670\n",
      "[flaml.automl.logger: 03-14 17:29:14] {2218} INFO - iteration 738, current learner lgbm\n",
      "[flaml.automl.logger: 03-14 17:29:14] {2391} INFO -  at 118.4s,\testimator lgbm's best error=0.3670,\tbest estimator lgbm's best error=0.3670\n",
      "[flaml.automl.logger: 03-14 17:29:14] {2218} INFO - iteration 739, current learner lgbm\n",
      "[flaml.automl.logger: 03-14 17:29:14] {2391} INFO -  at 118.6s,\testimator lgbm's best error=0.3670,\tbest estimator lgbm's best error=0.3670\n",
      "[flaml.automl.logger: 03-14 17:29:14] {2218} INFO - iteration 740, current learner lgbm\n",
      "[flaml.automl.logger: 03-14 17:29:14] {2391} INFO -  at 118.7s,\testimator lgbm's best error=0.3670,\tbest estimator lgbm's best error=0.3670\n",
      "[flaml.automl.logger: 03-14 17:29:14] {2218} INFO - iteration 741, current learner lgbm\n",
      "[flaml.automl.logger: 03-14 17:29:14] {2391} INFO -  at 118.8s,\testimator lgbm's best error=0.3670,\tbest estimator lgbm's best error=0.3670\n",
      "[flaml.automl.logger: 03-14 17:29:14] {2218} INFO - iteration 742, current learner lgbm\n",
      "[flaml.automl.logger: 03-14 17:29:14] {2391} INFO -  at 118.8s,\testimator lgbm's best error=0.3670,\tbest estimator lgbm's best error=0.3670\n",
      "[flaml.automl.logger: 03-14 17:29:14] {2218} INFO - iteration 743, current learner lgbm\n",
      "[flaml.automl.logger: 03-14 17:29:15] {2391} INFO -  at 118.9s,\testimator lgbm's best error=0.3670,\tbest estimator lgbm's best error=0.3670\n",
      "[flaml.automl.logger: 03-14 17:29:15] {2218} INFO - iteration 744, current learner lgbm\n",
      "[flaml.automl.logger: 03-14 17:29:15] {2391} INFO -  at 119.0s,\testimator lgbm's best error=0.3670,\tbest estimator lgbm's best error=0.3670\n",
      "[flaml.automl.logger: 03-14 17:29:15] {2218} INFO - iteration 745, current learner lgbm\n",
      "[flaml.automl.logger: 03-14 17:29:15] {2391} INFO -  at 119.1s,\testimator lgbm's best error=0.3670,\tbest estimator lgbm's best error=0.3670\n",
      "[flaml.automl.logger: 03-14 17:29:15] {2218} INFO - iteration 746, current learner lgbm\n",
      "[flaml.automl.logger: 03-14 17:29:15] {2391} INFO -  at 119.2s,\testimator lgbm's best error=0.3670,\tbest estimator lgbm's best error=0.3670\n",
      "[flaml.automl.logger: 03-14 17:29:15] {2218} INFO - iteration 747, current learner lgbm\n",
      "[flaml.automl.logger: 03-14 17:29:15] {2391} INFO -  at 119.3s,\testimator lgbm's best error=0.3670,\tbest estimator lgbm's best error=0.3670\n",
      "[flaml.automl.logger: 03-14 17:29:15] {2218} INFO - iteration 748, current learner lgbm\n",
      "[flaml.automl.logger: 03-14 17:29:15] {2391} INFO -  at 119.4s,\testimator lgbm's best error=0.3670,\tbest estimator lgbm's best error=0.3670\n",
      "[flaml.automl.logger: 03-14 17:29:15] {2218} INFO - iteration 749, current learner lgbm\n",
      "[flaml.automl.logger: 03-14 17:29:15] {2391} INFO -  at 119.5s,\testimator lgbm's best error=0.3670,\tbest estimator lgbm's best error=0.3670\n",
      "[flaml.automl.logger: 03-14 17:29:15] {2218} INFO - iteration 750, current learner lgbm\n",
      "[flaml.automl.logger: 03-14 17:29:15] {2391} INFO -  at 119.6s,\testimator lgbm's best error=0.3670,\tbest estimator lgbm's best error=0.3670\n",
      "[flaml.automl.logger: 03-14 17:29:15] {2218} INFO - iteration 751, current learner lgbm\n",
      "[flaml.automl.logger: 03-14 17:29:15] {2391} INFO -  at 119.7s,\testimator lgbm's best error=0.3670,\tbest estimator lgbm's best error=0.3670\n",
      "[flaml.automl.logger: 03-14 17:29:15] {2218} INFO - iteration 752, current learner lgbm\n",
      "[flaml.automl.logger: 03-14 17:29:15] {2391} INFO -  at 119.8s,\testimator lgbm's best error=0.3670,\tbest estimator lgbm's best error=0.3670\n",
      "[flaml.automl.logger: 03-14 17:29:15] {2218} INFO - iteration 753, current learner lgbm\n",
      "[flaml.automl.logger: 03-14 17:29:16] {2391} INFO -  at 119.9s,\testimator lgbm's best error=0.3670,\tbest estimator lgbm's best error=0.3670\n",
      "[flaml.automl.logger: 03-14 17:29:16] {2218} INFO - iteration 754, current learner lgbm\n",
      "[flaml.automl.logger: 03-14 17:29:16] {2391} INFO -  at 120.0s,\testimator lgbm's best error=0.3670,\tbest estimator lgbm's best error=0.3670\n",
      "[flaml.automl.logger: 03-14 17:29:16] {2218} INFO - iteration 755, current learner lgbm\n",
      "[flaml.automl.logger: 03-14 17:29:16] {2391} INFO -  at 120.1s,\testimator lgbm's best error=0.3670,\tbest estimator lgbm's best error=0.3670\n",
      "[flaml.automl.logger: 03-14 17:29:16] {2218} INFO - iteration 756, current learner lgbm\n",
      "[flaml.automl.logger: 03-14 17:29:16] {2391} INFO -  at 120.2s,\testimator lgbm's best error=0.3670,\tbest estimator lgbm's best error=0.3670\n",
      "[flaml.automl.logger: 03-14 17:29:16] {2218} INFO - iteration 757, current learner lgbm\n",
      "[flaml.automl.logger: 03-14 17:29:16] {2391} INFO -  at 120.3s,\testimator lgbm's best error=0.3670,\tbest estimator lgbm's best error=0.3670\n",
      "[flaml.automl.logger: 03-14 17:29:16] {2218} INFO - iteration 758, current learner lgbm\n",
      "[flaml.automl.logger: 03-14 17:29:16] {2391} INFO -  at 120.4s,\testimator lgbm's best error=0.3670,\tbest estimator lgbm's best error=0.3670\n",
      "[flaml.automl.logger: 03-14 17:29:16] {2218} INFO - iteration 759, current learner lgbm\n",
      "[flaml.automl.logger: 03-14 17:29:16] {2391} INFO -  at 120.5s,\testimator lgbm's best error=0.3670,\tbest estimator lgbm's best error=0.3670\n",
      "[flaml.automl.logger: 03-14 17:29:16] {2218} INFO - iteration 760, current learner lgbm\n",
      "[flaml.automl.logger: 03-14 17:29:16] {2391} INFO -  at 120.6s,\testimator lgbm's best error=0.3670,\tbest estimator lgbm's best error=0.3670\n",
      "[flaml.automl.logger: 03-14 17:29:16] {2218} INFO - iteration 761, current learner lgbm\n",
      "[flaml.automl.logger: 03-14 17:29:16] {2391} INFO -  at 120.7s,\testimator lgbm's best error=0.3670,\tbest estimator lgbm's best error=0.3670\n",
      "[flaml.automl.logger: 03-14 17:29:16] {2218} INFO - iteration 762, current learner lgbm\n",
      "[flaml.automl.logger: 03-14 17:29:16] {2391} INFO -  at 120.9s,\testimator lgbm's best error=0.3670,\tbest estimator lgbm's best error=0.3670\n",
      "[flaml.automl.logger: 03-14 17:29:16] {2218} INFO - iteration 763, current learner lgbm\n",
      "[flaml.automl.logger: 03-14 17:29:17] {2391} INFO -  at 120.9s,\testimator lgbm's best error=0.3670,\tbest estimator lgbm's best error=0.3670\n",
      "[flaml.automl.logger: 03-14 17:29:17] {2218} INFO - iteration 764, current learner lgbm\n",
      "[flaml.automl.logger: 03-14 17:29:17] {2391} INFO -  at 121.0s,\testimator lgbm's best error=0.3670,\tbest estimator lgbm's best error=0.3670\n",
      "[flaml.automl.logger: 03-14 17:29:17] {2218} INFO - iteration 765, current learner lgbm\n",
      "[flaml.automl.logger: 03-14 17:29:17] {2391} INFO -  at 121.3s,\testimator lgbm's best error=0.3670,\tbest estimator lgbm's best error=0.3670\n",
      "[flaml.automl.logger: 03-14 17:29:17] {2218} INFO - iteration 766, current learner lgbm\n",
      "[flaml.automl.logger: 03-14 17:29:17] {2391} INFO -  at 121.4s,\testimator lgbm's best error=0.3670,\tbest estimator lgbm's best error=0.3670\n",
      "[flaml.automl.logger: 03-14 17:29:17] {2218} INFO - iteration 767, current learner lgbm\n",
      "[flaml.automl.logger: 03-14 17:29:17] {2391} INFO -  at 121.5s,\testimator lgbm's best error=0.3670,\tbest estimator lgbm's best error=0.3670\n",
      "[flaml.automl.logger: 03-14 17:29:17] {2218} INFO - iteration 768, current learner lgbm\n",
      "[flaml.automl.logger: 03-14 17:29:17] {2391} INFO -  at 121.7s,\testimator lgbm's best error=0.3670,\tbest estimator lgbm's best error=0.3670\n",
      "[flaml.automl.logger: 03-14 17:29:17] {2218} INFO - iteration 769, current learner lgbm\n",
      "[flaml.automl.logger: 03-14 17:29:17] {2391} INFO -  at 121.7s,\testimator lgbm's best error=0.3670,\tbest estimator lgbm's best error=0.3670\n",
      "[flaml.automl.logger: 03-14 17:29:17] {2218} INFO - iteration 770, current learner lgbm\n",
      "[flaml.automl.logger: 03-14 17:29:17] {2391} INFO -  at 121.8s,\testimator lgbm's best error=0.3670,\tbest estimator lgbm's best error=0.3670\n",
      "[flaml.automl.logger: 03-14 17:29:17] {2218} INFO - iteration 771, current learner lgbm\n",
      "[flaml.automl.logger: 03-14 17:29:17] {2391} INFO -  at 121.9s,\testimator lgbm's best error=0.3670,\tbest estimator lgbm's best error=0.3670\n",
      "[flaml.automl.logger: 03-14 17:29:17] {2218} INFO - iteration 772, current learner lgbm\n",
      "[flaml.automl.logger: 03-14 17:29:18] {2391} INFO -  at 122.0s,\testimator lgbm's best error=0.3670,\tbest estimator lgbm's best error=0.3670\n",
      "[flaml.automl.logger: 03-14 17:29:18] {2218} INFO - iteration 773, current learner lgbm\n",
      "[flaml.automl.logger: 03-14 17:29:18] {2391} INFO -  at 122.1s,\testimator lgbm's best error=0.3670,\tbest estimator lgbm's best error=0.3670\n",
      "[flaml.automl.logger: 03-14 17:29:18] {2218} INFO - iteration 774, current learner lgbm\n",
      "[flaml.automl.logger: 03-14 17:29:18] {2391} INFO -  at 122.2s,\testimator lgbm's best error=0.3670,\tbest estimator lgbm's best error=0.3670\n",
      "[flaml.automl.logger: 03-14 17:29:18] {2218} INFO - iteration 775, current learner lgbm\n",
      "[flaml.automl.logger: 03-14 17:29:18] {2391} INFO -  at 122.3s,\testimator lgbm's best error=0.3670,\tbest estimator lgbm's best error=0.3670\n",
      "[flaml.automl.logger: 03-14 17:29:18] {2218} INFO - iteration 776, current learner lgbm\n",
      "[flaml.automl.logger: 03-14 17:29:18] {2391} INFO -  at 122.4s,\testimator lgbm's best error=0.3670,\tbest estimator lgbm's best error=0.3670\n",
      "[flaml.automl.logger: 03-14 17:29:18] {2218} INFO - iteration 777, current learner lgbm\n",
      "[flaml.automl.logger: 03-14 17:29:18] {2391} INFO -  at 122.5s,\testimator lgbm's best error=0.3670,\tbest estimator lgbm's best error=0.3670\n",
      "[flaml.automl.logger: 03-14 17:29:18] {2218} INFO - iteration 778, current learner lgbm\n",
      "[flaml.automl.logger: 03-14 17:29:18] {2391} INFO -  at 122.6s,\testimator lgbm's best error=0.3670,\tbest estimator lgbm's best error=0.3670\n",
      "[flaml.automl.logger: 03-14 17:29:18] {2218} INFO - iteration 779, current learner lgbm\n",
      "[flaml.automl.logger: 03-14 17:29:18] {2391} INFO -  at 122.7s,\testimator lgbm's best error=0.3670,\tbest estimator lgbm's best error=0.3670\n",
      "[flaml.automl.logger: 03-14 17:29:18] {2218} INFO - iteration 780, current learner lgbm\n",
      "[flaml.automl.logger: 03-14 17:29:18] {2391} INFO -  at 122.8s,\testimator lgbm's best error=0.3670,\tbest estimator lgbm's best error=0.3670\n",
      "[flaml.automl.logger: 03-14 17:29:18] {2218} INFO - iteration 781, current learner lgbm\n",
      "[flaml.automl.logger: 03-14 17:29:19] {2391} INFO -  at 122.9s,\testimator lgbm's best error=0.3670,\tbest estimator lgbm's best error=0.3670\n",
      "[flaml.automl.logger: 03-14 17:29:19] {2218} INFO - iteration 782, current learner lgbm\n",
      "[flaml.automl.logger: 03-14 17:29:19] {2391} INFO -  at 123.0s,\testimator lgbm's best error=0.3670,\tbest estimator lgbm's best error=0.3670\n",
      "[flaml.automl.logger: 03-14 17:29:19] {2218} INFO - iteration 783, current learner lgbm\n",
      "[flaml.automl.logger: 03-14 17:29:19] {2391} INFO -  at 123.2s,\testimator lgbm's best error=0.3670,\tbest estimator lgbm's best error=0.3670\n",
      "[flaml.automl.logger: 03-14 17:29:19] {2218} INFO - iteration 784, current learner lgbm\n",
      "[flaml.automl.logger: 03-14 17:29:19] {2391} INFO -  at 123.3s,\testimator lgbm's best error=0.3670,\tbest estimator lgbm's best error=0.3670\n",
      "[flaml.automl.logger: 03-14 17:29:19] {2218} INFO - iteration 785, current learner lgbm\n",
      "[flaml.automl.logger: 03-14 17:29:19] {2391} INFO -  at 123.4s,\testimator lgbm's best error=0.3670,\tbest estimator lgbm's best error=0.3670\n",
      "[flaml.automl.logger: 03-14 17:29:19] {2218} INFO - iteration 786, current learner lgbm\n",
      "[flaml.automl.logger: 03-14 17:29:19] {2391} INFO -  at 123.5s,\testimator lgbm's best error=0.3670,\tbest estimator lgbm's best error=0.3670\n",
      "[flaml.automl.logger: 03-14 17:29:19] {2218} INFO - iteration 787, current learner lgbm\n",
      "[flaml.automl.logger: 03-14 17:29:19] {2391} INFO -  at 123.6s,\testimator lgbm's best error=0.3670,\tbest estimator lgbm's best error=0.3670\n",
      "[flaml.automl.logger: 03-14 17:29:19] {2218} INFO - iteration 788, current learner lgbm\n",
      "[flaml.automl.logger: 03-14 17:29:19] {2391} INFO -  at 123.7s,\testimator lgbm's best error=0.3670,\tbest estimator lgbm's best error=0.3670\n",
      "[flaml.automl.logger: 03-14 17:29:19] {2218} INFO - iteration 789, current learner lgbm\n",
      "[flaml.automl.logger: 03-14 17:29:19] {2391} INFO -  at 123.8s,\testimator lgbm's best error=0.3670,\tbest estimator lgbm's best error=0.3670\n",
      "[flaml.automl.logger: 03-14 17:29:19] {2218} INFO - iteration 790, current learner lgbm\n",
      "[flaml.automl.logger: 03-14 17:29:19] {2391} INFO -  at 123.9s,\testimator lgbm's best error=0.3670,\tbest estimator lgbm's best error=0.3670\n",
      "[flaml.automl.logger: 03-14 17:29:19] {2218} INFO - iteration 791, current learner lgbm\n",
      "[flaml.automl.logger: 03-14 17:29:20] {2391} INFO -  at 124.1s,\testimator lgbm's best error=0.3670,\tbest estimator lgbm's best error=0.3670\n",
      "[flaml.automl.logger: 03-14 17:29:20] {2218} INFO - iteration 792, current learner lgbm\n",
      "[flaml.automl.logger: 03-14 17:29:20] {2391} INFO -  at 124.3s,\testimator lgbm's best error=0.3670,\tbest estimator lgbm's best error=0.3670\n",
      "[flaml.automl.logger: 03-14 17:29:20] {2218} INFO - iteration 793, current learner lgbm\n",
      "[flaml.automl.logger: 03-14 17:29:20] {2391} INFO -  at 124.4s,\testimator lgbm's best error=0.3670,\tbest estimator lgbm's best error=0.3670\n",
      "[flaml.automl.logger: 03-14 17:29:20] {2218} INFO - iteration 794, current learner lgbm\n",
      "[flaml.automl.logger: 03-14 17:29:20] {2391} INFO -  at 124.6s,\testimator lgbm's best error=0.3670,\tbest estimator lgbm's best error=0.3670\n",
      "[flaml.automl.logger: 03-14 17:29:20] {2218} INFO - iteration 795, current learner lgbm\n",
      "[flaml.automl.logger: 03-14 17:29:20] {2391} INFO -  at 124.7s,\testimator lgbm's best error=0.3670,\tbest estimator lgbm's best error=0.3670\n",
      "[flaml.automl.logger: 03-14 17:29:20] {2218} INFO - iteration 796, current learner lgbm\n",
      "[flaml.automl.logger: 03-14 17:29:20] {2391} INFO -  at 124.8s,\testimator lgbm's best error=0.3670,\tbest estimator lgbm's best error=0.3670\n",
      "[flaml.automl.logger: 03-14 17:29:20] {2218} INFO - iteration 797, current learner lgbm\n",
      "[flaml.automl.logger: 03-14 17:29:20] {2391} INFO -  at 124.9s,\testimator lgbm's best error=0.3670,\tbest estimator lgbm's best error=0.3670\n",
      "[flaml.automl.logger: 03-14 17:29:20] {2218} INFO - iteration 798, current learner lgbm\n",
      "[flaml.automl.logger: 03-14 17:29:21] {2391} INFO -  at 125.0s,\testimator lgbm's best error=0.3670,\tbest estimator lgbm's best error=0.3670\n",
      "[flaml.automl.logger: 03-14 17:29:21] {2218} INFO - iteration 799, current learner lgbm\n",
      "[flaml.automl.logger: 03-14 17:29:21] {2391} INFO -  at 125.2s,\testimator lgbm's best error=0.3670,\tbest estimator lgbm's best error=0.3670\n",
      "[flaml.automl.logger: 03-14 17:29:21] {2218} INFO - iteration 800, current learner lgbm\n",
      "[flaml.automl.logger: 03-14 17:29:21] {2391} INFO -  at 125.4s,\testimator lgbm's best error=0.3670,\tbest estimator lgbm's best error=0.3670\n",
      "[flaml.automl.logger: 03-14 17:29:21] {2218} INFO - iteration 801, current learner lgbm\n",
      "[flaml.automl.logger: 03-14 17:29:21] {2391} INFO -  at 125.5s,\testimator lgbm's best error=0.3670,\tbest estimator lgbm's best error=0.3670\n",
      "[flaml.automl.logger: 03-14 17:29:21] {2218} INFO - iteration 802, current learner lgbm\n",
      "[flaml.automl.logger: 03-14 17:29:21] {2391} INFO -  at 125.6s,\testimator lgbm's best error=0.3670,\tbest estimator lgbm's best error=0.3670\n",
      "[flaml.automl.logger: 03-14 17:29:21] {2218} INFO - iteration 803, current learner lgbm\n",
      "[flaml.automl.logger: 03-14 17:29:21] {2391} INFO -  at 125.7s,\testimator lgbm's best error=0.3670,\tbest estimator lgbm's best error=0.3670\n",
      "[flaml.automl.logger: 03-14 17:29:21] {2218} INFO - iteration 804, current learner lgbm\n",
      "[flaml.automl.logger: 03-14 17:29:22] {2391} INFO -  at 126.0s,\testimator lgbm's best error=0.3670,\tbest estimator lgbm's best error=0.3670\n",
      "[flaml.automl.logger: 03-14 17:29:22] {2218} INFO - iteration 805, current learner lgbm\n",
      "[flaml.automl.logger: 03-14 17:29:22] {2391} INFO -  at 126.1s,\testimator lgbm's best error=0.3670,\tbest estimator lgbm's best error=0.3670\n",
      "[flaml.automl.logger: 03-14 17:29:22] {2218} INFO - iteration 806, current learner lgbm\n",
      "[flaml.automl.logger: 03-14 17:29:22] {2391} INFO -  at 126.3s,\testimator lgbm's best error=0.3670,\tbest estimator lgbm's best error=0.3670\n",
      "[flaml.automl.logger: 03-14 17:29:22] {2218} INFO - iteration 807, current learner lgbm\n",
      "[flaml.automl.logger: 03-14 17:29:22] {2391} INFO -  at 126.6s,\testimator lgbm's best error=0.3670,\tbest estimator lgbm's best error=0.3670\n",
      "[flaml.automl.logger: 03-14 17:29:22] {2218} INFO - iteration 808, current learner lgbm\n",
      "[flaml.automl.logger: 03-14 17:29:22] {2391} INFO -  at 126.7s,\testimator lgbm's best error=0.3670,\tbest estimator lgbm's best error=0.3670\n",
      "[flaml.automl.logger: 03-14 17:29:22] {2218} INFO - iteration 809, current learner lgbm\n",
      "[flaml.automl.logger: 03-14 17:29:23] {2391} INFO -  at 127.0s,\testimator lgbm's best error=0.3670,\tbest estimator lgbm's best error=0.3670\n",
      "[flaml.automl.logger: 03-14 17:29:23] {2218} INFO - iteration 810, current learner lgbm\n",
      "[flaml.automl.logger: 03-14 17:29:23] {2391} INFO -  at 127.2s,\testimator lgbm's best error=0.3670,\tbest estimator lgbm's best error=0.3670\n",
      "[flaml.automl.logger: 03-14 17:29:23] {2218} INFO - iteration 811, current learner lgbm\n",
      "[flaml.automl.logger: 03-14 17:29:23] {2391} INFO -  at 127.3s,\testimator lgbm's best error=0.3670,\tbest estimator lgbm's best error=0.3670\n",
      "[flaml.automl.logger: 03-14 17:29:23] {2218} INFO - iteration 812, current learner lgbm\n",
      "[flaml.automl.logger: 03-14 17:29:23] {2391} INFO -  at 127.5s,\testimator lgbm's best error=0.3670,\tbest estimator lgbm's best error=0.3670\n",
      "[flaml.automl.logger: 03-14 17:29:23] {2218} INFO - iteration 813, current learner lgbm\n",
      "[flaml.automl.logger: 03-14 17:29:23] {2391} INFO -  at 127.6s,\testimator lgbm's best error=0.3670,\tbest estimator lgbm's best error=0.3670\n",
      "[flaml.automl.logger: 03-14 17:29:23] {2218} INFO - iteration 814, current learner lgbm\n",
      "[flaml.automl.logger: 03-14 17:29:23] {2391} INFO -  at 127.8s,\testimator lgbm's best error=0.3670,\tbest estimator lgbm's best error=0.3670\n",
      "[flaml.automl.logger: 03-14 17:29:23] {2218} INFO - iteration 815, current learner lgbm\n",
      "[flaml.automl.logger: 03-14 17:29:24] {2391} INFO -  at 128.0s,\testimator lgbm's best error=0.3670,\tbest estimator lgbm's best error=0.3670\n",
      "[flaml.automl.logger: 03-14 17:29:24] {2218} INFO - iteration 816, current learner lgbm\n",
      "[flaml.automl.logger: 03-14 17:29:24] {2391} INFO -  at 128.1s,\testimator lgbm's best error=0.3670,\tbest estimator lgbm's best error=0.3670\n",
      "[flaml.automl.logger: 03-14 17:29:24] {2218} INFO - iteration 817, current learner lgbm\n",
      "[flaml.automl.logger: 03-14 17:29:24] {2391} INFO -  at 128.5s,\testimator lgbm's best error=0.3670,\tbest estimator lgbm's best error=0.3670\n",
      "[flaml.automl.logger: 03-14 17:29:24] {2218} INFO - iteration 818, current learner lgbm\n",
      "[flaml.automl.logger: 03-14 17:29:24] {2391} INFO -  at 128.7s,\testimator lgbm's best error=0.3670,\tbest estimator lgbm's best error=0.3670\n",
      "[flaml.automl.logger: 03-14 17:29:24] {2218} INFO - iteration 819, current learner lgbm\n",
      "[flaml.automl.logger: 03-14 17:29:24] {2391} INFO -  at 128.8s,\testimator lgbm's best error=0.3670,\tbest estimator lgbm's best error=0.3670\n",
      "[flaml.automl.logger: 03-14 17:29:24] {2218} INFO - iteration 820, current learner lgbm\n",
      "[flaml.automl.logger: 03-14 17:29:25] {2391} INFO -  at 129.0s,\testimator lgbm's best error=0.3670,\tbest estimator lgbm's best error=0.3670\n",
      "[flaml.automl.logger: 03-14 17:29:25] {2218} INFO - iteration 821, current learner lgbm\n",
      "[flaml.automl.logger: 03-14 17:29:25] {2391} INFO -  at 129.2s,\testimator lgbm's best error=0.3670,\tbest estimator lgbm's best error=0.3670\n",
      "[flaml.automl.logger: 03-14 17:29:25] {2218} INFO - iteration 822, current learner lgbm\n",
      "[flaml.automl.logger: 03-14 17:29:25] {2391} INFO -  at 129.5s,\testimator lgbm's best error=0.3670,\tbest estimator lgbm's best error=0.3670\n",
      "[flaml.automl.logger: 03-14 17:29:25] {2218} INFO - iteration 823, current learner lgbm\n",
      "[flaml.automl.logger: 03-14 17:29:25] {2391} INFO -  at 129.7s,\testimator lgbm's best error=0.3670,\tbest estimator lgbm's best error=0.3670\n",
      "[flaml.automl.logger: 03-14 17:29:25] {2218} INFO - iteration 824, current learner lgbm\n",
      "[flaml.automl.logger: 03-14 17:29:25] {2391} INFO -  at 129.9s,\testimator lgbm's best error=0.3670,\tbest estimator lgbm's best error=0.3670\n",
      "[flaml.automl.logger: 03-14 17:29:25] {2218} INFO - iteration 825, current learner lgbm\n",
      "[flaml.automl.logger: 03-14 17:29:26] {2391} INFO -  at 130.0s,\testimator lgbm's best error=0.3670,\tbest estimator lgbm's best error=0.3670\n",
      "[flaml.automl.logger: 03-14 17:29:26] {2218} INFO - iteration 826, current learner lgbm\n",
      "[flaml.automl.logger: 03-14 17:29:26] {2391} INFO -  at 130.2s,\testimator lgbm's best error=0.3670,\tbest estimator lgbm's best error=0.3670\n",
      "[flaml.automl.logger: 03-14 17:29:26] {2218} INFO - iteration 827, current learner lgbm\n",
      "[flaml.automl.logger: 03-14 17:29:26] {2391} INFO -  at 130.3s,\testimator lgbm's best error=0.3670,\tbest estimator lgbm's best error=0.3670\n",
      "[flaml.automl.logger: 03-14 17:29:26] {2218} INFO - iteration 828, current learner lgbm\n",
      "[flaml.automl.logger: 03-14 17:29:26] {2391} INFO -  at 130.4s,\testimator lgbm's best error=0.3670,\tbest estimator lgbm's best error=0.3670\n",
      "[flaml.automl.logger: 03-14 17:29:26] {2218} INFO - iteration 829, current learner lgbm\n",
      "[flaml.automl.logger: 03-14 17:29:26] {2391} INFO -  at 130.6s,\testimator lgbm's best error=0.3670,\tbest estimator lgbm's best error=0.3670\n",
      "[flaml.automl.logger: 03-14 17:29:26] {2218} INFO - iteration 830, current learner lgbm\n",
      "[flaml.automl.logger: 03-14 17:29:27] {2391} INFO -  at 131.0s,\testimator lgbm's best error=0.3670,\tbest estimator lgbm's best error=0.3670\n",
      "[flaml.automl.logger: 03-14 17:29:27] {2218} INFO - iteration 831, current learner lgbm\n",
      "[flaml.automl.logger: 03-14 17:29:27] {2391} INFO -  at 131.1s,\testimator lgbm's best error=0.3670,\tbest estimator lgbm's best error=0.3670\n",
      "[flaml.automl.logger: 03-14 17:29:27] {2218} INFO - iteration 832, current learner lgbm\n",
      "[flaml.automl.logger: 03-14 17:29:27] {2391} INFO -  at 131.2s,\testimator lgbm's best error=0.3670,\tbest estimator lgbm's best error=0.3670\n",
      "[flaml.automl.logger: 03-14 17:29:27] {2218} INFO - iteration 833, current learner lgbm\n",
      "[flaml.automl.logger: 03-14 17:29:27] {2391} INFO -  at 131.3s,\testimator lgbm's best error=0.3670,\tbest estimator lgbm's best error=0.3670\n",
      "[flaml.automl.logger: 03-14 17:29:27] {2218} INFO - iteration 834, current learner lgbm\n",
      "[flaml.automl.logger: 03-14 17:29:27] {2391} INFO -  at 131.4s,\testimator lgbm's best error=0.3670,\tbest estimator lgbm's best error=0.3670\n",
      "[flaml.automl.logger: 03-14 17:29:27] {2218} INFO - iteration 835, current learner lgbm\n",
      "[flaml.automl.logger: 03-14 17:29:27] {2391} INFO -  at 131.5s,\testimator lgbm's best error=0.3670,\tbest estimator lgbm's best error=0.3670\n",
      "[flaml.automl.logger: 03-14 17:29:27] {2218} INFO - iteration 836, current learner lgbm\n",
      "[flaml.automl.logger: 03-14 17:29:27] {2391} INFO -  at 131.6s,\testimator lgbm's best error=0.3670,\tbest estimator lgbm's best error=0.3670\n",
      "[flaml.automl.logger: 03-14 17:29:27] {2218} INFO - iteration 837, current learner lgbm\n",
      "[flaml.automl.logger: 03-14 17:29:27] {2391} INFO -  at 131.7s,\testimator lgbm's best error=0.3670,\tbest estimator lgbm's best error=0.3670\n",
      "[flaml.automl.logger: 03-14 17:29:27] {2218} INFO - iteration 838, current learner lgbm\n",
      "[flaml.automl.logger: 03-14 17:29:27] {2391} INFO -  at 131.8s,\testimator lgbm's best error=0.3670,\tbest estimator lgbm's best error=0.3670\n",
      "[flaml.automl.logger: 03-14 17:29:27] {2218} INFO - iteration 839, current learner lgbm\n",
      "[flaml.automl.logger: 03-14 17:29:28] {2391} INFO -  at 131.9s,\testimator lgbm's best error=0.3670,\tbest estimator lgbm's best error=0.3670\n",
      "[flaml.automl.logger: 03-14 17:29:28] {2218} INFO - iteration 840, current learner lgbm\n",
      "[flaml.automl.logger: 03-14 17:29:28] {2391} INFO -  at 132.1s,\testimator lgbm's best error=0.3670,\tbest estimator lgbm's best error=0.3670\n",
      "[flaml.automl.logger: 03-14 17:29:28] {2218} INFO - iteration 841, current learner lgbm\n",
      "[flaml.automl.logger: 03-14 17:29:28] {2391} INFO -  at 132.2s,\testimator lgbm's best error=0.3670,\tbest estimator lgbm's best error=0.3670\n",
      "[flaml.automl.logger: 03-14 17:29:28] {2218} INFO - iteration 842, current learner lgbm\n",
      "[flaml.automl.logger: 03-14 17:29:28] {2391} INFO -  at 132.3s,\testimator lgbm's best error=0.3670,\tbest estimator lgbm's best error=0.3670\n",
      "[flaml.automl.logger: 03-14 17:29:28] {2218} INFO - iteration 843, current learner lgbm\n",
      "[flaml.automl.logger: 03-14 17:29:28] {2391} INFO -  at 132.4s,\testimator lgbm's best error=0.3670,\tbest estimator lgbm's best error=0.3670\n",
      "[flaml.automl.logger: 03-14 17:29:28] {2218} INFO - iteration 844, current learner lgbm\n",
      "[flaml.automl.logger: 03-14 17:29:28] {2391} INFO -  at 132.5s,\testimator lgbm's best error=0.3670,\tbest estimator lgbm's best error=0.3670\n",
      "[flaml.automl.logger: 03-14 17:29:28] {2218} INFO - iteration 845, current learner lgbm\n",
      "[flaml.automl.logger: 03-14 17:29:28] {2391} INFO -  at 132.6s,\testimator lgbm's best error=0.3670,\tbest estimator lgbm's best error=0.3670\n",
      "[flaml.automl.logger: 03-14 17:29:28] {2218} INFO - iteration 846, current learner lgbm\n",
      "[flaml.automl.logger: 03-14 17:29:28] {2391} INFO -  at 132.7s,\testimator lgbm's best error=0.3670,\tbest estimator lgbm's best error=0.3670\n",
      "[flaml.automl.logger: 03-14 17:29:28] {2218} INFO - iteration 847, current learner lgbm\n",
      "[flaml.automl.logger: 03-14 17:29:28] {2391} INFO -  at 132.8s,\testimator lgbm's best error=0.3670,\tbest estimator lgbm's best error=0.3670\n",
      "[flaml.automl.logger: 03-14 17:29:28] {2218} INFO - iteration 848, current learner lgbm\n",
      "[flaml.automl.logger: 03-14 17:29:29] {2391} INFO -  at 132.9s,\testimator lgbm's best error=0.3670,\tbest estimator lgbm's best error=0.3670\n",
      "[flaml.automl.logger: 03-14 17:29:29] {2218} INFO - iteration 849, current learner lgbm\n",
      "[flaml.automl.logger: 03-14 17:29:29] {2391} INFO -  at 133.0s,\testimator lgbm's best error=0.3670,\tbest estimator lgbm's best error=0.3670\n",
      "[flaml.automl.logger: 03-14 17:29:29] {2218} INFO - iteration 850, current learner lgbm\n",
      "[flaml.automl.logger: 03-14 17:29:29] {2391} INFO -  at 133.1s,\testimator lgbm's best error=0.3670,\tbest estimator lgbm's best error=0.3670\n",
      "[flaml.automl.logger: 03-14 17:29:29] {2218} INFO - iteration 851, current learner lgbm\n",
      "[flaml.automl.logger: 03-14 17:29:29] {2391} INFO -  at 133.3s,\testimator lgbm's best error=0.3670,\tbest estimator lgbm's best error=0.3670\n",
      "[flaml.automl.logger: 03-14 17:29:29] {2218} INFO - iteration 852, current learner lgbm\n",
      "[flaml.automl.logger: 03-14 17:29:29] {2391} INFO -  at 133.6s,\testimator lgbm's best error=0.3670,\tbest estimator lgbm's best error=0.3670\n",
      "[flaml.automl.logger: 03-14 17:29:29] {2218} INFO - iteration 853, current learner lgbm\n",
      "[flaml.automl.logger: 03-14 17:29:29] {2391} INFO -  at 133.7s,\testimator lgbm's best error=0.3670,\tbest estimator lgbm's best error=0.3670\n",
      "[flaml.automl.logger: 03-14 17:29:29] {2218} INFO - iteration 854, current learner lgbm\n",
      "[flaml.automl.logger: 03-14 17:29:29] {2391} INFO -  at 133.8s,\testimator lgbm's best error=0.3670,\tbest estimator lgbm's best error=0.3670\n",
      "[flaml.automl.logger: 03-14 17:29:29] {2218} INFO - iteration 855, current learner lgbm\n",
      "[flaml.automl.logger: 03-14 17:29:30] {2391} INFO -  at 133.9s,\testimator lgbm's best error=0.3670,\tbest estimator lgbm's best error=0.3670\n",
      "[flaml.automl.logger: 03-14 17:29:30] {2218} INFO - iteration 856, current learner lgbm\n",
      "[flaml.automl.logger: 03-14 17:29:30] {2391} INFO -  at 134.4s,\testimator lgbm's best error=0.3670,\tbest estimator lgbm's best error=0.3670\n",
      "[flaml.automl.logger: 03-14 17:29:30] {2218} INFO - iteration 857, current learner lgbm\n",
      "[flaml.automl.logger: 03-14 17:29:30] {2391} INFO -  at 134.6s,\testimator lgbm's best error=0.3670,\tbest estimator lgbm's best error=0.3670\n",
      "[flaml.automl.logger: 03-14 17:29:30] {2218} INFO - iteration 858, current learner lgbm\n",
      "[flaml.automl.logger: 03-14 17:29:30] {2391} INFO -  at 134.9s,\testimator lgbm's best error=0.3670,\tbest estimator lgbm's best error=0.3670\n",
      "[flaml.automl.logger: 03-14 17:29:30] {2218} INFO - iteration 859, current learner lgbm\n",
      "[flaml.automl.logger: 03-14 17:29:31] {2391} INFO -  at 135.0s,\testimator lgbm's best error=0.3670,\tbest estimator lgbm's best error=0.3670\n",
      "[flaml.automl.logger: 03-14 17:29:31] {2218} INFO - iteration 860, current learner lgbm\n",
      "[flaml.automl.logger: 03-14 17:29:31] {2391} INFO -  at 135.1s,\testimator lgbm's best error=0.3670,\tbest estimator lgbm's best error=0.3670\n",
      "[flaml.automl.logger: 03-14 17:29:31] {2218} INFO - iteration 861, current learner lgbm\n",
      "[flaml.automl.logger: 03-14 17:29:31] {2391} INFO -  at 135.8s,\testimator lgbm's best error=0.3670,\tbest estimator lgbm's best error=0.3670\n",
      "[flaml.automl.logger: 03-14 17:29:31] {2218} INFO - iteration 862, current learner lgbm\n",
      "[flaml.automl.logger: 03-14 17:29:32] {2391} INFO -  at 136.2s,\testimator lgbm's best error=0.3670,\tbest estimator lgbm's best error=0.3670\n",
      "[flaml.automl.logger: 03-14 17:29:32] {2218} INFO - iteration 863, current learner lgbm\n",
      "[flaml.automl.logger: 03-14 17:29:32] {2391} INFO -  at 136.6s,\testimator lgbm's best error=0.3670,\tbest estimator lgbm's best error=0.3670\n",
      "[flaml.automl.logger: 03-14 17:29:32] {2218} INFO - iteration 864, current learner lgbm\n",
      "[flaml.automl.logger: 03-14 17:29:33] {2391} INFO -  at 137.1s,\testimator lgbm's best error=0.3670,\tbest estimator lgbm's best error=0.3670\n",
      "[flaml.automl.logger: 03-14 17:29:33] {2218} INFO - iteration 865, current learner lgbm\n",
      "[flaml.automl.logger: 03-14 17:29:34] {2391} INFO -  at 138.3s,\testimator lgbm's best error=0.3670,\tbest estimator lgbm's best error=0.3670\n",
      "[flaml.automl.logger: 03-14 17:29:34] {2218} INFO - iteration 866, current learner lgbm\n",
      "[flaml.automl.logger: 03-14 17:29:35] {2391} INFO -  at 139.1s,\testimator lgbm's best error=0.3670,\tbest estimator lgbm's best error=0.3670\n",
      "[flaml.automl.logger: 03-14 17:29:35] {2218} INFO - iteration 867, current learner lgbm\n",
      "[flaml.automl.logger: 03-14 17:29:35] {2391} INFO -  at 139.4s,\testimator lgbm's best error=0.3670,\tbest estimator lgbm's best error=0.3670\n",
      "[flaml.automl.logger: 03-14 17:29:35] {2218} INFO - iteration 868, current learner lgbm\n",
      "[flaml.automl.logger: 03-14 17:29:35] {2391} INFO -  at 139.7s,\testimator lgbm's best error=0.3670,\tbest estimator lgbm's best error=0.3670\n",
      "[flaml.automl.logger: 03-14 17:29:35] {2218} INFO - iteration 869, current learner lgbm\n",
      "[flaml.automl.logger: 03-14 17:29:36] {2391} INFO -  at 140.1s,\testimator lgbm's best error=0.3670,\tbest estimator lgbm's best error=0.3670\n",
      "[flaml.automl.logger: 03-14 17:29:36] {2218} INFO - iteration 870, current learner lgbm\n",
      "[flaml.automl.logger: 03-14 17:29:36] {2391} INFO -  at 140.3s,\testimator lgbm's best error=0.3670,\tbest estimator lgbm's best error=0.3670\n",
      "[flaml.automl.logger: 03-14 17:29:36] {2218} INFO - iteration 871, current learner lgbm\n",
      "[flaml.automl.logger: 03-14 17:29:36] {2391} INFO -  at 140.5s,\testimator lgbm's best error=0.3670,\tbest estimator lgbm's best error=0.3670\n",
      "[flaml.automl.logger: 03-14 17:29:36] {2218} INFO - iteration 872, current learner lgbm\n",
      "[flaml.automl.logger: 03-14 17:29:36] {2391} INFO -  at 140.6s,\testimator lgbm's best error=0.3670,\tbest estimator lgbm's best error=0.3670\n",
      "[flaml.automl.logger: 03-14 17:29:36] {2218} INFO - iteration 873, current learner lgbm\n",
      "[flaml.automl.logger: 03-14 17:29:36] {2391} INFO -  at 140.8s,\testimator lgbm's best error=0.3670,\tbest estimator lgbm's best error=0.3670\n",
      "[flaml.automl.logger: 03-14 17:29:36] {2218} INFO - iteration 874, current learner lgbm\n",
      "[flaml.automl.logger: 03-14 17:29:37] {2391} INFO -  at 141.0s,\testimator lgbm's best error=0.3670,\tbest estimator lgbm's best error=0.3670\n",
      "[flaml.automl.logger: 03-14 17:29:37] {2218} INFO - iteration 875, current learner lgbm\n",
      "[flaml.automl.logger: 03-14 17:29:37] {2391} INFO -  at 141.2s,\testimator lgbm's best error=0.3670,\tbest estimator lgbm's best error=0.3670\n",
      "[flaml.automl.logger: 03-14 17:29:37] {2218} INFO - iteration 876, current learner lgbm\n",
      "[flaml.automl.logger: 03-14 17:29:37] {2391} INFO -  at 141.4s,\testimator lgbm's best error=0.3670,\tbest estimator lgbm's best error=0.3670\n",
      "[flaml.automl.logger: 03-14 17:29:37] {2218} INFO - iteration 877, current learner lgbm\n",
      "[flaml.automl.logger: 03-14 17:29:37] {2391} INFO -  at 141.5s,\testimator lgbm's best error=0.3670,\tbest estimator lgbm's best error=0.3670\n",
      "[flaml.automl.logger: 03-14 17:29:37] {2218} INFO - iteration 878, current learner lgbm\n",
      "[flaml.automl.logger: 03-14 17:29:37] {2391} INFO -  at 141.7s,\testimator lgbm's best error=0.3560,\tbest estimator lgbm's best error=0.3560\n",
      "[flaml.automl.logger: 03-14 17:29:37] {2218} INFO - iteration 879, current learner lgbm\n",
      "[flaml.automl.logger: 03-14 17:29:37] {2391} INFO -  at 141.8s,\testimator lgbm's best error=0.3560,\tbest estimator lgbm's best error=0.3560\n",
      "[flaml.automl.logger: 03-14 17:29:37] {2218} INFO - iteration 880, current learner lgbm\n",
      "[flaml.automl.logger: 03-14 17:29:38] {2391} INFO -  at 142.0s,\testimator lgbm's best error=0.3560,\tbest estimator lgbm's best error=0.3560\n",
      "[flaml.automl.logger: 03-14 17:29:38] {2218} INFO - iteration 881, current learner lgbm\n",
      "[flaml.automl.logger: 03-14 17:29:38] {2391} INFO -  at 142.1s,\testimator lgbm's best error=0.3560,\tbest estimator lgbm's best error=0.3560\n",
      "[flaml.automl.logger: 03-14 17:29:38] {2218} INFO - iteration 882, current learner lgbm\n",
      "[flaml.automl.logger: 03-14 17:29:38] {2391} INFO -  at 142.3s,\testimator lgbm's best error=0.3560,\tbest estimator lgbm's best error=0.3560\n",
      "[flaml.automl.logger: 03-14 17:29:38] {2218} INFO - iteration 883, current learner lgbm\n",
      "[flaml.automl.logger: 03-14 17:29:38] {2391} INFO -  at 142.4s,\testimator lgbm's best error=0.3560,\tbest estimator lgbm's best error=0.3560\n",
      "[flaml.automl.logger: 03-14 17:29:38] {2218} INFO - iteration 884, current learner lgbm\n",
      "[flaml.automl.logger: 03-14 17:29:38] {2391} INFO -  at 142.6s,\testimator lgbm's best error=0.3560,\tbest estimator lgbm's best error=0.3560\n",
      "[flaml.automl.logger: 03-14 17:29:38] {2218} INFO - iteration 885, current learner lgbm\n",
      "[flaml.automl.logger: 03-14 17:29:38] {2391} INFO -  at 142.7s,\testimator lgbm's best error=0.3560,\tbest estimator lgbm's best error=0.3560\n",
      "[flaml.automl.logger: 03-14 17:29:38] {2218} INFO - iteration 886, current learner lgbm\n",
      "[flaml.automl.logger: 03-14 17:29:38] {2391} INFO -  at 142.9s,\testimator lgbm's best error=0.3560,\tbest estimator lgbm's best error=0.3560\n",
      "[flaml.automl.logger: 03-14 17:29:38] {2218} INFO - iteration 887, current learner lgbm\n",
      "[flaml.automl.logger: 03-14 17:29:39] {2391} INFO -  at 143.1s,\testimator lgbm's best error=0.3560,\tbest estimator lgbm's best error=0.3560\n",
      "[flaml.automl.logger: 03-14 17:29:39] {2218} INFO - iteration 888, current learner lgbm\n",
      "[flaml.automl.logger: 03-14 17:29:39] {2391} INFO -  at 143.2s,\testimator lgbm's best error=0.3560,\tbest estimator lgbm's best error=0.3560\n",
      "[flaml.automl.logger: 03-14 17:29:39] {2218} INFO - iteration 889, current learner lgbm\n",
      "[flaml.automl.logger: 03-14 17:29:39] {2391} INFO -  at 143.3s,\testimator lgbm's best error=0.3560,\tbest estimator lgbm's best error=0.3560\n",
      "[flaml.automl.logger: 03-14 17:29:39] {2218} INFO - iteration 890, current learner lgbm\n",
      "[flaml.automl.logger: 03-14 17:29:39] {2391} INFO -  at 143.4s,\testimator lgbm's best error=0.3560,\tbest estimator lgbm's best error=0.3560\n",
      "[flaml.automl.logger: 03-14 17:29:39] {2218} INFO - iteration 891, current learner lgbm\n",
      "[flaml.automl.logger: 03-14 17:29:39] {2391} INFO -  at 143.6s,\testimator lgbm's best error=0.3560,\tbest estimator lgbm's best error=0.3560\n",
      "[flaml.automl.logger: 03-14 17:29:39] {2218} INFO - iteration 892, current learner lgbm\n",
      "[flaml.automl.logger: 03-14 17:29:39] {2391} INFO -  at 143.8s,\testimator lgbm's best error=0.3560,\tbest estimator lgbm's best error=0.3560\n",
      "[flaml.automl.logger: 03-14 17:29:39] {2218} INFO - iteration 893, current learner lgbm\n",
      "[flaml.automl.logger: 03-14 17:29:40] {2391} INFO -  at 143.9s,\testimator lgbm's best error=0.3560,\tbest estimator lgbm's best error=0.3560\n",
      "[flaml.automl.logger: 03-14 17:29:40] {2218} INFO - iteration 894, current learner lgbm\n",
      "[flaml.automl.logger: 03-14 17:29:40] {2391} INFO -  at 144.1s,\testimator lgbm's best error=0.3560,\tbest estimator lgbm's best error=0.3560\n",
      "[flaml.automl.logger: 03-14 17:29:40] {2218} INFO - iteration 895, current learner lgbm\n",
      "[flaml.automl.logger: 03-14 17:29:40] {2391} INFO -  at 144.2s,\testimator lgbm's best error=0.3560,\tbest estimator lgbm's best error=0.3560\n",
      "[flaml.automl.logger: 03-14 17:29:40] {2218} INFO - iteration 896, current learner lgbm\n",
      "[flaml.automl.logger: 03-14 17:29:40] {2391} INFO -  at 144.4s,\testimator lgbm's best error=0.3560,\tbest estimator lgbm's best error=0.3560\n",
      "[flaml.automl.logger: 03-14 17:29:40] {2218} INFO - iteration 897, current learner lgbm\n",
      "[flaml.automl.logger: 03-14 17:29:40] {2391} INFO -  at 144.5s,\testimator lgbm's best error=0.3560,\tbest estimator lgbm's best error=0.3560\n",
      "[flaml.automl.logger: 03-14 17:29:40] {2218} INFO - iteration 898, current learner lgbm\n",
      "[flaml.automl.logger: 03-14 17:29:40] {2391} INFO -  at 144.7s,\testimator lgbm's best error=0.3560,\tbest estimator lgbm's best error=0.3560\n",
      "[flaml.automl.logger: 03-14 17:29:40] {2218} INFO - iteration 899, current learner lgbm\n",
      "[flaml.automl.logger: 03-14 17:29:40] {2391} INFO -  at 144.8s,\testimator lgbm's best error=0.3560,\tbest estimator lgbm's best error=0.3560\n",
      "[flaml.automl.logger: 03-14 17:29:40] {2218} INFO - iteration 900, current learner lgbm\n",
      "[flaml.automl.logger: 03-14 17:29:41] {2391} INFO -  at 145.1s,\testimator lgbm's best error=0.3560,\tbest estimator lgbm's best error=0.3560\n",
      "[flaml.automl.logger: 03-14 17:29:41] {2218} INFO - iteration 901, current learner lgbm\n",
      "[flaml.automl.logger: 03-14 17:29:41] {2391} INFO -  at 145.2s,\testimator lgbm's best error=0.3560,\tbest estimator lgbm's best error=0.3560\n",
      "[flaml.automl.logger: 03-14 17:29:41] {2218} INFO - iteration 902, current learner lgbm\n",
      "[flaml.automl.logger: 03-14 17:29:41] {2391} INFO -  at 145.5s,\testimator lgbm's best error=0.3560,\tbest estimator lgbm's best error=0.3560\n",
      "[flaml.automl.logger: 03-14 17:29:41] {2218} INFO - iteration 903, current learner lgbm\n",
      "[flaml.automl.logger: 03-14 17:29:41] {2391} INFO -  at 145.5s,\testimator lgbm's best error=0.3560,\tbest estimator lgbm's best error=0.3560\n",
      "[flaml.automl.logger: 03-14 17:29:41] {2218} INFO - iteration 904, current learner lgbm\n",
      "[flaml.automl.logger: 03-14 17:29:41] {2391} INFO -  at 145.8s,\testimator lgbm's best error=0.3560,\tbest estimator lgbm's best error=0.3560\n",
      "[flaml.automl.logger: 03-14 17:29:41] {2218} INFO - iteration 905, current learner lgbm\n",
      "[flaml.automl.logger: 03-14 17:29:41] {2391} INFO -  at 145.9s,\testimator lgbm's best error=0.3560,\tbest estimator lgbm's best error=0.3560\n",
      "[flaml.automl.logger: 03-14 17:29:41] {2218} INFO - iteration 906, current learner lgbm\n",
      "[flaml.automl.logger: 03-14 17:29:42] {2391} INFO -  at 146.0s,\testimator lgbm's best error=0.3560,\tbest estimator lgbm's best error=0.3560\n",
      "[flaml.automl.logger: 03-14 17:29:42] {2218} INFO - iteration 907, current learner lgbm\n",
      "[flaml.automl.logger: 03-14 17:29:42] {2391} INFO -  at 146.1s,\testimator lgbm's best error=0.3560,\tbest estimator lgbm's best error=0.3560\n",
      "[flaml.automl.logger: 03-14 17:29:42] {2218} INFO - iteration 908, current learner lgbm\n",
      "[flaml.automl.logger: 03-14 17:29:42] {2391} INFO -  at 146.2s,\testimator lgbm's best error=0.3560,\tbest estimator lgbm's best error=0.3560\n",
      "[flaml.automl.logger: 03-14 17:29:42] {2218} INFO - iteration 909, current learner lgbm\n",
      "[flaml.automl.logger: 03-14 17:29:42] {2391} INFO -  at 146.4s,\testimator lgbm's best error=0.3560,\tbest estimator lgbm's best error=0.3560\n",
      "[flaml.automl.logger: 03-14 17:29:42] {2218} INFO - iteration 910, current learner lgbm\n",
      "[flaml.automl.logger: 03-14 17:29:42] {2391} INFO -  at 146.5s,\testimator lgbm's best error=0.3560,\tbest estimator lgbm's best error=0.3560\n",
      "[flaml.automl.logger: 03-14 17:29:42] {2218} INFO - iteration 911, current learner lgbm\n",
      "[flaml.automl.logger: 03-14 17:29:42] {2391} INFO -  at 146.6s,\testimator lgbm's best error=0.3560,\tbest estimator lgbm's best error=0.3560\n",
      "[flaml.automl.logger: 03-14 17:29:42] {2218} INFO - iteration 912, current learner lgbm\n",
      "[flaml.automl.logger: 03-14 17:29:42] {2391} INFO -  at 146.7s,\testimator lgbm's best error=0.3560,\tbest estimator lgbm's best error=0.3560\n",
      "[flaml.automl.logger: 03-14 17:29:42] {2218} INFO - iteration 913, current learner lgbm\n",
      "[flaml.automl.logger: 03-14 17:29:42] {2391} INFO -  at 146.9s,\testimator lgbm's best error=0.3560,\tbest estimator lgbm's best error=0.3560\n",
      "[flaml.automl.logger: 03-14 17:29:42] {2218} INFO - iteration 914, current learner lgbm\n",
      "[flaml.automl.logger: 03-14 17:29:43] {2391} INFO -  at 147.0s,\testimator lgbm's best error=0.3560,\tbest estimator lgbm's best error=0.3560\n",
      "[flaml.automl.logger: 03-14 17:29:43] {2218} INFO - iteration 915, current learner lgbm\n",
      "[flaml.automl.logger: 03-14 17:29:43] {2391} INFO -  at 147.2s,\testimator lgbm's best error=0.3560,\tbest estimator lgbm's best error=0.3560\n",
      "[flaml.automl.logger: 03-14 17:29:43] {2218} INFO - iteration 916, current learner lgbm\n",
      "[flaml.automl.logger: 03-14 17:29:43] {2391} INFO -  at 147.3s,\testimator lgbm's best error=0.3560,\tbest estimator lgbm's best error=0.3560\n",
      "[flaml.automl.logger: 03-14 17:29:43] {2218} INFO - iteration 917, current learner lgbm\n",
      "[flaml.automl.logger: 03-14 17:29:43] {2391} INFO -  at 147.5s,\testimator lgbm's best error=0.3560,\tbest estimator lgbm's best error=0.3560\n",
      "[flaml.automl.logger: 03-14 17:29:43] {2218} INFO - iteration 918, current learner lgbm\n",
      "[flaml.automl.logger: 03-14 17:29:43] {2391} INFO -  at 147.6s,\testimator lgbm's best error=0.3560,\tbest estimator lgbm's best error=0.3560\n",
      "[flaml.automl.logger: 03-14 17:29:43] {2218} INFO - iteration 919, current learner lgbm\n",
      "[flaml.automl.logger: 03-14 17:29:43] {2391} INFO -  at 147.7s,\testimator lgbm's best error=0.3560,\tbest estimator lgbm's best error=0.3560\n",
      "[flaml.automl.logger: 03-14 17:29:43] {2218} INFO - iteration 920, current learner lgbm\n",
      "[flaml.automl.logger: 03-14 17:29:43] {2391} INFO -  at 147.8s,\testimator lgbm's best error=0.3560,\tbest estimator lgbm's best error=0.3560\n",
      "[flaml.automl.logger: 03-14 17:29:43] {2218} INFO - iteration 921, current learner lgbm\n",
      "[flaml.automl.logger: 03-14 17:29:44] {2391} INFO -  at 148.3s,\testimator lgbm's best error=0.3560,\tbest estimator lgbm's best error=0.3560\n",
      "[flaml.automl.logger: 03-14 17:29:44] {2218} INFO - iteration 922, current learner lgbm\n",
      "[flaml.automl.logger: 03-14 17:29:44] {2391} INFO -  at 148.4s,\testimator lgbm's best error=0.3560,\tbest estimator lgbm's best error=0.3560\n",
      "[flaml.automl.logger: 03-14 17:29:44] {2218} INFO - iteration 923, current learner lgbm\n",
      "[flaml.automl.logger: 03-14 17:29:44] {2391} INFO -  at 148.7s,\testimator lgbm's best error=0.3560,\tbest estimator lgbm's best error=0.3560\n",
      "[flaml.automl.logger: 03-14 17:29:44] {2218} INFO - iteration 924, current learner lgbm\n",
      "[flaml.automl.logger: 03-14 17:29:44] {2391} INFO -  at 148.9s,\testimator lgbm's best error=0.3560,\tbest estimator lgbm's best error=0.3560\n",
      "[flaml.automl.logger: 03-14 17:29:44] {2218} INFO - iteration 925, current learner lgbm\n",
      "[flaml.automl.logger: 03-14 17:29:45] {2391} INFO -  at 149.1s,\testimator lgbm's best error=0.3560,\tbest estimator lgbm's best error=0.3560\n",
      "[flaml.automl.logger: 03-14 17:29:45] {2218} INFO - iteration 926, current learner lgbm\n",
      "[flaml.automl.logger: 03-14 17:29:45] {2391} INFO -  at 149.3s,\testimator lgbm's best error=0.3560,\tbest estimator lgbm's best error=0.3560\n",
      "[flaml.automl.logger: 03-14 17:29:45] {2218} INFO - iteration 927, current learner lgbm\n",
      "[flaml.automl.logger: 03-14 17:29:45] {2391} INFO -  at 149.5s,\testimator lgbm's best error=0.3560,\tbest estimator lgbm's best error=0.3560\n",
      "[flaml.automl.logger: 03-14 17:29:45] {2218} INFO - iteration 928, current learner lgbm\n",
      "[flaml.automl.logger: 03-14 17:29:46] {2391} INFO -  at 150.1s,\testimator lgbm's best error=0.3560,\tbest estimator lgbm's best error=0.3560\n",
      "[flaml.automl.logger: 03-14 17:29:46] {2218} INFO - iteration 929, current learner lgbm\n",
      "[flaml.automl.logger: 03-14 17:29:46] {2391} INFO -  at 150.3s,\testimator lgbm's best error=0.3560,\tbest estimator lgbm's best error=0.3560\n",
      "[flaml.automl.logger: 03-14 17:29:46] {2218} INFO - iteration 930, current learner lgbm\n",
      "[flaml.automl.logger: 03-14 17:29:46] {2391} INFO -  at 150.5s,\testimator lgbm's best error=0.3560,\tbest estimator lgbm's best error=0.3560\n",
      "[flaml.automl.logger: 03-14 17:29:46] {2218} INFO - iteration 931, current learner lgbm\n",
      "[flaml.automl.logger: 03-14 17:29:46] {2391} INFO -  at 150.6s,\testimator lgbm's best error=0.3560,\tbest estimator lgbm's best error=0.3560\n",
      "[flaml.automl.logger: 03-14 17:29:46] {2218} INFO - iteration 932, current learner lgbm\n",
      "[flaml.automl.logger: 03-14 17:29:46] {2391} INFO -  at 150.8s,\testimator lgbm's best error=0.3560,\tbest estimator lgbm's best error=0.3560\n",
      "[flaml.automl.logger: 03-14 17:29:46] {2218} INFO - iteration 933, current learner lgbm\n",
      "[flaml.automl.logger: 03-14 17:29:46] {2391} INFO -  at 150.9s,\testimator lgbm's best error=0.3560,\tbest estimator lgbm's best error=0.3560\n",
      "[flaml.automl.logger: 03-14 17:29:46] {2218} INFO - iteration 934, current learner lgbm\n",
      "[flaml.automl.logger: 03-14 17:29:47] {2391} INFO -  at 151.1s,\testimator lgbm's best error=0.3560,\tbest estimator lgbm's best error=0.3560\n",
      "[flaml.automl.logger: 03-14 17:29:47] {2218} INFO - iteration 935, current learner lgbm\n",
      "[flaml.automl.logger: 03-14 17:29:47] {2391} INFO -  at 151.2s,\testimator lgbm's best error=0.3560,\tbest estimator lgbm's best error=0.3560\n",
      "[flaml.automl.logger: 03-14 17:29:47] {2218} INFO - iteration 936, current learner lgbm\n",
      "[flaml.automl.logger: 03-14 17:29:47] {2391} INFO -  at 151.3s,\testimator lgbm's best error=0.3560,\tbest estimator lgbm's best error=0.3560\n",
      "[flaml.automl.logger: 03-14 17:29:47] {2218} INFO - iteration 937, current learner lgbm\n",
      "[flaml.automl.logger: 03-14 17:29:47] {2391} INFO -  at 151.4s,\testimator lgbm's best error=0.3560,\tbest estimator lgbm's best error=0.3560\n",
      "[flaml.automl.logger: 03-14 17:29:47] {2218} INFO - iteration 938, current learner lgbm\n",
      "[flaml.automl.logger: 03-14 17:29:47] {2391} INFO -  at 151.5s,\testimator lgbm's best error=0.3560,\tbest estimator lgbm's best error=0.3560\n",
      "[flaml.automl.logger: 03-14 17:29:47] {2218} INFO - iteration 939, current learner lgbm\n",
      "[flaml.automl.logger: 03-14 17:29:47] {2391} INFO -  at 151.8s,\testimator lgbm's best error=0.3560,\tbest estimator lgbm's best error=0.3560\n",
      "[flaml.automl.logger: 03-14 17:29:47] {2218} INFO - iteration 940, current learner lgbm\n",
      "[flaml.automl.logger: 03-14 17:29:48] {2391} INFO -  at 151.9s,\testimator lgbm's best error=0.3560,\tbest estimator lgbm's best error=0.3560\n",
      "[flaml.automl.logger: 03-14 17:29:48] {2218} INFO - iteration 941, current learner lgbm\n",
      "[flaml.automl.logger: 03-14 17:29:48] {2391} INFO -  at 152.0s,\testimator lgbm's best error=0.3560,\tbest estimator lgbm's best error=0.3560\n",
      "[flaml.automl.logger: 03-14 17:29:48] {2218} INFO - iteration 942, current learner lgbm\n",
      "[flaml.automl.logger: 03-14 17:29:48] {2391} INFO -  at 152.2s,\testimator lgbm's best error=0.3560,\tbest estimator lgbm's best error=0.3560\n",
      "[flaml.automl.logger: 03-14 17:29:48] {2218} INFO - iteration 943, current learner lgbm\n",
      "[flaml.automl.logger: 03-14 17:29:48] {2391} INFO -  at 152.3s,\testimator lgbm's best error=0.3560,\tbest estimator lgbm's best error=0.3560\n",
      "[flaml.automl.logger: 03-14 17:29:48] {2218} INFO - iteration 944, current learner lgbm\n",
      "[flaml.automl.logger: 03-14 17:29:48] {2391} INFO -  at 152.4s,\testimator lgbm's best error=0.3560,\tbest estimator lgbm's best error=0.3560\n",
      "[flaml.automl.logger: 03-14 17:29:48] {2218} INFO - iteration 945, current learner lgbm\n",
      "[flaml.automl.logger: 03-14 17:29:48] {2391} INFO -  at 152.5s,\testimator lgbm's best error=0.3560,\tbest estimator lgbm's best error=0.3560\n",
      "[flaml.automl.logger: 03-14 17:29:48] {2218} INFO - iteration 946, current learner lgbm\n",
      "[flaml.automl.logger: 03-14 17:29:48] {2391} INFO -  at 152.6s,\testimator lgbm's best error=0.3560,\tbest estimator lgbm's best error=0.3560\n",
      "[flaml.automl.logger: 03-14 17:29:48] {2218} INFO - iteration 947, current learner lgbm\n",
      "[flaml.automl.logger: 03-14 17:29:48] {2391} INFO -  at 152.7s,\testimator lgbm's best error=0.3560,\tbest estimator lgbm's best error=0.3560\n",
      "[flaml.automl.logger: 03-14 17:29:48] {2218} INFO - iteration 948, current learner lgbm\n",
      "[flaml.automl.logger: 03-14 17:29:48] {2391} INFO -  at 152.8s,\testimator lgbm's best error=0.3560,\tbest estimator lgbm's best error=0.3560\n",
      "[flaml.automl.logger: 03-14 17:29:48] {2218} INFO - iteration 949, current learner lgbm\n",
      "[flaml.automl.logger: 03-14 17:29:49] {2391} INFO -  at 153.0s,\testimator lgbm's best error=0.3560,\tbest estimator lgbm's best error=0.3560\n",
      "[flaml.automl.logger: 03-14 17:29:49] {2218} INFO - iteration 950, current learner lgbm\n",
      "[flaml.automl.logger: 03-14 17:29:49] {2391} INFO -  at 153.1s,\testimator lgbm's best error=0.3560,\tbest estimator lgbm's best error=0.3560\n",
      "[flaml.automl.logger: 03-14 17:29:49] {2218} INFO - iteration 951, current learner lgbm\n",
      "[flaml.automl.logger: 03-14 17:29:49] {2391} INFO -  at 153.2s,\testimator lgbm's best error=0.3560,\tbest estimator lgbm's best error=0.3560\n",
      "[flaml.automl.logger: 03-14 17:29:49] {2218} INFO - iteration 952, current learner lgbm\n",
      "[flaml.automl.logger: 03-14 17:29:49] {2391} INFO -  at 153.3s,\testimator lgbm's best error=0.3560,\tbest estimator lgbm's best error=0.3560\n",
      "[flaml.automl.logger: 03-14 17:29:49] {2218} INFO - iteration 953, current learner lgbm\n",
      "[flaml.automl.logger: 03-14 17:29:49] {2391} INFO -  at 153.4s,\testimator lgbm's best error=0.3560,\tbest estimator lgbm's best error=0.3560\n",
      "[flaml.automl.logger: 03-14 17:29:49] {2218} INFO - iteration 954, current learner lgbm\n",
      "[flaml.automl.logger: 03-14 17:29:49] {2391} INFO -  at 153.5s,\testimator lgbm's best error=0.3560,\tbest estimator lgbm's best error=0.3560\n",
      "[flaml.automl.logger: 03-14 17:29:49] {2218} INFO - iteration 955, current learner lgbm\n",
      "[flaml.automl.logger: 03-14 17:29:49] {2391} INFO -  at 153.6s,\testimator lgbm's best error=0.3560,\tbest estimator lgbm's best error=0.3560\n",
      "[flaml.automl.logger: 03-14 17:29:49] {2218} INFO - iteration 956, current learner lgbm\n",
      "[flaml.automl.logger: 03-14 17:29:50] {2391} INFO -  at 154.0s,\testimator lgbm's best error=0.3560,\tbest estimator lgbm's best error=0.3560\n",
      "[flaml.automl.logger: 03-14 17:29:50] {2218} INFO - iteration 957, current learner lgbm\n",
      "[flaml.automl.logger: 03-14 17:29:50] {2391} INFO -  at 154.1s,\testimator lgbm's best error=0.3560,\tbest estimator lgbm's best error=0.3560\n",
      "[flaml.automl.logger: 03-14 17:29:50] {2218} INFO - iteration 958, current learner lgbm\n",
      "[flaml.automl.logger: 03-14 17:29:50] {2391} INFO -  at 154.2s,\testimator lgbm's best error=0.3560,\tbest estimator lgbm's best error=0.3560\n",
      "[flaml.automl.logger: 03-14 17:29:50] {2218} INFO - iteration 959, current learner lgbm\n",
      "[flaml.automl.logger: 03-14 17:29:50] {2391} INFO -  at 154.5s,\testimator lgbm's best error=0.3560,\tbest estimator lgbm's best error=0.3560\n",
      "[flaml.automl.logger: 03-14 17:29:50] {2218} INFO - iteration 960, current learner lgbm\n",
      "[flaml.automl.logger: 03-14 17:29:50] {2391} INFO -  at 154.7s,\testimator lgbm's best error=0.3560,\tbest estimator lgbm's best error=0.3560\n",
      "[flaml.automl.logger: 03-14 17:29:50] {2218} INFO - iteration 961, current learner lgbm\n",
      "[flaml.automl.logger: 03-14 17:29:50] {2391} INFO -  at 154.9s,\testimator lgbm's best error=0.3560,\tbest estimator lgbm's best error=0.3560\n",
      "[flaml.automl.logger: 03-14 17:29:50] {2218} INFO - iteration 962, current learner lgbm\n",
      "[flaml.automl.logger: 03-14 17:29:51] {2391} INFO -  at 155.0s,\testimator lgbm's best error=0.3560,\tbest estimator lgbm's best error=0.3560\n",
      "[flaml.automl.logger: 03-14 17:29:51] {2218} INFO - iteration 963, current learner lgbm\n",
      "[flaml.automl.logger: 03-14 17:29:51] {2391} INFO -  at 155.1s,\testimator lgbm's best error=0.3560,\tbest estimator lgbm's best error=0.3560\n",
      "[flaml.automl.logger: 03-14 17:29:51] {2218} INFO - iteration 964, current learner lgbm\n",
      "[flaml.automl.logger: 03-14 17:29:51] {2391} INFO -  at 155.3s,\testimator lgbm's best error=0.3560,\tbest estimator lgbm's best error=0.3560\n",
      "[flaml.automl.logger: 03-14 17:29:51] {2218} INFO - iteration 965, current learner lgbm\n",
      "[flaml.automl.logger: 03-14 17:29:51] {2391} INFO -  at 155.3s,\testimator lgbm's best error=0.3560,\tbest estimator lgbm's best error=0.3560\n",
      "[flaml.automl.logger: 03-14 17:29:51] {2218} INFO - iteration 966, current learner lgbm\n",
      "[flaml.automl.logger: 03-14 17:29:51] {2391} INFO -  at 155.5s,\testimator lgbm's best error=0.3560,\tbest estimator lgbm's best error=0.3560\n",
      "[flaml.automl.logger: 03-14 17:29:51] {2218} INFO - iteration 967, current learner lgbm\n",
      "[flaml.automl.logger: 03-14 17:29:51] {2391} INFO -  at 155.6s,\testimator lgbm's best error=0.3430,\tbest estimator lgbm's best error=0.3430\n",
      "[flaml.automl.logger: 03-14 17:29:51] {2218} INFO - iteration 968, current learner lgbm\n",
      "[flaml.automl.logger: 03-14 17:29:51] {2391} INFO -  at 155.7s,\testimator lgbm's best error=0.3430,\tbest estimator lgbm's best error=0.3430\n",
      "[flaml.automl.logger: 03-14 17:29:51] {2218} INFO - iteration 969, current learner lgbm\n",
      "[flaml.automl.logger: 03-14 17:29:51] {2391} INFO -  at 155.9s,\testimator lgbm's best error=0.3430,\tbest estimator lgbm's best error=0.3430\n",
      "[flaml.automl.logger: 03-14 17:29:51] {2218} INFO - iteration 970, current learner lgbm\n",
      "[flaml.automl.logger: 03-14 17:29:52] {2391} INFO -  at 156.2s,\testimator lgbm's best error=0.3430,\tbest estimator lgbm's best error=0.3430\n",
      "[flaml.automl.logger: 03-14 17:29:52] {2218} INFO - iteration 971, current learner lgbm\n",
      "[flaml.automl.logger: 03-14 17:29:52] {2391} INFO -  at 156.3s,\testimator lgbm's best error=0.3430,\tbest estimator lgbm's best error=0.3430\n",
      "[flaml.automl.logger: 03-14 17:29:52] {2218} INFO - iteration 972, current learner lgbm\n",
      "[flaml.automl.logger: 03-14 17:29:52] {2391} INFO -  at 156.5s,\testimator lgbm's best error=0.3430,\tbest estimator lgbm's best error=0.3430\n",
      "[flaml.automl.logger: 03-14 17:29:52] {2218} INFO - iteration 973, current learner lgbm\n",
      "[flaml.automl.logger: 03-14 17:29:52] {2391} INFO -  at 156.6s,\testimator lgbm's best error=0.3430,\tbest estimator lgbm's best error=0.3430\n",
      "[flaml.automl.logger: 03-14 17:29:52] {2218} INFO - iteration 974, current learner lgbm\n",
      "[flaml.automl.logger: 03-14 17:29:52] {2391} INFO -  at 156.7s,\testimator lgbm's best error=0.3430,\tbest estimator lgbm's best error=0.3430\n",
      "[flaml.automl.logger: 03-14 17:29:52] {2218} INFO - iteration 975, current learner lgbm\n",
      "[flaml.automl.logger: 03-14 17:29:53] {2391} INFO -  at 156.9s,\testimator lgbm's best error=0.3430,\tbest estimator lgbm's best error=0.3430\n",
      "[flaml.automl.logger: 03-14 17:29:53] {2218} INFO - iteration 976, current learner lgbm\n",
      "[flaml.automl.logger: 03-14 17:29:53] {2391} INFO -  at 157.1s,\testimator lgbm's best error=0.3430,\tbest estimator lgbm's best error=0.3430\n",
      "[flaml.automl.logger: 03-14 17:29:53] {2218} INFO - iteration 977, current learner lgbm\n",
      "[flaml.automl.logger: 03-14 17:29:53] {2391} INFO -  at 157.3s,\testimator lgbm's best error=0.3430,\tbest estimator lgbm's best error=0.3430\n",
      "[flaml.automl.logger: 03-14 17:29:53] {2218} INFO - iteration 978, current learner lgbm\n",
      "[flaml.automl.logger: 03-14 17:29:53] {2391} INFO -  at 157.4s,\testimator lgbm's best error=0.3430,\tbest estimator lgbm's best error=0.3430\n",
      "[flaml.automl.logger: 03-14 17:29:53] {2218} INFO - iteration 979, current learner lgbm\n",
      "[flaml.automl.logger: 03-14 17:29:53] {2391} INFO -  at 157.6s,\testimator lgbm's best error=0.3430,\tbest estimator lgbm's best error=0.3430\n",
      "[flaml.automl.logger: 03-14 17:29:53] {2218} INFO - iteration 980, current learner lgbm\n",
      "[flaml.automl.logger: 03-14 17:29:53] {2391} INFO -  at 157.7s,\testimator lgbm's best error=0.3430,\tbest estimator lgbm's best error=0.3430\n",
      "[flaml.automl.logger: 03-14 17:29:53] {2218} INFO - iteration 981, current learner lgbm\n",
      "[flaml.automl.logger: 03-14 17:29:53] {2391} INFO -  at 157.9s,\testimator lgbm's best error=0.3430,\tbest estimator lgbm's best error=0.3430\n",
      "[flaml.automl.logger: 03-14 17:29:53] {2218} INFO - iteration 982, current learner lgbm\n",
      "[flaml.automl.logger: 03-14 17:29:54] {2391} INFO -  at 158.0s,\testimator lgbm's best error=0.3430,\tbest estimator lgbm's best error=0.3430\n",
      "[flaml.automl.logger: 03-14 17:29:54] {2218} INFO - iteration 983, current learner lgbm\n",
      "[flaml.automl.logger: 03-14 17:29:54] {2391} INFO -  at 158.1s,\testimator lgbm's best error=0.3430,\tbest estimator lgbm's best error=0.3430\n",
      "[flaml.automl.logger: 03-14 17:29:54] {2218} INFO - iteration 984, current learner lgbm\n",
      "[flaml.automl.logger: 03-14 17:29:54] {2391} INFO -  at 158.2s,\testimator lgbm's best error=0.3430,\tbest estimator lgbm's best error=0.3430\n",
      "[flaml.automl.logger: 03-14 17:29:54] {2218} INFO - iteration 985, current learner lgbm\n",
      "[flaml.automl.logger: 03-14 17:29:54] {2391} INFO -  at 158.3s,\testimator lgbm's best error=0.3430,\tbest estimator lgbm's best error=0.3430\n",
      "[flaml.automl.logger: 03-14 17:29:54] {2218} INFO - iteration 986, current learner lgbm\n",
      "[flaml.automl.logger: 03-14 17:29:54] {2391} INFO -  at 158.4s,\testimator lgbm's best error=0.3430,\tbest estimator lgbm's best error=0.3430\n",
      "[flaml.automl.logger: 03-14 17:29:54] {2218} INFO - iteration 987, current learner lgbm\n",
      "[flaml.automl.logger: 03-14 17:29:54] {2391} INFO -  at 158.5s,\testimator lgbm's best error=0.3430,\tbest estimator lgbm's best error=0.3430\n",
      "[flaml.automl.logger: 03-14 17:29:54] {2218} INFO - iteration 988, current learner lgbm\n",
      "[flaml.automl.logger: 03-14 17:29:54] {2391} INFO -  at 158.6s,\testimator lgbm's best error=0.3430,\tbest estimator lgbm's best error=0.3430\n",
      "[flaml.automl.logger: 03-14 17:29:54] {2218} INFO - iteration 989, current learner lgbm\n",
      "[flaml.automl.logger: 03-14 17:29:54] {2391} INFO -  at 158.7s,\testimator lgbm's best error=0.3430,\tbest estimator lgbm's best error=0.3430\n",
      "[flaml.automl.logger: 03-14 17:29:54] {2218} INFO - iteration 990, current learner lgbm\n",
      "[flaml.automl.logger: 03-14 17:29:54] {2391} INFO -  at 158.9s,\testimator lgbm's best error=0.3430,\tbest estimator lgbm's best error=0.3430\n",
      "[flaml.automl.logger: 03-14 17:29:54] {2218} INFO - iteration 991, current learner lgbm\n",
      "[flaml.automl.logger: 03-14 17:29:55] {2391} INFO -  at 159.2s,\testimator lgbm's best error=0.3430,\tbest estimator lgbm's best error=0.3430\n",
      "[flaml.automl.logger: 03-14 17:29:55] {2218} INFO - iteration 992, current learner lgbm\n",
      "[flaml.automl.logger: 03-14 17:29:55] {2391} INFO -  at 159.3s,\testimator lgbm's best error=0.3430,\tbest estimator lgbm's best error=0.3430\n",
      "[flaml.automl.logger: 03-14 17:29:55] {2218} INFO - iteration 993, current learner lgbm\n",
      "[flaml.automl.logger: 03-14 17:29:55] {2391} INFO -  at 159.5s,\testimator lgbm's best error=0.3430,\tbest estimator lgbm's best error=0.3430\n",
      "[flaml.automl.logger: 03-14 17:29:55] {2218} INFO - iteration 994, current learner lgbm\n",
      "[flaml.automl.logger: 03-14 17:29:55] {2391} INFO -  at 159.6s,\testimator lgbm's best error=0.3430,\tbest estimator lgbm's best error=0.3430\n",
      "[flaml.automl.logger: 03-14 17:29:55] {2218} INFO - iteration 995, current learner lgbm\n",
      "[flaml.automl.logger: 03-14 17:29:55] {2391} INFO -  at 159.8s,\testimator lgbm's best error=0.3430,\tbest estimator lgbm's best error=0.3430\n",
      "[flaml.automl.logger: 03-14 17:29:55] {2218} INFO - iteration 996, current learner lgbm\n",
      "[flaml.automl.logger: 03-14 17:29:56] {2391} INFO -  at 159.9s,\testimator lgbm's best error=0.3430,\tbest estimator lgbm's best error=0.3430\n",
      "[flaml.automl.logger: 03-14 17:29:56] {2218} INFO - iteration 997, current learner lgbm\n",
      "[flaml.automl.logger: 03-14 17:29:56] {2391} INFO -  at 160.1s,\testimator lgbm's best error=0.3430,\tbest estimator lgbm's best error=0.3430\n",
      "[flaml.automl.logger: 03-14 17:29:56] {2218} INFO - iteration 998, current learner lgbm\n",
      "[flaml.automl.logger: 03-14 17:29:56] {2391} INFO -  at 160.2s,\testimator lgbm's best error=0.3430,\tbest estimator lgbm's best error=0.3430\n",
      "[flaml.automl.logger: 03-14 17:29:56] {2218} INFO - iteration 999, current learner lgbm\n",
      "[flaml.automl.logger: 03-14 17:29:56] {2391} INFO -  at 160.4s,\testimator lgbm's best error=0.3430,\tbest estimator lgbm's best error=0.3430\n",
      "[flaml.automl.logger: 03-14 17:29:56] {2218} INFO - iteration 1000, current learner lgbm\n",
      "[flaml.automl.logger: 03-14 17:29:56] {2391} INFO -  at 160.5s,\testimator lgbm's best error=0.3430,\tbest estimator lgbm's best error=0.3430\n",
      "[flaml.automl.logger: 03-14 17:29:56] {2218} INFO - iteration 1001, current learner lgbm\n",
      "[flaml.automl.logger: 03-14 17:29:56] {2391} INFO -  at 160.5s,\testimator lgbm's best error=0.3430,\tbest estimator lgbm's best error=0.3430\n",
      "[flaml.automl.logger: 03-14 17:29:56] {2218} INFO - iteration 1002, current learner lgbm\n",
      "[flaml.automl.logger: 03-14 17:29:56] {2391} INFO -  at 160.6s,\testimator lgbm's best error=0.3430,\tbest estimator lgbm's best error=0.3430\n",
      "[flaml.automl.logger: 03-14 17:29:56] {2218} INFO - iteration 1003, current learner lgbm\n",
      "[flaml.automl.logger: 03-14 17:29:56] {2391} INFO -  at 160.7s,\testimator lgbm's best error=0.3430,\tbest estimator lgbm's best error=0.3430\n",
      "[flaml.automl.logger: 03-14 17:29:56] {2218} INFO - iteration 1004, current learner lgbm\n",
      "[flaml.automl.logger: 03-14 17:29:56] {2391} INFO -  at 160.8s,\testimator lgbm's best error=0.3430,\tbest estimator lgbm's best error=0.3430\n",
      "[flaml.automl.logger: 03-14 17:29:56] {2218} INFO - iteration 1005, current learner lgbm\n",
      "[flaml.automl.logger: 03-14 17:29:56] {2391} INFO -  at 160.9s,\testimator lgbm's best error=0.3430,\tbest estimator lgbm's best error=0.3430\n",
      "[flaml.automl.logger: 03-14 17:29:57] {2218} INFO - iteration 1006, current learner lgbm\n",
      "[flaml.automl.logger: 03-14 17:29:57] {2391} INFO -  at 161.0s,\testimator lgbm's best error=0.3430,\tbest estimator lgbm's best error=0.3430\n",
      "[flaml.automl.logger: 03-14 17:29:57] {2218} INFO - iteration 1007, current learner lgbm\n",
      "[flaml.automl.logger: 03-14 17:29:57] {2391} INFO -  at 161.1s,\testimator lgbm's best error=0.3430,\tbest estimator lgbm's best error=0.3430\n",
      "[flaml.automl.logger: 03-14 17:29:57] {2218} INFO - iteration 1008, current learner lgbm\n",
      "[flaml.automl.logger: 03-14 17:29:57] {2391} INFO -  at 161.2s,\testimator lgbm's best error=0.3430,\tbest estimator lgbm's best error=0.3430\n",
      "[flaml.automl.logger: 03-14 17:29:57] {2218} INFO - iteration 1009, current learner lgbm\n",
      "[flaml.automl.logger: 03-14 17:29:57] {2391} INFO -  at 161.3s,\testimator lgbm's best error=0.3430,\tbest estimator lgbm's best error=0.3430\n",
      "[flaml.automl.logger: 03-14 17:29:57] {2218} INFO - iteration 1010, current learner lgbm\n",
      "[flaml.automl.logger: 03-14 17:29:57] {2391} INFO -  at 161.5s,\testimator lgbm's best error=0.3430,\tbest estimator lgbm's best error=0.3430\n",
      "[flaml.automl.logger: 03-14 17:29:57] {2218} INFO - iteration 1011, current learner lgbm\n",
      "[flaml.automl.logger: 03-14 17:29:57] {2391} INFO -  at 161.5s,\testimator lgbm's best error=0.3430,\tbest estimator lgbm's best error=0.3430\n",
      "[flaml.automl.logger: 03-14 17:29:57] {2218} INFO - iteration 1012, current learner lgbm\n",
      "[flaml.automl.logger: 03-14 17:29:57] {2391} INFO -  at 161.7s,\testimator lgbm's best error=0.3430,\tbest estimator lgbm's best error=0.3430\n",
      "[flaml.automl.logger: 03-14 17:29:57] {2218} INFO - iteration 1013, current learner lgbm\n",
      "[flaml.automl.logger: 03-14 17:29:57] {2391} INFO -  at 161.8s,\testimator lgbm's best error=0.3430,\tbest estimator lgbm's best error=0.3430\n",
      "[flaml.automl.logger: 03-14 17:29:57] {2218} INFO - iteration 1014, current learner lgbm\n",
      "[flaml.automl.logger: 03-14 17:29:57] {2391} INFO -  at 161.9s,\testimator lgbm's best error=0.3430,\tbest estimator lgbm's best error=0.3430\n",
      "[flaml.automl.logger: 03-14 17:29:57] {2218} INFO - iteration 1015, current learner lgbm\n",
      "[flaml.automl.logger: 03-14 17:29:58] {2391} INFO -  at 162.0s,\testimator lgbm's best error=0.3430,\tbest estimator lgbm's best error=0.3430\n",
      "[flaml.automl.logger: 03-14 17:29:58] {2218} INFO - iteration 1016, current learner lgbm\n",
      "[flaml.automl.logger: 03-14 17:29:58] {2391} INFO -  at 162.1s,\testimator lgbm's best error=0.3430,\tbest estimator lgbm's best error=0.3430\n",
      "[flaml.automl.logger: 03-14 17:29:58] {2218} INFO - iteration 1017, current learner lgbm\n",
      "[flaml.automl.logger: 03-14 17:29:58] {2391} INFO -  at 162.2s,\testimator lgbm's best error=0.3430,\tbest estimator lgbm's best error=0.3430\n",
      "[flaml.automl.logger: 03-14 17:29:58] {2218} INFO - iteration 1018, current learner lgbm\n",
      "[flaml.automl.logger: 03-14 17:29:58] {2391} INFO -  at 162.3s,\testimator lgbm's best error=0.3430,\tbest estimator lgbm's best error=0.3430\n",
      "[flaml.automl.logger: 03-14 17:29:58] {2218} INFO - iteration 1019, current learner lgbm\n",
      "[flaml.automl.logger: 03-14 17:29:58] {2391} INFO -  at 162.4s,\testimator lgbm's best error=0.3430,\tbest estimator lgbm's best error=0.3430\n",
      "[flaml.automl.logger: 03-14 17:29:58] {2218} INFO - iteration 1020, current learner lgbm\n",
      "[flaml.automl.logger: 03-14 17:29:58] {2391} INFO -  at 162.5s,\testimator lgbm's best error=0.3430,\tbest estimator lgbm's best error=0.3430\n",
      "[flaml.automl.logger: 03-14 17:29:58] {2218} INFO - iteration 1021, current learner lgbm\n",
      "[flaml.automl.logger: 03-14 17:29:58] {2391} INFO -  at 162.6s,\testimator lgbm's best error=0.3430,\tbest estimator lgbm's best error=0.3430\n",
      "[flaml.automl.logger: 03-14 17:29:58] {2218} INFO - iteration 1022, current learner lgbm\n",
      "[flaml.automl.logger: 03-14 17:29:58] {2391} INFO -  at 162.7s,\testimator lgbm's best error=0.3430,\tbest estimator lgbm's best error=0.3430\n",
      "[flaml.automl.logger: 03-14 17:29:58] {2218} INFO - iteration 1023, current learner lgbm\n",
      "[flaml.automl.logger: 03-14 17:29:58] {2391} INFO -  at 162.8s,\testimator lgbm's best error=0.3430,\tbest estimator lgbm's best error=0.3430\n",
      "[flaml.automl.logger: 03-14 17:29:58] {2218} INFO - iteration 1024, current learner lgbm\n",
      "[flaml.automl.logger: 03-14 17:29:59] {2391} INFO -  at 163.0s,\testimator lgbm's best error=0.3430,\tbest estimator lgbm's best error=0.3430\n",
      "[flaml.automl.logger: 03-14 17:29:59] {2218} INFO - iteration 1025, current learner lgbm\n",
      "[flaml.automl.logger: 03-14 17:29:59] {2391} INFO -  at 163.2s,\testimator lgbm's best error=0.3430,\tbest estimator lgbm's best error=0.3430\n",
      "[flaml.automl.logger: 03-14 17:29:59] {2218} INFO - iteration 1026, current learner lgbm\n",
      "[flaml.automl.logger: 03-14 17:29:59] {2391} INFO -  at 163.4s,\testimator lgbm's best error=0.3430,\tbest estimator lgbm's best error=0.3430\n",
      "[flaml.automl.logger: 03-14 17:29:59] {2218} INFO - iteration 1027, current learner lgbm\n",
      "[flaml.automl.logger: 03-14 17:29:59] {2391} INFO -  at 163.9s,\testimator lgbm's best error=0.3430,\tbest estimator lgbm's best error=0.3430\n",
      "[flaml.automl.logger: 03-14 17:29:59] {2218} INFO - iteration 1028, current learner lgbm\n",
      "[flaml.automl.logger: 03-14 17:30:00] {2391} INFO -  at 164.1s,\testimator lgbm's best error=0.3430,\tbest estimator lgbm's best error=0.3430\n",
      "[flaml.automl.logger: 03-14 17:30:00] {2218} INFO - iteration 1029, current learner lgbm\n",
      "[flaml.automl.logger: 03-14 17:30:00] {2391} INFO -  at 164.3s,\testimator lgbm's best error=0.3430,\tbest estimator lgbm's best error=0.3430\n",
      "[flaml.automl.logger: 03-14 17:30:00] {2218} INFO - iteration 1030, current learner lgbm\n",
      "[flaml.automl.logger: 03-14 17:30:00] {2391} INFO -  at 164.4s,\testimator lgbm's best error=0.3430,\tbest estimator lgbm's best error=0.3430\n",
      "[flaml.automl.logger: 03-14 17:30:00] {2218} INFO - iteration 1031, current learner lgbm\n",
      "[flaml.automl.logger: 03-14 17:30:00] {2391} INFO -  at 164.5s,\testimator lgbm's best error=0.3430,\tbest estimator lgbm's best error=0.3430\n",
      "[flaml.automl.logger: 03-14 17:30:00] {2218} INFO - iteration 1032, current learner lgbm\n",
      "[flaml.automl.logger: 03-14 17:30:00] {2391} INFO -  at 164.6s,\testimator lgbm's best error=0.3430,\tbest estimator lgbm's best error=0.3430\n",
      "[flaml.automl.logger: 03-14 17:30:00] {2218} INFO - iteration 1033, current learner lgbm\n",
      "[flaml.automl.logger: 03-14 17:30:00] {2391} INFO -  at 164.8s,\testimator lgbm's best error=0.3430,\tbest estimator lgbm's best error=0.3430\n",
      "[flaml.automl.logger: 03-14 17:30:00] {2218} INFO - iteration 1034, current learner lgbm\n",
      "[flaml.automl.logger: 03-14 17:30:00] {2391} INFO -  at 164.9s,\testimator lgbm's best error=0.3430,\tbest estimator lgbm's best error=0.3430\n",
      "[flaml.automl.logger: 03-14 17:30:00] {2218} INFO - iteration 1035, current learner lgbm\n",
      "[flaml.automl.logger: 03-14 17:30:01] {2391} INFO -  at 165.0s,\testimator lgbm's best error=0.3430,\tbest estimator lgbm's best error=0.3430\n",
      "[flaml.automl.logger: 03-14 17:30:01] {2218} INFO - iteration 1036, current learner lgbm\n",
      "[flaml.automl.logger: 03-14 17:30:01] {2391} INFO -  at 165.1s,\testimator lgbm's best error=0.3430,\tbest estimator lgbm's best error=0.3430\n",
      "[flaml.automl.logger: 03-14 17:30:01] {2218} INFO - iteration 1037, current learner lgbm\n",
      "[flaml.automl.logger: 03-14 17:30:01] {2391} INFO -  at 165.2s,\testimator lgbm's best error=0.3430,\tbest estimator lgbm's best error=0.3430\n",
      "[flaml.automl.logger: 03-14 17:30:01] {2218} INFO - iteration 1038, current learner lgbm\n",
      "[flaml.automl.logger: 03-14 17:30:01] {2391} INFO -  at 165.3s,\testimator lgbm's best error=0.3430,\tbest estimator lgbm's best error=0.3430\n",
      "[flaml.automl.logger: 03-14 17:30:01] {2218} INFO - iteration 1039, current learner lgbm\n",
      "[flaml.automl.logger: 03-14 17:30:01] {2391} INFO -  at 165.4s,\testimator lgbm's best error=0.3430,\tbest estimator lgbm's best error=0.3430\n",
      "[flaml.automl.logger: 03-14 17:30:01] {2218} INFO - iteration 1040, current learner lgbm\n",
      "[flaml.automl.logger: 03-14 17:30:01] {2391} INFO -  at 165.5s,\testimator lgbm's best error=0.3430,\tbest estimator lgbm's best error=0.3430\n",
      "[flaml.automl.logger: 03-14 17:30:01] {2218} INFO - iteration 1041, current learner lgbm\n",
      "[flaml.automl.logger: 03-14 17:30:01] {2391} INFO -  at 165.6s,\testimator lgbm's best error=0.3430,\tbest estimator lgbm's best error=0.3430\n",
      "[flaml.automl.logger: 03-14 17:30:01] {2218} INFO - iteration 1042, current learner lgbm\n",
      "[flaml.automl.logger: 03-14 17:30:01] {2391} INFO -  at 165.7s,\testimator lgbm's best error=0.3430,\tbest estimator lgbm's best error=0.3430\n",
      "[flaml.automl.logger: 03-14 17:30:01] {2218} INFO - iteration 1043, current learner lgbm\n",
      "[flaml.automl.logger: 03-14 17:30:01] {2391} INFO -  at 165.8s,\testimator lgbm's best error=0.3430,\tbest estimator lgbm's best error=0.3430\n",
      "[flaml.automl.logger: 03-14 17:30:01] {2218} INFO - iteration 1044, current learner lgbm\n",
      "[flaml.automl.logger: 03-14 17:30:02] {2391} INFO -  at 165.9s,\testimator lgbm's best error=0.3430,\tbest estimator lgbm's best error=0.3430\n",
      "[flaml.automl.logger: 03-14 17:30:02] {2218} INFO - iteration 1045, current learner lgbm\n",
      "[flaml.automl.logger: 03-14 17:30:02] {2391} INFO -  at 166.1s,\testimator lgbm's best error=0.3430,\tbest estimator lgbm's best error=0.3430\n",
      "[flaml.automl.logger: 03-14 17:30:02] {2218} INFO - iteration 1046, current learner lgbm\n",
      "[flaml.automl.logger: 03-14 17:30:02] {2391} INFO -  at 166.2s,\testimator lgbm's best error=0.3430,\tbest estimator lgbm's best error=0.3430\n",
      "[flaml.automl.logger: 03-14 17:30:02] {2218} INFO - iteration 1047, current learner lgbm\n",
      "[flaml.automl.logger: 03-14 17:30:02] {2391} INFO -  at 166.3s,\testimator lgbm's best error=0.3430,\tbest estimator lgbm's best error=0.3430\n",
      "[flaml.automl.logger: 03-14 17:30:02] {2218} INFO - iteration 1048, current learner lgbm\n",
      "[flaml.automl.logger: 03-14 17:30:02] {2391} INFO -  at 166.5s,\testimator lgbm's best error=0.3430,\tbest estimator lgbm's best error=0.3430\n",
      "[flaml.automl.logger: 03-14 17:30:02] {2218} INFO - iteration 1049, current learner lgbm\n",
      "[flaml.automl.logger: 03-14 17:30:02] {2391} INFO -  at 166.5s,\testimator lgbm's best error=0.3430,\tbest estimator lgbm's best error=0.3430\n",
      "[flaml.automl.logger: 03-14 17:30:02] {2218} INFO - iteration 1050, current learner lgbm\n",
      "[flaml.automl.logger: 03-14 17:30:02] {2391} INFO -  at 166.6s,\testimator lgbm's best error=0.3430,\tbest estimator lgbm's best error=0.3430\n",
      "[flaml.automl.logger: 03-14 17:30:02] {2218} INFO - iteration 1051, current learner lgbm\n",
      "[flaml.automl.logger: 03-14 17:30:02] {2391} INFO -  at 166.7s,\testimator lgbm's best error=0.3430,\tbest estimator lgbm's best error=0.3430\n",
      "[flaml.automl.logger: 03-14 17:30:02] {2218} INFO - iteration 1052, current learner lgbm\n",
      "[flaml.automl.logger: 03-14 17:30:02] {2391} INFO -  at 166.8s,\testimator lgbm's best error=0.3430,\tbest estimator lgbm's best error=0.3430\n",
      "[flaml.automl.logger: 03-14 17:30:02] {2218} INFO - iteration 1053, current learner lgbm\n",
      "[flaml.automl.logger: 03-14 17:30:02] {2391} INFO -  at 166.9s,\testimator lgbm's best error=0.3430,\tbest estimator lgbm's best error=0.3430\n",
      "[flaml.automl.logger: 03-14 17:30:02] {2218} INFO - iteration 1054, current learner lgbm\n",
      "[flaml.automl.logger: 03-14 17:30:03] {2391} INFO -  at 167.0s,\testimator lgbm's best error=0.3430,\tbest estimator lgbm's best error=0.3430\n",
      "[flaml.automl.logger: 03-14 17:30:03] {2218} INFO - iteration 1055, current learner lgbm\n",
      "[flaml.automl.logger: 03-14 17:30:03] {2391} INFO -  at 167.1s,\testimator lgbm's best error=0.3430,\tbest estimator lgbm's best error=0.3430\n",
      "[flaml.automl.logger: 03-14 17:30:03] {2218} INFO - iteration 1056, current learner lgbm\n",
      "[flaml.automl.logger: 03-14 17:30:03] {2391} INFO -  at 167.2s,\testimator lgbm's best error=0.3430,\tbest estimator lgbm's best error=0.3430\n",
      "[flaml.automl.logger: 03-14 17:30:03] {2218} INFO - iteration 1057, current learner lgbm\n",
      "[flaml.automl.logger: 03-14 17:30:03] {2391} INFO -  at 167.3s,\testimator lgbm's best error=0.3430,\tbest estimator lgbm's best error=0.3430\n",
      "[flaml.automl.logger: 03-14 17:30:03] {2218} INFO - iteration 1058, current learner lgbm\n",
      "[flaml.automl.logger: 03-14 17:30:03] {2391} INFO -  at 167.5s,\testimator lgbm's best error=0.3430,\tbest estimator lgbm's best error=0.3430\n",
      "[flaml.automl.logger: 03-14 17:30:03] {2218} INFO - iteration 1059, current learner lgbm\n",
      "[flaml.automl.logger: 03-14 17:30:03] {2391} INFO -  at 167.6s,\testimator lgbm's best error=0.3430,\tbest estimator lgbm's best error=0.3430\n",
      "[flaml.automl.logger: 03-14 17:30:03] {2218} INFO - iteration 1060, current learner lgbm\n",
      "[flaml.automl.logger: 03-14 17:30:03] {2391} INFO -  at 167.6s,\testimator lgbm's best error=0.3430,\tbest estimator lgbm's best error=0.3430\n",
      "[flaml.automl.logger: 03-14 17:30:03] {2218} INFO - iteration 1061, current learner lgbm\n",
      "[flaml.automl.logger: 03-14 17:30:03] {2391} INFO -  at 167.8s,\testimator lgbm's best error=0.3430,\tbest estimator lgbm's best error=0.3430\n",
      "[flaml.automl.logger: 03-14 17:30:03] {2218} INFO - iteration 1062, current learner lgbm\n",
      "[flaml.automl.logger: 03-14 17:30:03] {2391} INFO -  at 167.9s,\testimator lgbm's best error=0.3430,\tbest estimator lgbm's best error=0.3430\n",
      "[flaml.automl.logger: 03-14 17:30:03] {2218} INFO - iteration 1063, current learner lgbm\n",
      "[flaml.automl.logger: 03-14 17:30:04] {2391} INFO -  at 168.0s,\testimator lgbm's best error=0.3430,\tbest estimator lgbm's best error=0.3430\n",
      "[flaml.automl.logger: 03-14 17:30:04] {2218} INFO - iteration 1064, current learner lgbm\n",
      "[flaml.automl.logger: 03-14 17:30:04] {2391} INFO -  at 168.1s,\testimator lgbm's best error=0.3430,\tbest estimator lgbm's best error=0.3430\n",
      "[flaml.automl.logger: 03-14 17:30:04] {2218} INFO - iteration 1065, current learner lgbm\n",
      "[flaml.automl.logger: 03-14 17:30:04] {2391} INFO -  at 168.3s,\testimator lgbm's best error=0.3430,\tbest estimator lgbm's best error=0.3430\n",
      "[flaml.automl.logger: 03-14 17:30:04] {2218} INFO - iteration 1066, current learner lgbm\n",
      "[flaml.automl.logger: 03-14 17:30:04] {2391} INFO -  at 168.5s,\testimator lgbm's best error=0.3430,\tbest estimator lgbm's best error=0.3430\n",
      "[flaml.automl.logger: 03-14 17:30:04] {2218} INFO - iteration 1067, current learner lgbm\n",
      "[flaml.automl.logger: 03-14 17:30:04] {2391} INFO -  at 168.6s,\testimator lgbm's best error=0.3430,\tbest estimator lgbm's best error=0.3430\n",
      "[flaml.automl.logger: 03-14 17:30:04] {2218} INFO - iteration 1068, current learner lgbm\n",
      "[flaml.automl.logger: 03-14 17:30:04] {2391} INFO -  at 168.8s,\testimator lgbm's best error=0.3430,\tbest estimator lgbm's best error=0.3430\n",
      "[flaml.automl.logger: 03-14 17:30:04] {2218} INFO - iteration 1069, current learner lgbm\n",
      "[flaml.automl.logger: 03-14 17:30:05] {2391} INFO -  at 169.0s,\testimator lgbm's best error=0.3430,\tbest estimator lgbm's best error=0.3430\n",
      "[flaml.automl.logger: 03-14 17:30:05] {2218} INFO - iteration 1070, current learner lgbm\n",
      "[flaml.automl.logger: 03-14 17:30:05] {2391} INFO -  at 169.3s,\testimator lgbm's best error=0.3430,\tbest estimator lgbm's best error=0.3430\n",
      "[flaml.automl.logger: 03-14 17:30:05] {2218} INFO - iteration 1071, current learner lgbm\n",
      "[flaml.automl.logger: 03-14 17:30:05] {2391} INFO -  at 169.5s,\testimator lgbm's best error=0.3430,\tbest estimator lgbm's best error=0.3430\n",
      "[flaml.automl.logger: 03-14 17:30:05] {2218} INFO - iteration 1072, current learner lgbm\n",
      "[flaml.automl.logger: 03-14 17:30:05] {2391} INFO -  at 169.7s,\testimator lgbm's best error=0.3430,\tbest estimator lgbm's best error=0.3430\n",
      "[flaml.automl.logger: 03-14 17:30:05] {2218} INFO - iteration 1073, current learner lgbm\n",
      "[flaml.automl.logger: 03-14 17:30:05] {2391} INFO -  at 169.9s,\testimator lgbm's best error=0.3430,\tbest estimator lgbm's best error=0.3430\n",
      "[flaml.automl.logger: 03-14 17:30:05] {2218} INFO - iteration 1074, current learner lgbm\n",
      "[flaml.automl.logger: 03-14 17:30:06] {2391} INFO -  at 170.0s,\testimator lgbm's best error=0.3430,\tbest estimator lgbm's best error=0.3430\n",
      "[flaml.automl.logger: 03-14 17:30:06] {2218} INFO - iteration 1075, current learner lgbm\n",
      "[flaml.automl.logger: 03-14 17:30:06] {2391} INFO -  at 170.2s,\testimator lgbm's best error=0.3430,\tbest estimator lgbm's best error=0.3430\n",
      "[flaml.automl.logger: 03-14 17:30:06] {2218} INFO - iteration 1076, current learner lgbm\n",
      "[flaml.automl.logger: 03-14 17:30:06] {2391} INFO -  at 170.4s,\testimator lgbm's best error=0.3430,\tbest estimator lgbm's best error=0.3430\n",
      "[flaml.automl.logger: 03-14 17:30:06] {2218} INFO - iteration 1077, current learner lgbm\n",
      "[flaml.automl.logger: 03-14 17:30:06] {2391} INFO -  at 170.6s,\testimator lgbm's best error=0.3430,\tbest estimator lgbm's best error=0.3430\n",
      "[flaml.automl.logger: 03-14 17:30:06] {2218} INFO - iteration 1078, current learner lgbm\n",
      "[flaml.automl.logger: 03-14 17:30:06] {2391} INFO -  at 170.7s,\testimator lgbm's best error=0.3430,\tbest estimator lgbm's best error=0.3430\n",
      "[flaml.automl.logger: 03-14 17:30:06] {2218} INFO - iteration 1079, current learner lgbm\n",
      "[flaml.automl.logger: 03-14 17:30:07] {2391} INFO -  at 171.1s,\testimator lgbm's best error=0.3430,\tbest estimator lgbm's best error=0.3430\n",
      "[flaml.automl.logger: 03-14 17:30:07] {2218} INFO - iteration 1080, current learner lgbm\n",
      "[flaml.automl.logger: 03-14 17:30:07] {2391} INFO -  at 171.2s,\testimator lgbm's best error=0.3430,\tbest estimator lgbm's best error=0.3430\n",
      "[flaml.automl.logger: 03-14 17:30:07] {2218} INFO - iteration 1081, current learner lgbm\n",
      "[flaml.automl.logger: 03-14 17:30:07] {2391} INFO -  at 171.4s,\testimator lgbm's best error=0.3430,\tbest estimator lgbm's best error=0.3430\n",
      "[flaml.automl.logger: 03-14 17:30:07] {2218} INFO - iteration 1082, current learner lgbm\n",
      "[flaml.automl.logger: 03-14 17:30:07] {2391} INFO -  at 171.5s,\testimator lgbm's best error=0.3430,\tbest estimator lgbm's best error=0.3430\n",
      "[flaml.automl.logger: 03-14 17:30:07] {2218} INFO - iteration 1083, current learner lgbm\n",
      "[flaml.automl.logger: 03-14 17:30:07] {2391} INFO -  at 171.8s,\testimator lgbm's best error=0.3430,\tbest estimator lgbm's best error=0.3430\n",
      "[flaml.automl.logger: 03-14 17:30:07] {2218} INFO - iteration 1084, current learner lgbm\n",
      "[flaml.automl.logger: 03-14 17:30:08] {2391} INFO -  at 171.9s,\testimator lgbm's best error=0.3430,\tbest estimator lgbm's best error=0.3430\n",
      "[flaml.automl.logger: 03-14 17:30:08] {2218} INFO - iteration 1085, current learner lgbm\n",
      "[flaml.automl.logger: 03-14 17:30:08] {2391} INFO -  at 172.1s,\testimator lgbm's best error=0.3430,\tbest estimator lgbm's best error=0.3430\n",
      "[flaml.automl.logger: 03-14 17:30:08] {2218} INFO - iteration 1086, current learner lgbm\n",
      "[flaml.automl.logger: 03-14 17:30:08] {2391} INFO -  at 172.3s,\testimator lgbm's best error=0.3430,\tbest estimator lgbm's best error=0.3430\n",
      "[flaml.automl.logger: 03-14 17:30:08] {2218} INFO - iteration 1087, current learner lgbm\n",
      "[flaml.automl.logger: 03-14 17:30:08] {2391} INFO -  at 172.4s,\testimator lgbm's best error=0.3430,\tbest estimator lgbm's best error=0.3430\n",
      "[flaml.automl.logger: 03-14 17:30:08] {2218} INFO - iteration 1088, current learner lgbm\n",
      "[flaml.automl.logger: 03-14 17:30:08] {2391} INFO -  at 172.5s,\testimator lgbm's best error=0.3430,\tbest estimator lgbm's best error=0.3430\n",
      "[flaml.automl.logger: 03-14 17:30:08] {2218} INFO - iteration 1089, current learner lgbm\n",
      "[flaml.automl.logger: 03-14 17:30:08] {2391} INFO -  at 172.7s,\testimator lgbm's best error=0.3430,\tbest estimator lgbm's best error=0.3430\n",
      "[flaml.automl.logger: 03-14 17:30:08] {2218} INFO - iteration 1090, current learner lgbm\n",
      "[flaml.automl.logger: 03-14 17:30:08] {2391} INFO -  at 172.7s,\testimator lgbm's best error=0.3430,\tbest estimator lgbm's best error=0.3430\n",
      "[flaml.automl.logger: 03-14 17:30:08] {2218} INFO - iteration 1091, current learner lgbm\n",
      "[flaml.automl.logger: 03-14 17:30:08] {2391} INFO -  at 172.9s,\testimator lgbm's best error=0.3430,\tbest estimator lgbm's best error=0.3430\n",
      "[flaml.automl.logger: 03-14 17:30:08] {2218} INFO - iteration 1092, current learner lgbm\n",
      "[flaml.automl.logger: 03-14 17:30:09] {2391} INFO -  at 173.0s,\testimator lgbm's best error=0.3430,\tbest estimator lgbm's best error=0.3430\n",
      "[flaml.automl.logger: 03-14 17:30:09] {2218} INFO - iteration 1093, current learner lgbm\n",
      "[flaml.automl.logger: 03-14 17:30:09] {2391} INFO -  at 173.1s,\testimator lgbm's best error=0.3430,\tbest estimator lgbm's best error=0.3430\n",
      "[flaml.automl.logger: 03-14 17:30:09] {2218} INFO - iteration 1094, current learner lgbm\n",
      "[flaml.automl.logger: 03-14 17:30:09] {2391} INFO -  at 173.3s,\testimator lgbm's best error=0.3430,\tbest estimator lgbm's best error=0.3430\n",
      "[flaml.automl.logger: 03-14 17:30:09] {2218} INFO - iteration 1095, current learner lgbm\n",
      "[flaml.automl.logger: 03-14 17:30:09] {2391} INFO -  at 173.4s,\testimator lgbm's best error=0.3430,\tbest estimator lgbm's best error=0.3430\n",
      "[flaml.automl.logger: 03-14 17:30:09] {2218} INFO - iteration 1096, current learner lgbm\n",
      "[flaml.automl.logger: 03-14 17:30:09] {2391} INFO -  at 173.6s,\testimator lgbm's best error=0.3430,\tbest estimator lgbm's best error=0.3430\n",
      "[flaml.automl.logger: 03-14 17:30:09] {2218} INFO - iteration 1097, current learner lgbm\n",
      "[flaml.automl.logger: 03-14 17:30:09] {2391} INFO -  at 173.8s,\testimator lgbm's best error=0.3430,\tbest estimator lgbm's best error=0.3430\n",
      "[flaml.automl.logger: 03-14 17:30:09] {2218} INFO - iteration 1098, current learner lgbm\n",
      "[flaml.automl.logger: 03-14 17:30:10] {2391} INFO -  at 174.1s,\testimator lgbm's best error=0.3430,\tbest estimator lgbm's best error=0.3430\n",
      "[flaml.automl.logger: 03-14 17:30:10] {2218} INFO - iteration 1099, current learner lgbm\n",
      "[flaml.automl.logger: 03-14 17:30:10] {2391} INFO -  at 174.2s,\testimator lgbm's best error=0.3430,\tbest estimator lgbm's best error=0.3430\n",
      "[flaml.automl.logger: 03-14 17:30:10] {2218} INFO - iteration 1100, current learner lgbm\n",
      "[flaml.automl.logger: 03-14 17:30:10] {2391} INFO -  at 174.4s,\testimator lgbm's best error=0.3430,\tbest estimator lgbm's best error=0.3430\n",
      "[flaml.automl.logger: 03-14 17:30:10] {2218} INFO - iteration 1101, current learner lgbm\n",
      "[flaml.automl.logger: 03-14 17:30:10] {2391} INFO -  at 174.5s,\testimator lgbm's best error=0.3430,\tbest estimator lgbm's best error=0.3430\n",
      "[flaml.automl.logger: 03-14 17:30:10] {2218} INFO - iteration 1102, current learner lgbm\n",
      "[flaml.automl.logger: 03-14 17:30:10] {2391} INFO -  at 174.7s,\testimator lgbm's best error=0.3430,\tbest estimator lgbm's best error=0.3430\n",
      "[flaml.automl.logger: 03-14 17:30:10] {2218} INFO - iteration 1103, current learner lgbm\n",
      "[flaml.automl.logger: 03-14 17:30:10] {2391} INFO -  at 174.8s,\testimator lgbm's best error=0.3430,\tbest estimator lgbm's best error=0.3430\n",
      "[flaml.automl.logger: 03-14 17:30:10] {2218} INFO - iteration 1104, current learner lgbm\n",
      "[flaml.automl.logger: 03-14 17:30:11] {2391} INFO -  at 175.0s,\testimator lgbm's best error=0.3430,\tbest estimator lgbm's best error=0.3430\n",
      "[flaml.automl.logger: 03-14 17:30:11] {2218} INFO - iteration 1105, current learner lgbm\n",
      "[flaml.automl.logger: 03-14 17:30:11] {2391} INFO -  at 175.1s,\testimator lgbm's best error=0.3430,\tbest estimator lgbm's best error=0.3430\n",
      "[flaml.automl.logger: 03-14 17:30:11] {2218} INFO - iteration 1106, current learner lgbm\n",
      "[flaml.automl.logger: 03-14 17:30:11] {2391} INFO -  at 175.2s,\testimator lgbm's best error=0.3430,\tbest estimator lgbm's best error=0.3430\n",
      "[flaml.automl.logger: 03-14 17:30:11] {2218} INFO - iteration 1107, current learner lgbm\n",
      "[flaml.automl.logger: 03-14 17:30:11] {2391} INFO -  at 175.4s,\testimator lgbm's best error=0.3430,\tbest estimator lgbm's best error=0.3430\n",
      "[flaml.automl.logger: 03-14 17:30:11] {2218} INFO - iteration 1108, current learner lgbm\n",
      "[flaml.automl.logger: 03-14 17:30:11] {2391} INFO -  at 175.6s,\testimator lgbm's best error=0.3430,\tbest estimator lgbm's best error=0.3430\n",
      "[flaml.automl.logger: 03-14 17:30:11] {2218} INFO - iteration 1109, current learner lgbm\n",
      "[flaml.automl.logger: 03-14 17:30:11] {2391} INFO -  at 175.7s,\testimator lgbm's best error=0.3430,\tbest estimator lgbm's best error=0.3430\n",
      "[flaml.automl.logger: 03-14 17:30:11] {2218} INFO - iteration 1110, current learner lgbm\n",
      "[flaml.automl.logger: 03-14 17:30:11] {2391} INFO -  at 175.9s,\testimator lgbm's best error=0.3430,\tbest estimator lgbm's best error=0.3430\n",
      "[flaml.automl.logger: 03-14 17:30:11] {2218} INFO - iteration 1111, current learner lgbm\n",
      "[flaml.automl.logger: 03-14 17:30:12] {2391} INFO -  at 176.1s,\testimator lgbm's best error=0.3430,\tbest estimator lgbm's best error=0.3430\n",
      "[flaml.automl.logger: 03-14 17:30:12] {2218} INFO - iteration 1112, current learner lgbm\n",
      "[flaml.automl.logger: 03-14 17:30:12] {2391} INFO -  at 176.2s,\testimator lgbm's best error=0.3430,\tbest estimator lgbm's best error=0.3430\n",
      "[flaml.automl.logger: 03-14 17:30:12] {2218} INFO - iteration 1113, current learner lgbm\n",
      "[flaml.automl.logger: 03-14 17:30:12] {2391} INFO -  at 176.4s,\testimator lgbm's best error=0.3430,\tbest estimator lgbm's best error=0.3430\n",
      "[flaml.automl.logger: 03-14 17:30:12] {2218} INFO - iteration 1114, current learner lgbm\n",
      "[flaml.automl.logger: 03-14 17:30:12] {2391} INFO -  at 176.5s,\testimator lgbm's best error=0.3430,\tbest estimator lgbm's best error=0.3430\n",
      "[flaml.automl.logger: 03-14 17:30:12] {2218} INFO - iteration 1115, current learner lgbm\n",
      "[flaml.automl.logger: 03-14 17:30:12] {2391} INFO -  at 176.7s,\testimator lgbm's best error=0.3430,\tbest estimator lgbm's best error=0.3430\n",
      "[flaml.automl.logger: 03-14 17:30:12] {2218} INFO - iteration 1116, current learner lgbm\n",
      "[flaml.automl.logger: 03-14 17:30:12] {2391} INFO -  at 176.7s,\testimator lgbm's best error=0.3430,\tbest estimator lgbm's best error=0.3430\n",
      "[flaml.automl.logger: 03-14 17:30:12] {2218} INFO - iteration 1117, current learner lgbm\n",
      "[flaml.automl.logger: 03-14 17:30:12] {2391} INFO -  at 176.9s,\testimator lgbm's best error=0.3430,\tbest estimator lgbm's best error=0.3430\n",
      "[flaml.automl.logger: 03-14 17:30:12] {2218} INFO - iteration 1118, current learner lgbm\n",
      "[flaml.automl.logger: 03-14 17:30:13] {2391} INFO -  at 177.0s,\testimator lgbm's best error=0.3430,\tbest estimator lgbm's best error=0.3430\n",
      "[flaml.automl.logger: 03-14 17:30:13] {2218} INFO - iteration 1119, current learner lgbm\n",
      "[flaml.automl.logger: 03-14 17:30:13] {2391} INFO -  at 177.3s,\testimator lgbm's best error=0.3430,\tbest estimator lgbm's best error=0.3430\n",
      "[flaml.automl.logger: 03-14 17:30:13] {2218} INFO - iteration 1120, current learner lgbm\n",
      "[flaml.automl.logger: 03-14 17:30:13] {2391} INFO -  at 177.4s,\testimator lgbm's best error=0.3430,\tbest estimator lgbm's best error=0.3430\n",
      "[flaml.automl.logger: 03-14 17:30:13] {2218} INFO - iteration 1121, current learner lgbm\n",
      "[flaml.automl.logger: 03-14 17:30:13] {2391} INFO -  at 177.6s,\testimator lgbm's best error=0.3430,\tbest estimator lgbm's best error=0.3430\n",
      "[flaml.automl.logger: 03-14 17:30:13] {2218} INFO - iteration 1122, current learner lgbm\n",
      "[flaml.automl.logger: 03-14 17:30:13] {2391} INFO -  at 177.7s,\testimator lgbm's best error=0.3430,\tbest estimator lgbm's best error=0.3430\n",
      "[flaml.automl.logger: 03-14 17:30:13] {2218} INFO - iteration 1123, current learner lgbm\n",
      "[flaml.automl.logger: 03-14 17:30:14] {2391} INFO -  at 178.0s,\testimator lgbm's best error=0.3430,\tbest estimator lgbm's best error=0.3430\n",
      "[flaml.automl.logger: 03-14 17:30:14] {2218} INFO - iteration 1124, current learner lgbm\n",
      "[flaml.automl.logger: 03-14 17:30:14] {2391} INFO -  at 178.1s,\testimator lgbm's best error=0.3430,\tbest estimator lgbm's best error=0.3430\n",
      "[flaml.automl.logger: 03-14 17:30:14] {2218} INFO - iteration 1125, current learner lgbm\n",
      "[flaml.automl.logger: 03-14 17:30:14] {2391} INFO -  at 178.3s,\testimator lgbm's best error=0.3430,\tbest estimator lgbm's best error=0.3430\n",
      "[flaml.automl.logger: 03-14 17:30:14] {2218} INFO - iteration 1126, current learner lgbm\n",
      "[flaml.automl.logger: 03-14 17:30:14] {2391} INFO -  at 178.4s,\testimator lgbm's best error=0.3430,\tbest estimator lgbm's best error=0.3430\n",
      "[flaml.automl.logger: 03-14 17:30:14] {2218} INFO - iteration 1127, current learner lgbm\n",
      "[flaml.automl.logger: 03-14 17:30:14] {2391} INFO -  at 178.6s,\testimator lgbm's best error=0.3430,\tbest estimator lgbm's best error=0.3430\n",
      "[flaml.automl.logger: 03-14 17:30:14] {2218} INFO - iteration 1128, current learner lgbm\n",
      "[flaml.automl.logger: 03-14 17:30:14] {2391} INFO -  at 178.8s,\testimator lgbm's best error=0.3419,\tbest estimator lgbm's best error=0.3419\n",
      "[flaml.automl.logger: 03-14 17:30:14] {2218} INFO - iteration 1129, current learner lgbm\n",
      "[flaml.automl.logger: 03-14 17:30:14] {2391} INFO -  at 178.9s,\testimator lgbm's best error=0.3419,\tbest estimator lgbm's best error=0.3419\n",
      "[flaml.automl.logger: 03-14 17:30:14] {2218} INFO - iteration 1130, current learner lgbm\n",
      "[flaml.automl.logger: 03-14 17:30:15] {2391} INFO -  at 179.1s,\testimator lgbm's best error=0.3419,\tbest estimator lgbm's best error=0.3419\n",
      "[flaml.automl.logger: 03-14 17:30:15] {2218} INFO - iteration 1131, current learner lgbm\n",
      "[flaml.automl.logger: 03-14 17:30:15] {2391} INFO -  at 179.2s,\testimator lgbm's best error=0.3419,\tbest estimator lgbm's best error=0.3419\n",
      "[flaml.automl.logger: 03-14 17:30:15] {2218} INFO - iteration 1132, current learner lgbm\n",
      "[flaml.automl.logger: 03-14 17:30:15] {2391} INFO -  at 179.4s,\testimator lgbm's best error=0.3419,\tbest estimator lgbm's best error=0.3419\n",
      "[flaml.automl.logger: 03-14 17:30:15] {2218} INFO - iteration 1133, current learner lgbm\n",
      "[flaml.automl.logger: 03-14 17:30:15] {2391} INFO -  at 179.5s,\testimator lgbm's best error=0.3419,\tbest estimator lgbm's best error=0.3419\n",
      "[flaml.automl.logger: 03-14 17:30:15] {2218} INFO - iteration 1134, current learner lgbm\n",
      "[flaml.automl.logger: 03-14 17:30:15] {2391} INFO -  at 179.7s,\testimator lgbm's best error=0.3419,\tbest estimator lgbm's best error=0.3419\n",
      "[flaml.automl.logger: 03-14 17:30:15] {2218} INFO - iteration 1135, current learner lgbm\n",
      "[flaml.automl.logger: 03-14 17:30:15] {2391} INFO -  at 179.9s,\testimator lgbm's best error=0.3419,\tbest estimator lgbm's best error=0.3419\n",
      "[flaml.automl.logger: 03-14 17:30:15] {2627} INFO - retrain lgbm for 0.0s\n",
      "[flaml.automl.logger: 03-14 17:30:15] {2630} INFO - retrained model: LGBMClassifier(colsample_bytree=0.5668145642266408,\n",
      "               learning_rate=0.0706741666228183, max_bin=15,\n",
      "               min_child_samples=2, n_estimators=39, num_leaves=102,\n",
      "               reg_alpha=0.48485413881540396, reg_lambda=0.0009765625,\n",
      "               scale_pos_weight=20.85, verbose=-1)\n",
      "[flaml.automl.logger: 03-14 17:30:15] {1930} INFO - fit succeeded\n",
      "[flaml.automl.logger: 03-14 17:30:15] {1931} INFO - Time taken to find the best model: 178.77300000190735\n",
      "Best hyperparmeter config: {'n_estimators': 39, 'num_leaves': 102, 'min_child_samples': 2, 'learning_rate': 0.0706741666228183, 'log_max_bin': 4, 'colsample_bytree': 0.5668145642266408, 'reg_alpha': 0.48485413881540396, 'reg_lambda': 0.0009765625, 'scale_pos_weight': 20.85}\n",
      "Best metric on validation data: 0.6581\n",
      "Training duration of best run: 0.03589 s\n",
      "1\n",
      "['Raisting']\n",
      "['Germany']\n",
      "Before re-sampling\n",
      "Normal counts =  818\n",
      "Extreme counts =  248\n",
      "Imbalance degree =  3.2983870967741935\n",
      "[flaml.automl.logger: 03-14 17:30:16] {1679} INFO - task = classification\n",
      "[flaml.automl.logger: 03-14 17:30:16] {1690} INFO - Evaluation method: cv\n",
      "[flaml.automl.logger: 03-14 17:30:16] {1788} INFO - Minimizing error metric: 1-f1\n",
      "[flaml.automl.logger: 03-14 17:30:16] {1900} INFO - List of ML learners in AutoML Run: ['lgbm']\n",
      "[flaml.automl.logger: 03-14 17:30:16] {2218} INFO - iteration 0, current learner lgbm\n",
      "[flaml.automl.logger: 03-14 17:30:16] {2344} INFO - Estimated sufficient time budget=898s. Estimated necessary time budget=1s.\n",
      "[flaml.automl.logger: 03-14 17:30:16] {2391} INFO -  at 0.1s,\testimator lgbm's best error=1.0000,\tbest estimator lgbm's best error=1.0000\n",
      "[flaml.automl.logger: 03-14 17:30:16] {2218} INFO - iteration 1, current learner lgbm\n",
      "[flaml.automl.logger: 03-14 17:30:16] {2391} INFO -  at 0.3s,\testimator lgbm's best error=1.0000,\tbest estimator lgbm's best error=1.0000\n",
      "[flaml.automl.logger: 03-14 17:30:16] {2218} INFO - iteration 2, current learner lgbm\n",
      "[flaml.automl.logger: 03-14 17:30:16] {2391} INFO -  at 0.4s,\testimator lgbm's best error=0.2408,\tbest estimator lgbm's best error=0.2408\n",
      "[flaml.automl.logger: 03-14 17:30:16] {2218} INFO - iteration 3, current learner lgbm\n",
      "[flaml.automl.logger: 03-14 17:30:16] {2391} INFO -  at 0.6s,\testimator lgbm's best error=0.2408,\tbest estimator lgbm's best error=0.2408\n",
      "[flaml.automl.logger: 03-14 17:30:16] {2218} INFO - iteration 4, current learner lgbm\n",
      "[flaml.automl.logger: 03-14 17:30:16] {2391} INFO -  at 0.7s,\testimator lgbm's best error=0.2240,\tbest estimator lgbm's best error=0.2240\n",
      "[flaml.automl.logger: 03-14 17:30:16] {2218} INFO - iteration 5, current learner lgbm\n",
      "[flaml.automl.logger: 03-14 17:30:17] {2391} INFO -  at 0.9s,\testimator lgbm's best error=0.2240,\tbest estimator lgbm's best error=0.2240\n",
      "[flaml.automl.logger: 03-14 17:30:17] {2218} INFO - iteration 6, current learner lgbm\n",
      "[flaml.automl.logger: 03-14 17:30:17] {2391} INFO -  at 1.0s,\testimator lgbm's best error=0.2240,\tbest estimator lgbm's best error=0.2240\n",
      "[flaml.automl.logger: 03-14 17:30:17] {2218} INFO - iteration 7, current learner lgbm\n",
      "[flaml.automl.logger: 03-14 17:30:17] {2391} INFO -  at 1.1s,\testimator lgbm's best error=0.2240,\tbest estimator lgbm's best error=0.2240\n",
      "[flaml.automl.logger: 03-14 17:30:17] {2218} INFO - iteration 8, current learner lgbm\n",
      "[flaml.automl.logger: 03-14 17:30:17] {2391} INFO -  at 1.2s,\testimator lgbm's best error=0.2240,\tbest estimator lgbm's best error=0.2240\n",
      "[flaml.automl.logger: 03-14 17:30:17] {2218} INFO - iteration 9, current learner lgbm\n",
      "[flaml.automl.logger: 03-14 17:30:17] {2391} INFO -  at 1.4s,\testimator lgbm's best error=0.2240,\tbest estimator lgbm's best error=0.2240\n",
      "[flaml.automl.logger: 03-14 17:30:17] {2218} INFO - iteration 10, current learner lgbm\n",
      "[flaml.automl.logger: 03-14 17:30:17] {2391} INFO -  at 1.7s,\testimator lgbm's best error=0.2240,\tbest estimator lgbm's best error=0.2240\n",
      "[flaml.automl.logger: 03-14 17:30:17] {2218} INFO - iteration 11, current learner lgbm\n",
      "[flaml.automl.logger: 03-14 17:30:18] {2391} INFO -  at 1.9s,\testimator lgbm's best error=0.2125,\tbest estimator lgbm's best error=0.2125\n",
      "[flaml.automl.logger: 03-14 17:30:18] {2218} INFO - iteration 12, current learner lgbm\n",
      "[flaml.automl.logger: 03-14 17:30:18] {2391} INFO -  at 2.1s,\testimator lgbm's best error=0.2125,\tbest estimator lgbm's best error=0.2125\n",
      "[flaml.automl.logger: 03-14 17:30:18] {2218} INFO - iteration 13, current learner lgbm\n",
      "[flaml.automl.logger: 03-14 17:30:18] {2391} INFO -  at 2.2s,\testimator lgbm's best error=0.2125,\tbest estimator lgbm's best error=0.2125\n",
      "[flaml.automl.logger: 03-14 17:30:18] {2218} INFO - iteration 14, current learner lgbm\n",
      "[flaml.automl.logger: 03-14 17:30:18] {2391} INFO -  at 2.4s,\testimator lgbm's best error=0.2021,\tbest estimator lgbm's best error=0.2021\n",
      "[flaml.automl.logger: 03-14 17:30:18] {2218} INFO - iteration 15, current learner lgbm\n",
      "[flaml.automl.logger: 03-14 17:30:18] {2391} INFO -  at 2.5s,\testimator lgbm's best error=0.2021,\tbest estimator lgbm's best error=0.2021\n",
      "[flaml.automl.logger: 03-14 17:30:18] {2218} INFO - iteration 16, current learner lgbm\n",
      "[flaml.automl.logger: 03-14 17:30:19] {2391} INFO -  at 3.0s,\testimator lgbm's best error=0.1948,\tbest estimator lgbm's best error=0.1948\n",
      "[flaml.automl.logger: 03-14 17:30:19] {2218} INFO - iteration 17, current learner lgbm\n",
      "[flaml.automl.logger: 03-14 17:30:19] {2391} INFO -  at 3.4s,\testimator lgbm's best error=0.1773,\tbest estimator lgbm's best error=0.1773\n",
      "[flaml.automl.logger: 03-14 17:30:19] {2218} INFO - iteration 18, current learner lgbm\n",
      "[flaml.automl.logger: 03-14 17:30:20] {2391} INFO -  at 3.8s,\testimator lgbm's best error=0.1773,\tbest estimator lgbm's best error=0.1773\n",
      "[flaml.automl.logger: 03-14 17:30:20] {2218} INFO - iteration 19, current learner lgbm\n",
      "[flaml.automl.logger: 03-14 17:30:20] {2391} INFO -  at 4.1s,\testimator lgbm's best error=0.1773,\tbest estimator lgbm's best error=0.1773\n",
      "[flaml.automl.logger: 03-14 17:30:20] {2218} INFO - iteration 20, current learner lgbm\n",
      "[flaml.automl.logger: 03-14 17:30:21] {2391} INFO -  at 5.2s,\testimator lgbm's best error=0.1742,\tbest estimator lgbm's best error=0.1742\n",
      "[flaml.automl.logger: 03-14 17:30:21] {2218} INFO - iteration 21, current learner lgbm\n",
      "[flaml.automl.logger: 03-14 17:30:22] {2391} INFO -  at 5.8s,\testimator lgbm's best error=0.1742,\tbest estimator lgbm's best error=0.1742\n",
      "[flaml.automl.logger: 03-14 17:30:22] {2218} INFO - iteration 22, current learner lgbm\n",
      "[flaml.automl.logger: 03-14 17:30:22] {2391} INFO -  at 6.4s,\testimator lgbm's best error=0.1742,\tbest estimator lgbm's best error=0.1742\n",
      "[flaml.automl.logger: 03-14 17:30:22] {2218} INFO - iteration 23, current learner lgbm\n",
      "[flaml.automl.logger: 03-14 17:30:23] {2391} INFO -  at 7.4s,\testimator lgbm's best error=0.1742,\tbest estimator lgbm's best error=0.1742\n",
      "[flaml.automl.logger: 03-14 17:30:23] {2218} INFO - iteration 24, current learner lgbm\n",
      "[flaml.automl.logger: 03-14 17:30:23] {2391} INFO -  at 7.6s,\testimator lgbm's best error=0.1742,\tbest estimator lgbm's best error=0.1742\n",
      "[flaml.automl.logger: 03-14 17:30:23] {2218} INFO - iteration 25, current learner lgbm\n",
      "[flaml.automl.logger: 03-14 17:30:24] {2391} INFO -  at 8.0s,\testimator lgbm's best error=0.1742,\tbest estimator lgbm's best error=0.1742\n",
      "[flaml.automl.logger: 03-14 17:30:24] {2218} INFO - iteration 26, current learner lgbm\n",
      "[flaml.automl.logger: 03-14 17:30:24] {2391} INFO -  at 8.2s,\testimator lgbm's best error=0.1742,\tbest estimator lgbm's best error=0.1742\n",
      "[flaml.automl.logger: 03-14 17:30:24] {2218} INFO - iteration 27, current learner lgbm\n",
      "[flaml.automl.logger: 03-14 17:30:24] {2391} INFO -  at 8.6s,\testimator lgbm's best error=0.1742,\tbest estimator lgbm's best error=0.1742\n",
      "[flaml.automl.logger: 03-14 17:30:24] {2218} INFO - iteration 28, current learner lgbm\n",
      "[flaml.automl.logger: 03-14 17:30:25] {2391} INFO -  at 8.8s,\testimator lgbm's best error=0.1742,\tbest estimator lgbm's best error=0.1742\n",
      "[flaml.automl.logger: 03-14 17:30:25] {2218} INFO - iteration 29, current learner lgbm\n",
      "[flaml.automl.logger: 03-14 17:30:25] {2391} INFO -  at 9.1s,\testimator lgbm's best error=0.1742,\tbest estimator lgbm's best error=0.1742\n",
      "[flaml.automl.logger: 03-14 17:30:25] {2218} INFO - iteration 30, current learner lgbm\n",
      "[flaml.automl.logger: 03-14 17:30:25] {2391} INFO -  at 9.3s,\testimator lgbm's best error=0.1742,\tbest estimator lgbm's best error=0.1742\n",
      "[flaml.automl.logger: 03-14 17:30:25] {2218} INFO - iteration 31, current learner lgbm\n",
      "[flaml.automl.logger: 03-14 17:30:25] {2391} INFO -  at 9.6s,\testimator lgbm's best error=0.1742,\tbest estimator lgbm's best error=0.1742\n",
      "[flaml.automl.logger: 03-14 17:30:25] {2218} INFO - iteration 32, current learner lgbm\n",
      "[flaml.automl.logger: 03-14 17:30:26] {2391} INFO -  at 9.8s,\testimator lgbm's best error=0.1742,\tbest estimator lgbm's best error=0.1742\n",
      "[flaml.automl.logger: 03-14 17:30:26] {2218} INFO - iteration 33, current learner lgbm\n",
      "[flaml.automl.logger: 03-14 17:30:26] {2391} INFO -  at 10.0s,\testimator lgbm's best error=0.1742,\tbest estimator lgbm's best error=0.1742\n",
      "[flaml.automl.logger: 03-14 17:30:26] {2218} INFO - iteration 34, current learner lgbm\n",
      "[flaml.automl.logger: 03-14 17:30:26] {2391} INFO -  at 10.3s,\testimator lgbm's best error=0.1742,\tbest estimator lgbm's best error=0.1742\n",
      "[flaml.automl.logger: 03-14 17:30:26] {2218} INFO - iteration 35, current learner lgbm\n",
      "[flaml.automl.logger: 03-14 17:30:26] {2391} INFO -  at 10.5s,\testimator lgbm's best error=0.1711,\tbest estimator lgbm's best error=0.1711\n",
      "[flaml.automl.logger: 03-14 17:30:26] {2218} INFO - iteration 36, current learner lgbm\n",
      "[flaml.automl.logger: 03-14 17:30:27] {2391} INFO -  at 10.9s,\testimator lgbm's best error=0.1711,\tbest estimator lgbm's best error=0.1711\n",
      "[flaml.automl.logger: 03-14 17:30:27] {2218} INFO - iteration 37, current learner lgbm\n",
      "[flaml.automl.logger: 03-14 17:30:27] {2391} INFO -  at 11.4s,\testimator lgbm's best error=0.1711,\tbest estimator lgbm's best error=0.1711\n",
      "[flaml.automl.logger: 03-14 17:30:27] {2218} INFO - iteration 38, current learner lgbm\n",
      "[flaml.automl.logger: 03-14 17:30:27] {2391} INFO -  at 11.6s,\testimator lgbm's best error=0.1711,\tbest estimator lgbm's best error=0.1711\n",
      "[flaml.automl.logger: 03-14 17:30:27] {2218} INFO - iteration 39, current learner lgbm\n",
      "[flaml.automl.logger: 03-14 17:30:28] {2391} INFO -  at 12.1s,\testimator lgbm's best error=0.1711,\tbest estimator lgbm's best error=0.1711\n",
      "[flaml.automl.logger: 03-14 17:30:28] {2218} INFO - iteration 40, current learner lgbm\n",
      "[flaml.automl.logger: 03-14 17:30:28] {2391} INFO -  at 12.4s,\testimator lgbm's best error=0.1711,\tbest estimator lgbm's best error=0.1711\n",
      "[flaml.automl.logger: 03-14 17:30:28] {2218} INFO - iteration 41, current learner lgbm\n",
      "[flaml.automl.logger: 03-14 17:30:29] {2391} INFO -  at 12.9s,\testimator lgbm's best error=0.1711,\tbest estimator lgbm's best error=0.1711\n",
      "[flaml.automl.logger: 03-14 17:30:29] {2218} INFO - iteration 42, current learner lgbm\n",
      "[flaml.automl.logger: 03-14 17:30:29] {2391} INFO -  at 13.1s,\testimator lgbm's best error=0.1711,\tbest estimator lgbm's best error=0.1711\n",
      "[flaml.automl.logger: 03-14 17:30:29] {2218} INFO - iteration 43, current learner lgbm\n",
      "[flaml.automl.logger: 03-14 17:30:29] {2391} INFO -  at 13.3s,\testimator lgbm's best error=0.1711,\tbest estimator lgbm's best error=0.1711\n",
      "[flaml.automl.logger: 03-14 17:30:29] {2218} INFO - iteration 44, current learner lgbm\n",
      "[flaml.automl.logger: 03-14 17:30:29] {2391} INFO -  at 13.7s,\testimator lgbm's best error=0.1711,\tbest estimator lgbm's best error=0.1711\n",
      "[flaml.automl.logger: 03-14 17:30:29] {2218} INFO - iteration 45, current learner lgbm\n",
      "[flaml.automl.logger: 03-14 17:30:30] {2391} INFO -  at 13.9s,\testimator lgbm's best error=0.1711,\tbest estimator lgbm's best error=0.1711\n",
      "[flaml.automl.logger: 03-14 17:30:30] {2218} INFO - iteration 46, current learner lgbm\n",
      "[flaml.automl.logger: 03-14 17:30:30] {2391} INFO -  at 14.3s,\testimator lgbm's best error=0.1711,\tbest estimator lgbm's best error=0.1711\n",
      "[flaml.automl.logger: 03-14 17:30:30] {2218} INFO - iteration 47, current learner lgbm\n",
      "[flaml.automl.logger: 03-14 17:30:30] {2391} INFO -  at 14.4s,\testimator lgbm's best error=0.1711,\tbest estimator lgbm's best error=0.1711\n",
      "[flaml.automl.logger: 03-14 17:30:30] {2218} INFO - iteration 48, current learner lgbm\n",
      "[flaml.automl.logger: 03-14 17:30:30] {2391} INFO -  at 14.7s,\testimator lgbm's best error=0.1711,\tbest estimator lgbm's best error=0.1711\n",
      "[flaml.automl.logger: 03-14 17:30:30] {2218} INFO - iteration 49, current learner lgbm\n",
      "[flaml.automl.logger: 03-14 17:30:31] {2391} INFO -  at 14.9s,\testimator lgbm's best error=0.1711,\tbest estimator lgbm's best error=0.1711\n",
      "[flaml.automl.logger: 03-14 17:30:31] {2218} INFO - iteration 50, current learner lgbm\n",
      "[flaml.automl.logger: 03-14 17:30:31] {2391} INFO -  at 15.5s,\testimator lgbm's best error=0.1711,\tbest estimator lgbm's best error=0.1711\n",
      "[flaml.automl.logger: 03-14 17:30:31] {2218} INFO - iteration 51, current learner lgbm\n",
      "[flaml.automl.logger: 03-14 17:30:32] {2391} INFO -  at 16.0s,\testimator lgbm's best error=0.1711,\tbest estimator lgbm's best error=0.1711\n",
      "[flaml.automl.logger: 03-14 17:30:32] {2218} INFO - iteration 52, current learner lgbm\n",
      "[flaml.automl.logger: 03-14 17:30:32] {2391} INFO -  at 16.2s,\testimator lgbm's best error=0.1711,\tbest estimator lgbm's best error=0.1711\n",
      "[flaml.automl.logger: 03-14 17:30:32] {2218} INFO - iteration 53, current learner lgbm\n",
      "[flaml.automl.logger: 03-14 17:30:32] {2391} INFO -  at 16.6s,\testimator lgbm's best error=0.1711,\tbest estimator lgbm's best error=0.1711\n",
      "[flaml.automl.logger: 03-14 17:30:32] {2218} INFO - iteration 54, current learner lgbm\n",
      "[flaml.automl.logger: 03-14 17:30:33] {2391} INFO -  at 16.8s,\testimator lgbm's best error=0.1711,\tbest estimator lgbm's best error=0.1711\n",
      "[flaml.automl.logger: 03-14 17:30:33] {2218} INFO - iteration 55, current learner lgbm\n",
      "[flaml.automl.logger: 03-14 17:30:33] {2391} INFO -  at 17.1s,\testimator lgbm's best error=0.1711,\tbest estimator lgbm's best error=0.1711\n",
      "[flaml.automl.logger: 03-14 17:30:33] {2218} INFO - iteration 56, current learner lgbm\n",
      "[flaml.automl.logger: 03-14 17:30:33] {2391} INFO -  at 17.2s,\testimator lgbm's best error=0.1711,\tbest estimator lgbm's best error=0.1711\n",
      "[flaml.automl.logger: 03-14 17:30:33] {2218} INFO - iteration 57, current learner lgbm\n",
      "[flaml.automl.logger: 03-14 17:30:33] {2391} INFO -  at 17.3s,\testimator lgbm's best error=0.1711,\tbest estimator lgbm's best error=0.1711\n",
      "[flaml.automl.logger: 03-14 17:30:33] {2218} INFO - iteration 58, current learner lgbm\n",
      "[flaml.automl.logger: 03-14 17:30:33] {2391} INFO -  at 17.7s,\testimator lgbm's best error=0.1711,\tbest estimator lgbm's best error=0.1711\n",
      "[flaml.automl.logger: 03-14 17:30:33] {2218} INFO - iteration 59, current learner lgbm\n",
      "[flaml.automl.logger: 03-14 17:30:34] {2391} INFO -  at 17.8s,\testimator lgbm's best error=0.1711,\tbest estimator lgbm's best error=0.1711\n",
      "[flaml.automl.logger: 03-14 17:30:34] {2218} INFO - iteration 60, current learner lgbm\n",
      "[flaml.automl.logger: 03-14 17:30:34] {2391} INFO -  at 18.1s,\testimator lgbm's best error=0.1711,\tbest estimator lgbm's best error=0.1711\n",
      "[flaml.automl.logger: 03-14 17:30:34] {2218} INFO - iteration 61, current learner lgbm\n",
      "[flaml.automl.logger: 03-14 17:30:34] {2391} INFO -  at 18.3s,\testimator lgbm's best error=0.1711,\tbest estimator lgbm's best error=0.1711\n",
      "[flaml.automl.logger: 03-14 17:30:34] {2218} INFO - iteration 62, current learner lgbm\n",
      "[flaml.automl.logger: 03-14 17:30:34] {2391} INFO -  at 18.5s,\testimator lgbm's best error=0.1711,\tbest estimator lgbm's best error=0.1711\n",
      "[flaml.automl.logger: 03-14 17:30:34] {2218} INFO - iteration 63, current learner lgbm\n",
      "[flaml.automl.logger: 03-14 17:30:34] {2391} INFO -  at 18.6s,\testimator lgbm's best error=0.1711,\tbest estimator lgbm's best error=0.1711\n",
      "[flaml.automl.logger: 03-14 17:30:34] {2218} INFO - iteration 64, current learner lgbm\n",
      "[flaml.automl.logger: 03-14 17:30:35] {2391} INFO -  at 19.0s,\testimator lgbm's best error=0.1711,\tbest estimator lgbm's best error=0.1711\n",
      "[flaml.automl.logger: 03-14 17:30:35] {2218} INFO - iteration 65, current learner lgbm\n",
      "[flaml.automl.logger: 03-14 17:30:35] {2391} INFO -  at 19.2s,\testimator lgbm's best error=0.1619,\tbest estimator lgbm's best error=0.1619\n",
      "[flaml.automl.logger: 03-14 17:30:35] {2218} INFO - iteration 66, current learner lgbm\n",
      "[flaml.automl.logger: 03-14 17:30:35] {2391} INFO -  at 19.5s,\testimator lgbm's best error=0.1578,\tbest estimator lgbm's best error=0.1578\n",
      "[flaml.automl.logger: 03-14 17:30:35] {2218} INFO - iteration 67, current learner lgbm\n",
      "[flaml.automl.logger: 03-14 17:30:35] {2391} INFO -  at 19.7s,\testimator lgbm's best error=0.1578,\tbest estimator lgbm's best error=0.1578\n",
      "[flaml.automl.logger: 03-14 17:30:35] {2218} INFO - iteration 68, current learner lgbm\n",
      "[flaml.automl.logger: 03-14 17:30:36] {2391} INFO -  at 20.0s,\testimator lgbm's best error=0.1578,\tbest estimator lgbm's best error=0.1578\n",
      "[flaml.automl.logger: 03-14 17:30:36] {2218} INFO - iteration 69, current learner lgbm\n",
      "[flaml.automl.logger: 03-14 17:30:36] {2391} INFO -  at 20.2s,\testimator lgbm's best error=0.1578,\tbest estimator lgbm's best error=0.1578\n",
      "[flaml.automl.logger: 03-14 17:30:36] {2218} INFO - iteration 70, current learner lgbm\n",
      "[flaml.automl.logger: 03-14 17:30:36] {2391} INFO -  at 20.7s,\testimator lgbm's best error=0.1578,\tbest estimator lgbm's best error=0.1578\n",
      "[flaml.automl.logger: 03-14 17:30:36] {2218} INFO - iteration 71, current learner lgbm\n",
      "[flaml.automl.logger: 03-14 17:30:37] {2391} INFO -  at 21.0s,\testimator lgbm's best error=0.1578,\tbest estimator lgbm's best error=0.1578\n",
      "[flaml.automl.logger: 03-14 17:30:37] {2218} INFO - iteration 72, current learner lgbm\n",
      "[flaml.automl.logger: 03-14 17:30:37] {2391} INFO -  at 21.3s,\testimator lgbm's best error=0.1578,\tbest estimator lgbm's best error=0.1578\n",
      "[flaml.automl.logger: 03-14 17:30:37] {2218} INFO - iteration 73, current learner lgbm\n",
      "[flaml.automl.logger: 03-14 17:30:37] {2391} INFO -  at 21.6s,\testimator lgbm's best error=0.1578,\tbest estimator lgbm's best error=0.1578\n",
      "[flaml.automl.logger: 03-14 17:30:37] {2218} INFO - iteration 74, current learner lgbm\n",
      "[flaml.automl.logger: 03-14 17:30:38] {2391} INFO -  at 21.9s,\testimator lgbm's best error=0.1578,\tbest estimator lgbm's best error=0.1578\n",
      "[flaml.automl.logger: 03-14 17:30:38] {2218} INFO - iteration 75, current learner lgbm\n",
      "[flaml.automl.logger: 03-14 17:30:38] {2391} INFO -  at 22.2s,\testimator lgbm's best error=0.1578,\tbest estimator lgbm's best error=0.1578\n",
      "[flaml.automl.logger: 03-14 17:30:38] {2218} INFO - iteration 76, current learner lgbm\n",
      "[flaml.automl.logger: 03-14 17:30:38] {2391} INFO -  at 22.5s,\testimator lgbm's best error=0.1578,\tbest estimator lgbm's best error=0.1578\n",
      "[flaml.automl.logger: 03-14 17:30:38] {2218} INFO - iteration 77, current learner lgbm\n",
      "[flaml.automl.logger: 03-14 17:30:39] {2391} INFO -  at 22.9s,\testimator lgbm's best error=0.1578,\tbest estimator lgbm's best error=0.1578\n",
      "[flaml.automl.logger: 03-14 17:30:39] {2218} INFO - iteration 78, current learner lgbm\n",
      "[flaml.automl.logger: 03-14 17:30:39] {2391} INFO -  at 23.0s,\testimator lgbm's best error=0.1578,\tbest estimator lgbm's best error=0.1578\n",
      "[flaml.automl.logger: 03-14 17:30:39] {2218} INFO - iteration 79, current learner lgbm\n",
      "[flaml.automl.logger: 03-14 17:30:39] {2391} INFO -  at 23.3s,\testimator lgbm's best error=0.1578,\tbest estimator lgbm's best error=0.1578\n",
      "[flaml.automl.logger: 03-14 17:30:39] {2218} INFO - iteration 80, current learner lgbm\n",
      "[flaml.automl.logger: 03-14 17:30:39] {2391} INFO -  at 23.4s,\testimator lgbm's best error=0.1578,\tbest estimator lgbm's best error=0.1578\n",
      "[flaml.automl.logger: 03-14 17:30:39] {2218} INFO - iteration 81, current learner lgbm\n",
      "[flaml.automl.logger: 03-14 17:30:40] {2391} INFO -  at 23.8s,\testimator lgbm's best error=0.1578,\tbest estimator lgbm's best error=0.1578\n",
      "[flaml.automl.logger: 03-14 17:30:40] {2218} INFO - iteration 82, current learner lgbm\n",
      "[flaml.automl.logger: 03-14 17:30:40] {2391} INFO -  at 24.0s,\testimator lgbm's best error=0.1578,\tbest estimator lgbm's best error=0.1578\n",
      "[flaml.automl.logger: 03-14 17:30:40] {2218} INFO - iteration 83, current learner lgbm\n",
      "[flaml.automl.logger: 03-14 17:30:40] {2391} INFO -  at 24.2s,\testimator lgbm's best error=0.1578,\tbest estimator lgbm's best error=0.1578\n",
      "[flaml.automl.logger: 03-14 17:30:40] {2218} INFO - iteration 84, current learner lgbm\n",
      "[flaml.automl.logger: 03-14 17:30:40] {2391} INFO -  at 24.4s,\testimator lgbm's best error=0.1578,\tbest estimator lgbm's best error=0.1578\n",
      "[flaml.automl.logger: 03-14 17:30:40] {2218} INFO - iteration 85, current learner lgbm\n",
      "[flaml.automl.logger: 03-14 17:30:40] {2391} INFO -  at 24.6s,\testimator lgbm's best error=0.1578,\tbest estimator lgbm's best error=0.1578\n",
      "[flaml.automl.logger: 03-14 17:30:40] {2218} INFO - iteration 86, current learner lgbm\n",
      "[flaml.automl.logger: 03-14 17:30:41] {2391} INFO -  at 24.8s,\testimator lgbm's best error=0.1578,\tbest estimator lgbm's best error=0.1578\n",
      "[flaml.automl.logger: 03-14 17:30:41] {2218} INFO - iteration 87, current learner lgbm\n",
      "[flaml.automl.logger: 03-14 17:30:41] {2391} INFO -  at 25.0s,\testimator lgbm's best error=0.1578,\tbest estimator lgbm's best error=0.1578\n",
      "[flaml.automl.logger: 03-14 17:30:41] {2218} INFO - iteration 88, current learner lgbm\n",
      "[flaml.automl.logger: 03-14 17:30:41] {2391} INFO -  at 25.4s,\testimator lgbm's best error=0.1578,\tbest estimator lgbm's best error=0.1578\n",
      "[flaml.automl.logger: 03-14 17:30:41] {2218} INFO - iteration 89, current learner lgbm\n",
      "[flaml.automl.logger: 03-14 17:30:41] {2391} INFO -  at 25.7s,\testimator lgbm's best error=0.1578,\tbest estimator lgbm's best error=0.1578\n",
      "[flaml.automl.logger: 03-14 17:30:41] {2218} INFO - iteration 90, current learner lgbm\n",
      "[flaml.automl.logger: 03-14 17:30:42] {2391} INFO -  at 26.2s,\testimator lgbm's best error=0.1578,\tbest estimator lgbm's best error=0.1578\n",
      "[flaml.automl.logger: 03-14 17:30:42] {2218} INFO - iteration 91, current learner lgbm\n",
      "[flaml.automl.logger: 03-14 17:30:42] {2391} INFO -  at 26.4s,\testimator lgbm's best error=0.1578,\tbest estimator lgbm's best error=0.1578\n",
      "[flaml.automl.logger: 03-14 17:30:42] {2218} INFO - iteration 92, current learner lgbm\n",
      "[flaml.automl.logger: 03-14 17:30:42] {2391} INFO -  at 26.6s,\testimator lgbm's best error=0.1578,\tbest estimator lgbm's best error=0.1578\n",
      "[flaml.automl.logger: 03-14 17:30:42] {2218} INFO - iteration 93, current learner lgbm\n",
      "[flaml.automl.logger: 03-14 17:30:43] {2391} INFO -  at 26.9s,\testimator lgbm's best error=0.1578,\tbest estimator lgbm's best error=0.1578\n",
      "[flaml.automl.logger: 03-14 17:30:43] {2218} INFO - iteration 94, current learner lgbm\n",
      "[flaml.automl.logger: 03-14 17:30:43] {2391} INFO -  at 27.1s,\testimator lgbm's best error=0.1578,\tbest estimator lgbm's best error=0.1578\n",
      "[flaml.automl.logger: 03-14 17:30:43] {2218} INFO - iteration 95, current learner lgbm\n",
      "[flaml.automl.logger: 03-14 17:30:43] {2391} INFO -  at 27.6s,\testimator lgbm's best error=0.1578,\tbest estimator lgbm's best error=0.1578\n",
      "[flaml.automl.logger: 03-14 17:30:43] {2218} INFO - iteration 96, current learner lgbm\n",
      "[flaml.automl.logger: 03-14 17:30:44] {2391} INFO -  at 27.8s,\testimator lgbm's best error=0.1578,\tbest estimator lgbm's best error=0.1578\n",
      "[flaml.automl.logger: 03-14 17:30:44] {2218} INFO - iteration 97, current learner lgbm\n",
      "[flaml.automl.logger: 03-14 17:30:44] {2391} INFO -  at 28.0s,\testimator lgbm's best error=0.1578,\tbest estimator lgbm's best error=0.1578\n",
      "[flaml.automl.logger: 03-14 17:30:44] {2218} INFO - iteration 98, current learner lgbm\n",
      "[flaml.automl.logger: 03-14 17:30:44] {2391} INFO -  at 28.3s,\testimator lgbm's best error=0.1578,\tbest estimator lgbm's best error=0.1578\n",
      "[flaml.automl.logger: 03-14 17:30:44] {2218} INFO - iteration 99, current learner lgbm\n",
      "[flaml.automl.logger: 03-14 17:30:44] {2391} INFO -  at 28.6s,\testimator lgbm's best error=0.1578,\tbest estimator lgbm's best error=0.1578\n",
      "[flaml.automl.logger: 03-14 17:30:44] {2218} INFO - iteration 100, current learner lgbm\n",
      "[flaml.automl.logger: 03-14 17:30:45] {2391} INFO -  at 28.9s,\testimator lgbm's best error=0.1578,\tbest estimator lgbm's best error=0.1578\n",
      "[flaml.automl.logger: 03-14 17:30:45] {2218} INFO - iteration 101, current learner lgbm\n",
      "[flaml.automl.logger: 03-14 17:30:45] {2391} INFO -  at 29.1s,\testimator lgbm's best error=0.1578,\tbest estimator lgbm's best error=0.1578\n",
      "[flaml.automl.logger: 03-14 17:30:45] {2218} INFO - iteration 102, current learner lgbm\n",
      "[flaml.automl.logger: 03-14 17:30:45] {2391} INFO -  at 29.3s,\testimator lgbm's best error=0.1578,\tbest estimator lgbm's best error=0.1578\n",
      "[flaml.automl.logger: 03-14 17:30:45] {2218} INFO - iteration 103, current learner lgbm\n",
      "[flaml.automl.logger: 03-14 17:30:45] {2391} INFO -  at 29.4s,\testimator lgbm's best error=0.1578,\tbest estimator lgbm's best error=0.1578\n",
      "[flaml.automl.logger: 03-14 17:30:45] {2218} INFO - iteration 104, current learner lgbm\n",
      "[flaml.automl.logger: 03-14 17:30:46] {2391} INFO -  at 29.9s,\testimator lgbm's best error=0.1578,\tbest estimator lgbm's best error=0.1578\n",
      "[flaml.automl.logger: 03-14 17:30:46] {2218} INFO - iteration 105, current learner lgbm\n",
      "[flaml.automl.logger: 03-14 17:30:46] {2391} INFO -  at 30.0s,\testimator lgbm's best error=0.1578,\tbest estimator lgbm's best error=0.1578\n",
      "[flaml.automl.logger: 03-14 17:30:46] {2218} INFO - iteration 106, current learner lgbm\n",
      "[flaml.automl.logger: 03-14 17:30:46] {2391} INFO -  at 30.2s,\testimator lgbm's best error=0.1578,\tbest estimator lgbm's best error=0.1578\n",
      "[flaml.automl.logger: 03-14 17:30:46] {2218} INFO - iteration 107, current learner lgbm\n",
      "[flaml.automl.logger: 03-14 17:30:46] {2391} INFO -  at 30.3s,\testimator lgbm's best error=0.1578,\tbest estimator lgbm's best error=0.1578\n",
      "[flaml.automl.logger: 03-14 17:30:46] {2218} INFO - iteration 108, current learner lgbm\n",
      "[flaml.automl.logger: 03-14 17:30:46] {2391} INFO -  at 30.7s,\testimator lgbm's best error=0.1578,\tbest estimator lgbm's best error=0.1578\n",
      "[flaml.automl.logger: 03-14 17:30:46] {2218} INFO - iteration 109, current learner lgbm\n",
      "[flaml.automl.logger: 03-14 17:30:47] {2391} INFO -  at 31.1s,\testimator lgbm's best error=0.1578,\tbest estimator lgbm's best error=0.1578\n",
      "[flaml.automl.logger: 03-14 17:30:47] {2218} INFO - iteration 110, current learner lgbm\n",
      "[flaml.automl.logger: 03-14 17:30:47] {2391} INFO -  at 31.3s,\testimator lgbm's best error=0.1578,\tbest estimator lgbm's best error=0.1578\n",
      "[flaml.automl.logger: 03-14 17:30:47] {2218} INFO - iteration 111, current learner lgbm\n",
      "[flaml.automl.logger: 03-14 17:30:47] {2391} INFO -  at 31.6s,\testimator lgbm's best error=0.1578,\tbest estimator lgbm's best error=0.1578\n",
      "[flaml.automl.logger: 03-14 17:30:47] {2218} INFO - iteration 112, current learner lgbm\n",
      "[flaml.automl.logger: 03-14 17:30:47] {2391} INFO -  at 31.7s,\testimator lgbm's best error=0.1578,\tbest estimator lgbm's best error=0.1578\n",
      "[flaml.automl.logger: 03-14 17:30:47] {2218} INFO - iteration 113, current learner lgbm\n",
      "[flaml.automl.logger: 03-14 17:30:48] {2391} INFO -  at 31.9s,\testimator lgbm's best error=0.1578,\tbest estimator lgbm's best error=0.1578\n",
      "[flaml.automl.logger: 03-14 17:30:48] {2218} INFO - iteration 114, current learner lgbm\n",
      "[flaml.automl.logger: 03-14 17:30:48] {2391} INFO -  at 32.1s,\testimator lgbm's best error=0.1578,\tbest estimator lgbm's best error=0.1578\n",
      "[flaml.automl.logger: 03-14 17:30:48] {2218} INFO - iteration 115, current learner lgbm\n",
      "[flaml.automl.logger: 03-14 17:30:48] {2391} INFO -  at 32.4s,\testimator lgbm's best error=0.1578,\tbest estimator lgbm's best error=0.1578\n",
      "[flaml.automl.logger: 03-14 17:30:48] {2218} INFO - iteration 116, current learner lgbm\n",
      "[flaml.automl.logger: 03-14 17:30:48] {2391} INFO -  at 32.5s,\testimator lgbm's best error=0.1578,\tbest estimator lgbm's best error=0.1578\n",
      "[flaml.automl.logger: 03-14 17:30:48] {2218} INFO - iteration 117, current learner lgbm\n",
      "[flaml.automl.logger: 03-14 17:30:49] {2391} INFO -  at 32.8s,\testimator lgbm's best error=0.1578,\tbest estimator lgbm's best error=0.1578\n",
      "[flaml.automl.logger: 03-14 17:30:49] {2218} INFO - iteration 118, current learner lgbm\n",
      "[flaml.automl.logger: 03-14 17:30:49] {2391} INFO -  at 33.0s,\testimator lgbm's best error=0.1578,\tbest estimator lgbm's best error=0.1578\n",
      "[flaml.automl.logger: 03-14 17:30:49] {2218} INFO - iteration 119, current learner lgbm\n",
      "[flaml.automl.logger: 03-14 17:30:49] {2391} INFO -  at 33.1s,\testimator lgbm's best error=0.1578,\tbest estimator lgbm's best error=0.1578\n",
      "[flaml.automl.logger: 03-14 17:30:49] {2218} INFO - iteration 120, current learner lgbm\n",
      "[flaml.automl.logger: 03-14 17:30:49] {2391} INFO -  at 33.3s,\testimator lgbm's best error=0.1578,\tbest estimator lgbm's best error=0.1578\n",
      "[flaml.automl.logger: 03-14 17:30:49] {2218} INFO - iteration 121, current learner lgbm\n",
      "[flaml.automl.logger: 03-14 17:30:49] {2391} INFO -  at 33.5s,\testimator lgbm's best error=0.1578,\tbest estimator lgbm's best error=0.1578\n",
      "[flaml.automl.logger: 03-14 17:30:49] {2218} INFO - iteration 122, current learner lgbm\n",
      "[flaml.automl.logger: 03-14 17:30:49] {2391} INFO -  at 33.7s,\testimator lgbm's best error=0.1578,\tbest estimator lgbm's best error=0.1578\n",
      "[flaml.automl.logger: 03-14 17:30:49] {2218} INFO - iteration 123, current learner lgbm\n",
      "[flaml.automl.logger: 03-14 17:30:50] {2391} INFO -  at 33.9s,\testimator lgbm's best error=0.1578,\tbest estimator lgbm's best error=0.1578\n",
      "[flaml.automl.logger: 03-14 17:30:50] {2218} INFO - iteration 124, current learner lgbm\n",
      "[flaml.automl.logger: 03-14 17:30:50] {2391} INFO -  at 34.0s,\testimator lgbm's best error=0.1578,\tbest estimator lgbm's best error=0.1578\n",
      "[flaml.automl.logger: 03-14 17:30:50] {2218} INFO - iteration 125, current learner lgbm\n",
      "[flaml.automl.logger: 03-14 17:30:50] {2391} INFO -  at 34.2s,\testimator lgbm's best error=0.1578,\tbest estimator lgbm's best error=0.1578\n",
      "[flaml.automl.logger: 03-14 17:30:50] {2218} INFO - iteration 126, current learner lgbm\n",
      "[flaml.automl.logger: 03-14 17:30:50] {2391} INFO -  at 34.4s,\testimator lgbm's best error=0.1578,\tbest estimator lgbm's best error=0.1578\n",
      "[flaml.automl.logger: 03-14 17:30:50] {2218} INFO - iteration 127, current learner lgbm\n",
      "[flaml.automl.logger: 03-14 17:30:50] {2391} INFO -  at 34.5s,\testimator lgbm's best error=0.1578,\tbest estimator lgbm's best error=0.1578\n",
      "[flaml.automl.logger: 03-14 17:30:50] {2218} INFO - iteration 128, current learner lgbm\n",
      "[flaml.automl.logger: 03-14 17:30:50] {2391} INFO -  at 34.7s,\testimator lgbm's best error=0.1578,\tbest estimator lgbm's best error=0.1578\n",
      "[flaml.automl.logger: 03-14 17:30:50] {2218} INFO - iteration 129, current learner lgbm\n",
      "[flaml.automl.logger: 03-14 17:30:51] {2391} INFO -  at 34.8s,\testimator lgbm's best error=0.1578,\tbest estimator lgbm's best error=0.1578\n",
      "[flaml.automl.logger: 03-14 17:30:51] {2218} INFO - iteration 130, current learner lgbm\n",
      "[flaml.automl.logger: 03-14 17:30:51] {2391} INFO -  at 35.2s,\testimator lgbm's best error=0.1578,\tbest estimator lgbm's best error=0.1578\n",
      "[flaml.automl.logger: 03-14 17:30:51] {2218} INFO - iteration 131, current learner lgbm\n",
      "[flaml.automl.logger: 03-14 17:30:51] {2391} INFO -  at 35.5s,\testimator lgbm's best error=0.1578,\tbest estimator lgbm's best error=0.1578\n",
      "[flaml.automl.logger: 03-14 17:30:51] {2218} INFO - iteration 132, current learner lgbm\n",
      "[flaml.automl.logger: 03-14 17:30:51] {2391} INFO -  at 35.6s,\testimator lgbm's best error=0.1578,\tbest estimator lgbm's best error=0.1578\n",
      "[flaml.automl.logger: 03-14 17:30:51] {2218} INFO - iteration 133, current learner lgbm\n",
      "[flaml.automl.logger: 03-14 17:30:52] {2391} INFO -  at 35.8s,\testimator lgbm's best error=0.1578,\tbest estimator lgbm's best error=0.1578\n",
      "[flaml.automl.logger: 03-14 17:30:52] {2218} INFO - iteration 134, current learner lgbm\n",
      "[flaml.automl.logger: 03-14 17:30:52] {2391} INFO -  at 36.0s,\testimator lgbm's best error=0.1578,\tbest estimator lgbm's best error=0.1578\n",
      "[flaml.automl.logger: 03-14 17:30:52] {2218} INFO - iteration 135, current learner lgbm\n",
      "[flaml.automl.logger: 03-14 17:30:52] {2391} INFO -  at 36.2s,\testimator lgbm's best error=0.1578,\tbest estimator lgbm's best error=0.1578\n",
      "[flaml.automl.logger: 03-14 17:30:52] {2218} INFO - iteration 136, current learner lgbm\n",
      "[flaml.automl.logger: 03-14 17:30:52] {2391} INFO -  at 36.4s,\testimator lgbm's best error=0.1578,\tbest estimator lgbm's best error=0.1578\n",
      "[flaml.automl.logger: 03-14 17:30:52] {2218} INFO - iteration 137, current learner lgbm\n",
      "[flaml.automl.logger: 03-14 17:30:52] {2391} INFO -  at 36.6s,\testimator lgbm's best error=0.1578,\tbest estimator lgbm's best error=0.1578\n",
      "[flaml.automl.logger: 03-14 17:30:52] {2218} INFO - iteration 138, current learner lgbm\n",
      "[flaml.automl.logger: 03-14 17:30:52] {2391} INFO -  at 36.7s,\testimator lgbm's best error=0.1578,\tbest estimator lgbm's best error=0.1578\n",
      "[flaml.automl.logger: 03-14 17:30:52] {2218} INFO - iteration 139, current learner lgbm\n",
      "[flaml.automl.logger: 03-14 17:30:53] {2391} INFO -  at 36.9s,\testimator lgbm's best error=0.1578,\tbest estimator lgbm's best error=0.1578\n",
      "[flaml.automl.logger: 03-14 17:30:53] {2218} INFO - iteration 140, current learner lgbm\n",
      "[flaml.automl.logger: 03-14 17:30:53] {2391} INFO -  at 37.1s,\testimator lgbm's best error=0.1578,\tbest estimator lgbm's best error=0.1578\n",
      "[flaml.automl.logger: 03-14 17:30:53] {2218} INFO - iteration 141, current learner lgbm\n",
      "[flaml.automl.logger: 03-14 17:30:53] {2391} INFO -  at 37.3s,\testimator lgbm's best error=0.1578,\tbest estimator lgbm's best error=0.1578\n",
      "[flaml.automl.logger: 03-14 17:30:53] {2218} INFO - iteration 142, current learner lgbm\n",
      "[flaml.automl.logger: 03-14 17:30:53] {2391} INFO -  at 37.5s,\testimator lgbm's best error=0.1578,\tbest estimator lgbm's best error=0.1578\n",
      "[flaml.automl.logger: 03-14 17:30:53] {2218} INFO - iteration 143, current learner lgbm\n",
      "[flaml.automl.logger: 03-14 17:30:53] {2391} INFO -  at 37.6s,\testimator lgbm's best error=0.1578,\tbest estimator lgbm's best error=0.1578\n",
      "[flaml.automl.logger: 03-14 17:30:53] {2218} INFO - iteration 144, current learner lgbm\n",
      "[flaml.automl.logger: 03-14 17:30:54] {2391} INFO -  at 37.8s,\testimator lgbm's best error=0.1578,\tbest estimator lgbm's best error=0.1578\n",
      "[flaml.automl.logger: 03-14 17:30:54] {2218} INFO - iteration 145, current learner lgbm\n",
      "[flaml.automl.logger: 03-14 17:30:54] {2391} INFO -  at 38.0s,\testimator lgbm's best error=0.1578,\tbest estimator lgbm's best error=0.1578\n",
      "[flaml.automl.logger: 03-14 17:30:54] {2218} INFO - iteration 146, current learner lgbm\n",
      "[flaml.automl.logger: 03-14 17:30:54] {2391} INFO -  at 38.2s,\testimator lgbm's best error=0.1578,\tbest estimator lgbm's best error=0.1578\n",
      "[flaml.automl.logger: 03-14 17:30:54] {2218} INFO - iteration 147, current learner lgbm\n",
      "[flaml.automl.logger: 03-14 17:30:54] {2391} INFO -  at 38.4s,\testimator lgbm's best error=0.1578,\tbest estimator lgbm's best error=0.1578\n",
      "[flaml.automl.logger: 03-14 17:30:54] {2218} INFO - iteration 148, current learner lgbm\n",
      "[flaml.automl.logger: 03-14 17:30:54] {2391} INFO -  at 38.6s,\testimator lgbm's best error=0.1578,\tbest estimator lgbm's best error=0.1578\n",
      "[flaml.automl.logger: 03-14 17:30:54] {2218} INFO - iteration 149, current learner lgbm\n",
      "[flaml.automl.logger: 03-14 17:30:55] {2391} INFO -  at 38.9s,\testimator lgbm's best error=0.1578,\tbest estimator lgbm's best error=0.1578\n",
      "[flaml.automl.logger: 03-14 17:30:55] {2218} INFO - iteration 150, current learner lgbm\n",
      "[flaml.automl.logger: 03-14 17:30:55] {2391} INFO -  at 39.0s,\testimator lgbm's best error=0.1578,\tbest estimator lgbm's best error=0.1578\n",
      "[flaml.automl.logger: 03-14 17:30:55] {2218} INFO - iteration 151, current learner lgbm\n",
      "[flaml.automl.logger: 03-14 17:30:55] {2391} INFO -  at 39.1s,\testimator lgbm's best error=0.1578,\tbest estimator lgbm's best error=0.1578\n",
      "[flaml.automl.logger: 03-14 17:30:55] {2218} INFO - iteration 152, current learner lgbm\n",
      "[flaml.automl.logger: 03-14 17:30:55] {2391} INFO -  at 39.3s,\testimator lgbm's best error=0.1578,\tbest estimator lgbm's best error=0.1578\n",
      "[flaml.automl.logger: 03-14 17:30:55] {2218} INFO - iteration 153, current learner lgbm\n",
      "[flaml.automl.logger: 03-14 17:30:55] {2391} INFO -  at 39.5s,\testimator lgbm's best error=0.1578,\tbest estimator lgbm's best error=0.1578\n",
      "[flaml.automl.logger: 03-14 17:30:55] {2218} INFO - iteration 154, current learner lgbm\n",
      "[flaml.automl.logger: 03-14 17:30:55] {2391} INFO -  at 39.7s,\testimator lgbm's best error=0.1578,\tbest estimator lgbm's best error=0.1578\n",
      "[flaml.automl.logger: 03-14 17:30:55] {2218} INFO - iteration 155, current learner lgbm\n",
      "[flaml.automl.logger: 03-14 17:30:56] {2391} INFO -  at 39.8s,\testimator lgbm's best error=0.1578,\tbest estimator lgbm's best error=0.1578\n",
      "[flaml.automl.logger: 03-14 17:30:56] {2218} INFO - iteration 156, current learner lgbm\n",
      "[flaml.automl.logger: 03-14 17:30:56] {2391} INFO -  at 40.0s,\testimator lgbm's best error=0.1578,\tbest estimator lgbm's best error=0.1578\n",
      "[flaml.automl.logger: 03-14 17:30:56] {2218} INFO - iteration 157, current learner lgbm\n",
      "[flaml.automl.logger: 03-14 17:30:56] {2391} INFO -  at 40.3s,\testimator lgbm's best error=0.1578,\tbest estimator lgbm's best error=0.1578\n",
      "[flaml.automl.logger: 03-14 17:30:56] {2218} INFO - iteration 158, current learner lgbm\n",
      "[flaml.automl.logger: 03-14 17:30:56] {2391} INFO -  at 40.5s,\testimator lgbm's best error=0.1578,\tbest estimator lgbm's best error=0.1578\n",
      "[flaml.automl.logger: 03-14 17:30:56] {2218} INFO - iteration 159, current learner lgbm\n",
      "[flaml.automl.logger: 03-14 17:30:56] {2391} INFO -  at 40.7s,\testimator lgbm's best error=0.1578,\tbest estimator lgbm's best error=0.1578\n",
      "[flaml.automl.logger: 03-14 17:30:56] {2218} INFO - iteration 160, current learner lgbm\n",
      "[flaml.automl.logger: 03-14 17:30:57] {2391} INFO -  at 40.8s,\testimator lgbm's best error=0.1578,\tbest estimator lgbm's best error=0.1578\n",
      "[flaml.automl.logger: 03-14 17:30:57] {2218} INFO - iteration 161, current learner lgbm\n",
      "[flaml.automl.logger: 03-14 17:30:57] {2391} INFO -  at 41.2s,\testimator lgbm's best error=0.1578,\tbest estimator lgbm's best error=0.1578\n",
      "[flaml.automl.logger: 03-14 17:30:57] {2218} INFO - iteration 162, current learner lgbm\n",
      "[flaml.automl.logger: 03-14 17:30:57] {2391} INFO -  at 41.4s,\testimator lgbm's best error=0.1578,\tbest estimator lgbm's best error=0.1578\n",
      "[flaml.automl.logger: 03-14 17:30:57] {2218} INFO - iteration 163, current learner lgbm\n",
      "[flaml.automl.logger: 03-14 17:30:58] {2391} INFO -  at 41.9s,\testimator lgbm's best error=0.1578,\tbest estimator lgbm's best error=0.1578\n",
      "[flaml.automl.logger: 03-14 17:30:58] {2218} INFO - iteration 164, current learner lgbm\n",
      "[flaml.automl.logger: 03-14 17:30:58] {2391} INFO -  at 42.0s,\testimator lgbm's best error=0.1578,\tbest estimator lgbm's best error=0.1578\n",
      "[flaml.automl.logger: 03-14 17:30:58] {2218} INFO - iteration 165, current learner lgbm\n",
      "[flaml.automl.logger: 03-14 17:30:58] {2391} INFO -  at 42.3s,\testimator lgbm's best error=0.1578,\tbest estimator lgbm's best error=0.1578\n",
      "[flaml.automl.logger: 03-14 17:30:58] {2218} INFO - iteration 166, current learner lgbm\n",
      "[flaml.automl.logger: 03-14 17:30:58] {2391} INFO -  at 42.5s,\testimator lgbm's best error=0.1578,\tbest estimator lgbm's best error=0.1578\n",
      "[flaml.automl.logger: 03-14 17:30:58] {2218} INFO - iteration 167, current learner lgbm\n",
      "[flaml.automl.logger: 03-14 17:30:58] {2391} INFO -  at 42.6s,\testimator lgbm's best error=0.1578,\tbest estimator lgbm's best error=0.1578\n",
      "[flaml.automl.logger: 03-14 17:30:58] {2218} INFO - iteration 168, current learner lgbm\n",
      "[flaml.automl.logger: 03-14 17:30:59] {2391} INFO -  at 43.3s,\testimator lgbm's best error=0.1578,\tbest estimator lgbm's best error=0.1578\n",
      "[flaml.automl.logger: 03-14 17:30:59] {2218} INFO - iteration 169, current learner lgbm\n",
      "[flaml.automl.logger: 03-14 17:30:59] {2391} INFO -  at 43.6s,\testimator lgbm's best error=0.1578,\tbest estimator lgbm's best error=0.1578\n",
      "[flaml.automl.logger: 03-14 17:30:59] {2218} INFO - iteration 170, current learner lgbm\n",
      "[flaml.automl.logger: 03-14 17:30:59] {2391} INFO -  at 43.7s,\testimator lgbm's best error=0.1578,\tbest estimator lgbm's best error=0.1578\n",
      "[flaml.automl.logger: 03-14 17:30:59] {2218} INFO - iteration 171, current learner lgbm\n",
      "[flaml.automl.logger: 03-14 17:31:00] {2391} INFO -  at 43.9s,\testimator lgbm's best error=0.1578,\tbest estimator lgbm's best error=0.1578\n",
      "[flaml.automl.logger: 03-14 17:31:00] {2218} INFO - iteration 172, current learner lgbm\n",
      "[flaml.automl.logger: 03-14 17:31:01] {2391} INFO -  at 45.2s,\testimator lgbm's best error=0.1578,\tbest estimator lgbm's best error=0.1578\n",
      "[flaml.automl.logger: 03-14 17:31:01] {2218} INFO - iteration 173, current learner lgbm\n",
      "[flaml.automl.logger: 03-14 17:31:01] {2391} INFO -  at 45.4s,\testimator lgbm's best error=0.1578,\tbest estimator lgbm's best error=0.1578\n",
      "[flaml.automl.logger: 03-14 17:31:01] {2218} INFO - iteration 174, current learner lgbm\n",
      "[flaml.automl.logger: 03-14 17:31:01] {2391} INFO -  at 45.6s,\testimator lgbm's best error=0.1578,\tbest estimator lgbm's best error=0.1578\n",
      "[flaml.automl.logger: 03-14 17:31:01] {2218} INFO - iteration 175, current learner lgbm\n",
      "[flaml.automl.logger: 03-14 17:31:02] {2391} INFO -  at 45.8s,\testimator lgbm's best error=0.1578,\tbest estimator lgbm's best error=0.1578\n",
      "[flaml.automl.logger: 03-14 17:31:02] {2218} INFO - iteration 176, current learner lgbm\n",
      "[flaml.automl.logger: 03-14 17:31:02] {2391} INFO -  at 46.1s,\testimator lgbm's best error=0.1578,\tbest estimator lgbm's best error=0.1578\n",
      "[flaml.automl.logger: 03-14 17:31:02] {2218} INFO - iteration 177, current learner lgbm\n",
      "[flaml.automl.logger: 03-14 17:31:02] {2391} INFO -  at 46.3s,\testimator lgbm's best error=0.1578,\tbest estimator lgbm's best error=0.1578\n",
      "[flaml.automl.logger: 03-14 17:31:02] {2218} INFO - iteration 178, current learner lgbm\n",
      "[flaml.automl.logger: 03-14 17:31:02] {2391} INFO -  at 46.5s,\testimator lgbm's best error=0.1578,\tbest estimator lgbm's best error=0.1578\n",
      "[flaml.automl.logger: 03-14 17:31:02] {2218} INFO - iteration 179, current learner lgbm\n",
      "[flaml.automl.logger: 03-14 17:31:02] {2391} INFO -  at 46.7s,\testimator lgbm's best error=0.1578,\tbest estimator lgbm's best error=0.1578\n",
      "[flaml.automl.logger: 03-14 17:31:02] {2218} INFO - iteration 180, current learner lgbm\n",
      "[flaml.automl.logger: 03-14 17:31:03] {2391} INFO -  at 47.1s,\testimator lgbm's best error=0.1578,\tbest estimator lgbm's best error=0.1578\n",
      "[flaml.automl.logger: 03-14 17:31:03] {2218} INFO - iteration 181, current learner lgbm\n",
      "[flaml.automl.logger: 03-14 17:31:03] {2391} INFO -  at 47.3s,\testimator lgbm's best error=0.1578,\tbest estimator lgbm's best error=0.1578\n",
      "[flaml.automl.logger: 03-14 17:31:03] {2218} INFO - iteration 182, current learner lgbm\n",
      "[flaml.automl.logger: 03-14 17:31:03] {2391} INFO -  at 47.6s,\testimator lgbm's best error=0.1578,\tbest estimator lgbm's best error=0.1578\n",
      "[flaml.automl.logger: 03-14 17:31:03] {2218} INFO - iteration 183, current learner lgbm\n",
      "[flaml.automl.logger: 03-14 17:31:04] {2391} INFO -  at 47.8s,\testimator lgbm's best error=0.1578,\tbest estimator lgbm's best error=0.1578\n",
      "[flaml.automl.logger: 03-14 17:31:04] {2218} INFO - iteration 184, current learner lgbm\n",
      "[flaml.automl.logger: 03-14 17:31:04] {2391} INFO -  at 48.2s,\testimator lgbm's best error=0.1578,\tbest estimator lgbm's best error=0.1578\n",
      "[flaml.automl.logger: 03-14 17:31:04] {2218} INFO - iteration 185, current learner lgbm\n",
      "[flaml.automl.logger: 03-14 17:31:04] {2391} INFO -  at 48.6s,\testimator lgbm's best error=0.1578,\tbest estimator lgbm's best error=0.1578\n",
      "[flaml.automl.logger: 03-14 17:31:04] {2218} INFO - iteration 186, current learner lgbm\n",
      "[flaml.automl.logger: 03-14 17:31:04] {2391} INFO -  at 48.7s,\testimator lgbm's best error=0.1578,\tbest estimator lgbm's best error=0.1578\n",
      "[flaml.automl.logger: 03-14 17:31:04] {2218} INFO - iteration 187, current learner lgbm\n",
      "[flaml.automl.logger: 03-14 17:31:05] {2391} INFO -  at 49.1s,\testimator lgbm's best error=0.1578,\tbest estimator lgbm's best error=0.1578\n",
      "[flaml.automl.logger: 03-14 17:31:05] {2218} INFO - iteration 188, current learner lgbm\n",
      "[flaml.automl.logger: 03-14 17:31:05] {2391} INFO -  at 49.4s,\testimator lgbm's best error=0.1578,\tbest estimator lgbm's best error=0.1578\n",
      "[flaml.automl.logger: 03-14 17:31:05] {2218} INFO - iteration 189, current learner lgbm\n",
      "[flaml.automl.logger: 03-14 17:31:05] {2391} INFO -  at 49.6s,\testimator lgbm's best error=0.1578,\tbest estimator lgbm's best error=0.1578\n",
      "[flaml.automl.logger: 03-14 17:31:05] {2218} INFO - iteration 190, current learner lgbm\n",
      "[flaml.automl.logger: 03-14 17:31:06] {2391} INFO -  at 50.0s,\testimator lgbm's best error=0.1578,\tbest estimator lgbm's best error=0.1578\n",
      "[flaml.automl.logger: 03-14 17:31:06] {2218} INFO - iteration 191, current learner lgbm\n",
      "[flaml.automl.logger: 03-14 17:31:06] {2391} INFO -  at 50.2s,\testimator lgbm's best error=0.1578,\tbest estimator lgbm's best error=0.1578\n",
      "[flaml.automl.logger: 03-14 17:31:06] {2218} INFO - iteration 192, current learner lgbm\n",
      "[flaml.automl.logger: 03-14 17:31:06] {2391} INFO -  at 50.5s,\testimator lgbm's best error=0.1578,\tbest estimator lgbm's best error=0.1578\n",
      "[flaml.automl.logger: 03-14 17:31:06] {2218} INFO - iteration 193, current learner lgbm\n",
      "[flaml.automl.logger: 03-14 17:31:06] {2391} INFO -  at 50.6s,\testimator lgbm's best error=0.1578,\tbest estimator lgbm's best error=0.1578\n",
      "[flaml.automl.logger: 03-14 17:31:06] {2218} INFO - iteration 194, current learner lgbm\n",
      "[flaml.automl.logger: 03-14 17:31:07] {2391} INFO -  at 50.8s,\testimator lgbm's best error=0.1578,\tbest estimator lgbm's best error=0.1578\n",
      "[flaml.automl.logger: 03-14 17:31:07] {2218} INFO - iteration 195, current learner lgbm\n",
      "[flaml.automl.logger: 03-14 17:31:07] {2391} INFO -  at 51.0s,\testimator lgbm's best error=0.1578,\tbest estimator lgbm's best error=0.1578\n",
      "[flaml.automl.logger: 03-14 17:31:07] {2218} INFO - iteration 196, current learner lgbm\n",
      "[flaml.automl.logger: 03-14 17:31:07] {2391} INFO -  at 51.2s,\testimator lgbm's best error=0.1578,\tbest estimator lgbm's best error=0.1578\n",
      "[flaml.automl.logger: 03-14 17:31:07] {2218} INFO - iteration 197, current learner lgbm\n",
      "[flaml.automl.logger: 03-14 17:31:07] {2391} INFO -  at 51.4s,\testimator lgbm's best error=0.1578,\tbest estimator lgbm's best error=0.1578\n",
      "[flaml.automl.logger: 03-14 17:31:07] {2218} INFO - iteration 198, current learner lgbm\n",
      "[flaml.automl.logger: 03-14 17:31:07] {2391} INFO -  at 51.7s,\testimator lgbm's best error=0.1578,\tbest estimator lgbm's best error=0.1578\n",
      "[flaml.automl.logger: 03-14 17:31:07] {2218} INFO - iteration 199, current learner lgbm\n",
      "[flaml.automl.logger: 03-14 17:31:08] {2391} INFO -  at 51.8s,\testimator lgbm's best error=0.1578,\tbest estimator lgbm's best error=0.1578\n",
      "[flaml.automl.logger: 03-14 17:31:08] {2218} INFO - iteration 200, current learner lgbm\n",
      "[flaml.automl.logger: 03-14 17:31:08] {2391} INFO -  at 52.3s,\testimator lgbm's best error=0.1578,\tbest estimator lgbm's best error=0.1578\n",
      "[flaml.automl.logger: 03-14 17:31:08] {2218} INFO - iteration 201, current learner lgbm\n",
      "[flaml.automl.logger: 03-14 17:31:08] {2391} INFO -  at 52.5s,\testimator lgbm's best error=0.1578,\tbest estimator lgbm's best error=0.1578\n",
      "[flaml.automl.logger: 03-14 17:31:08] {2218} INFO - iteration 202, current learner lgbm\n",
      "[flaml.automl.logger: 03-14 17:31:08] {2391} INFO -  at 52.7s,\testimator lgbm's best error=0.1578,\tbest estimator lgbm's best error=0.1578\n",
      "[flaml.automl.logger: 03-14 17:31:08] {2218} INFO - iteration 203, current learner lgbm\n",
      "[flaml.automl.logger: 03-14 17:31:09] {2391} INFO -  at 52.8s,\testimator lgbm's best error=0.1578,\tbest estimator lgbm's best error=0.1578\n",
      "[flaml.automl.logger: 03-14 17:31:09] {2218} INFO - iteration 204, current learner lgbm\n",
      "[flaml.automl.logger: 03-14 17:31:09] {2391} INFO -  at 53.2s,\testimator lgbm's best error=0.1578,\tbest estimator lgbm's best error=0.1578\n",
      "[flaml.automl.logger: 03-14 17:31:09] {2218} INFO - iteration 205, current learner lgbm\n",
      "[flaml.automl.logger: 03-14 17:31:09] {2391} INFO -  at 53.4s,\testimator lgbm's best error=0.1578,\tbest estimator lgbm's best error=0.1578\n",
      "[flaml.automl.logger: 03-14 17:31:09] {2218} INFO - iteration 206, current learner lgbm\n",
      "[flaml.automl.logger: 03-14 17:31:09] {2391} INFO -  at 53.5s,\testimator lgbm's best error=0.1578,\tbest estimator lgbm's best error=0.1578\n",
      "[flaml.automl.logger: 03-14 17:31:09] {2218} INFO - iteration 207, current learner lgbm\n",
      "[flaml.automl.logger: 03-14 17:31:09] {2391} INFO -  at 53.7s,\testimator lgbm's best error=0.1578,\tbest estimator lgbm's best error=0.1578\n",
      "[flaml.automl.logger: 03-14 17:31:09] {2218} INFO - iteration 208, current learner lgbm\n",
      "[flaml.automl.logger: 03-14 17:31:10] {2391} INFO -  at 53.9s,\testimator lgbm's best error=0.1578,\tbest estimator lgbm's best error=0.1578\n",
      "[flaml.automl.logger: 03-14 17:31:10] {2218} INFO - iteration 209, current learner lgbm\n",
      "[flaml.automl.logger: 03-14 17:31:10] {2391} INFO -  at 54.0s,\testimator lgbm's best error=0.1578,\tbest estimator lgbm's best error=0.1578\n",
      "[flaml.automl.logger: 03-14 17:31:10] {2218} INFO - iteration 210, current learner lgbm\n",
      "[flaml.automl.logger: 03-14 17:31:10] {2391} INFO -  at 54.2s,\testimator lgbm's best error=0.1578,\tbest estimator lgbm's best error=0.1578\n",
      "[flaml.automl.logger: 03-14 17:31:10] {2218} INFO - iteration 211, current learner lgbm\n",
      "[flaml.automl.logger: 03-14 17:31:10] {2391} INFO -  at 54.4s,\testimator lgbm's best error=0.1578,\tbest estimator lgbm's best error=0.1578\n",
      "[flaml.automl.logger: 03-14 17:31:10] {2218} INFO - iteration 212, current learner lgbm\n",
      "[flaml.automl.logger: 03-14 17:31:10] {2391} INFO -  at 54.5s,\testimator lgbm's best error=0.1578,\tbest estimator lgbm's best error=0.1578\n",
      "[flaml.automl.logger: 03-14 17:31:10] {2218} INFO - iteration 213, current learner lgbm\n",
      "[flaml.automl.logger: 03-14 17:31:10] {2391} INFO -  at 54.7s,\testimator lgbm's best error=0.1578,\tbest estimator lgbm's best error=0.1578\n",
      "[flaml.automl.logger: 03-14 17:31:10] {2218} INFO - iteration 214, current learner lgbm\n",
      "[flaml.automl.logger: 03-14 17:31:11] {2391} INFO -  at 55.1s,\testimator lgbm's best error=0.1578,\tbest estimator lgbm's best error=0.1578\n",
      "[flaml.automl.logger: 03-14 17:31:11] {2218} INFO - iteration 215, current learner lgbm\n",
      "[flaml.automl.logger: 03-14 17:31:11] {2391} INFO -  at 55.3s,\testimator lgbm's best error=0.1578,\tbest estimator lgbm's best error=0.1578\n",
      "[flaml.automl.logger: 03-14 17:31:11] {2218} INFO - iteration 216, current learner lgbm\n",
      "[flaml.automl.logger: 03-14 17:31:11] {2391} INFO -  at 55.5s,\testimator lgbm's best error=0.1578,\tbest estimator lgbm's best error=0.1578\n",
      "[flaml.automl.logger: 03-14 17:31:11] {2218} INFO - iteration 217, current learner lgbm\n",
      "[flaml.automl.logger: 03-14 17:31:11] {2391} INFO -  at 55.7s,\testimator lgbm's best error=0.1578,\tbest estimator lgbm's best error=0.1578\n",
      "[flaml.automl.logger: 03-14 17:31:11] {2218} INFO - iteration 218, current learner lgbm\n",
      "[flaml.automl.logger: 03-14 17:31:12] {2391} INFO -  at 55.9s,\testimator lgbm's best error=0.1578,\tbest estimator lgbm's best error=0.1578\n",
      "[flaml.automl.logger: 03-14 17:31:12] {2218} INFO - iteration 219, current learner lgbm\n",
      "[flaml.automl.logger: 03-14 17:31:12] {2391} INFO -  at 56.1s,\testimator lgbm's best error=0.1578,\tbest estimator lgbm's best error=0.1578\n",
      "[flaml.automl.logger: 03-14 17:31:12] {2218} INFO - iteration 220, current learner lgbm\n",
      "[flaml.automl.logger: 03-14 17:31:12] {2391} INFO -  at 56.3s,\testimator lgbm's best error=0.1578,\tbest estimator lgbm's best error=0.1578\n",
      "[flaml.automl.logger: 03-14 17:31:12] {2218} INFO - iteration 221, current learner lgbm\n",
      "[flaml.automl.logger: 03-14 17:31:12] {2391} INFO -  at 56.5s,\testimator lgbm's best error=0.1578,\tbest estimator lgbm's best error=0.1578\n",
      "[flaml.automl.logger: 03-14 17:31:12] {2218} INFO - iteration 222, current learner lgbm\n",
      "[flaml.automl.logger: 03-14 17:31:12] {2391} INFO -  at 56.7s,\testimator lgbm's best error=0.1578,\tbest estimator lgbm's best error=0.1578\n",
      "[flaml.automl.logger: 03-14 17:31:12] {2218} INFO - iteration 223, current learner lgbm\n",
      "[flaml.automl.logger: 03-14 17:31:13] {2391} INFO -  at 56.9s,\testimator lgbm's best error=0.1578,\tbest estimator lgbm's best error=0.1578\n",
      "[flaml.automl.logger: 03-14 17:31:13] {2218} INFO - iteration 224, current learner lgbm\n",
      "[flaml.automl.logger: 03-14 17:31:13] {2391} INFO -  at 57.1s,\testimator lgbm's best error=0.1578,\tbest estimator lgbm's best error=0.1578\n",
      "[flaml.automl.logger: 03-14 17:31:13] {2218} INFO - iteration 225, current learner lgbm\n",
      "[flaml.automl.logger: 03-14 17:31:13] {2391} INFO -  at 57.3s,\testimator lgbm's best error=0.1578,\tbest estimator lgbm's best error=0.1578\n",
      "[flaml.automl.logger: 03-14 17:31:13] {2218} INFO - iteration 226, current learner lgbm\n",
      "[flaml.automl.logger: 03-14 17:31:13] {2391} INFO -  at 57.5s,\testimator lgbm's best error=0.1578,\tbest estimator lgbm's best error=0.1578\n",
      "[flaml.automl.logger: 03-14 17:31:13] {2218} INFO - iteration 227, current learner lgbm\n",
      "[flaml.automl.logger: 03-14 17:31:13] {2391} INFO -  at 57.7s,\testimator lgbm's best error=0.1578,\tbest estimator lgbm's best error=0.1578\n",
      "[flaml.automl.logger: 03-14 17:31:13] {2218} INFO - iteration 228, current learner lgbm\n",
      "[flaml.automl.logger: 03-14 17:31:14] {2391} INFO -  at 57.8s,\testimator lgbm's best error=0.1578,\tbest estimator lgbm's best error=0.1578\n",
      "[flaml.automl.logger: 03-14 17:31:14] {2218} INFO - iteration 229, current learner lgbm\n",
      "[flaml.automl.logger: 03-14 17:31:14] {2391} INFO -  at 58.0s,\testimator lgbm's best error=0.1578,\tbest estimator lgbm's best error=0.1578\n",
      "[flaml.automl.logger: 03-14 17:31:14] {2218} INFO - iteration 230, current learner lgbm\n",
      "[flaml.automl.logger: 03-14 17:31:14] {2391} INFO -  at 58.2s,\testimator lgbm's best error=0.1578,\tbest estimator lgbm's best error=0.1578\n",
      "[flaml.automl.logger: 03-14 17:31:14] {2218} INFO - iteration 231, current learner lgbm\n",
      "[flaml.automl.logger: 03-14 17:31:14] {2391} INFO -  at 58.6s,\testimator lgbm's best error=0.1578,\tbest estimator lgbm's best error=0.1578\n",
      "[flaml.automl.logger: 03-14 17:31:14] {2218} INFO - iteration 232, current learner lgbm\n",
      "[flaml.automl.logger: 03-14 17:31:15] {2391} INFO -  at 58.8s,\testimator lgbm's best error=0.1578,\tbest estimator lgbm's best error=0.1578\n",
      "[flaml.automl.logger: 03-14 17:31:15] {2218} INFO - iteration 233, current learner lgbm\n",
      "[flaml.automl.logger: 03-14 17:31:15] {2391} INFO -  at 58.9s,\testimator lgbm's best error=0.1578,\tbest estimator lgbm's best error=0.1578\n",
      "[flaml.automl.logger: 03-14 17:31:15] {2218} INFO - iteration 234, current learner lgbm\n",
      "[flaml.automl.logger: 03-14 17:31:15] {2391} INFO -  at 59.4s,\testimator lgbm's best error=0.1578,\tbest estimator lgbm's best error=0.1578\n",
      "[flaml.automl.logger: 03-14 17:31:15] {2218} INFO - iteration 235, current learner lgbm\n",
      "[flaml.automl.logger: 03-14 17:31:15] {2391} INFO -  at 59.7s,\testimator lgbm's best error=0.1578,\tbest estimator lgbm's best error=0.1578\n",
      "[flaml.automl.logger: 03-14 17:31:15] {2218} INFO - iteration 236, current learner lgbm\n",
      "[flaml.automl.logger: 03-14 17:31:16] {2391} INFO -  at 59.8s,\testimator lgbm's best error=0.1578,\tbest estimator lgbm's best error=0.1578\n",
      "[flaml.automl.logger: 03-14 17:31:16] {2218} INFO - iteration 237, current learner lgbm\n",
      "[flaml.automl.logger: 03-14 17:31:16] {2391} INFO -  at 60.0s,\testimator lgbm's best error=0.1578,\tbest estimator lgbm's best error=0.1578\n",
      "[flaml.automl.logger: 03-14 17:31:16] {2218} INFO - iteration 238, current learner lgbm\n",
      "[flaml.automl.logger: 03-14 17:31:16] {2391} INFO -  at 60.2s,\testimator lgbm's best error=0.1578,\tbest estimator lgbm's best error=0.1578\n",
      "[flaml.automl.logger: 03-14 17:31:16] {2218} INFO - iteration 239, current learner lgbm\n",
      "[flaml.automl.logger: 03-14 17:31:16] {2391} INFO -  at 60.5s,\testimator lgbm's best error=0.1578,\tbest estimator lgbm's best error=0.1578\n",
      "[flaml.automl.logger: 03-14 17:31:16] {2218} INFO - iteration 240, current learner lgbm\n",
      "[flaml.automl.logger: 03-14 17:31:16] {2391} INFO -  at 60.6s,\testimator lgbm's best error=0.1578,\tbest estimator lgbm's best error=0.1578\n",
      "[flaml.automl.logger: 03-14 17:31:16] {2218} INFO - iteration 241, current learner lgbm\n",
      "[flaml.automl.logger: 03-14 17:31:17] {2391} INFO -  at 60.8s,\testimator lgbm's best error=0.1578,\tbest estimator lgbm's best error=0.1578\n",
      "[flaml.automl.logger: 03-14 17:31:17] {2218} INFO - iteration 242, current learner lgbm\n",
      "[flaml.automl.logger: 03-14 17:31:17] {2391} INFO -  at 61.0s,\testimator lgbm's best error=0.1578,\tbest estimator lgbm's best error=0.1578\n",
      "[flaml.automl.logger: 03-14 17:31:17] {2218} INFO - iteration 243, current learner lgbm\n",
      "[flaml.automl.logger: 03-14 17:31:17] {2391} INFO -  at 61.1s,\testimator lgbm's best error=0.1578,\tbest estimator lgbm's best error=0.1578\n",
      "[flaml.automl.logger: 03-14 17:31:17] {2218} INFO - iteration 244, current learner lgbm\n",
      "[flaml.automl.logger: 03-14 17:31:17] {2391} INFO -  at 61.5s,\testimator lgbm's best error=0.1578,\tbest estimator lgbm's best error=0.1578\n",
      "[flaml.automl.logger: 03-14 17:31:17] {2218} INFO - iteration 245, current learner lgbm\n",
      "[flaml.automl.logger: 03-14 17:31:18] {2391} INFO -  at 61.8s,\testimator lgbm's best error=0.1578,\tbest estimator lgbm's best error=0.1578\n",
      "[flaml.automl.logger: 03-14 17:31:18] {2218} INFO - iteration 246, current learner lgbm\n",
      "[flaml.automl.logger: 03-14 17:31:18] {2391} INFO -  at 62.0s,\testimator lgbm's best error=0.1578,\tbest estimator lgbm's best error=0.1578\n",
      "[flaml.automl.logger: 03-14 17:31:18] {2218} INFO - iteration 247, current learner lgbm\n",
      "[flaml.automl.logger: 03-14 17:31:18] {2391} INFO -  at 62.1s,\testimator lgbm's best error=0.1578,\tbest estimator lgbm's best error=0.1578\n",
      "[flaml.automl.logger: 03-14 17:31:18] {2218} INFO - iteration 248, current learner lgbm\n",
      "[flaml.automl.logger: 03-14 17:31:18] {2391} INFO -  at 62.5s,\testimator lgbm's best error=0.1578,\tbest estimator lgbm's best error=0.1578\n",
      "[flaml.automl.logger: 03-14 17:31:18] {2218} INFO - iteration 249, current learner lgbm\n",
      "[flaml.automl.logger: 03-14 17:31:18] {2391} INFO -  at 62.8s,\testimator lgbm's best error=0.1578,\tbest estimator lgbm's best error=0.1578\n",
      "[flaml.automl.logger: 03-14 17:31:18] {2218} INFO - iteration 250, current learner lgbm\n",
      "[flaml.automl.logger: 03-14 17:31:19] {2391} INFO -  at 62.9s,\testimator lgbm's best error=0.1578,\tbest estimator lgbm's best error=0.1578\n",
      "[flaml.automl.logger: 03-14 17:31:19] {2218} INFO - iteration 251, current learner lgbm\n",
      "[flaml.automl.logger: 03-14 17:31:19] {2391} INFO -  at 63.1s,\testimator lgbm's best error=0.1578,\tbest estimator lgbm's best error=0.1578\n",
      "[flaml.automl.logger: 03-14 17:31:19] {2218} INFO - iteration 252, current learner lgbm\n",
      "[flaml.automl.logger: 03-14 17:31:19] {2391} INFO -  at 63.4s,\testimator lgbm's best error=0.1578,\tbest estimator lgbm's best error=0.1578\n",
      "[flaml.automl.logger: 03-14 17:31:19] {2218} INFO - iteration 253, current learner lgbm\n",
      "[flaml.automl.logger: 03-14 17:31:19] {2391} INFO -  at 63.5s,\testimator lgbm's best error=0.1578,\tbest estimator lgbm's best error=0.1578\n",
      "[flaml.automl.logger: 03-14 17:31:19] {2218} INFO - iteration 254, current learner lgbm\n",
      "[flaml.automl.logger: 03-14 17:31:20] {2391} INFO -  at 63.8s,\testimator lgbm's best error=0.1578,\tbest estimator lgbm's best error=0.1578\n",
      "[flaml.automl.logger: 03-14 17:31:20] {2218} INFO - iteration 255, current learner lgbm\n",
      "[flaml.automl.logger: 03-14 17:31:20] {2391} INFO -  at 64.0s,\testimator lgbm's best error=0.1578,\tbest estimator lgbm's best error=0.1578\n",
      "[flaml.automl.logger: 03-14 17:31:20] {2218} INFO - iteration 256, current learner lgbm\n",
      "[flaml.automl.logger: 03-14 17:31:20] {2391} INFO -  at 64.2s,\testimator lgbm's best error=0.1578,\tbest estimator lgbm's best error=0.1578\n",
      "[flaml.automl.logger: 03-14 17:31:20] {2218} INFO - iteration 257, current learner lgbm\n",
      "[flaml.automl.logger: 03-14 17:31:20] {2391} INFO -  at 64.5s,\testimator lgbm's best error=0.1578,\tbest estimator lgbm's best error=0.1578\n",
      "[flaml.automl.logger: 03-14 17:31:20] {2218} INFO - iteration 258, current learner lgbm\n",
      "[flaml.automl.logger: 03-14 17:31:20] {2391} INFO -  at 64.7s,\testimator lgbm's best error=0.1578,\tbest estimator lgbm's best error=0.1578\n",
      "[flaml.automl.logger: 03-14 17:31:20] {2218} INFO - iteration 259, current learner lgbm\n",
      "[flaml.automl.logger: 03-14 17:31:21] {2391} INFO -  at 64.8s,\testimator lgbm's best error=0.1578,\tbest estimator lgbm's best error=0.1578\n",
      "[flaml.automl.logger: 03-14 17:31:21] {2218} INFO - iteration 260, current learner lgbm\n",
      "[flaml.automl.logger: 03-14 17:31:21] {2391} INFO -  at 65.0s,\testimator lgbm's best error=0.1578,\tbest estimator lgbm's best error=0.1578\n",
      "[flaml.automl.logger: 03-14 17:31:21] {2218} INFO - iteration 261, current learner lgbm\n",
      "[flaml.automl.logger: 03-14 17:31:21] {2391} INFO -  at 65.2s,\testimator lgbm's best error=0.1578,\tbest estimator lgbm's best error=0.1578\n",
      "[flaml.automl.logger: 03-14 17:31:21] {2218} INFO - iteration 262, current learner lgbm\n",
      "[flaml.automl.logger: 03-14 17:31:21] {2391} INFO -  at 65.4s,\testimator lgbm's best error=0.1578,\tbest estimator lgbm's best error=0.1578\n",
      "[flaml.automl.logger: 03-14 17:31:21] {2218} INFO - iteration 263, current learner lgbm\n",
      "[flaml.automl.logger: 03-14 17:31:21] {2391} INFO -  at 65.5s,\testimator lgbm's best error=0.1578,\tbest estimator lgbm's best error=0.1578\n",
      "[flaml.automl.logger: 03-14 17:31:21] {2218} INFO - iteration 264, current learner lgbm\n",
      "[flaml.automl.logger: 03-14 17:31:22] {2391} INFO -  at 65.9s,\testimator lgbm's best error=0.1578,\tbest estimator lgbm's best error=0.1578\n",
      "[flaml.automl.logger: 03-14 17:31:22] {2218} INFO - iteration 265, current learner lgbm\n",
      "[flaml.automl.logger: 03-14 17:31:22] {2391} INFO -  at 66.2s,\testimator lgbm's best error=0.1578,\tbest estimator lgbm's best error=0.1578\n",
      "[flaml.automl.logger: 03-14 17:31:22] {2218} INFO - iteration 266, current learner lgbm\n",
      "[flaml.automl.logger: 03-14 17:31:22] {2391} INFO -  at 66.4s,\testimator lgbm's best error=0.1578,\tbest estimator lgbm's best error=0.1578\n",
      "[flaml.automl.logger: 03-14 17:31:22] {2218} INFO - iteration 267, current learner lgbm\n",
      "[flaml.automl.logger: 03-14 17:31:22] {2391} INFO -  at 66.6s,\testimator lgbm's best error=0.1578,\tbest estimator lgbm's best error=0.1578\n",
      "[flaml.automl.logger: 03-14 17:31:22] {2218} INFO - iteration 268, current learner lgbm\n",
      "[flaml.automl.logger: 03-14 17:31:22] {2391} INFO -  at 66.8s,\testimator lgbm's best error=0.1578,\tbest estimator lgbm's best error=0.1578\n",
      "[flaml.automl.logger: 03-14 17:31:22] {2218} INFO - iteration 269, current learner lgbm\n",
      "[flaml.automl.logger: 03-14 17:31:23] {2391} INFO -  at 67.0s,\testimator lgbm's best error=0.1578,\tbest estimator lgbm's best error=0.1578\n",
      "[flaml.automl.logger: 03-14 17:31:23] {2218} INFO - iteration 270, current learner lgbm\n",
      "[flaml.automl.logger: 03-14 17:31:23] {2391} INFO -  at 67.2s,\testimator lgbm's best error=0.1578,\tbest estimator lgbm's best error=0.1578\n",
      "[flaml.automl.logger: 03-14 17:31:23] {2218} INFO - iteration 271, current learner lgbm\n",
      "[flaml.automl.logger: 03-14 17:31:23] {2391} INFO -  at 67.4s,\testimator lgbm's best error=0.1578,\tbest estimator lgbm's best error=0.1578\n",
      "[flaml.automl.logger: 03-14 17:31:23] {2218} INFO - iteration 272, current learner lgbm\n",
      "[flaml.automl.logger: 03-14 17:31:23] {2391} INFO -  at 67.7s,\testimator lgbm's best error=0.1578,\tbest estimator lgbm's best error=0.1578\n",
      "[flaml.automl.logger: 03-14 17:31:23] {2218} INFO - iteration 273, current learner lgbm\n",
      "[flaml.automl.logger: 03-14 17:31:24] {2391} INFO -  at 67.8s,\testimator lgbm's best error=0.1578,\tbest estimator lgbm's best error=0.1578\n",
      "[flaml.automl.logger: 03-14 17:31:24] {2218} INFO - iteration 274, current learner lgbm\n",
      "[flaml.automl.logger: 03-14 17:31:24] {2391} INFO -  at 68.1s,\testimator lgbm's best error=0.1578,\tbest estimator lgbm's best error=0.1578\n",
      "[flaml.automl.logger: 03-14 17:31:24] {2218} INFO - iteration 275, current learner lgbm\n",
      "[flaml.automl.logger: 03-14 17:31:24] {2391} INFO -  at 68.2s,\testimator lgbm's best error=0.1578,\tbest estimator lgbm's best error=0.1578\n",
      "[flaml.automl.logger: 03-14 17:31:24] {2218} INFO - iteration 276, current learner lgbm\n",
      "[flaml.automl.logger: 03-14 17:31:24] {2391} INFO -  at 68.6s,\testimator lgbm's best error=0.1578,\tbest estimator lgbm's best error=0.1578\n",
      "[flaml.automl.logger: 03-14 17:31:24] {2218} INFO - iteration 277, current learner lgbm\n",
      "[flaml.automl.logger: 03-14 17:31:25] {2391} INFO -  at 68.9s,\testimator lgbm's best error=0.1578,\tbest estimator lgbm's best error=0.1578\n",
      "[flaml.automl.logger: 03-14 17:31:25] {2218} INFO - iteration 278, current learner lgbm\n",
      "[flaml.automl.logger: 03-14 17:31:25] {2391} INFO -  at 69.1s,\testimator lgbm's best error=0.1578,\tbest estimator lgbm's best error=0.1578\n",
      "[flaml.automl.logger: 03-14 17:31:25] {2218} INFO - iteration 279, current learner lgbm\n",
      "[flaml.automl.logger: 03-14 17:31:25] {2391} INFO -  at 69.4s,\testimator lgbm's best error=0.1578,\tbest estimator lgbm's best error=0.1578\n",
      "[flaml.automl.logger: 03-14 17:31:25] {2218} INFO - iteration 280, current learner lgbm\n",
      "[flaml.automl.logger: 03-14 17:31:25] {2391} INFO -  at 69.5s,\testimator lgbm's best error=0.1578,\tbest estimator lgbm's best error=0.1578\n",
      "[flaml.automl.logger: 03-14 17:31:25] {2218} INFO - iteration 281, current learner lgbm\n",
      "[flaml.automl.logger: 03-14 17:31:25] {2391} INFO -  at 69.7s,\testimator lgbm's best error=0.1578,\tbest estimator lgbm's best error=0.1578\n",
      "[flaml.automl.logger: 03-14 17:31:25] {2218} INFO - iteration 282, current learner lgbm\n",
      "[flaml.automl.logger: 03-14 17:31:26] {2391} INFO -  at 69.9s,\testimator lgbm's best error=0.1578,\tbest estimator lgbm's best error=0.1578\n",
      "[flaml.automl.logger: 03-14 17:31:26] {2218} INFO - iteration 283, current learner lgbm\n",
      "[flaml.automl.logger: 03-14 17:31:26] {2391} INFO -  at 70.0s,\testimator lgbm's best error=0.1578,\tbest estimator lgbm's best error=0.1578\n",
      "[flaml.automl.logger: 03-14 17:31:26] {2218} INFO - iteration 284, current learner lgbm\n",
      "[flaml.automl.logger: 03-14 17:31:26] {2391} INFO -  at 70.2s,\testimator lgbm's best error=0.1578,\tbest estimator lgbm's best error=0.1578\n",
      "[flaml.automl.logger: 03-14 17:31:26] {2218} INFO - iteration 285, current learner lgbm\n",
      "[flaml.automl.logger: 03-14 17:31:26] {2391} INFO -  at 70.4s,\testimator lgbm's best error=0.1578,\tbest estimator lgbm's best error=0.1578\n",
      "[flaml.automl.logger: 03-14 17:31:26] {2218} INFO - iteration 286, current learner lgbm\n",
      "[flaml.automl.logger: 03-14 17:31:26] {2391} INFO -  at 70.6s,\testimator lgbm's best error=0.1578,\tbest estimator lgbm's best error=0.1578\n",
      "[flaml.automl.logger: 03-14 17:31:26] {2218} INFO - iteration 287, current learner lgbm\n",
      "[flaml.automl.logger: 03-14 17:31:27] {2391} INFO -  at 71.0s,\testimator lgbm's best error=0.1578,\tbest estimator lgbm's best error=0.1578\n",
      "[flaml.automl.logger: 03-14 17:31:27] {2218} INFO - iteration 288, current learner lgbm\n",
      "[flaml.automl.logger: 03-14 17:31:27] {2391} INFO -  at 71.5s,\testimator lgbm's best error=0.1578,\tbest estimator lgbm's best error=0.1578\n",
      "[flaml.automl.logger: 03-14 17:31:27] {2218} INFO - iteration 289, current learner lgbm\n",
      "[flaml.automl.logger: 03-14 17:31:28] {2391} INFO -  at 72.0s,\testimator lgbm's best error=0.1578,\tbest estimator lgbm's best error=0.1578\n",
      "[flaml.automl.logger: 03-14 17:31:28] {2218} INFO - iteration 290, current learner lgbm\n",
      "[flaml.automl.logger: 03-14 17:31:28] {2391} INFO -  at 72.3s,\testimator lgbm's best error=0.1578,\tbest estimator lgbm's best error=0.1578\n",
      "[flaml.automl.logger: 03-14 17:31:28] {2218} INFO - iteration 291, current learner lgbm\n",
      "[flaml.automl.logger: 03-14 17:31:28] {2391} INFO -  at 72.5s,\testimator lgbm's best error=0.1578,\tbest estimator lgbm's best error=0.1578\n",
      "[flaml.automl.logger: 03-14 17:31:28] {2218} INFO - iteration 292, current learner lgbm\n",
      "[flaml.automl.logger: 03-14 17:31:28] {2391} INFO -  at 72.7s,\testimator lgbm's best error=0.1578,\tbest estimator lgbm's best error=0.1578\n",
      "[flaml.automl.logger: 03-14 17:31:28] {2218} INFO - iteration 293, current learner lgbm\n",
      "[flaml.automl.logger: 03-14 17:31:29] {2391} INFO -  at 72.9s,\testimator lgbm's best error=0.1578,\tbest estimator lgbm's best error=0.1578\n",
      "[flaml.automl.logger: 03-14 17:31:29] {2218} INFO - iteration 294, current learner lgbm\n",
      "[flaml.automl.logger: 03-14 17:31:29] {2391} INFO -  at 73.1s,\testimator lgbm's best error=0.1578,\tbest estimator lgbm's best error=0.1578\n",
      "[flaml.automl.logger: 03-14 17:31:29] {2218} INFO - iteration 295, current learner lgbm\n",
      "[flaml.automl.logger: 03-14 17:31:29] {2391} INFO -  at 73.2s,\testimator lgbm's best error=0.1578,\tbest estimator lgbm's best error=0.1578\n",
      "[flaml.automl.logger: 03-14 17:31:29] {2218} INFO - iteration 296, current learner lgbm\n",
      "[flaml.automl.logger: 03-14 17:31:30] {2391} INFO -  at 73.8s,\testimator lgbm's best error=0.1578,\tbest estimator lgbm's best error=0.1578\n",
      "[flaml.automl.logger: 03-14 17:31:30] {2218} INFO - iteration 297, current learner lgbm\n",
      "[flaml.automl.logger: 03-14 17:31:30] {2391} INFO -  at 74.0s,\testimator lgbm's best error=0.1578,\tbest estimator lgbm's best error=0.1578\n",
      "[flaml.automl.logger: 03-14 17:31:30] {2218} INFO - iteration 298, current learner lgbm\n",
      "[flaml.automl.logger: 03-14 17:31:30] {2391} INFO -  at 74.4s,\testimator lgbm's best error=0.1578,\tbest estimator lgbm's best error=0.1578\n",
      "[flaml.automl.logger: 03-14 17:31:30] {2218} INFO - iteration 299, current learner lgbm\n",
      "[flaml.automl.logger: 03-14 17:31:30] {2391} INFO -  at 74.6s,\testimator lgbm's best error=0.1578,\tbest estimator lgbm's best error=0.1578\n",
      "[flaml.automl.logger: 03-14 17:31:30] {2218} INFO - iteration 300, current learner lgbm\n",
      "[flaml.automl.logger: 03-14 17:31:31] {2391} INFO -  at 74.9s,\testimator lgbm's best error=0.1578,\tbest estimator lgbm's best error=0.1578\n",
      "[flaml.automl.logger: 03-14 17:31:31] {2218} INFO - iteration 301, current learner lgbm\n",
      "[flaml.automl.logger: 03-14 17:31:31] {2391} INFO -  at 75.0s,\testimator lgbm's best error=0.1578,\tbest estimator lgbm's best error=0.1578\n",
      "[flaml.automl.logger: 03-14 17:31:31] {2218} INFO - iteration 302, current learner lgbm\n",
      "[flaml.automl.logger: 03-14 17:31:31] {2391} INFO -  at 75.2s,\testimator lgbm's best error=0.1578,\tbest estimator lgbm's best error=0.1578\n",
      "[flaml.automl.logger: 03-14 17:31:31] {2218} INFO - iteration 303, current learner lgbm\n",
      "[flaml.automl.logger: 03-14 17:31:31] {2391} INFO -  at 75.4s,\testimator lgbm's best error=0.1578,\tbest estimator lgbm's best error=0.1578\n",
      "[flaml.automl.logger: 03-14 17:31:31] {2218} INFO - iteration 304, current learner lgbm\n",
      "[flaml.automl.logger: 03-14 17:31:31] {2391} INFO -  at 75.6s,\testimator lgbm's best error=0.1578,\tbest estimator lgbm's best error=0.1578\n",
      "[flaml.automl.logger: 03-14 17:31:31] {2218} INFO - iteration 305, current learner lgbm\n",
      "[flaml.automl.logger: 03-14 17:31:32] {2391} INFO -  at 75.8s,\testimator lgbm's best error=0.1578,\tbest estimator lgbm's best error=0.1578\n",
      "[flaml.automl.logger: 03-14 17:31:32] {2218} INFO - iteration 306, current learner lgbm\n",
      "[flaml.automl.logger: 03-14 17:31:32] {2391} INFO -  at 76.0s,\testimator lgbm's best error=0.1578,\tbest estimator lgbm's best error=0.1578\n",
      "[flaml.automl.logger: 03-14 17:31:32] {2218} INFO - iteration 307, current learner lgbm\n",
      "[flaml.automl.logger: 03-14 17:31:32] {2391} INFO -  at 76.2s,\testimator lgbm's best error=0.1578,\tbest estimator lgbm's best error=0.1578\n",
      "[flaml.automl.logger: 03-14 17:31:32] {2218} INFO - iteration 308, current learner lgbm\n",
      "[flaml.automl.logger: 03-14 17:31:32] {2391} INFO -  at 76.7s,\testimator lgbm's best error=0.1578,\tbest estimator lgbm's best error=0.1578\n",
      "[flaml.automl.logger: 03-14 17:31:32] {2218} INFO - iteration 309, current learner lgbm\n",
      "[flaml.automl.logger: 03-14 17:31:33] {2391} INFO -  at 76.9s,\testimator lgbm's best error=0.1578,\tbest estimator lgbm's best error=0.1578\n",
      "[flaml.automl.logger: 03-14 17:31:33] {2218} INFO - iteration 310, current learner lgbm\n",
      "[flaml.automl.logger: 03-14 17:31:33] {2391} INFO -  at 77.2s,\testimator lgbm's best error=0.1578,\tbest estimator lgbm's best error=0.1578\n",
      "[flaml.automl.logger: 03-14 17:31:33] {2218} INFO - iteration 311, current learner lgbm\n",
      "[flaml.automl.logger: 03-14 17:31:33] {2391} INFO -  at 77.3s,\testimator lgbm's best error=0.1578,\tbest estimator lgbm's best error=0.1578\n",
      "[flaml.automl.logger: 03-14 17:31:33] {2218} INFO - iteration 312, current learner lgbm\n",
      "[flaml.automl.logger: 03-14 17:31:33] {2391} INFO -  at 77.7s,\testimator lgbm's best error=0.1578,\tbest estimator lgbm's best error=0.1578\n",
      "[flaml.automl.logger: 03-14 17:31:33] {2218} INFO - iteration 313, current learner lgbm\n",
      "[flaml.automl.logger: 03-14 17:31:34] {2391} INFO -  at 77.8s,\testimator lgbm's best error=0.1578,\tbest estimator lgbm's best error=0.1578\n",
      "[flaml.automl.logger: 03-14 17:31:34] {2218} INFO - iteration 314, current learner lgbm\n",
      "[flaml.automl.logger: 03-14 17:31:34] {2391} INFO -  at 78.0s,\testimator lgbm's best error=0.1578,\tbest estimator lgbm's best error=0.1578\n",
      "[flaml.automl.logger: 03-14 17:31:34] {2218} INFO - iteration 315, current learner lgbm\n",
      "[flaml.automl.logger: 03-14 17:31:34] {2391} INFO -  at 78.1s,\testimator lgbm's best error=0.1578,\tbest estimator lgbm's best error=0.1578\n",
      "[flaml.automl.logger: 03-14 17:31:34] {2218} INFO - iteration 316, current learner lgbm\n",
      "[flaml.automl.logger: 03-14 17:31:34] {2391} INFO -  at 78.5s,\testimator lgbm's best error=0.1578,\tbest estimator lgbm's best error=0.1578\n",
      "[flaml.automl.logger: 03-14 17:31:34] {2218} INFO - iteration 317, current learner lgbm\n",
      "[flaml.automl.logger: 03-14 17:31:35] {2391} INFO -  at 78.9s,\testimator lgbm's best error=0.1578,\tbest estimator lgbm's best error=0.1578\n",
      "[flaml.automl.logger: 03-14 17:31:35] {2218} INFO - iteration 318, current learner lgbm\n",
      "[flaml.automl.logger: 03-14 17:31:35] {2391} INFO -  at 79.0s,\testimator lgbm's best error=0.1578,\tbest estimator lgbm's best error=0.1578\n",
      "[flaml.automl.logger: 03-14 17:31:35] {2218} INFO - iteration 319, current learner lgbm\n",
      "[flaml.automl.logger: 03-14 17:31:35] {2391} INFO -  at 79.2s,\testimator lgbm's best error=0.1578,\tbest estimator lgbm's best error=0.1578\n",
      "[flaml.automl.logger: 03-14 17:31:35] {2218} INFO - iteration 320, current learner lgbm\n",
      "[flaml.automl.logger: 03-14 17:31:35] {2391} INFO -  at 79.4s,\testimator lgbm's best error=0.1578,\tbest estimator lgbm's best error=0.1578\n",
      "[flaml.automl.logger: 03-14 17:31:35] {2218} INFO - iteration 321, current learner lgbm\n",
      "[flaml.automl.logger: 03-14 17:31:35] {2391} INFO -  at 79.6s,\testimator lgbm's best error=0.1578,\tbest estimator lgbm's best error=0.1578\n",
      "[flaml.automl.logger: 03-14 17:31:35] {2218} INFO - iteration 322, current learner lgbm\n",
      "[flaml.automl.logger: 03-14 17:31:35] {2391} INFO -  at 79.7s,\testimator lgbm's best error=0.1578,\tbest estimator lgbm's best error=0.1578\n",
      "[flaml.automl.logger: 03-14 17:31:35] {2218} INFO - iteration 323, current learner lgbm\n",
      "[flaml.automl.logger: 03-14 17:31:36] {2391} INFO -  at 79.9s,\testimator lgbm's best error=0.1578,\tbest estimator lgbm's best error=0.1578\n",
      "[flaml.automl.logger: 03-14 17:31:36] {2218} INFO - iteration 324, current learner lgbm\n",
      "[flaml.automl.logger: 03-14 17:31:36] {2391} INFO -  at 80.1s,\testimator lgbm's best error=0.1578,\tbest estimator lgbm's best error=0.1578\n",
      "[flaml.automl.logger: 03-14 17:31:36] {2218} INFO - iteration 325, current learner lgbm\n",
      "[flaml.automl.logger: 03-14 17:31:36] {2391} INFO -  at 80.5s,\testimator lgbm's best error=0.1578,\tbest estimator lgbm's best error=0.1578\n",
      "[flaml.automl.logger: 03-14 17:31:36] {2218} INFO - iteration 326, current learner lgbm\n",
      "[flaml.automl.logger: 03-14 17:31:36] {2391} INFO -  at 80.7s,\testimator lgbm's best error=0.1578,\tbest estimator lgbm's best error=0.1578\n",
      "[flaml.automl.logger: 03-14 17:31:36] {2218} INFO - iteration 327, current learner lgbm\n",
      "[flaml.automl.logger: 03-14 17:31:37] {2391} INFO -  at 80.9s,\testimator lgbm's best error=0.1578,\tbest estimator lgbm's best error=0.1578\n",
      "[flaml.automl.logger: 03-14 17:31:37] {2218} INFO - iteration 328, current learner lgbm\n",
      "[flaml.automl.logger: 03-14 17:31:37] {2391} INFO -  at 81.2s,\testimator lgbm's best error=0.1578,\tbest estimator lgbm's best error=0.1578\n",
      "[flaml.automl.logger: 03-14 17:31:37] {2218} INFO - iteration 329, current learner lgbm\n",
      "[flaml.automl.logger: 03-14 17:31:37] {2391} INFO -  at 81.4s,\testimator lgbm's best error=0.1554,\tbest estimator lgbm's best error=0.1554\n",
      "[flaml.automl.logger: 03-14 17:31:37] {2218} INFO - iteration 330, current learner lgbm\n",
      "[flaml.automl.logger: 03-14 17:31:38] {2391} INFO -  at 81.8s,\testimator lgbm's best error=0.1554,\tbest estimator lgbm's best error=0.1554\n",
      "[flaml.automl.logger: 03-14 17:31:38] {2218} INFO - iteration 331, current learner lgbm\n",
      "[flaml.automl.logger: 03-14 17:31:38] {2391} INFO -  at 82.0s,\testimator lgbm's best error=0.1554,\tbest estimator lgbm's best error=0.1554\n",
      "[flaml.automl.logger: 03-14 17:31:38] {2218} INFO - iteration 332, current learner lgbm\n",
      "[flaml.automl.logger: 03-14 17:31:38] {2391} INFO -  at 82.5s,\testimator lgbm's best error=0.1554,\tbest estimator lgbm's best error=0.1554\n",
      "[flaml.automl.logger: 03-14 17:31:38] {2218} INFO - iteration 333, current learner lgbm\n",
      "[flaml.automl.logger: 03-14 17:31:38] {2391} INFO -  at 82.6s,\testimator lgbm's best error=0.1554,\tbest estimator lgbm's best error=0.1554\n",
      "[flaml.automl.logger: 03-14 17:31:38] {2218} INFO - iteration 334, current learner lgbm\n",
      "[flaml.automl.logger: 03-14 17:31:39] {2391} INFO -  at 82.8s,\testimator lgbm's best error=0.1554,\tbest estimator lgbm's best error=0.1554\n",
      "[flaml.automl.logger: 03-14 17:31:39] {2218} INFO - iteration 335, current learner lgbm\n",
      "[flaml.automl.logger: 03-14 17:31:39] {2391} INFO -  at 83.1s,\testimator lgbm's best error=0.1554,\tbest estimator lgbm's best error=0.1554\n",
      "[flaml.automl.logger: 03-14 17:31:39] {2218} INFO - iteration 336, current learner lgbm\n",
      "[flaml.automl.logger: 03-14 17:31:39] {2391} INFO -  at 83.4s,\testimator lgbm's best error=0.1554,\tbest estimator lgbm's best error=0.1554\n",
      "[flaml.automl.logger: 03-14 17:31:39] {2218} INFO - iteration 337, current learner lgbm\n",
      "[flaml.automl.logger: 03-14 17:31:39] {2391} INFO -  at 83.7s,\testimator lgbm's best error=0.1554,\tbest estimator lgbm's best error=0.1554\n",
      "[flaml.automl.logger: 03-14 17:31:39] {2218} INFO - iteration 338, current learner lgbm\n",
      "[flaml.automl.logger: 03-14 17:31:40] {2391} INFO -  at 83.9s,\testimator lgbm's best error=0.1554,\tbest estimator lgbm's best error=0.1554\n",
      "[flaml.automl.logger: 03-14 17:31:40] {2218} INFO - iteration 339, current learner lgbm\n",
      "[flaml.automl.logger: 03-14 17:31:40] {2391} INFO -  at 84.1s,\testimator lgbm's best error=0.1554,\tbest estimator lgbm's best error=0.1554\n",
      "[flaml.automl.logger: 03-14 17:31:40] {2218} INFO - iteration 340, current learner lgbm\n",
      "[flaml.automl.logger: 03-14 17:31:40] {2391} INFO -  at 84.4s,\testimator lgbm's best error=0.1554,\tbest estimator lgbm's best error=0.1554\n",
      "[flaml.automl.logger: 03-14 17:31:40] {2218} INFO - iteration 341, current learner lgbm\n",
      "[flaml.automl.logger: 03-14 17:31:40] {2391} INFO -  at 84.6s,\testimator lgbm's best error=0.1554,\tbest estimator lgbm's best error=0.1554\n",
      "[flaml.automl.logger: 03-14 17:31:40] {2218} INFO - iteration 342, current learner lgbm\n",
      "[flaml.automl.logger: 03-14 17:31:41] {2391} INFO -  at 84.9s,\testimator lgbm's best error=0.1554,\tbest estimator lgbm's best error=0.1554\n",
      "[flaml.automl.logger: 03-14 17:31:41] {2218} INFO - iteration 343, current learner lgbm\n",
      "[flaml.automl.logger: 03-14 17:31:41] {2391} INFO -  at 85.1s,\testimator lgbm's best error=0.1554,\tbest estimator lgbm's best error=0.1554\n",
      "[flaml.automl.logger: 03-14 17:31:41] {2218} INFO - iteration 344, current learner lgbm\n",
      "[flaml.automl.logger: 03-14 17:31:41] {2391} INFO -  at 85.3s,\testimator lgbm's best error=0.1554,\tbest estimator lgbm's best error=0.1554\n",
      "[flaml.automl.logger: 03-14 17:31:41] {2218} INFO - iteration 345, current learner lgbm\n",
      "[flaml.automl.logger: 03-14 17:31:41] {2391} INFO -  at 85.5s,\testimator lgbm's best error=0.1554,\tbest estimator lgbm's best error=0.1554\n",
      "[flaml.automl.logger: 03-14 17:31:41] {2218} INFO - iteration 346, current learner lgbm\n",
      "[flaml.automl.logger: 03-14 17:31:41] {2391} INFO -  at 85.7s,\testimator lgbm's best error=0.1554,\tbest estimator lgbm's best error=0.1554\n",
      "[flaml.automl.logger: 03-14 17:31:41] {2218} INFO - iteration 347, current learner lgbm\n",
      "[flaml.automl.logger: 03-14 17:31:42] {2391} INFO -  at 86.1s,\testimator lgbm's best error=0.1554,\tbest estimator lgbm's best error=0.1554\n",
      "[flaml.automl.logger: 03-14 17:31:42] {2218} INFO - iteration 348, current learner lgbm\n",
      "[flaml.automl.logger: 03-14 17:31:42] {2391} INFO -  at 86.4s,\testimator lgbm's best error=0.1554,\tbest estimator lgbm's best error=0.1554\n",
      "[flaml.automl.logger: 03-14 17:31:42] {2218} INFO - iteration 349, current learner lgbm\n",
      "[flaml.automl.logger: 03-14 17:31:42] {2391} INFO -  at 86.6s,\testimator lgbm's best error=0.1554,\tbest estimator lgbm's best error=0.1554\n",
      "[flaml.automl.logger: 03-14 17:31:42] {2218} INFO - iteration 350, current learner lgbm\n",
      "[flaml.automl.logger: 03-14 17:31:43] {2391} INFO -  at 86.8s,\testimator lgbm's best error=0.1554,\tbest estimator lgbm's best error=0.1554\n",
      "[flaml.automl.logger: 03-14 17:31:43] {2218} INFO - iteration 351, current learner lgbm\n",
      "[flaml.automl.logger: 03-14 17:31:43] {2391} INFO -  at 87.0s,\testimator lgbm's best error=0.1554,\tbest estimator lgbm's best error=0.1554\n",
      "[flaml.automl.logger: 03-14 17:31:43] {2218} INFO - iteration 352, current learner lgbm\n",
      "[flaml.automl.logger: 03-14 17:31:43] {2391} INFO -  at 87.3s,\testimator lgbm's best error=0.1554,\tbest estimator lgbm's best error=0.1554\n",
      "[flaml.automl.logger: 03-14 17:31:43] {2218} INFO - iteration 353, current learner lgbm\n",
      "[flaml.automl.logger: 03-14 17:31:43] {2391} INFO -  at 87.6s,\testimator lgbm's best error=0.1554,\tbest estimator lgbm's best error=0.1554\n",
      "[flaml.automl.logger: 03-14 17:31:43] {2218} INFO - iteration 354, current learner lgbm\n",
      "[flaml.automl.logger: 03-14 17:31:44] {2391} INFO -  at 87.9s,\testimator lgbm's best error=0.1554,\tbest estimator lgbm's best error=0.1554\n",
      "[flaml.automl.logger: 03-14 17:31:44] {2218} INFO - iteration 355, current learner lgbm\n",
      "[flaml.automl.logger: 03-14 17:31:44] {2391} INFO -  at 88.1s,\testimator lgbm's best error=0.1554,\tbest estimator lgbm's best error=0.1554\n",
      "[flaml.automl.logger: 03-14 17:31:44] {2218} INFO - iteration 356, current learner lgbm\n",
      "[flaml.automl.logger: 03-14 17:31:44] {2391} INFO -  at 88.3s,\testimator lgbm's best error=0.1554,\tbest estimator lgbm's best error=0.1554\n",
      "[flaml.automl.logger: 03-14 17:31:44] {2218} INFO - iteration 357, current learner lgbm\n",
      "[flaml.automl.logger: 03-14 17:31:44] {2391} INFO -  at 88.6s,\testimator lgbm's best error=0.1554,\tbest estimator lgbm's best error=0.1554\n",
      "[flaml.automl.logger: 03-14 17:31:44] {2218} INFO - iteration 358, current learner lgbm\n",
      "[flaml.automl.logger: 03-14 17:31:45] {2391} INFO -  at 89.5s,\testimator lgbm's best error=0.1554,\tbest estimator lgbm's best error=0.1554\n",
      "[flaml.automl.logger: 03-14 17:31:45] {2218} INFO - iteration 359, current learner lgbm\n",
      "[flaml.automl.logger: 03-14 17:31:46] {2391} INFO -  at 89.8s,\testimator lgbm's best error=0.1554,\tbest estimator lgbm's best error=0.1554\n",
      "[flaml.automl.logger: 03-14 17:31:46] {2218} INFO - iteration 360, current learner lgbm\n",
      "[flaml.automl.logger: 03-14 17:31:46] {2391} INFO -  at 90.1s,\testimator lgbm's best error=0.1554,\tbest estimator lgbm's best error=0.1554\n",
      "[flaml.automl.logger: 03-14 17:31:46] {2218} INFO - iteration 361, current learner lgbm\n",
      "[flaml.automl.logger: 03-14 17:31:46] {2391} INFO -  at 90.5s,\testimator lgbm's best error=0.1554,\tbest estimator lgbm's best error=0.1554\n",
      "[flaml.automl.logger: 03-14 17:31:46] {2218} INFO - iteration 362, current learner lgbm\n",
      "[flaml.automl.logger: 03-14 17:31:47] {2391} INFO -  at 90.9s,\testimator lgbm's best error=0.1554,\tbest estimator lgbm's best error=0.1554\n",
      "[flaml.automl.logger: 03-14 17:31:47] {2218} INFO - iteration 363, current learner lgbm\n",
      "[flaml.automl.logger: 03-14 17:31:47] {2391} INFO -  at 91.2s,\testimator lgbm's best error=0.1554,\tbest estimator lgbm's best error=0.1554\n",
      "[flaml.automl.logger: 03-14 17:31:47] {2218} INFO - iteration 364, current learner lgbm\n",
      "[flaml.automl.logger: 03-14 17:31:47] {2391} INFO -  at 91.6s,\testimator lgbm's best error=0.1554,\tbest estimator lgbm's best error=0.1554\n",
      "[flaml.automl.logger: 03-14 17:31:47] {2218} INFO - iteration 365, current learner lgbm\n",
      "[flaml.automl.logger: 03-14 17:31:47] {2391} INFO -  at 91.8s,\testimator lgbm's best error=0.1554,\tbest estimator lgbm's best error=0.1554\n",
      "[flaml.automl.logger: 03-14 17:31:47] {2218} INFO - iteration 366, current learner lgbm\n",
      "[flaml.automl.logger: 03-14 17:31:48] {2391} INFO -  at 92.0s,\testimator lgbm's best error=0.1554,\tbest estimator lgbm's best error=0.1554\n",
      "[flaml.automl.logger: 03-14 17:31:48] {2218} INFO - iteration 367, current learner lgbm\n",
      "[flaml.automl.logger: 03-14 17:31:48] {2391} INFO -  at 92.2s,\testimator lgbm's best error=0.1554,\tbest estimator lgbm's best error=0.1554\n",
      "[flaml.automl.logger: 03-14 17:31:48] {2218} INFO - iteration 368, current learner lgbm\n",
      "[flaml.automl.logger: 03-14 17:31:48] {2391} INFO -  at 92.4s,\testimator lgbm's best error=0.1554,\tbest estimator lgbm's best error=0.1554\n",
      "[flaml.automl.logger: 03-14 17:31:48] {2218} INFO - iteration 369, current learner lgbm\n",
      "[flaml.automl.logger: 03-14 17:31:48] {2391} INFO -  at 92.7s,\testimator lgbm's best error=0.1554,\tbest estimator lgbm's best error=0.1554\n",
      "[flaml.automl.logger: 03-14 17:31:48] {2218} INFO - iteration 370, current learner lgbm\n",
      "[flaml.automl.logger: 03-14 17:31:49] {2391} INFO -  at 92.8s,\testimator lgbm's best error=0.1554,\tbest estimator lgbm's best error=0.1554\n",
      "[flaml.automl.logger: 03-14 17:31:49] {2218} INFO - iteration 371, current learner lgbm\n",
      "[flaml.automl.logger: 03-14 17:31:49] {2391} INFO -  at 93.0s,\testimator lgbm's best error=0.1554,\tbest estimator lgbm's best error=0.1554\n",
      "[flaml.automl.logger: 03-14 17:31:49] {2218} INFO - iteration 372, current learner lgbm\n",
      "[flaml.automl.logger: 03-14 17:31:49] {2391} INFO -  at 93.2s,\testimator lgbm's best error=0.1554,\tbest estimator lgbm's best error=0.1554\n",
      "[flaml.automl.logger: 03-14 17:31:49] {2218} INFO - iteration 373, current learner lgbm\n",
      "[flaml.automl.logger: 03-14 17:31:49] {2391} INFO -  at 93.5s,\testimator lgbm's best error=0.1554,\tbest estimator lgbm's best error=0.1554\n",
      "[flaml.automl.logger: 03-14 17:31:49] {2218} INFO - iteration 374, current learner lgbm\n",
      "[flaml.automl.logger: 03-14 17:31:49] {2391} INFO -  at 93.6s,\testimator lgbm's best error=0.1554,\tbest estimator lgbm's best error=0.1554\n",
      "[flaml.automl.logger: 03-14 17:31:49] {2218} INFO - iteration 375, current learner lgbm\n",
      "[flaml.automl.logger: 03-14 17:31:50] {2391} INFO -  at 93.8s,\testimator lgbm's best error=0.1554,\tbest estimator lgbm's best error=0.1554\n",
      "[flaml.automl.logger: 03-14 17:31:50] {2218} INFO - iteration 376, current learner lgbm\n",
      "[flaml.automl.logger: 03-14 17:31:50] {2391} INFO -  at 94.0s,\testimator lgbm's best error=0.1554,\tbest estimator lgbm's best error=0.1554\n",
      "[flaml.automl.logger: 03-14 17:31:50] {2218} INFO - iteration 377, current learner lgbm\n",
      "[flaml.automl.logger: 03-14 17:31:50] {2391} INFO -  at 94.2s,\testimator lgbm's best error=0.1554,\tbest estimator lgbm's best error=0.1554\n",
      "[flaml.automl.logger: 03-14 17:31:50] {2218} INFO - iteration 378, current learner lgbm\n",
      "[flaml.automl.logger: 03-14 17:31:50] {2391} INFO -  at 94.3s,\testimator lgbm's best error=0.1554,\tbest estimator lgbm's best error=0.1554\n",
      "[flaml.automl.logger: 03-14 17:31:50] {2218} INFO - iteration 379, current learner lgbm\n",
      "[flaml.automl.logger: 03-14 17:31:50] {2391} INFO -  at 94.5s,\testimator lgbm's best error=0.1554,\tbest estimator lgbm's best error=0.1554\n",
      "[flaml.automl.logger: 03-14 17:31:50] {2218} INFO - iteration 380, current learner lgbm\n",
      "[flaml.automl.logger: 03-14 17:31:50] {2391} INFO -  at 94.7s,\testimator lgbm's best error=0.1554,\tbest estimator lgbm's best error=0.1554\n",
      "[flaml.automl.logger: 03-14 17:31:50] {2218} INFO - iteration 381, current learner lgbm\n",
      "[flaml.automl.logger: 03-14 17:31:51] {2391} INFO -  at 94.8s,\testimator lgbm's best error=0.1554,\tbest estimator lgbm's best error=0.1554\n",
      "[flaml.automl.logger: 03-14 17:31:51] {2218} INFO - iteration 382, current learner lgbm\n",
      "[flaml.automl.logger: 03-14 17:31:51] {2391} INFO -  at 95.1s,\testimator lgbm's best error=0.1554,\tbest estimator lgbm's best error=0.1554\n",
      "[flaml.automl.logger: 03-14 17:31:51] {2218} INFO - iteration 383, current learner lgbm\n",
      "[flaml.automl.logger: 03-14 17:31:51] {2391} INFO -  at 95.2s,\testimator lgbm's best error=0.1554,\tbest estimator lgbm's best error=0.1554\n",
      "[flaml.automl.logger: 03-14 17:31:51] {2218} INFO - iteration 384, current learner lgbm\n",
      "[flaml.automl.logger: 03-14 17:31:51] {2391} INFO -  at 95.4s,\testimator lgbm's best error=0.1554,\tbest estimator lgbm's best error=0.1554\n",
      "[flaml.automl.logger: 03-14 17:31:51] {2218} INFO - iteration 385, current learner lgbm\n",
      "[flaml.automl.logger: 03-14 17:31:51] {2391} INFO -  at 95.6s,\testimator lgbm's best error=0.1554,\tbest estimator lgbm's best error=0.1554\n",
      "[flaml.automl.logger: 03-14 17:31:51] {2218} INFO - iteration 386, current learner lgbm\n",
      "[flaml.automl.logger: 03-14 17:31:52] {2391} INFO -  at 95.8s,\testimator lgbm's best error=0.1554,\tbest estimator lgbm's best error=0.1554\n",
      "[flaml.automl.logger: 03-14 17:31:52] {2218} INFO - iteration 387, current learner lgbm\n",
      "[flaml.automl.logger: 03-14 17:31:52] {2391} INFO -  at 96.1s,\testimator lgbm's best error=0.1554,\tbest estimator lgbm's best error=0.1554\n",
      "[flaml.automl.logger: 03-14 17:31:52] {2218} INFO - iteration 388, current learner lgbm\n",
      "[flaml.automl.logger: 03-14 17:31:52] {2391} INFO -  at 96.2s,\testimator lgbm's best error=0.1554,\tbest estimator lgbm's best error=0.1554\n",
      "[flaml.automl.logger: 03-14 17:31:52] {2218} INFO - iteration 389, current learner lgbm\n",
      "[flaml.automl.logger: 03-14 17:31:52] {2391} INFO -  at 96.4s,\testimator lgbm's best error=0.1554,\tbest estimator lgbm's best error=0.1554\n",
      "[flaml.automl.logger: 03-14 17:31:52] {2218} INFO - iteration 390, current learner lgbm\n",
      "[flaml.automl.logger: 03-14 17:31:52] {2391} INFO -  at 96.6s,\testimator lgbm's best error=0.1554,\tbest estimator lgbm's best error=0.1554\n",
      "[flaml.automl.logger: 03-14 17:31:52] {2218} INFO - iteration 391, current learner lgbm\n",
      "[flaml.automl.logger: 03-14 17:31:53] {2391} INFO -  at 96.8s,\testimator lgbm's best error=0.1554,\tbest estimator lgbm's best error=0.1554\n",
      "[flaml.automl.logger: 03-14 17:31:53] {2218} INFO - iteration 392, current learner lgbm\n",
      "[flaml.automl.logger: 03-14 17:31:53] {2391} INFO -  at 97.0s,\testimator lgbm's best error=0.1554,\tbest estimator lgbm's best error=0.1554\n",
      "[flaml.automl.logger: 03-14 17:31:53] {2218} INFO - iteration 393, current learner lgbm\n",
      "[flaml.automl.logger: 03-14 17:31:53] {2391} INFO -  at 97.2s,\testimator lgbm's best error=0.1554,\tbest estimator lgbm's best error=0.1554\n",
      "[flaml.automl.logger: 03-14 17:31:53] {2218} INFO - iteration 394, current learner lgbm\n",
      "[flaml.automl.logger: 03-14 17:31:53] {2391} INFO -  at 97.4s,\testimator lgbm's best error=0.1554,\tbest estimator lgbm's best error=0.1554\n",
      "[flaml.automl.logger: 03-14 17:31:53] {2218} INFO - iteration 395, current learner lgbm\n",
      "[flaml.automl.logger: 03-14 17:31:53] {2391} INFO -  at 97.5s,\testimator lgbm's best error=0.1554,\tbest estimator lgbm's best error=0.1554\n",
      "[flaml.automl.logger: 03-14 17:31:53] {2218} INFO - iteration 396, current learner lgbm\n",
      "[flaml.automl.logger: 03-14 17:31:53] {2391} INFO -  at 97.7s,\testimator lgbm's best error=0.1554,\tbest estimator lgbm's best error=0.1554\n",
      "[flaml.automl.logger: 03-14 17:31:53] {2218} INFO - iteration 397, current learner lgbm\n",
      "[flaml.automl.logger: 03-14 17:31:54] {2391} INFO -  at 97.9s,\testimator lgbm's best error=0.1554,\tbest estimator lgbm's best error=0.1554\n",
      "[flaml.automl.logger: 03-14 17:31:54] {2218} INFO - iteration 398, current learner lgbm\n",
      "[flaml.automl.logger: 03-14 17:31:54] {2391} INFO -  at 98.1s,\testimator lgbm's best error=0.1554,\tbest estimator lgbm's best error=0.1554\n",
      "[flaml.automl.logger: 03-14 17:31:54] {2218} INFO - iteration 399, current learner lgbm\n",
      "[flaml.automl.logger: 03-14 17:31:54] {2391} INFO -  at 98.3s,\testimator lgbm's best error=0.1554,\tbest estimator lgbm's best error=0.1554\n",
      "[flaml.automl.logger: 03-14 17:31:54] {2218} INFO - iteration 400, current learner lgbm\n",
      "[flaml.automl.logger: 03-14 17:31:54] {2391} INFO -  at 98.4s,\testimator lgbm's best error=0.1554,\tbest estimator lgbm's best error=0.1554\n",
      "[flaml.automl.logger: 03-14 17:31:54] {2218} INFO - iteration 401, current learner lgbm\n",
      "[flaml.automl.logger: 03-14 17:31:54] {2391} INFO -  at 98.6s,\testimator lgbm's best error=0.1554,\tbest estimator lgbm's best error=0.1554\n",
      "[flaml.automl.logger: 03-14 17:31:54] {2218} INFO - iteration 402, current learner lgbm\n",
      "[flaml.automl.logger: 03-14 17:31:55] {2391} INFO -  at 98.8s,\testimator lgbm's best error=0.1554,\tbest estimator lgbm's best error=0.1554\n",
      "[flaml.automl.logger: 03-14 17:31:55] {2218} INFO - iteration 403, current learner lgbm\n",
      "[flaml.automl.logger: 03-14 17:31:55] {2391} INFO -  at 99.0s,\testimator lgbm's best error=0.1554,\tbest estimator lgbm's best error=0.1554\n",
      "[flaml.automl.logger: 03-14 17:31:55] {2218} INFO - iteration 404, current learner lgbm\n",
      "[flaml.automl.logger: 03-14 17:31:55] {2391} INFO -  at 99.2s,\testimator lgbm's best error=0.1554,\tbest estimator lgbm's best error=0.1554\n",
      "[flaml.automl.logger: 03-14 17:31:55] {2218} INFO - iteration 405, current learner lgbm\n",
      "[flaml.automl.logger: 03-14 17:31:55] {2391} INFO -  at 99.4s,\testimator lgbm's best error=0.1554,\tbest estimator lgbm's best error=0.1554\n",
      "[flaml.automl.logger: 03-14 17:31:55] {2218} INFO - iteration 406, current learner lgbm\n",
      "[flaml.automl.logger: 03-14 17:31:55] {2391} INFO -  at 99.6s,\testimator lgbm's best error=0.1554,\tbest estimator lgbm's best error=0.1554\n",
      "[flaml.automl.logger: 03-14 17:31:55] {2218} INFO - iteration 407, current learner lgbm\n",
      "[flaml.automl.logger: 03-14 17:31:56] {2391} INFO -  at 99.8s,\testimator lgbm's best error=0.1554,\tbest estimator lgbm's best error=0.1554\n",
      "[flaml.automl.logger: 03-14 17:31:56] {2218} INFO - iteration 408, current learner lgbm\n",
      "[flaml.automl.logger: 03-14 17:31:56] {2391} INFO -  at 99.9s,\testimator lgbm's best error=0.1554,\tbest estimator lgbm's best error=0.1554\n",
      "[flaml.automl.logger: 03-14 17:31:56] {2218} INFO - iteration 409, current learner lgbm\n",
      "[flaml.automl.logger: 03-14 17:31:56] {2391} INFO -  at 100.1s,\testimator lgbm's best error=0.1554,\tbest estimator lgbm's best error=0.1554\n",
      "[flaml.automl.logger: 03-14 17:31:56] {2218} INFO - iteration 410, current learner lgbm\n",
      "[flaml.automl.logger: 03-14 17:31:56] {2391} INFO -  at 100.3s,\testimator lgbm's best error=0.1554,\tbest estimator lgbm's best error=0.1554\n",
      "[flaml.automl.logger: 03-14 17:31:56] {2218} INFO - iteration 411, current learner lgbm\n",
      "[flaml.automl.logger: 03-14 17:31:56] {2391} INFO -  at 100.5s,\testimator lgbm's best error=0.1554,\tbest estimator lgbm's best error=0.1554\n",
      "[flaml.automl.logger: 03-14 17:31:56] {2218} INFO - iteration 412, current learner lgbm\n",
      "[flaml.automl.logger: 03-14 17:31:56] {2391} INFO -  at 100.7s,\testimator lgbm's best error=0.1554,\tbest estimator lgbm's best error=0.1554\n",
      "[flaml.automl.logger: 03-14 17:31:56] {2218} INFO - iteration 413, current learner lgbm\n",
      "[flaml.automl.logger: 03-14 17:31:57] {2391} INFO -  at 100.9s,\testimator lgbm's best error=0.1554,\tbest estimator lgbm's best error=0.1554\n",
      "[flaml.automl.logger: 03-14 17:31:57] {2218} INFO - iteration 414, current learner lgbm\n",
      "[flaml.automl.logger: 03-14 17:31:57] {2391} INFO -  at 101.1s,\testimator lgbm's best error=0.1554,\tbest estimator lgbm's best error=0.1554\n",
      "[flaml.automl.logger: 03-14 17:31:57] {2218} INFO - iteration 415, current learner lgbm\n",
      "[flaml.automl.logger: 03-14 17:31:57] {2391} INFO -  at 101.2s,\testimator lgbm's best error=0.1554,\tbest estimator lgbm's best error=0.1554\n",
      "[flaml.automl.logger: 03-14 17:31:57] {2218} INFO - iteration 416, current learner lgbm\n",
      "[flaml.automl.logger: 03-14 17:31:57] {2391} INFO -  at 101.4s,\testimator lgbm's best error=0.1554,\tbest estimator lgbm's best error=0.1554\n",
      "[flaml.automl.logger: 03-14 17:31:57] {2218} INFO - iteration 417, current learner lgbm\n",
      "[flaml.automl.logger: 03-14 17:31:57] {2391} INFO -  at 101.6s,\testimator lgbm's best error=0.1554,\tbest estimator lgbm's best error=0.1554\n",
      "[flaml.automl.logger: 03-14 17:31:57] {2218} INFO - iteration 418, current learner lgbm\n",
      "[flaml.automl.logger: 03-14 17:31:58] {2391} INFO -  at 101.8s,\testimator lgbm's best error=0.1554,\tbest estimator lgbm's best error=0.1554\n",
      "[flaml.automl.logger: 03-14 17:31:58] {2218} INFO - iteration 419, current learner lgbm\n",
      "[flaml.automl.logger: 03-14 17:31:58] {2391} INFO -  at 102.0s,\testimator lgbm's best error=0.1554,\tbest estimator lgbm's best error=0.1554\n",
      "[flaml.automl.logger: 03-14 17:31:58] {2218} INFO - iteration 420, current learner lgbm\n",
      "[flaml.automl.logger: 03-14 17:31:58] {2391} INFO -  at 102.1s,\testimator lgbm's best error=0.1554,\tbest estimator lgbm's best error=0.1554\n",
      "[flaml.automl.logger: 03-14 17:31:58] {2218} INFO - iteration 421, current learner lgbm\n",
      "[flaml.automl.logger: 03-14 17:31:58] {2391} INFO -  at 102.3s,\testimator lgbm's best error=0.1554,\tbest estimator lgbm's best error=0.1554\n",
      "[flaml.automl.logger: 03-14 17:31:58] {2218} INFO - iteration 422, current learner lgbm\n",
      "[flaml.automl.logger: 03-14 17:31:58] {2391} INFO -  at 102.6s,\testimator lgbm's best error=0.1554,\tbest estimator lgbm's best error=0.1554\n",
      "[flaml.automl.logger: 03-14 17:31:58] {2218} INFO - iteration 423, current learner lgbm\n",
      "[flaml.automl.logger: 03-14 17:31:58] {2391} INFO -  at 102.7s,\testimator lgbm's best error=0.1554,\tbest estimator lgbm's best error=0.1554\n",
      "[flaml.automl.logger: 03-14 17:31:58] {2218} INFO - iteration 424, current learner lgbm\n",
      "[flaml.automl.logger: 03-14 17:31:59] {2391} INFO -  at 103.0s,\testimator lgbm's best error=0.1554,\tbest estimator lgbm's best error=0.1554\n",
      "[flaml.automl.logger: 03-14 17:31:59] {2218} INFO - iteration 425, current learner lgbm\n",
      "[flaml.automl.logger: 03-14 17:31:59] {2391} INFO -  at 103.2s,\testimator lgbm's best error=0.1554,\tbest estimator lgbm's best error=0.1554\n",
      "[flaml.automl.logger: 03-14 17:31:59] {2218} INFO - iteration 426, current learner lgbm\n",
      "[flaml.automl.logger: 03-14 17:31:59] {2391} INFO -  at 103.3s,\testimator lgbm's best error=0.1554,\tbest estimator lgbm's best error=0.1554\n",
      "[flaml.automl.logger: 03-14 17:31:59] {2218} INFO - iteration 427, current learner lgbm\n",
      "[flaml.automl.logger: 03-14 17:31:59] {2391} INFO -  at 103.6s,\testimator lgbm's best error=0.1554,\tbest estimator lgbm's best error=0.1554\n",
      "[flaml.automl.logger: 03-14 17:31:59] {2218} INFO - iteration 428, current learner lgbm\n",
      "[flaml.automl.logger: 03-14 17:31:59] {2391} INFO -  at 103.7s,\testimator lgbm's best error=0.1554,\tbest estimator lgbm's best error=0.1554\n",
      "[flaml.automl.logger: 03-14 17:31:59] {2218} INFO - iteration 429, current learner lgbm\n",
      "[flaml.automl.logger: 03-14 17:32:00] {2391} INFO -  at 103.9s,\testimator lgbm's best error=0.1554,\tbest estimator lgbm's best error=0.1554\n",
      "[flaml.automl.logger: 03-14 17:32:00] {2218} INFO - iteration 430, current learner lgbm\n",
      "[flaml.automl.logger: 03-14 17:32:00] {2391} INFO -  at 104.2s,\testimator lgbm's best error=0.1554,\tbest estimator lgbm's best error=0.1554\n",
      "[flaml.automl.logger: 03-14 17:32:00] {2218} INFO - iteration 431, current learner lgbm\n",
      "[flaml.automl.logger: 03-14 17:32:00] {2391} INFO -  at 104.3s,\testimator lgbm's best error=0.1554,\tbest estimator lgbm's best error=0.1554\n",
      "[flaml.automl.logger: 03-14 17:32:00] {2218} INFO - iteration 432, current learner lgbm\n",
      "[flaml.automl.logger: 03-14 17:32:00] {2391} INFO -  at 104.6s,\testimator lgbm's best error=0.1554,\tbest estimator lgbm's best error=0.1554\n",
      "[flaml.automl.logger: 03-14 17:32:00] {2218} INFO - iteration 433, current learner lgbm\n",
      "[flaml.automl.logger: 03-14 17:32:01] {2391} INFO -  at 104.8s,\testimator lgbm's best error=0.1554,\tbest estimator lgbm's best error=0.1554\n",
      "[flaml.automl.logger: 03-14 17:32:01] {2218} INFO - iteration 434, current learner lgbm\n",
      "[flaml.automl.logger: 03-14 17:32:01] {2391} INFO -  at 105.0s,\testimator lgbm's best error=0.1554,\tbest estimator lgbm's best error=0.1554\n",
      "[flaml.automl.logger: 03-14 17:32:01] {2218} INFO - iteration 435, current learner lgbm\n",
      "[flaml.automl.logger: 03-14 17:32:01] {2391} INFO -  at 105.1s,\testimator lgbm's best error=0.1554,\tbest estimator lgbm's best error=0.1554\n",
      "[flaml.automl.logger: 03-14 17:32:01] {2218} INFO - iteration 436, current learner lgbm\n",
      "[flaml.automl.logger: 03-14 17:32:01] {2391} INFO -  at 105.3s,\testimator lgbm's best error=0.1554,\tbest estimator lgbm's best error=0.1554\n",
      "[flaml.automl.logger: 03-14 17:32:01] {2218} INFO - iteration 437, current learner lgbm\n",
      "[flaml.automl.logger: 03-14 17:32:01] {2391} INFO -  at 105.5s,\testimator lgbm's best error=0.1554,\tbest estimator lgbm's best error=0.1554\n",
      "[flaml.automl.logger: 03-14 17:32:01] {2218} INFO - iteration 438, current learner lgbm\n",
      "[flaml.automl.logger: 03-14 17:32:01] {2391} INFO -  at 105.7s,\testimator lgbm's best error=0.1554,\tbest estimator lgbm's best error=0.1554\n",
      "[flaml.automl.logger: 03-14 17:32:01] {2218} INFO - iteration 439, current learner lgbm\n",
      "[flaml.automl.logger: 03-14 17:32:02] {2391} INFO -  at 105.9s,\testimator lgbm's best error=0.1554,\tbest estimator lgbm's best error=0.1554\n",
      "[flaml.automl.logger: 03-14 17:32:02] {2218} INFO - iteration 440, current learner lgbm\n",
      "[flaml.automl.logger: 03-14 17:32:02] {2391} INFO -  at 106.1s,\testimator lgbm's best error=0.1554,\tbest estimator lgbm's best error=0.1554\n",
      "[flaml.automl.logger: 03-14 17:32:02] {2218} INFO - iteration 441, current learner lgbm\n",
      "[flaml.automl.logger: 03-14 17:32:02] {2391} INFO -  at 106.3s,\testimator lgbm's best error=0.1554,\tbest estimator lgbm's best error=0.1554\n",
      "[flaml.automl.logger: 03-14 17:32:02] {2218} INFO - iteration 442, current learner lgbm\n",
      "[flaml.automl.logger: 03-14 17:32:02] {2391} INFO -  at 106.5s,\testimator lgbm's best error=0.1554,\tbest estimator lgbm's best error=0.1554\n",
      "[flaml.automl.logger: 03-14 17:32:02] {2218} INFO - iteration 443, current learner lgbm\n",
      "[flaml.automl.logger: 03-14 17:32:02] {2391} INFO -  at 106.7s,\testimator lgbm's best error=0.1554,\tbest estimator lgbm's best error=0.1554\n",
      "[flaml.automl.logger: 03-14 17:32:02] {2218} INFO - iteration 444, current learner lgbm\n",
      "[flaml.automl.logger: 03-14 17:32:03] {2391} INFO -  at 106.8s,\testimator lgbm's best error=0.1554,\tbest estimator lgbm's best error=0.1554\n",
      "[flaml.automl.logger: 03-14 17:32:03] {2218} INFO - iteration 445, current learner lgbm\n",
      "[flaml.automl.logger: 03-14 17:32:03] {2391} INFO -  at 107.0s,\testimator lgbm's best error=0.1554,\tbest estimator lgbm's best error=0.1554\n",
      "[flaml.automl.logger: 03-14 17:32:03] {2218} INFO - iteration 446, current learner lgbm\n",
      "[flaml.automl.logger: 03-14 17:32:03] {2391} INFO -  at 107.2s,\testimator lgbm's best error=0.1554,\tbest estimator lgbm's best error=0.1554\n",
      "[flaml.automl.logger: 03-14 17:32:03] {2218} INFO - iteration 447, current learner lgbm\n",
      "[flaml.automl.logger: 03-14 17:32:03] {2391} INFO -  at 107.3s,\testimator lgbm's best error=0.1554,\tbest estimator lgbm's best error=0.1554\n",
      "[flaml.automl.logger: 03-14 17:32:03] {2218} INFO - iteration 448, current learner lgbm\n",
      "[flaml.automl.logger: 03-14 17:32:03] {2391} INFO -  at 107.5s,\testimator lgbm's best error=0.1554,\tbest estimator lgbm's best error=0.1554\n",
      "[flaml.automl.logger: 03-14 17:32:03] {2218} INFO - iteration 449, current learner lgbm\n",
      "[flaml.automl.logger: 03-14 17:32:03] {2391} INFO -  at 107.7s,\testimator lgbm's best error=0.1554,\tbest estimator lgbm's best error=0.1554\n",
      "[flaml.automl.logger: 03-14 17:32:03] {2218} INFO - iteration 450, current learner lgbm\n",
      "[flaml.automl.logger: 03-14 17:32:04] {2391} INFO -  at 107.9s,\testimator lgbm's best error=0.1554,\tbest estimator lgbm's best error=0.1554\n",
      "[flaml.automl.logger: 03-14 17:32:04] {2218} INFO - iteration 451, current learner lgbm\n",
      "[flaml.automl.logger: 03-14 17:32:04] {2391} INFO -  at 108.1s,\testimator lgbm's best error=0.1554,\tbest estimator lgbm's best error=0.1554\n",
      "[flaml.automl.logger: 03-14 17:32:04] {2218} INFO - iteration 452, current learner lgbm\n",
      "[flaml.automl.logger: 03-14 17:32:04] {2391} INFO -  at 108.3s,\testimator lgbm's best error=0.1554,\tbest estimator lgbm's best error=0.1554\n",
      "[flaml.automl.logger: 03-14 17:32:04] {2218} INFO - iteration 453, current learner lgbm\n",
      "[flaml.automl.logger: 03-14 17:32:04] {2391} INFO -  at 108.5s,\testimator lgbm's best error=0.1554,\tbest estimator lgbm's best error=0.1554\n",
      "[flaml.automl.logger: 03-14 17:32:04] {2218} INFO - iteration 454, current learner lgbm\n",
      "[flaml.automl.logger: 03-14 17:32:04] {2391} INFO -  at 108.7s,\testimator lgbm's best error=0.1554,\tbest estimator lgbm's best error=0.1554\n",
      "[flaml.automl.logger: 03-14 17:32:04] {2218} INFO - iteration 455, current learner lgbm\n",
      "[flaml.automl.logger: 03-14 17:32:05] {2391} INFO -  at 108.9s,\testimator lgbm's best error=0.1554,\tbest estimator lgbm's best error=0.1554\n",
      "[flaml.automl.logger: 03-14 17:32:05] {2218} INFO - iteration 456, current learner lgbm\n",
      "[flaml.automl.logger: 03-14 17:32:05] {2391} INFO -  at 109.1s,\testimator lgbm's best error=0.1554,\tbest estimator lgbm's best error=0.1554\n",
      "[flaml.automl.logger: 03-14 17:32:05] {2218} INFO - iteration 457, current learner lgbm\n",
      "[flaml.automl.logger: 03-14 17:32:05] {2391} INFO -  at 109.3s,\testimator lgbm's best error=0.1554,\tbest estimator lgbm's best error=0.1554\n",
      "[flaml.automl.logger: 03-14 17:32:05] {2218} INFO - iteration 458, current learner lgbm\n",
      "[flaml.automl.logger: 03-14 17:32:05] {2391} INFO -  at 109.5s,\testimator lgbm's best error=0.1554,\tbest estimator lgbm's best error=0.1554\n",
      "[flaml.automl.logger: 03-14 17:32:05] {2218} INFO - iteration 459, current learner lgbm\n",
      "[flaml.automl.logger: 03-14 17:32:05] {2391} INFO -  at 109.6s,\testimator lgbm's best error=0.1554,\tbest estimator lgbm's best error=0.1554\n",
      "[flaml.automl.logger: 03-14 17:32:05] {2218} INFO - iteration 460, current learner lgbm\n",
      "[flaml.automl.logger: 03-14 17:32:06] {2391} INFO -  at 109.9s,\testimator lgbm's best error=0.1554,\tbest estimator lgbm's best error=0.1554\n",
      "[flaml.automl.logger: 03-14 17:32:06] {2218} INFO - iteration 461, current learner lgbm\n",
      "[flaml.automl.logger: 03-14 17:32:06] {2391} INFO -  at 110.0s,\testimator lgbm's best error=0.1554,\tbest estimator lgbm's best error=0.1554\n",
      "[flaml.automl.logger: 03-14 17:32:06] {2218} INFO - iteration 462, current learner lgbm\n",
      "[flaml.automl.logger: 03-14 17:32:06] {2391} INFO -  at 110.2s,\testimator lgbm's best error=0.1554,\tbest estimator lgbm's best error=0.1554\n",
      "[flaml.automl.logger: 03-14 17:32:06] {2218} INFO - iteration 463, current learner lgbm\n",
      "[flaml.automl.logger: 03-14 17:32:06] {2391} INFO -  at 110.4s,\testimator lgbm's best error=0.1554,\tbest estimator lgbm's best error=0.1554\n",
      "[flaml.automl.logger: 03-14 17:32:06] {2218} INFO - iteration 464, current learner lgbm\n",
      "[flaml.automl.logger: 03-14 17:32:06] {2391} INFO -  at 110.6s,\testimator lgbm's best error=0.1554,\tbest estimator lgbm's best error=0.1554\n",
      "[flaml.automl.logger: 03-14 17:32:06] {2218} INFO - iteration 465, current learner lgbm\n",
      "[flaml.automl.logger: 03-14 17:32:07] {2391} INFO -  at 110.9s,\testimator lgbm's best error=0.1554,\tbest estimator lgbm's best error=0.1554\n",
      "[flaml.automl.logger: 03-14 17:32:07] {2218} INFO - iteration 466, current learner lgbm\n",
      "[flaml.automl.logger: 03-14 17:32:07] {2391} INFO -  at 111.1s,\testimator lgbm's best error=0.1554,\tbest estimator lgbm's best error=0.1554\n",
      "[flaml.automl.logger: 03-14 17:32:07] {2218} INFO - iteration 467, current learner lgbm\n",
      "[flaml.automl.logger: 03-14 17:32:07] {2391} INFO -  at 111.3s,\testimator lgbm's best error=0.1554,\tbest estimator lgbm's best error=0.1554\n",
      "[flaml.automl.logger: 03-14 17:32:07] {2218} INFO - iteration 468, current learner lgbm\n",
      "[flaml.automl.logger: 03-14 17:32:07] {2391} INFO -  at 111.5s,\testimator lgbm's best error=0.1554,\tbest estimator lgbm's best error=0.1554\n",
      "[flaml.automl.logger: 03-14 17:32:07] {2218} INFO - iteration 469, current learner lgbm\n",
      "[flaml.automl.logger: 03-14 17:32:07] {2391} INFO -  at 111.6s,\testimator lgbm's best error=0.1554,\tbest estimator lgbm's best error=0.1554\n",
      "[flaml.automl.logger: 03-14 17:32:07] {2218} INFO - iteration 470, current learner lgbm\n",
      "[flaml.automl.logger: 03-14 17:32:08] {2391} INFO -  at 111.8s,\testimator lgbm's best error=0.1554,\tbest estimator lgbm's best error=0.1554\n",
      "[flaml.automl.logger: 03-14 17:32:08] {2218} INFO - iteration 471, current learner lgbm\n",
      "[flaml.automl.logger: 03-14 17:32:08] {2391} INFO -  at 112.0s,\testimator lgbm's best error=0.1554,\tbest estimator lgbm's best error=0.1554\n",
      "[flaml.automl.logger: 03-14 17:32:08] {2218} INFO - iteration 472, current learner lgbm\n",
      "[flaml.automl.logger: 03-14 17:32:08] {2391} INFO -  at 112.2s,\testimator lgbm's best error=0.1554,\tbest estimator lgbm's best error=0.1554\n",
      "[flaml.automl.logger: 03-14 17:32:08] {2218} INFO - iteration 473, current learner lgbm\n",
      "[flaml.automl.logger: 03-14 17:32:08] {2391} INFO -  at 112.4s,\testimator lgbm's best error=0.1554,\tbest estimator lgbm's best error=0.1554\n",
      "[flaml.automl.logger: 03-14 17:32:08] {2218} INFO - iteration 474, current learner lgbm\n",
      "[flaml.automl.logger: 03-14 17:32:08] {2391} INFO -  at 112.6s,\testimator lgbm's best error=0.1554,\tbest estimator lgbm's best error=0.1554\n",
      "[flaml.automl.logger: 03-14 17:32:08] {2218} INFO - iteration 475, current learner lgbm\n",
      "[flaml.automl.logger: 03-14 17:32:08] {2391} INFO -  at 112.8s,\testimator lgbm's best error=0.1554,\tbest estimator lgbm's best error=0.1554\n",
      "[flaml.automl.logger: 03-14 17:32:08] {2218} INFO - iteration 476, current learner lgbm\n",
      "[flaml.automl.logger: 03-14 17:32:09] {2391} INFO -  at 112.9s,\testimator lgbm's best error=0.1554,\tbest estimator lgbm's best error=0.1554\n",
      "[flaml.automl.logger: 03-14 17:32:09] {2218} INFO - iteration 477, current learner lgbm\n",
      "[flaml.automl.logger: 03-14 17:32:09] {2391} INFO -  at 113.2s,\testimator lgbm's best error=0.1554,\tbest estimator lgbm's best error=0.1554\n",
      "[flaml.automl.logger: 03-14 17:32:09] {2218} INFO - iteration 478, current learner lgbm\n",
      "[flaml.automl.logger: 03-14 17:32:09] {2391} INFO -  at 113.3s,\testimator lgbm's best error=0.1554,\tbest estimator lgbm's best error=0.1554\n",
      "[flaml.automl.logger: 03-14 17:32:09] {2218} INFO - iteration 479, current learner lgbm\n",
      "[flaml.automl.logger: 03-14 17:32:09] {2391} INFO -  at 113.5s,\testimator lgbm's best error=0.1554,\tbest estimator lgbm's best error=0.1554\n",
      "[flaml.automl.logger: 03-14 17:32:09] {2218} INFO - iteration 480, current learner lgbm\n",
      "[flaml.automl.logger: 03-14 17:32:09] {2391} INFO -  at 113.7s,\testimator lgbm's best error=0.1554,\tbest estimator lgbm's best error=0.1554\n",
      "[flaml.automl.logger: 03-14 17:32:09] {2218} INFO - iteration 481, current learner lgbm\n",
      "[flaml.automl.logger: 03-14 17:32:10] {2391} INFO -  at 113.8s,\testimator lgbm's best error=0.1554,\tbest estimator lgbm's best error=0.1554\n",
      "[flaml.automl.logger: 03-14 17:32:10] {2218} INFO - iteration 482, current learner lgbm\n",
      "[flaml.automl.logger: 03-14 17:32:10] {2391} INFO -  at 114.0s,\testimator lgbm's best error=0.1554,\tbest estimator lgbm's best error=0.1554\n",
      "[flaml.automl.logger: 03-14 17:32:10] {2218} INFO - iteration 483, current learner lgbm\n",
      "[flaml.automl.logger: 03-14 17:32:10] {2391} INFO -  at 114.2s,\testimator lgbm's best error=0.1554,\tbest estimator lgbm's best error=0.1554\n",
      "[flaml.automl.logger: 03-14 17:32:10] {2218} INFO - iteration 484, current learner lgbm\n",
      "[flaml.automl.logger: 03-14 17:32:10] {2391} INFO -  at 114.4s,\testimator lgbm's best error=0.1554,\tbest estimator lgbm's best error=0.1554\n",
      "[flaml.automl.logger: 03-14 17:32:10] {2218} INFO - iteration 485, current learner lgbm\n",
      "[flaml.automl.logger: 03-14 17:32:10] {2391} INFO -  at 114.6s,\testimator lgbm's best error=0.1554,\tbest estimator lgbm's best error=0.1554\n",
      "[flaml.automl.logger: 03-14 17:32:10] {2218} INFO - iteration 486, current learner lgbm\n",
      "[flaml.automl.logger: 03-14 17:32:11] {2391} INFO -  at 114.8s,\testimator lgbm's best error=0.1554,\tbest estimator lgbm's best error=0.1554\n",
      "[flaml.automl.logger: 03-14 17:32:11] {2218} INFO - iteration 487, current learner lgbm\n",
      "[flaml.automl.logger: 03-14 17:32:11] {2391} INFO -  at 115.0s,\testimator lgbm's best error=0.1554,\tbest estimator lgbm's best error=0.1554\n",
      "[flaml.automl.logger: 03-14 17:32:11] {2218} INFO - iteration 488, current learner lgbm\n",
      "[flaml.automl.logger: 03-14 17:32:11] {2391} INFO -  at 115.1s,\testimator lgbm's best error=0.1554,\tbest estimator lgbm's best error=0.1554\n",
      "[flaml.automl.logger: 03-14 17:32:11] {2218} INFO - iteration 489, current learner lgbm\n",
      "[flaml.automl.logger: 03-14 17:32:11] {2391} INFO -  at 115.3s,\testimator lgbm's best error=0.1554,\tbest estimator lgbm's best error=0.1554\n",
      "[flaml.automl.logger: 03-14 17:32:11] {2218} INFO - iteration 490, current learner lgbm\n",
      "[flaml.automl.logger: 03-14 17:32:11] {2391} INFO -  at 115.5s,\testimator lgbm's best error=0.1554,\tbest estimator lgbm's best error=0.1554\n",
      "[flaml.automl.logger: 03-14 17:32:11] {2218} INFO - iteration 491, current learner lgbm\n",
      "[flaml.automl.logger: 03-14 17:32:11] {2391} INFO -  at 115.7s,\testimator lgbm's best error=0.1554,\tbest estimator lgbm's best error=0.1554\n",
      "[flaml.automl.logger: 03-14 17:32:11] {2218} INFO - iteration 492, current learner lgbm\n",
      "[flaml.automl.logger: 03-14 17:32:12] {2391} INFO -  at 115.9s,\testimator lgbm's best error=0.1554,\tbest estimator lgbm's best error=0.1554\n",
      "[flaml.automl.logger: 03-14 17:32:12] {2218} INFO - iteration 493, current learner lgbm\n",
      "[flaml.automl.logger: 03-14 17:32:12] {2391} INFO -  at 116.1s,\testimator lgbm's best error=0.1554,\tbest estimator lgbm's best error=0.1554\n",
      "[flaml.automl.logger: 03-14 17:32:12] {2218} INFO - iteration 494, current learner lgbm\n",
      "[flaml.automl.logger: 03-14 17:32:12] {2391} INFO -  at 116.3s,\testimator lgbm's best error=0.1554,\tbest estimator lgbm's best error=0.1554\n",
      "[flaml.automl.logger: 03-14 17:32:12] {2218} INFO - iteration 495, current learner lgbm\n",
      "[flaml.automl.logger: 03-14 17:32:12] {2391} INFO -  at 116.5s,\testimator lgbm's best error=0.1554,\tbest estimator lgbm's best error=0.1554\n",
      "[flaml.automl.logger: 03-14 17:32:12] {2218} INFO - iteration 496, current learner lgbm\n",
      "[flaml.automl.logger: 03-14 17:32:12] {2391} INFO -  at 116.7s,\testimator lgbm's best error=0.1554,\tbest estimator lgbm's best error=0.1554\n",
      "[flaml.automl.logger: 03-14 17:32:12] {2218} INFO - iteration 497, current learner lgbm\n",
      "[flaml.automl.logger: 03-14 17:32:13] {2391} INFO -  at 116.8s,\testimator lgbm's best error=0.1554,\tbest estimator lgbm's best error=0.1554\n",
      "[flaml.automl.logger: 03-14 17:32:13] {2218} INFO - iteration 498, current learner lgbm\n",
      "[flaml.automl.logger: 03-14 17:32:13] {2391} INFO -  at 117.1s,\testimator lgbm's best error=0.1554,\tbest estimator lgbm's best error=0.1554\n",
      "[flaml.automl.logger: 03-14 17:32:13] {2218} INFO - iteration 499, current learner lgbm\n",
      "[flaml.automl.logger: 03-14 17:32:13] {2391} INFO -  at 117.2s,\testimator lgbm's best error=0.1554,\tbest estimator lgbm's best error=0.1554\n",
      "[flaml.automl.logger: 03-14 17:32:13] {2218} INFO - iteration 500, current learner lgbm\n",
      "[flaml.automl.logger: 03-14 17:32:13] {2391} INFO -  at 117.4s,\testimator lgbm's best error=0.1554,\tbest estimator lgbm's best error=0.1554\n",
      "[flaml.automl.logger: 03-14 17:32:13] {2218} INFO - iteration 501, current learner lgbm\n",
      "[flaml.automl.logger: 03-14 17:32:13] {2391} INFO -  at 117.6s,\testimator lgbm's best error=0.1554,\tbest estimator lgbm's best error=0.1554\n",
      "[flaml.automl.logger: 03-14 17:32:13] {2218} INFO - iteration 502, current learner lgbm\n",
      "[flaml.automl.logger: 03-14 17:32:14] {2391} INFO -  at 117.8s,\testimator lgbm's best error=0.1554,\tbest estimator lgbm's best error=0.1554\n",
      "[flaml.automl.logger: 03-14 17:32:14] {2218} INFO - iteration 503, current learner lgbm\n",
      "[flaml.automl.logger: 03-14 17:32:14] {2391} INFO -  at 118.0s,\testimator lgbm's best error=0.1554,\tbest estimator lgbm's best error=0.1554\n",
      "[flaml.automl.logger: 03-14 17:32:14] {2218} INFO - iteration 504, current learner lgbm\n",
      "[flaml.automl.logger: 03-14 17:32:14] {2391} INFO -  at 118.1s,\testimator lgbm's best error=0.1554,\tbest estimator lgbm's best error=0.1554\n",
      "[flaml.automl.logger: 03-14 17:32:14] {2218} INFO - iteration 505, current learner lgbm\n",
      "[flaml.automl.logger: 03-14 17:32:14] {2391} INFO -  at 118.3s,\testimator lgbm's best error=0.1554,\tbest estimator lgbm's best error=0.1554\n",
      "[flaml.automl.logger: 03-14 17:32:14] {2218} INFO - iteration 506, current learner lgbm\n",
      "[flaml.automl.logger: 03-14 17:32:14] {2391} INFO -  at 118.5s,\testimator lgbm's best error=0.1554,\tbest estimator lgbm's best error=0.1554\n",
      "[flaml.automl.logger: 03-14 17:32:14] {2218} INFO - iteration 507, current learner lgbm\n",
      "[flaml.automl.logger: 03-14 17:32:14] {2391} INFO -  at 118.7s,\testimator lgbm's best error=0.1554,\tbest estimator lgbm's best error=0.1554\n",
      "[flaml.automl.logger: 03-14 17:32:14] {2218} INFO - iteration 508, current learner lgbm\n",
      "[flaml.automl.logger: 03-14 17:32:15] {2391} INFO -  at 118.9s,\testimator lgbm's best error=0.1554,\tbest estimator lgbm's best error=0.1554\n",
      "[flaml.automl.logger: 03-14 17:32:15] {2218} INFO - iteration 509, current learner lgbm\n",
      "[flaml.automl.logger: 03-14 17:32:15] {2391} INFO -  at 119.1s,\testimator lgbm's best error=0.1554,\tbest estimator lgbm's best error=0.1554\n",
      "[flaml.automl.logger: 03-14 17:32:15] {2218} INFO - iteration 510, current learner lgbm\n",
      "[flaml.automl.logger: 03-14 17:32:15] {2391} INFO -  at 119.2s,\testimator lgbm's best error=0.1554,\tbest estimator lgbm's best error=0.1554\n",
      "[flaml.automl.logger: 03-14 17:32:15] {2218} INFO - iteration 511, current learner lgbm\n",
      "[flaml.automl.logger: 03-14 17:32:15] {2391} INFO -  at 119.5s,\testimator lgbm's best error=0.1554,\tbest estimator lgbm's best error=0.1554\n",
      "[flaml.automl.logger: 03-14 17:32:15] {2218} INFO - iteration 512, current learner lgbm\n",
      "[flaml.automl.logger: 03-14 17:32:15] {2391} INFO -  at 119.7s,\testimator lgbm's best error=0.1554,\tbest estimator lgbm's best error=0.1554\n",
      "[flaml.automl.logger: 03-14 17:32:15] {2218} INFO - iteration 513, current learner lgbm\n",
      "[flaml.automl.logger: 03-14 17:32:16] {2391} INFO -  at 119.8s,\testimator lgbm's best error=0.1554,\tbest estimator lgbm's best error=0.1554\n",
      "[flaml.automl.logger: 03-14 17:32:16] {2218} INFO - iteration 514, current learner lgbm\n",
      "[flaml.automl.logger: 03-14 17:32:16] {2391} INFO -  at 120.1s,\testimator lgbm's best error=0.1554,\tbest estimator lgbm's best error=0.1554\n",
      "[flaml.automl.logger: 03-14 17:32:16] {2218} INFO - iteration 515, current learner lgbm\n",
      "[flaml.automl.logger: 03-14 17:32:16] {2391} INFO -  at 120.4s,\testimator lgbm's best error=0.1554,\tbest estimator lgbm's best error=0.1554\n",
      "[flaml.automl.logger: 03-14 17:32:16] {2218} INFO - iteration 516, current learner lgbm\n",
      "[flaml.automl.logger: 03-14 17:32:16] {2391} INFO -  at 120.5s,\testimator lgbm's best error=0.1554,\tbest estimator lgbm's best error=0.1554\n",
      "[flaml.automl.logger: 03-14 17:32:16] {2218} INFO - iteration 517, current learner lgbm\n",
      "[flaml.automl.logger: 03-14 17:32:16] {2391} INFO -  at 120.7s,\testimator lgbm's best error=0.1554,\tbest estimator lgbm's best error=0.1554\n",
      "[flaml.automl.logger: 03-14 17:32:16] {2218} INFO - iteration 518, current learner lgbm\n",
      "[flaml.automl.logger: 03-14 17:32:17] {2391} INFO -  at 120.9s,\testimator lgbm's best error=0.1554,\tbest estimator lgbm's best error=0.1554\n",
      "[flaml.automl.logger: 03-14 17:32:17] {2218} INFO - iteration 519, current learner lgbm\n",
      "[flaml.automl.logger: 03-14 17:32:17] {2391} INFO -  at 121.2s,\testimator lgbm's best error=0.1554,\tbest estimator lgbm's best error=0.1554\n",
      "[flaml.automl.logger: 03-14 17:32:17] {2218} INFO - iteration 520, current learner lgbm\n",
      "[flaml.automl.logger: 03-14 17:32:17] {2391} INFO -  at 121.4s,\testimator lgbm's best error=0.1554,\tbest estimator lgbm's best error=0.1554\n",
      "[flaml.automl.logger: 03-14 17:32:17] {2218} INFO - iteration 521, current learner lgbm\n",
      "[flaml.automl.logger: 03-14 17:32:17] {2391} INFO -  at 121.6s,\testimator lgbm's best error=0.1554,\tbest estimator lgbm's best error=0.1554\n",
      "[flaml.automl.logger: 03-14 17:32:17] {2218} INFO - iteration 522, current learner lgbm\n",
      "[flaml.automl.logger: 03-14 17:32:18] {2391} INFO -  at 121.8s,\testimator lgbm's best error=0.1554,\tbest estimator lgbm's best error=0.1554\n",
      "[flaml.automl.logger: 03-14 17:32:18] {2218} INFO - iteration 523, current learner lgbm\n",
      "[flaml.automl.logger: 03-14 17:32:18] {2391} INFO -  at 122.0s,\testimator lgbm's best error=0.1554,\tbest estimator lgbm's best error=0.1554\n",
      "[flaml.automl.logger: 03-14 17:32:18] {2218} INFO - iteration 524, current learner lgbm\n",
      "[flaml.automl.logger: 03-14 17:32:18] {2391} INFO -  at 122.2s,\testimator lgbm's best error=0.1554,\tbest estimator lgbm's best error=0.1554\n",
      "[flaml.automl.logger: 03-14 17:32:18] {2218} INFO - iteration 525, current learner lgbm\n",
      "[flaml.automl.logger: 03-14 17:32:18] {2391} INFO -  at 122.4s,\testimator lgbm's best error=0.1554,\tbest estimator lgbm's best error=0.1554\n",
      "[flaml.automl.logger: 03-14 17:32:18] {2218} INFO - iteration 526, current learner lgbm\n",
      "[flaml.automl.logger: 03-14 17:32:18] {2391} INFO -  at 122.5s,\testimator lgbm's best error=0.1554,\tbest estimator lgbm's best error=0.1554\n",
      "[flaml.automl.logger: 03-14 17:32:18] {2218} INFO - iteration 527, current learner lgbm\n",
      "[flaml.automl.logger: 03-14 17:32:18] {2391} INFO -  at 122.7s,\testimator lgbm's best error=0.1554,\tbest estimator lgbm's best error=0.1554\n",
      "[flaml.automl.logger: 03-14 17:32:18] {2218} INFO - iteration 528, current learner lgbm\n",
      "[flaml.automl.logger: 03-14 17:32:19] {2391} INFO -  at 122.9s,\testimator lgbm's best error=0.1554,\tbest estimator lgbm's best error=0.1554\n",
      "[flaml.automl.logger: 03-14 17:32:19] {2218} INFO - iteration 529, current learner lgbm\n",
      "[flaml.automl.logger: 03-14 17:32:19] {2391} INFO -  at 123.2s,\testimator lgbm's best error=0.1554,\tbest estimator lgbm's best error=0.1554\n",
      "[flaml.automl.logger: 03-14 17:32:19] {2218} INFO - iteration 530, current learner lgbm\n",
      "[flaml.automl.logger: 03-14 17:32:19] {2391} INFO -  at 123.3s,\testimator lgbm's best error=0.1554,\tbest estimator lgbm's best error=0.1554\n",
      "[flaml.automl.logger: 03-14 17:32:19] {2218} INFO - iteration 531, current learner lgbm\n",
      "[flaml.automl.logger: 03-14 17:32:19] {2391} INFO -  at 123.5s,\testimator lgbm's best error=0.1554,\tbest estimator lgbm's best error=0.1554\n",
      "[flaml.automl.logger: 03-14 17:32:19] {2218} INFO - iteration 532, current learner lgbm\n",
      "[flaml.automl.logger: 03-14 17:32:19] {2391} INFO -  at 123.7s,\testimator lgbm's best error=0.1554,\tbest estimator lgbm's best error=0.1554\n",
      "[flaml.automl.logger: 03-14 17:32:19] {2218} INFO - iteration 533, current learner lgbm\n",
      "[flaml.automl.logger: 03-14 17:32:20] {2391} INFO -  at 123.9s,\testimator lgbm's best error=0.1554,\tbest estimator lgbm's best error=0.1554\n",
      "[flaml.automl.logger: 03-14 17:32:20] {2218} INFO - iteration 534, current learner lgbm\n",
      "[flaml.automl.logger: 03-14 17:32:20] {2391} INFO -  at 124.1s,\testimator lgbm's best error=0.1554,\tbest estimator lgbm's best error=0.1554\n",
      "[flaml.automl.logger: 03-14 17:32:20] {2218} INFO - iteration 535, current learner lgbm\n",
      "[flaml.automl.logger: 03-14 17:32:20] {2391} INFO -  at 124.3s,\testimator lgbm's best error=0.1554,\tbest estimator lgbm's best error=0.1554\n",
      "[flaml.automl.logger: 03-14 17:32:20] {2218} INFO - iteration 536, current learner lgbm\n",
      "[flaml.automl.logger: 03-14 17:32:20] {2391} INFO -  at 124.5s,\testimator lgbm's best error=0.1554,\tbest estimator lgbm's best error=0.1554\n",
      "[flaml.automl.logger: 03-14 17:32:20] {2218} INFO - iteration 537, current learner lgbm\n",
      "[flaml.automl.logger: 03-14 17:32:20] {2391} INFO -  at 124.7s,\testimator lgbm's best error=0.1554,\tbest estimator lgbm's best error=0.1554\n",
      "[flaml.automl.logger: 03-14 17:32:20] {2218} INFO - iteration 538, current learner lgbm\n",
      "[flaml.automl.logger: 03-14 17:32:21] {2391} INFO -  at 124.9s,\testimator lgbm's best error=0.1554,\tbest estimator lgbm's best error=0.1554\n",
      "[flaml.automl.logger: 03-14 17:32:21] {2218} INFO - iteration 539, current learner lgbm\n",
      "[flaml.automl.logger: 03-14 17:32:21] {2391} INFO -  at 125.1s,\testimator lgbm's best error=0.1554,\tbest estimator lgbm's best error=0.1554\n",
      "[flaml.automl.logger: 03-14 17:32:21] {2218} INFO - iteration 540, current learner lgbm\n",
      "[flaml.automl.logger: 03-14 17:32:21] {2391} INFO -  at 125.3s,\testimator lgbm's best error=0.1554,\tbest estimator lgbm's best error=0.1554\n",
      "[flaml.automl.logger: 03-14 17:32:21] {2218} INFO - iteration 541, current learner lgbm\n",
      "[flaml.automl.logger: 03-14 17:32:21] {2391} INFO -  at 125.5s,\testimator lgbm's best error=0.1554,\tbest estimator lgbm's best error=0.1554\n",
      "[flaml.automl.logger: 03-14 17:32:21] {2218} INFO - iteration 542, current learner lgbm\n",
      "[flaml.automl.logger: 03-14 17:32:21] {2391} INFO -  at 125.7s,\testimator lgbm's best error=0.1554,\tbest estimator lgbm's best error=0.1554\n",
      "[flaml.automl.logger: 03-14 17:32:21] {2218} INFO - iteration 543, current learner lgbm\n",
      "[flaml.automl.logger: 03-14 17:32:22] {2391} INFO -  at 126.0s,\testimator lgbm's best error=0.1554,\tbest estimator lgbm's best error=0.1554\n",
      "[flaml.automl.logger: 03-14 17:32:22] {2218} INFO - iteration 544, current learner lgbm\n",
      "[flaml.automl.logger: 03-14 17:32:22] {2391} INFO -  at 126.2s,\testimator lgbm's best error=0.1554,\tbest estimator lgbm's best error=0.1554\n",
      "[flaml.automl.logger: 03-14 17:32:22] {2218} INFO - iteration 545, current learner lgbm\n",
      "[flaml.automl.logger: 03-14 17:32:22] {2391} INFO -  at 126.4s,\testimator lgbm's best error=0.1554,\tbest estimator lgbm's best error=0.1554\n",
      "[flaml.automl.logger: 03-14 17:32:22] {2218} INFO - iteration 546, current learner lgbm\n",
      "[flaml.automl.logger: 03-14 17:32:22] {2391} INFO -  at 126.6s,\testimator lgbm's best error=0.1554,\tbest estimator lgbm's best error=0.1554\n",
      "[flaml.automl.logger: 03-14 17:32:22] {2218} INFO - iteration 547, current learner lgbm\n",
      "[flaml.automl.logger: 03-14 17:32:23] {2391} INFO -  at 126.8s,\testimator lgbm's best error=0.1554,\tbest estimator lgbm's best error=0.1554\n",
      "[flaml.automl.logger: 03-14 17:32:23] {2218} INFO - iteration 548, current learner lgbm\n",
      "[flaml.automl.logger: 03-14 17:32:23] {2391} INFO -  at 127.0s,\testimator lgbm's best error=0.1554,\tbest estimator lgbm's best error=0.1554\n",
      "[flaml.automl.logger: 03-14 17:32:23] {2218} INFO - iteration 549, current learner lgbm\n",
      "[flaml.automl.logger: 03-14 17:32:23] {2391} INFO -  at 127.1s,\testimator lgbm's best error=0.1554,\tbest estimator lgbm's best error=0.1554\n",
      "[flaml.automl.logger: 03-14 17:32:23] {2218} INFO - iteration 550, current learner lgbm\n",
      "[flaml.automl.logger: 03-14 17:32:23] {2391} INFO -  at 127.3s,\testimator lgbm's best error=0.1554,\tbest estimator lgbm's best error=0.1554\n",
      "[flaml.automl.logger: 03-14 17:32:23] {2218} INFO - iteration 551, current learner lgbm\n",
      "[flaml.automl.logger: 03-14 17:32:23] {2391} INFO -  at 127.6s,\testimator lgbm's best error=0.1554,\tbest estimator lgbm's best error=0.1554\n",
      "[flaml.automl.logger: 03-14 17:32:23] {2218} INFO - iteration 552, current learner lgbm\n",
      "[flaml.automl.logger: 03-14 17:32:24] {2391} INFO -  at 127.8s,\testimator lgbm's best error=0.1554,\tbest estimator lgbm's best error=0.1554\n",
      "[flaml.automl.logger: 03-14 17:32:24] {2218} INFO - iteration 553, current learner lgbm\n",
      "[flaml.automl.logger: 03-14 17:32:24] {2391} INFO -  at 128.0s,\testimator lgbm's best error=0.1554,\tbest estimator lgbm's best error=0.1554\n",
      "[flaml.automl.logger: 03-14 17:32:24] {2218} INFO - iteration 554, current learner lgbm\n",
      "[flaml.automl.logger: 03-14 17:32:24] {2391} INFO -  at 128.2s,\testimator lgbm's best error=0.1554,\tbest estimator lgbm's best error=0.1554\n",
      "[flaml.automl.logger: 03-14 17:32:24] {2218} INFO - iteration 555, current learner lgbm\n",
      "[flaml.automl.logger: 03-14 17:32:24] {2391} INFO -  at 128.3s,\testimator lgbm's best error=0.1554,\tbest estimator lgbm's best error=0.1554\n",
      "[flaml.automl.logger: 03-14 17:32:24] {2218} INFO - iteration 556, current learner lgbm\n",
      "[flaml.automl.logger: 03-14 17:32:24] {2391} INFO -  at 128.5s,\testimator lgbm's best error=0.1554,\tbest estimator lgbm's best error=0.1554\n",
      "[flaml.automl.logger: 03-14 17:32:24] {2218} INFO - iteration 557, current learner lgbm\n",
      "[flaml.automl.logger: 03-14 17:32:24] {2391} INFO -  at 128.7s,\testimator lgbm's best error=0.1554,\tbest estimator lgbm's best error=0.1554\n",
      "[flaml.automl.logger: 03-14 17:32:24] {2218} INFO - iteration 558, current learner lgbm\n",
      "[flaml.automl.logger: 03-14 17:32:25] {2391} INFO -  at 128.9s,\testimator lgbm's best error=0.1554,\tbest estimator lgbm's best error=0.1554\n",
      "[flaml.automl.logger: 03-14 17:32:25] {2218} INFO - iteration 559, current learner lgbm\n",
      "[flaml.automl.logger: 03-14 17:32:25] {2391} INFO -  at 129.1s,\testimator lgbm's best error=0.1554,\tbest estimator lgbm's best error=0.1554\n",
      "[flaml.automl.logger: 03-14 17:32:25] {2218} INFO - iteration 560, current learner lgbm\n",
      "[flaml.automl.logger: 03-14 17:32:25] {2391} INFO -  at 129.3s,\testimator lgbm's best error=0.1554,\tbest estimator lgbm's best error=0.1554\n",
      "[flaml.automl.logger: 03-14 17:32:25] {2218} INFO - iteration 561, current learner lgbm\n",
      "[flaml.automl.logger: 03-14 17:32:25] {2391} INFO -  at 129.5s,\testimator lgbm's best error=0.1554,\tbest estimator lgbm's best error=0.1554\n",
      "[flaml.automl.logger: 03-14 17:32:25] {2218} INFO - iteration 562, current learner lgbm\n",
      "[flaml.automl.logger: 03-14 17:32:25] {2391} INFO -  at 129.7s,\testimator lgbm's best error=0.1554,\tbest estimator lgbm's best error=0.1554\n",
      "[flaml.automl.logger: 03-14 17:32:25] {2218} INFO - iteration 563, current learner lgbm\n",
      "[flaml.automl.logger: 03-14 17:32:26] {2391} INFO -  at 129.8s,\testimator lgbm's best error=0.1554,\tbest estimator lgbm's best error=0.1554\n",
      "[flaml.automl.logger: 03-14 17:32:26] {2218} INFO - iteration 564, current learner lgbm\n",
      "[flaml.automl.logger: 03-14 17:32:26] {2391} INFO -  at 130.0s,\testimator lgbm's best error=0.1554,\tbest estimator lgbm's best error=0.1554\n",
      "[flaml.automl.logger: 03-14 17:32:26] {2218} INFO - iteration 565, current learner lgbm\n",
      "[flaml.automl.logger: 03-14 17:32:26] {2391} INFO -  at 130.2s,\testimator lgbm's best error=0.1554,\tbest estimator lgbm's best error=0.1554\n",
      "[flaml.automl.logger: 03-14 17:32:26] {2218} INFO - iteration 566, current learner lgbm\n",
      "[flaml.automl.logger: 03-14 17:32:26] {2391} INFO -  at 130.4s,\testimator lgbm's best error=0.1554,\tbest estimator lgbm's best error=0.1554\n",
      "[flaml.automl.logger: 03-14 17:32:26] {2218} INFO - iteration 567, current learner lgbm\n",
      "[flaml.automl.logger: 03-14 17:32:26] {2391} INFO -  at 130.7s,\testimator lgbm's best error=0.1554,\tbest estimator lgbm's best error=0.1554\n",
      "[flaml.automl.logger: 03-14 17:32:26] {2218} INFO - iteration 568, current learner lgbm\n",
      "[flaml.automl.logger: 03-14 17:32:27] {2391} INFO -  at 130.9s,\testimator lgbm's best error=0.1554,\tbest estimator lgbm's best error=0.1554\n",
      "[flaml.automl.logger: 03-14 17:32:27] {2218} INFO - iteration 569, current learner lgbm\n",
      "[flaml.automl.logger: 03-14 17:32:27] {2391} INFO -  at 131.0s,\testimator lgbm's best error=0.1554,\tbest estimator lgbm's best error=0.1554\n",
      "[flaml.automl.logger: 03-14 17:32:27] {2218} INFO - iteration 570, current learner lgbm\n",
      "[flaml.automl.logger: 03-14 17:32:27] {2391} INFO -  at 131.2s,\testimator lgbm's best error=0.1554,\tbest estimator lgbm's best error=0.1554\n",
      "[flaml.automl.logger: 03-14 17:32:27] {2218} INFO - iteration 571, current learner lgbm\n",
      "[flaml.automl.logger: 03-14 17:32:27] {2391} INFO -  at 131.4s,\testimator lgbm's best error=0.1554,\tbest estimator lgbm's best error=0.1554\n",
      "[flaml.automl.logger: 03-14 17:32:27] {2218} INFO - iteration 572, current learner lgbm\n",
      "[flaml.automl.logger: 03-14 17:32:27] {2391} INFO -  at 131.6s,\testimator lgbm's best error=0.1554,\tbest estimator lgbm's best error=0.1554\n",
      "[flaml.automl.logger: 03-14 17:32:27] {2218} INFO - iteration 573, current learner lgbm\n",
      "[flaml.automl.logger: 03-14 17:32:28] {2391} INFO -  at 131.9s,\testimator lgbm's best error=0.1554,\tbest estimator lgbm's best error=0.1554\n",
      "[flaml.automl.logger: 03-14 17:32:28] {2218} INFO - iteration 574, current learner lgbm\n",
      "[flaml.automl.logger: 03-14 17:32:28] {2391} INFO -  at 132.0s,\testimator lgbm's best error=0.1554,\tbest estimator lgbm's best error=0.1554\n",
      "[flaml.automl.logger: 03-14 17:32:28] {2218} INFO - iteration 575, current learner lgbm\n",
      "[flaml.automl.logger: 03-14 17:32:28] {2391} INFO -  at 132.2s,\testimator lgbm's best error=0.1554,\tbest estimator lgbm's best error=0.1554\n",
      "[flaml.automl.logger: 03-14 17:32:28] {2218} INFO - iteration 576, current learner lgbm\n",
      "[flaml.automl.logger: 03-14 17:32:28] {2391} INFO -  at 132.4s,\testimator lgbm's best error=0.1554,\tbest estimator lgbm's best error=0.1554\n",
      "[flaml.automl.logger: 03-14 17:32:28] {2218} INFO - iteration 577, current learner lgbm\n",
      "[flaml.automl.logger: 03-14 17:32:28] {2391} INFO -  at 132.7s,\testimator lgbm's best error=0.1554,\tbest estimator lgbm's best error=0.1554\n",
      "[flaml.automl.logger: 03-14 17:32:28] {2218} INFO - iteration 578, current learner lgbm\n",
      "[flaml.automl.logger: 03-14 17:32:29] {2391} INFO -  at 132.8s,\testimator lgbm's best error=0.1554,\tbest estimator lgbm's best error=0.1554\n",
      "[flaml.automl.logger: 03-14 17:32:29] {2218} INFO - iteration 579, current learner lgbm\n",
      "[flaml.automl.logger: 03-14 17:32:29] {2391} INFO -  at 133.0s,\testimator lgbm's best error=0.1554,\tbest estimator lgbm's best error=0.1554\n",
      "[flaml.automl.logger: 03-14 17:32:29] {2218} INFO - iteration 580, current learner lgbm\n",
      "[flaml.automl.logger: 03-14 17:32:29] {2391} INFO -  at 133.2s,\testimator lgbm's best error=0.1554,\tbest estimator lgbm's best error=0.1554\n",
      "[flaml.automl.logger: 03-14 17:32:29] {2218} INFO - iteration 581, current learner lgbm\n",
      "[flaml.automl.logger: 03-14 17:32:29] {2391} INFO -  at 133.4s,\testimator lgbm's best error=0.1554,\tbest estimator lgbm's best error=0.1554\n",
      "[flaml.automl.logger: 03-14 17:32:29] {2218} INFO - iteration 582, current learner lgbm\n",
      "[flaml.automl.logger: 03-14 17:32:29] {2391} INFO -  at 133.6s,\testimator lgbm's best error=0.1554,\tbest estimator lgbm's best error=0.1554\n",
      "[flaml.automl.logger: 03-14 17:32:29] {2218} INFO - iteration 583, current learner lgbm\n",
      "[flaml.automl.logger: 03-14 17:32:30] {2391} INFO -  at 133.8s,\testimator lgbm's best error=0.1554,\tbest estimator lgbm's best error=0.1554\n",
      "[flaml.automl.logger: 03-14 17:32:30] {2218} INFO - iteration 584, current learner lgbm\n",
      "[flaml.automl.logger: 03-14 17:32:30] {2391} INFO -  at 134.0s,\testimator lgbm's best error=0.1554,\tbest estimator lgbm's best error=0.1554\n",
      "[flaml.automl.logger: 03-14 17:32:30] {2218} INFO - iteration 585, current learner lgbm\n",
      "[flaml.automl.logger: 03-14 17:32:30] {2391} INFO -  at 134.1s,\testimator lgbm's best error=0.1554,\tbest estimator lgbm's best error=0.1554\n",
      "[flaml.automl.logger: 03-14 17:32:30] {2218} INFO - iteration 586, current learner lgbm\n",
      "[flaml.automl.logger: 03-14 17:32:30] {2391} INFO -  at 134.4s,\testimator lgbm's best error=0.1554,\tbest estimator lgbm's best error=0.1554\n",
      "[flaml.automl.logger: 03-14 17:32:30] {2218} INFO - iteration 587, current learner lgbm\n",
      "[flaml.automl.logger: 03-14 17:32:30] {2391} INFO -  at 134.6s,\testimator lgbm's best error=0.1554,\tbest estimator lgbm's best error=0.1554\n",
      "[flaml.automl.logger: 03-14 17:32:30] {2218} INFO - iteration 588, current learner lgbm\n",
      "[flaml.automl.logger: 03-14 17:32:31] {2391} INFO -  at 134.8s,\testimator lgbm's best error=0.1554,\tbest estimator lgbm's best error=0.1554\n",
      "[flaml.automl.logger: 03-14 17:32:31] {2218} INFO - iteration 589, current learner lgbm\n",
      "[flaml.automl.logger: 03-14 17:32:31] {2391} INFO -  at 135.0s,\testimator lgbm's best error=0.1554,\tbest estimator lgbm's best error=0.1554\n",
      "[flaml.automl.logger: 03-14 17:32:31] {2218} INFO - iteration 590, current learner lgbm\n",
      "[flaml.automl.logger: 03-14 17:32:31] {2391} INFO -  at 135.2s,\testimator lgbm's best error=0.1554,\tbest estimator lgbm's best error=0.1554\n",
      "[flaml.automl.logger: 03-14 17:32:31] {2218} INFO - iteration 591, current learner lgbm\n",
      "[flaml.automl.logger: 03-14 17:32:31] {2391} INFO -  at 135.4s,\testimator lgbm's best error=0.1554,\tbest estimator lgbm's best error=0.1554\n",
      "[flaml.automl.logger: 03-14 17:32:31] {2218} INFO - iteration 592, current learner lgbm\n",
      "[flaml.automl.logger: 03-14 17:32:31] {2391} INFO -  at 135.6s,\testimator lgbm's best error=0.1554,\tbest estimator lgbm's best error=0.1554\n",
      "[flaml.automl.logger: 03-14 17:32:31] {2218} INFO - iteration 593, current learner lgbm\n",
      "[flaml.automl.logger: 03-14 17:32:32] {2391} INFO -  at 135.8s,\testimator lgbm's best error=0.1554,\tbest estimator lgbm's best error=0.1554\n",
      "[flaml.automl.logger: 03-14 17:32:32] {2218} INFO - iteration 594, current learner lgbm\n",
      "[flaml.automl.logger: 03-14 17:32:32] {2391} INFO -  at 136.0s,\testimator lgbm's best error=0.1554,\tbest estimator lgbm's best error=0.1554\n",
      "[flaml.automl.logger: 03-14 17:32:32] {2218} INFO - iteration 595, current learner lgbm\n",
      "[flaml.automl.logger: 03-14 17:32:32] {2391} INFO -  at 136.3s,\testimator lgbm's best error=0.1554,\tbest estimator lgbm's best error=0.1554\n",
      "[flaml.automl.logger: 03-14 17:32:32] {2218} INFO - iteration 596, current learner lgbm\n",
      "[flaml.automl.logger: 03-14 17:32:32] {2391} INFO -  at 136.4s,\testimator lgbm's best error=0.1554,\tbest estimator lgbm's best error=0.1554\n",
      "[flaml.automl.logger: 03-14 17:32:32] {2218} INFO - iteration 597, current learner lgbm\n",
      "[flaml.automl.logger: 03-14 17:32:32] {2391} INFO -  at 136.6s,\testimator lgbm's best error=0.1554,\tbest estimator lgbm's best error=0.1554\n",
      "[flaml.automl.logger: 03-14 17:32:32] {2218} INFO - iteration 598, current learner lgbm\n",
      "[flaml.automl.logger: 03-14 17:32:33] {2391} INFO -  at 136.8s,\testimator lgbm's best error=0.1554,\tbest estimator lgbm's best error=0.1554\n",
      "[flaml.automl.logger: 03-14 17:32:33] {2218} INFO - iteration 599, current learner lgbm\n",
      "[flaml.automl.logger: 03-14 17:32:33] {2391} INFO -  at 137.0s,\testimator lgbm's best error=0.1554,\tbest estimator lgbm's best error=0.1554\n",
      "[flaml.automl.logger: 03-14 17:32:33] {2218} INFO - iteration 600, current learner lgbm\n",
      "[flaml.automl.logger: 03-14 17:32:33] {2391} INFO -  at 137.2s,\testimator lgbm's best error=0.1554,\tbest estimator lgbm's best error=0.1554\n",
      "[flaml.automl.logger: 03-14 17:32:33] {2218} INFO - iteration 601, current learner lgbm\n",
      "[flaml.automl.logger: 03-14 17:32:33] {2391} INFO -  at 137.4s,\testimator lgbm's best error=0.1554,\tbest estimator lgbm's best error=0.1554\n",
      "[flaml.automl.logger: 03-14 17:32:33] {2218} INFO - iteration 602, current learner lgbm\n",
      "[flaml.automl.logger: 03-14 17:32:33] {2391} INFO -  at 137.6s,\testimator lgbm's best error=0.1554,\tbest estimator lgbm's best error=0.1554\n",
      "[flaml.automl.logger: 03-14 17:32:33] {2218} INFO - iteration 603, current learner lgbm\n",
      "[flaml.automl.logger: 03-14 17:32:34] {2391} INFO -  at 137.8s,\testimator lgbm's best error=0.1554,\tbest estimator lgbm's best error=0.1554\n",
      "[flaml.automl.logger: 03-14 17:32:34] {2218} INFO - iteration 604, current learner lgbm\n",
      "[flaml.automl.logger: 03-14 17:32:34] {2391} INFO -  at 137.9s,\testimator lgbm's best error=0.1554,\tbest estimator lgbm's best error=0.1554\n",
      "[flaml.automl.logger: 03-14 17:32:34] {2218} INFO - iteration 605, current learner lgbm\n",
      "[flaml.automl.logger: 03-14 17:32:34] {2391} INFO -  at 138.1s,\testimator lgbm's best error=0.1554,\tbest estimator lgbm's best error=0.1554\n",
      "[flaml.automl.logger: 03-14 17:32:34] {2218} INFO - iteration 606, current learner lgbm\n",
      "[flaml.automl.logger: 03-14 17:32:34] {2391} INFO -  at 138.3s,\testimator lgbm's best error=0.1554,\tbest estimator lgbm's best error=0.1554\n",
      "[flaml.automl.logger: 03-14 17:32:34] {2218} INFO - iteration 607, current learner lgbm\n",
      "[flaml.automl.logger: 03-14 17:32:34] {2391} INFO -  at 138.5s,\testimator lgbm's best error=0.1554,\tbest estimator lgbm's best error=0.1554\n",
      "[flaml.automl.logger: 03-14 17:32:34] {2218} INFO - iteration 608, current learner lgbm\n",
      "[flaml.automl.logger: 03-14 17:32:34] {2391} INFO -  at 138.7s,\testimator lgbm's best error=0.1554,\tbest estimator lgbm's best error=0.1554\n",
      "[flaml.automl.logger: 03-14 17:32:34] {2218} INFO - iteration 609, current learner lgbm\n",
      "[flaml.automl.logger: 03-14 17:32:35] {2391} INFO -  at 138.9s,\testimator lgbm's best error=0.1554,\tbest estimator lgbm's best error=0.1554\n",
      "[flaml.automl.logger: 03-14 17:32:35] {2218} INFO - iteration 610, current learner lgbm\n",
      "[flaml.automl.logger: 03-14 17:32:35] {2391} INFO -  at 139.1s,\testimator lgbm's best error=0.1554,\tbest estimator lgbm's best error=0.1554\n",
      "[flaml.automl.logger: 03-14 17:32:35] {2218} INFO - iteration 611, current learner lgbm\n",
      "[flaml.automl.logger: 03-14 17:32:35] {2391} INFO -  at 139.3s,\testimator lgbm's best error=0.1554,\tbest estimator lgbm's best error=0.1554\n",
      "[flaml.automl.logger: 03-14 17:32:35] {2218} INFO - iteration 612, current learner lgbm\n",
      "[flaml.automl.logger: 03-14 17:32:35] {2391} INFO -  at 139.5s,\testimator lgbm's best error=0.1554,\tbest estimator lgbm's best error=0.1554\n",
      "[flaml.automl.logger: 03-14 17:32:35] {2218} INFO - iteration 613, current learner lgbm\n",
      "[flaml.automl.logger: 03-14 17:32:35] {2391} INFO -  at 139.7s,\testimator lgbm's best error=0.1554,\tbest estimator lgbm's best error=0.1554\n",
      "[flaml.automl.logger: 03-14 17:32:35] {2218} INFO - iteration 614, current learner lgbm\n",
      "[flaml.automl.logger: 03-14 17:32:36] {2391} INFO -  at 139.9s,\testimator lgbm's best error=0.1554,\tbest estimator lgbm's best error=0.1554\n",
      "[flaml.automl.logger: 03-14 17:32:36] {2218} INFO - iteration 615, current learner lgbm\n",
      "[flaml.automl.logger: 03-14 17:32:36] {2391} INFO -  at 140.1s,\testimator lgbm's best error=0.1554,\tbest estimator lgbm's best error=0.1554\n",
      "[flaml.automl.logger: 03-14 17:32:36] {2218} INFO - iteration 616, current learner lgbm\n",
      "[flaml.automl.logger: 03-14 17:32:36] {2391} INFO -  at 140.2s,\testimator lgbm's best error=0.1554,\tbest estimator lgbm's best error=0.1554\n",
      "[flaml.automl.logger: 03-14 17:32:36] {2218} INFO - iteration 617, current learner lgbm\n",
      "[flaml.automl.logger: 03-14 17:32:36] {2391} INFO -  at 140.4s,\testimator lgbm's best error=0.1554,\tbest estimator lgbm's best error=0.1554\n",
      "[flaml.automl.logger: 03-14 17:32:36] {2218} INFO - iteration 618, current learner lgbm\n",
      "[flaml.automl.logger: 03-14 17:32:36] {2391} INFO -  at 140.6s,\testimator lgbm's best error=0.1554,\tbest estimator lgbm's best error=0.1554\n",
      "[flaml.automl.logger: 03-14 17:32:36] {2218} INFO - iteration 619, current learner lgbm\n",
      "[flaml.automl.logger: 03-14 17:32:37] {2391} INFO -  at 140.8s,\testimator lgbm's best error=0.1554,\tbest estimator lgbm's best error=0.1554\n",
      "[flaml.automl.logger: 03-14 17:32:37] {2218} INFO - iteration 620, current learner lgbm\n",
      "[flaml.automl.logger: 03-14 17:32:37] {2391} INFO -  at 141.1s,\testimator lgbm's best error=0.1554,\tbest estimator lgbm's best error=0.1554\n",
      "[flaml.automl.logger: 03-14 17:32:37] {2218} INFO - iteration 621, current learner lgbm\n",
      "[flaml.automl.logger: 03-14 17:32:37] {2391} INFO -  at 141.3s,\testimator lgbm's best error=0.1554,\tbest estimator lgbm's best error=0.1554\n",
      "[flaml.automl.logger: 03-14 17:32:37] {2218} INFO - iteration 622, current learner lgbm\n",
      "[flaml.automl.logger: 03-14 17:32:37] {2391} INFO -  at 141.5s,\testimator lgbm's best error=0.1554,\tbest estimator lgbm's best error=0.1554\n",
      "[flaml.automl.logger: 03-14 17:32:37] {2218} INFO - iteration 623, current learner lgbm\n",
      "[flaml.automl.logger: 03-14 17:32:37] {2391} INFO -  at 141.7s,\testimator lgbm's best error=0.1554,\tbest estimator lgbm's best error=0.1554\n",
      "[flaml.automl.logger: 03-14 17:32:37] {2218} INFO - iteration 624, current learner lgbm\n",
      "[flaml.automl.logger: 03-14 17:32:38] {2391} INFO -  at 141.9s,\testimator lgbm's best error=0.1554,\tbest estimator lgbm's best error=0.1554\n",
      "[flaml.automl.logger: 03-14 17:32:38] {2218} INFO - iteration 625, current learner lgbm\n",
      "[flaml.automl.logger: 03-14 17:32:38] {2391} INFO -  at 142.1s,\testimator lgbm's best error=0.1554,\tbest estimator lgbm's best error=0.1554\n",
      "[flaml.automl.logger: 03-14 17:32:38] {2218} INFO - iteration 626, current learner lgbm\n",
      "[flaml.automl.logger: 03-14 17:32:38] {2391} INFO -  at 142.3s,\testimator lgbm's best error=0.1554,\tbest estimator lgbm's best error=0.1554\n",
      "[flaml.automl.logger: 03-14 17:32:38] {2218} INFO - iteration 627, current learner lgbm\n",
      "[flaml.automl.logger: 03-14 17:32:38] {2391} INFO -  at 142.4s,\testimator lgbm's best error=0.1554,\tbest estimator lgbm's best error=0.1554\n",
      "[flaml.automl.logger: 03-14 17:32:38] {2218} INFO - iteration 628, current learner lgbm\n",
      "[flaml.automl.logger: 03-14 17:32:38] {2391} INFO -  at 142.6s,\testimator lgbm's best error=0.1554,\tbest estimator lgbm's best error=0.1554\n",
      "[flaml.automl.logger: 03-14 17:32:38] {2218} INFO - iteration 629, current learner lgbm\n",
      "[flaml.automl.logger: 03-14 17:32:39] {2391} INFO -  at 142.9s,\testimator lgbm's best error=0.1554,\tbest estimator lgbm's best error=0.1554\n",
      "[flaml.automl.logger: 03-14 17:32:39] {2218} INFO - iteration 630, current learner lgbm\n",
      "[flaml.automl.logger: 03-14 17:32:39] {2391} INFO -  at 143.0s,\testimator lgbm's best error=0.1554,\tbest estimator lgbm's best error=0.1554\n",
      "[flaml.automl.logger: 03-14 17:32:39] {2218} INFO - iteration 631, current learner lgbm\n",
      "[flaml.automl.logger: 03-14 17:32:39] {2391} INFO -  at 143.2s,\testimator lgbm's best error=0.1554,\tbest estimator lgbm's best error=0.1554\n",
      "[flaml.automl.logger: 03-14 17:32:39] {2218} INFO - iteration 632, current learner lgbm\n",
      "[flaml.automl.logger: 03-14 17:32:39] {2391} INFO -  at 143.4s,\testimator lgbm's best error=0.1554,\tbest estimator lgbm's best error=0.1554\n",
      "[flaml.automl.logger: 03-14 17:32:39] {2218} INFO - iteration 633, current learner lgbm\n",
      "[flaml.automl.logger: 03-14 17:32:39] {2391} INFO -  at 143.6s,\testimator lgbm's best error=0.1554,\tbest estimator lgbm's best error=0.1554\n",
      "[flaml.automl.logger: 03-14 17:32:39] {2218} INFO - iteration 634, current learner lgbm\n",
      "[flaml.automl.logger: 03-14 17:32:40] {2391} INFO -  at 143.8s,\testimator lgbm's best error=0.1554,\tbest estimator lgbm's best error=0.1554\n",
      "[flaml.automl.logger: 03-14 17:32:40] {2218} INFO - iteration 635, current learner lgbm\n",
      "[flaml.automl.logger: 03-14 17:32:40] {2391} INFO -  at 144.0s,\testimator lgbm's best error=0.1554,\tbest estimator lgbm's best error=0.1554\n",
      "[flaml.automl.logger: 03-14 17:32:40] {2218} INFO - iteration 636, current learner lgbm\n",
      "[flaml.automl.logger: 03-14 17:32:40] {2391} INFO -  at 144.2s,\testimator lgbm's best error=0.1554,\tbest estimator lgbm's best error=0.1554\n",
      "[flaml.automl.logger: 03-14 17:32:40] {2218} INFO - iteration 637, current learner lgbm\n",
      "[flaml.automl.logger: 03-14 17:32:40] {2391} INFO -  at 144.4s,\testimator lgbm's best error=0.1554,\tbest estimator lgbm's best error=0.1554\n",
      "[flaml.automl.logger: 03-14 17:32:40] {2218} INFO - iteration 638, current learner lgbm\n",
      "[flaml.automl.logger: 03-14 17:32:40] {2391} INFO -  at 144.6s,\testimator lgbm's best error=0.1554,\tbest estimator lgbm's best error=0.1554\n",
      "[flaml.automl.logger: 03-14 17:32:40] {2218} INFO - iteration 639, current learner lgbm\n",
      "[flaml.automl.logger: 03-14 17:32:41] {2391} INFO -  at 144.8s,\testimator lgbm's best error=0.1554,\tbest estimator lgbm's best error=0.1554\n",
      "[flaml.automl.logger: 03-14 17:32:41] {2218} INFO - iteration 640, current learner lgbm\n",
      "[flaml.automl.logger: 03-14 17:32:41] {2391} INFO -  at 145.0s,\testimator lgbm's best error=0.1554,\tbest estimator lgbm's best error=0.1554\n",
      "[flaml.automl.logger: 03-14 17:32:41] {2218} INFO - iteration 641, current learner lgbm\n",
      "[flaml.automl.logger: 03-14 17:32:41] {2391} INFO -  at 145.2s,\testimator lgbm's best error=0.1554,\tbest estimator lgbm's best error=0.1554\n",
      "[flaml.automl.logger: 03-14 17:32:41] {2218} INFO - iteration 642, current learner lgbm\n",
      "[flaml.automl.logger: 03-14 17:32:41] {2391} INFO -  at 145.4s,\testimator lgbm's best error=0.1554,\tbest estimator lgbm's best error=0.1554\n",
      "[flaml.automl.logger: 03-14 17:32:41] {2218} INFO - iteration 643, current learner lgbm\n",
      "[flaml.automl.logger: 03-14 17:32:41] {2391} INFO -  at 145.6s,\testimator lgbm's best error=0.1554,\tbest estimator lgbm's best error=0.1554\n",
      "[flaml.automl.logger: 03-14 17:32:41] {2218} INFO - iteration 644, current learner lgbm\n",
      "[flaml.automl.logger: 03-14 17:32:42] {2391} INFO -  at 145.8s,\testimator lgbm's best error=0.1554,\tbest estimator lgbm's best error=0.1554\n",
      "[flaml.automl.logger: 03-14 17:32:42] {2218} INFO - iteration 645, current learner lgbm\n",
      "[flaml.automl.logger: 03-14 17:32:42] {2391} INFO -  at 146.0s,\testimator lgbm's best error=0.1554,\tbest estimator lgbm's best error=0.1554\n",
      "[flaml.automl.logger: 03-14 17:32:42] {2218} INFO - iteration 646, current learner lgbm\n",
      "[flaml.automl.logger: 03-14 17:32:42] {2391} INFO -  at 146.2s,\testimator lgbm's best error=0.1554,\tbest estimator lgbm's best error=0.1554\n",
      "[flaml.automl.logger: 03-14 17:32:42] {2218} INFO - iteration 647, current learner lgbm\n",
      "[flaml.automl.logger: 03-14 17:32:42] {2391} INFO -  at 146.4s,\testimator lgbm's best error=0.1554,\tbest estimator lgbm's best error=0.1554\n",
      "[flaml.automl.logger: 03-14 17:32:42] {2218} INFO - iteration 648, current learner lgbm\n",
      "[flaml.automl.logger: 03-14 17:32:42] {2391} INFO -  at 146.6s,\testimator lgbm's best error=0.1554,\tbest estimator lgbm's best error=0.1554\n",
      "[flaml.automl.logger: 03-14 17:32:42] {2218} INFO - iteration 649, current learner lgbm\n",
      "[flaml.automl.logger: 03-14 17:32:43] {2391} INFO -  at 146.8s,\testimator lgbm's best error=0.1554,\tbest estimator lgbm's best error=0.1554\n",
      "[flaml.automl.logger: 03-14 17:32:43] {2218} INFO - iteration 650, current learner lgbm\n",
      "[flaml.automl.logger: 03-14 17:32:43] {2391} INFO -  at 147.0s,\testimator lgbm's best error=0.1554,\tbest estimator lgbm's best error=0.1554\n",
      "[flaml.automl.logger: 03-14 17:32:43] {2218} INFO - iteration 651, current learner lgbm\n",
      "[flaml.automl.logger: 03-14 17:32:43] {2391} INFO -  at 147.2s,\testimator lgbm's best error=0.1554,\tbest estimator lgbm's best error=0.1554\n",
      "[flaml.automl.logger: 03-14 17:32:43] {2218} INFO - iteration 652, current learner lgbm\n",
      "[flaml.automl.logger: 03-14 17:32:43] {2391} INFO -  at 147.4s,\testimator lgbm's best error=0.1554,\tbest estimator lgbm's best error=0.1554\n",
      "[flaml.automl.logger: 03-14 17:32:43] {2218} INFO - iteration 653, current learner lgbm\n",
      "[flaml.automl.logger: 03-14 17:32:43] {2391} INFO -  at 147.6s,\testimator lgbm's best error=0.1554,\tbest estimator lgbm's best error=0.1554\n",
      "[flaml.automl.logger: 03-14 17:32:43] {2218} INFO - iteration 654, current learner lgbm\n",
      "[flaml.automl.logger: 03-14 17:32:44] {2391} INFO -  at 147.8s,\testimator lgbm's best error=0.1554,\tbest estimator lgbm's best error=0.1554\n",
      "[flaml.automl.logger: 03-14 17:32:44] {2218} INFO - iteration 655, current learner lgbm\n",
      "[flaml.automl.logger: 03-14 17:32:44] {2391} INFO -  at 148.1s,\testimator lgbm's best error=0.1554,\tbest estimator lgbm's best error=0.1554\n",
      "[flaml.automl.logger: 03-14 17:32:44] {2218} INFO - iteration 656, current learner lgbm\n",
      "[flaml.automl.logger: 03-14 17:32:44] {2391} INFO -  at 148.4s,\testimator lgbm's best error=0.1554,\tbest estimator lgbm's best error=0.1554\n",
      "[flaml.automl.logger: 03-14 17:32:44] {2218} INFO - iteration 657, current learner lgbm\n",
      "[flaml.automl.logger: 03-14 17:32:44] {2391} INFO -  at 148.5s,\testimator lgbm's best error=0.1554,\tbest estimator lgbm's best error=0.1554\n",
      "[flaml.automl.logger: 03-14 17:32:44] {2218} INFO - iteration 658, current learner lgbm\n",
      "[flaml.automl.logger: 03-14 17:32:45] {2391} INFO -  at 148.8s,\testimator lgbm's best error=0.1554,\tbest estimator lgbm's best error=0.1554\n",
      "[flaml.automl.logger: 03-14 17:32:45] {2218} INFO - iteration 659, current learner lgbm\n",
      "[flaml.automl.logger: 03-14 17:32:45] {2391} INFO -  at 149.1s,\testimator lgbm's best error=0.1554,\tbest estimator lgbm's best error=0.1554\n",
      "[flaml.automl.logger: 03-14 17:32:45] {2218} INFO - iteration 660, current learner lgbm\n",
      "[flaml.automl.logger: 03-14 17:32:45] {2391} INFO -  at 149.6s,\testimator lgbm's best error=0.1554,\tbest estimator lgbm's best error=0.1554\n",
      "[flaml.automl.logger: 03-14 17:32:45] {2218} INFO - iteration 661, current learner lgbm\n",
      "[flaml.automl.logger: 03-14 17:32:46] {2391} INFO -  at 150.0s,\testimator lgbm's best error=0.1554,\tbest estimator lgbm's best error=0.1554\n",
      "[flaml.automl.logger: 03-14 17:32:46] {2218} INFO - iteration 662, current learner lgbm\n",
      "[flaml.automl.logger: 03-14 17:32:46] {2391} INFO -  at 150.7s,\testimator lgbm's best error=0.1554,\tbest estimator lgbm's best error=0.1554\n",
      "[flaml.automl.logger: 03-14 17:32:46] {2218} INFO - iteration 663, current learner lgbm\n",
      "[flaml.automl.logger: 03-14 17:32:47] {2391} INFO -  at 151.0s,\testimator lgbm's best error=0.1554,\tbest estimator lgbm's best error=0.1554\n",
      "[flaml.automl.logger: 03-14 17:32:47] {2218} INFO - iteration 664, current learner lgbm\n",
      "[flaml.automl.logger: 03-14 17:32:47] {2391} INFO -  at 151.3s,\testimator lgbm's best error=0.1554,\tbest estimator lgbm's best error=0.1554\n",
      "[flaml.automl.logger: 03-14 17:32:47] {2218} INFO - iteration 665, current learner lgbm\n",
      "[flaml.automl.logger: 03-14 17:32:47] {2391} INFO -  at 151.6s,\testimator lgbm's best error=0.1554,\tbest estimator lgbm's best error=0.1554\n",
      "[flaml.automl.logger: 03-14 17:32:47] {2218} INFO - iteration 666, current learner lgbm\n",
      "[flaml.automl.logger: 03-14 17:32:48] {2391} INFO -  at 151.9s,\testimator lgbm's best error=0.1554,\tbest estimator lgbm's best error=0.1554\n",
      "[flaml.automl.logger: 03-14 17:32:48] {2218} INFO - iteration 667, current learner lgbm\n",
      "[flaml.automl.logger: 03-14 17:32:48] {2391} INFO -  at 152.3s,\testimator lgbm's best error=0.1554,\tbest estimator lgbm's best error=0.1554\n",
      "[flaml.automl.logger: 03-14 17:32:48] {2218} INFO - iteration 668, current learner lgbm\n",
      "[flaml.automl.logger: 03-14 17:32:48] {2391} INFO -  at 152.6s,\testimator lgbm's best error=0.1554,\tbest estimator lgbm's best error=0.1554\n",
      "[flaml.automl.logger: 03-14 17:32:48] {2218} INFO - iteration 669, current learner lgbm\n",
      "[flaml.automl.logger: 03-14 17:32:49] {2391} INFO -  at 152.8s,\testimator lgbm's best error=0.1554,\tbest estimator lgbm's best error=0.1554\n",
      "[flaml.automl.logger: 03-14 17:32:49] {2218} INFO - iteration 670, current learner lgbm\n",
      "[flaml.automl.logger: 03-14 17:32:49] {2391} INFO -  at 153.0s,\testimator lgbm's best error=0.1554,\tbest estimator lgbm's best error=0.1554\n",
      "[flaml.automl.logger: 03-14 17:32:49] {2218} INFO - iteration 671, current learner lgbm\n",
      "[flaml.automl.logger: 03-14 17:32:49] {2391} INFO -  at 153.2s,\testimator lgbm's best error=0.1554,\tbest estimator lgbm's best error=0.1554\n",
      "[flaml.automl.logger: 03-14 17:32:49] {2218} INFO - iteration 672, current learner lgbm\n",
      "[flaml.automl.logger: 03-14 17:32:49] {2391} INFO -  at 153.4s,\testimator lgbm's best error=0.1554,\tbest estimator lgbm's best error=0.1554\n",
      "[flaml.automl.logger: 03-14 17:32:49] {2218} INFO - iteration 673, current learner lgbm\n",
      "[flaml.automl.logger: 03-14 17:32:49] {2391} INFO -  at 153.6s,\testimator lgbm's best error=0.1554,\tbest estimator lgbm's best error=0.1554\n",
      "[flaml.automl.logger: 03-14 17:32:49] {2218} INFO - iteration 674, current learner lgbm\n",
      "[flaml.automl.logger: 03-14 17:32:50] {2391} INFO -  at 153.8s,\testimator lgbm's best error=0.1554,\tbest estimator lgbm's best error=0.1554\n",
      "[flaml.automl.logger: 03-14 17:32:50] {2218} INFO - iteration 675, current learner lgbm\n",
      "[flaml.automl.logger: 03-14 17:32:50] {2391} INFO -  at 154.0s,\testimator lgbm's best error=0.1554,\tbest estimator lgbm's best error=0.1554\n",
      "[flaml.automl.logger: 03-14 17:32:50] {2218} INFO - iteration 676, current learner lgbm\n",
      "[flaml.automl.logger: 03-14 17:32:50] {2391} INFO -  at 154.1s,\testimator lgbm's best error=0.1554,\tbest estimator lgbm's best error=0.1554\n",
      "[flaml.automl.logger: 03-14 17:32:50] {2218} INFO - iteration 677, current learner lgbm\n",
      "[flaml.automl.logger: 03-14 17:32:50] {2391} INFO -  at 154.3s,\testimator lgbm's best error=0.1554,\tbest estimator lgbm's best error=0.1554\n",
      "[flaml.automl.logger: 03-14 17:32:50] {2218} INFO - iteration 678, current learner lgbm\n",
      "[flaml.automl.logger: 03-14 17:32:50] {2391} INFO -  at 154.5s,\testimator lgbm's best error=0.1554,\tbest estimator lgbm's best error=0.1554\n",
      "[flaml.automl.logger: 03-14 17:32:50] {2218} INFO - iteration 679, current learner lgbm\n",
      "[flaml.automl.logger: 03-14 17:32:50] {2391} INFO -  at 154.7s,\testimator lgbm's best error=0.1554,\tbest estimator lgbm's best error=0.1554\n",
      "[flaml.automl.logger: 03-14 17:32:50] {2218} INFO - iteration 680, current learner lgbm\n",
      "[flaml.automl.logger: 03-14 17:32:51] {2391} INFO -  at 154.9s,\testimator lgbm's best error=0.1554,\tbest estimator lgbm's best error=0.1554\n",
      "[flaml.automl.logger: 03-14 17:32:51] {2218} INFO - iteration 681, current learner lgbm\n",
      "[flaml.automl.logger: 03-14 17:32:51] {2391} INFO -  at 155.1s,\testimator lgbm's best error=0.1554,\tbest estimator lgbm's best error=0.1554\n",
      "[flaml.automl.logger: 03-14 17:32:51] {2218} INFO - iteration 682, current learner lgbm\n",
      "[flaml.automl.logger: 03-14 17:32:51] {2391} INFO -  at 155.3s,\testimator lgbm's best error=0.1554,\tbest estimator lgbm's best error=0.1554\n",
      "[flaml.automl.logger: 03-14 17:32:51] {2218} INFO - iteration 683, current learner lgbm\n",
      "[flaml.automl.logger: 03-14 17:32:51] {2391} INFO -  at 155.6s,\testimator lgbm's best error=0.1554,\tbest estimator lgbm's best error=0.1554\n",
      "[flaml.automl.logger: 03-14 17:32:51] {2218} INFO - iteration 684, current learner lgbm\n",
      "[flaml.automl.logger: 03-14 17:32:52] {2391} INFO -  at 155.8s,\testimator lgbm's best error=0.1554,\tbest estimator lgbm's best error=0.1554\n",
      "[flaml.automl.logger: 03-14 17:32:52] {2218} INFO - iteration 685, current learner lgbm\n",
      "[flaml.automl.logger: 03-14 17:32:52] {2391} INFO -  at 156.0s,\testimator lgbm's best error=0.1554,\tbest estimator lgbm's best error=0.1554\n",
      "[flaml.automl.logger: 03-14 17:32:52] {2218} INFO - iteration 686, current learner lgbm\n",
      "[flaml.automl.logger: 03-14 17:32:52] {2391} INFO -  at 156.2s,\testimator lgbm's best error=0.1554,\tbest estimator lgbm's best error=0.1554\n",
      "[flaml.automl.logger: 03-14 17:32:52] {2218} INFO - iteration 687, current learner lgbm\n",
      "[flaml.automl.logger: 03-14 17:32:52] {2391} INFO -  at 156.4s,\testimator lgbm's best error=0.1554,\tbest estimator lgbm's best error=0.1554\n",
      "[flaml.automl.logger: 03-14 17:32:52] {2218} INFO - iteration 688, current learner lgbm\n",
      "[flaml.automl.logger: 03-14 17:32:52] {2391} INFO -  at 156.6s,\testimator lgbm's best error=0.1554,\tbest estimator lgbm's best error=0.1554\n",
      "[flaml.automl.logger: 03-14 17:32:52] {2218} INFO - iteration 689, current learner lgbm\n",
      "[flaml.automl.logger: 03-14 17:32:53] {2391} INFO -  at 156.8s,\testimator lgbm's best error=0.1554,\tbest estimator lgbm's best error=0.1554\n",
      "[flaml.automl.logger: 03-14 17:32:53] {2218} INFO - iteration 690, current learner lgbm\n",
      "[flaml.automl.logger: 03-14 17:32:53] {2391} INFO -  at 157.0s,\testimator lgbm's best error=0.1554,\tbest estimator lgbm's best error=0.1554\n",
      "[flaml.automl.logger: 03-14 17:32:53] {2218} INFO - iteration 691, current learner lgbm\n",
      "[flaml.automl.logger: 03-14 17:32:53] {2391} INFO -  at 157.3s,\testimator lgbm's best error=0.1554,\tbest estimator lgbm's best error=0.1554\n",
      "[flaml.automl.logger: 03-14 17:32:53] {2218} INFO - iteration 692, current learner lgbm\n",
      "[flaml.automl.logger: 03-14 17:32:53] {2391} INFO -  at 157.5s,\testimator lgbm's best error=0.1554,\tbest estimator lgbm's best error=0.1554\n",
      "[flaml.automl.logger: 03-14 17:32:53] {2218} INFO - iteration 693, current learner lgbm\n",
      "[flaml.automl.logger: 03-14 17:32:53] {2391} INFO -  at 157.7s,\testimator lgbm's best error=0.1554,\tbest estimator lgbm's best error=0.1554\n",
      "[flaml.automl.logger: 03-14 17:32:53] {2218} INFO - iteration 694, current learner lgbm\n",
      "[flaml.automl.logger: 03-14 17:32:54] {2391} INFO -  at 157.9s,\testimator lgbm's best error=0.1554,\tbest estimator lgbm's best error=0.1554\n",
      "[flaml.automl.logger: 03-14 17:32:54] {2218} INFO - iteration 695, current learner lgbm\n",
      "[flaml.automl.logger: 03-14 17:32:54] {2391} INFO -  at 158.1s,\testimator lgbm's best error=0.1554,\tbest estimator lgbm's best error=0.1554\n",
      "[flaml.automl.logger: 03-14 17:32:54] {2218} INFO - iteration 696, current learner lgbm\n",
      "[flaml.automl.logger: 03-14 17:32:54] {2391} INFO -  at 158.3s,\testimator lgbm's best error=0.1554,\tbest estimator lgbm's best error=0.1554\n",
      "[flaml.automl.logger: 03-14 17:32:54] {2218} INFO - iteration 697, current learner lgbm\n",
      "[flaml.automl.logger: 03-14 17:32:54] {2391} INFO -  at 158.5s,\testimator lgbm's best error=0.1554,\tbest estimator lgbm's best error=0.1554\n",
      "[flaml.automl.logger: 03-14 17:32:54] {2218} INFO - iteration 698, current learner lgbm\n",
      "[flaml.automl.logger: 03-14 17:32:54] {2391} INFO -  at 158.7s,\testimator lgbm's best error=0.1554,\tbest estimator lgbm's best error=0.1554\n",
      "[flaml.automl.logger: 03-14 17:32:54] {2218} INFO - iteration 699, current learner lgbm\n",
      "[flaml.automl.logger: 03-14 17:32:55] {2391} INFO -  at 158.9s,\testimator lgbm's best error=0.1554,\tbest estimator lgbm's best error=0.1554\n",
      "[flaml.automl.logger: 03-14 17:32:55] {2218} INFO - iteration 700, current learner lgbm\n",
      "[flaml.automl.logger: 03-14 17:32:55] {2391} INFO -  at 159.1s,\testimator lgbm's best error=0.1554,\tbest estimator lgbm's best error=0.1554\n",
      "[flaml.automl.logger: 03-14 17:32:55] {2218} INFO - iteration 701, current learner lgbm\n",
      "[flaml.automl.logger: 03-14 17:32:55] {2391} INFO -  at 159.3s,\testimator lgbm's best error=0.1554,\tbest estimator lgbm's best error=0.1554\n",
      "[flaml.automl.logger: 03-14 17:32:55] {2218} INFO - iteration 702, current learner lgbm\n",
      "[flaml.automl.logger: 03-14 17:32:55] {2391} INFO -  at 159.6s,\testimator lgbm's best error=0.1554,\tbest estimator lgbm's best error=0.1554\n",
      "[flaml.automl.logger: 03-14 17:32:55] {2218} INFO - iteration 703, current learner lgbm\n",
      "[flaml.automl.logger: 03-14 17:32:55] {2391} INFO -  at 159.7s,\testimator lgbm's best error=0.1554,\tbest estimator lgbm's best error=0.1554\n",
      "[flaml.automl.logger: 03-14 17:32:55] {2218} INFO - iteration 704, current learner lgbm\n",
      "[flaml.automl.logger: 03-14 17:32:56] {2391} INFO -  at 159.9s,\testimator lgbm's best error=0.1554,\tbest estimator lgbm's best error=0.1554\n",
      "[flaml.automl.logger: 03-14 17:32:56] {2218} INFO - iteration 705, current learner lgbm\n",
      "[flaml.automl.logger: 03-14 17:32:56] {2391} INFO -  at 160.2s,\testimator lgbm's best error=0.1554,\tbest estimator lgbm's best error=0.1554\n",
      "[flaml.automl.logger: 03-14 17:32:56] {2218} INFO - iteration 706, current learner lgbm\n",
      "[flaml.automl.logger: 03-14 17:32:56] {2391} INFO -  at 160.3s,\testimator lgbm's best error=0.1554,\tbest estimator lgbm's best error=0.1554\n",
      "[flaml.automl.logger: 03-14 17:32:56] {2218} INFO - iteration 707, current learner lgbm\n",
      "[flaml.automl.logger: 03-14 17:32:56] {2391} INFO -  at 160.5s,\testimator lgbm's best error=0.1554,\tbest estimator lgbm's best error=0.1554\n",
      "[flaml.automl.logger: 03-14 17:32:56] {2218} INFO - iteration 708, current learner lgbm\n",
      "[flaml.automl.logger: 03-14 17:32:56] {2391} INFO -  at 160.7s,\testimator lgbm's best error=0.1554,\tbest estimator lgbm's best error=0.1554\n",
      "[flaml.automl.logger: 03-14 17:32:56] {2218} INFO - iteration 709, current learner lgbm\n",
      "[flaml.automl.logger: 03-14 17:32:57] {2391} INFO -  at 160.9s,\testimator lgbm's best error=0.1554,\tbest estimator lgbm's best error=0.1554\n",
      "[flaml.automl.logger: 03-14 17:32:57] {2218} INFO - iteration 710, current learner lgbm\n",
      "[flaml.automl.logger: 03-14 17:32:57] {2391} INFO -  at 161.1s,\testimator lgbm's best error=0.1554,\tbest estimator lgbm's best error=0.1554\n",
      "[flaml.automl.logger: 03-14 17:32:57] {2218} INFO - iteration 711, current learner lgbm\n",
      "[flaml.automl.logger: 03-14 17:32:57] {2391} INFO -  at 161.4s,\testimator lgbm's best error=0.1554,\tbest estimator lgbm's best error=0.1554\n",
      "[flaml.automl.logger: 03-14 17:32:57] {2218} INFO - iteration 712, current learner lgbm\n",
      "[flaml.automl.logger: 03-14 17:32:57] {2391} INFO -  at 161.6s,\testimator lgbm's best error=0.1554,\tbest estimator lgbm's best error=0.1554\n",
      "[flaml.automl.logger: 03-14 17:32:57] {2218} INFO - iteration 713, current learner lgbm\n",
      "[flaml.automl.logger: 03-14 17:32:58] {2391} INFO -  at 161.8s,\testimator lgbm's best error=0.1554,\tbest estimator lgbm's best error=0.1554\n",
      "[flaml.automl.logger: 03-14 17:32:58] {2218} INFO - iteration 714, current learner lgbm\n",
      "[flaml.automl.logger: 03-14 17:32:58] {2391} INFO -  at 162.0s,\testimator lgbm's best error=0.1554,\tbest estimator lgbm's best error=0.1554\n",
      "[flaml.automl.logger: 03-14 17:32:58] {2218} INFO - iteration 715, current learner lgbm\n",
      "[flaml.automl.logger: 03-14 17:32:58] {2391} INFO -  at 162.2s,\testimator lgbm's best error=0.1554,\tbest estimator lgbm's best error=0.1554\n",
      "[flaml.automl.logger: 03-14 17:32:58] {2218} INFO - iteration 716, current learner lgbm\n",
      "[flaml.automl.logger: 03-14 17:32:58] {2391} INFO -  at 162.4s,\testimator lgbm's best error=0.1554,\tbest estimator lgbm's best error=0.1554\n",
      "[flaml.automl.logger: 03-14 17:32:58] {2218} INFO - iteration 717, current learner lgbm\n",
      "[flaml.automl.logger: 03-14 17:32:58] {2391} INFO -  at 162.6s,\testimator lgbm's best error=0.1554,\tbest estimator lgbm's best error=0.1554\n",
      "[flaml.automl.logger: 03-14 17:32:58] {2218} INFO - iteration 718, current learner lgbm\n",
      "[flaml.automl.logger: 03-14 17:32:59] {2391} INFO -  at 162.8s,\testimator lgbm's best error=0.1554,\tbest estimator lgbm's best error=0.1554\n",
      "[flaml.automl.logger: 03-14 17:32:59] {2218} INFO - iteration 719, current learner lgbm\n",
      "[flaml.automl.logger: 03-14 17:32:59] {2391} INFO -  at 163.0s,\testimator lgbm's best error=0.1554,\tbest estimator lgbm's best error=0.1554\n",
      "[flaml.automl.logger: 03-14 17:32:59] {2218} INFO - iteration 720, current learner lgbm\n",
      "[flaml.automl.logger: 03-14 17:32:59] {2391} INFO -  at 163.2s,\testimator lgbm's best error=0.1554,\tbest estimator lgbm's best error=0.1554\n",
      "[flaml.automl.logger: 03-14 17:32:59] {2218} INFO - iteration 721, current learner lgbm\n",
      "[flaml.automl.logger: 03-14 17:32:59] {2391} INFO -  at 163.4s,\testimator lgbm's best error=0.1554,\tbest estimator lgbm's best error=0.1554\n",
      "[flaml.automl.logger: 03-14 17:32:59] {2218} INFO - iteration 722, current learner lgbm\n",
      "[flaml.automl.logger: 03-14 17:32:59] {2391} INFO -  at 163.6s,\testimator lgbm's best error=0.1554,\tbest estimator lgbm's best error=0.1554\n",
      "[flaml.automl.logger: 03-14 17:32:59] {2218} INFO - iteration 723, current learner lgbm\n",
      "[flaml.automl.logger: 03-14 17:33:00] {2391} INFO -  at 163.9s,\testimator lgbm's best error=0.1554,\tbest estimator lgbm's best error=0.1554\n",
      "[flaml.automl.logger: 03-14 17:33:00] {2218} INFO - iteration 724, current learner lgbm\n",
      "[flaml.automl.logger: 03-14 17:33:00] {2391} INFO -  at 164.1s,\testimator lgbm's best error=0.1554,\tbest estimator lgbm's best error=0.1554\n",
      "[flaml.automl.logger: 03-14 17:33:00] {2218} INFO - iteration 725, current learner lgbm\n",
      "[flaml.automl.logger: 03-14 17:33:00] {2391} INFO -  at 164.3s,\testimator lgbm's best error=0.1554,\tbest estimator lgbm's best error=0.1554\n",
      "[flaml.automl.logger: 03-14 17:33:00] {2218} INFO - iteration 726, current learner lgbm\n",
      "[flaml.automl.logger: 03-14 17:33:00] {2391} INFO -  at 164.5s,\testimator lgbm's best error=0.1554,\tbest estimator lgbm's best error=0.1554\n",
      "[flaml.automl.logger: 03-14 17:33:00] {2218} INFO - iteration 727, current learner lgbm\n",
      "[flaml.automl.logger: 03-14 17:33:00] {2391} INFO -  at 164.7s,\testimator lgbm's best error=0.1554,\tbest estimator lgbm's best error=0.1554\n",
      "[flaml.automl.logger: 03-14 17:33:00] {2218} INFO - iteration 728, current learner lgbm\n",
      "[flaml.automl.logger: 03-14 17:33:01] {2391} INFO -  at 165.0s,\testimator lgbm's best error=0.1554,\tbest estimator lgbm's best error=0.1554\n",
      "[flaml.automl.logger: 03-14 17:33:01] {2218} INFO - iteration 729, current learner lgbm\n",
      "[flaml.automl.logger: 03-14 17:33:01] {2391} INFO -  at 165.2s,\testimator lgbm's best error=0.1554,\tbest estimator lgbm's best error=0.1554\n",
      "[flaml.automl.logger: 03-14 17:33:01] {2218} INFO - iteration 730, current learner lgbm\n",
      "[flaml.automl.logger: 03-14 17:33:01] {2391} INFO -  at 165.4s,\testimator lgbm's best error=0.1554,\tbest estimator lgbm's best error=0.1554\n",
      "[flaml.automl.logger: 03-14 17:33:01] {2218} INFO - iteration 731, current learner lgbm\n",
      "[flaml.automl.logger: 03-14 17:33:01] {2391} INFO -  at 165.6s,\testimator lgbm's best error=0.1554,\tbest estimator lgbm's best error=0.1554\n",
      "[flaml.automl.logger: 03-14 17:33:01] {2218} INFO - iteration 732, current learner lgbm\n",
      "[flaml.automl.logger: 03-14 17:33:02] {2391} INFO -  at 165.8s,\testimator lgbm's best error=0.1554,\tbest estimator lgbm's best error=0.1554\n",
      "[flaml.automl.logger: 03-14 17:33:02] {2218} INFO - iteration 733, current learner lgbm\n",
      "[flaml.automl.logger: 03-14 17:33:02] {2391} INFO -  at 166.0s,\testimator lgbm's best error=0.1554,\tbest estimator lgbm's best error=0.1554\n",
      "[flaml.automl.logger: 03-14 17:33:02] {2218} INFO - iteration 734, current learner lgbm\n",
      "[flaml.automl.logger: 03-14 17:33:02] {2391} INFO -  at 166.2s,\testimator lgbm's best error=0.1554,\tbest estimator lgbm's best error=0.1554\n",
      "[flaml.automl.logger: 03-14 17:33:02] {2218} INFO - iteration 735, current learner lgbm\n",
      "[flaml.automl.logger: 03-14 17:33:02] {2391} INFO -  at 166.4s,\testimator lgbm's best error=0.1554,\tbest estimator lgbm's best error=0.1554\n",
      "[flaml.automl.logger: 03-14 17:33:02] {2218} INFO - iteration 736, current learner lgbm\n",
      "[flaml.automl.logger: 03-14 17:33:02] {2391} INFO -  at 166.6s,\testimator lgbm's best error=0.1554,\tbest estimator lgbm's best error=0.1554\n",
      "[flaml.automl.logger: 03-14 17:33:02] {2218} INFO - iteration 737, current learner lgbm\n",
      "[flaml.automl.logger: 03-14 17:33:03] {2391} INFO -  at 166.8s,\testimator lgbm's best error=0.1554,\tbest estimator lgbm's best error=0.1554\n",
      "[flaml.automl.logger: 03-14 17:33:03] {2218} INFO - iteration 738, current learner lgbm\n",
      "[flaml.automl.logger: 03-14 17:33:03] {2391} INFO -  at 167.0s,\testimator lgbm's best error=0.1554,\tbest estimator lgbm's best error=0.1554\n",
      "[flaml.automl.logger: 03-14 17:33:03] {2218} INFO - iteration 739, current learner lgbm\n",
      "[flaml.automl.logger: 03-14 17:33:03] {2391} INFO -  at 167.2s,\testimator lgbm's best error=0.1554,\tbest estimator lgbm's best error=0.1554\n",
      "[flaml.automl.logger: 03-14 17:33:03] {2218} INFO - iteration 740, current learner lgbm\n",
      "[flaml.automl.logger: 03-14 17:33:03] {2391} INFO -  at 167.4s,\testimator lgbm's best error=0.1554,\tbest estimator lgbm's best error=0.1554\n",
      "[flaml.automl.logger: 03-14 17:33:03] {2218} INFO - iteration 741, current learner lgbm\n",
      "[flaml.automl.logger: 03-14 17:33:03] {2391} INFO -  at 167.6s,\testimator lgbm's best error=0.1554,\tbest estimator lgbm's best error=0.1554\n",
      "[flaml.automl.logger: 03-14 17:33:03] {2218} INFO - iteration 742, current learner lgbm\n",
      "[flaml.automl.logger: 03-14 17:33:04] {2391} INFO -  at 167.8s,\testimator lgbm's best error=0.1554,\tbest estimator lgbm's best error=0.1554\n",
      "[flaml.automl.logger: 03-14 17:33:04] {2218} INFO - iteration 743, current learner lgbm\n",
      "[flaml.automl.logger: 03-14 17:33:04] {2391} INFO -  at 168.0s,\testimator lgbm's best error=0.1554,\tbest estimator lgbm's best error=0.1554\n",
      "[flaml.automl.logger: 03-14 17:33:04] {2218} INFO - iteration 744, current learner lgbm\n",
      "[flaml.automl.logger: 03-14 17:33:04] {2391} INFO -  at 168.2s,\testimator lgbm's best error=0.1554,\tbest estimator lgbm's best error=0.1554\n",
      "[flaml.automl.logger: 03-14 17:33:04] {2218} INFO - iteration 745, current learner lgbm\n",
      "[flaml.automl.logger: 03-14 17:33:04] {2391} INFO -  at 168.4s,\testimator lgbm's best error=0.1554,\tbest estimator lgbm's best error=0.1554\n",
      "[flaml.automl.logger: 03-14 17:33:04] {2218} INFO - iteration 746, current learner lgbm\n",
      "[flaml.automl.logger: 03-14 17:33:04] {2391} INFO -  at 168.6s,\testimator lgbm's best error=0.1554,\tbest estimator lgbm's best error=0.1554\n",
      "[flaml.automl.logger: 03-14 17:33:04] {2218} INFO - iteration 747, current learner lgbm\n",
      "[flaml.automl.logger: 03-14 17:33:05] {2391} INFO -  at 169.0s,\testimator lgbm's best error=0.1554,\tbest estimator lgbm's best error=0.1554\n",
      "[flaml.automl.logger: 03-14 17:33:05] {2218} INFO - iteration 748, current learner lgbm\n",
      "[flaml.automl.logger: 03-14 17:33:05] {2391} INFO -  at 169.2s,\testimator lgbm's best error=0.1554,\tbest estimator lgbm's best error=0.1554\n",
      "[flaml.automl.logger: 03-14 17:33:05] {2218} INFO - iteration 749, current learner lgbm\n",
      "[flaml.automl.logger: 03-14 17:33:05] {2391} INFO -  at 169.4s,\testimator lgbm's best error=0.1554,\tbest estimator lgbm's best error=0.1554\n",
      "[flaml.automl.logger: 03-14 17:33:05] {2218} INFO - iteration 750, current learner lgbm\n",
      "[flaml.automl.logger: 03-14 17:33:05] {2391} INFO -  at 169.6s,\testimator lgbm's best error=0.1554,\tbest estimator lgbm's best error=0.1554\n",
      "[flaml.automl.logger: 03-14 17:33:05] {2218} INFO - iteration 751, current learner lgbm\n",
      "[flaml.automl.logger: 03-14 17:33:06] {2391} INFO -  at 169.8s,\testimator lgbm's best error=0.1554,\tbest estimator lgbm's best error=0.1554\n",
      "[flaml.automl.logger: 03-14 17:33:06] {2218} INFO - iteration 752, current learner lgbm\n",
      "[flaml.automl.logger: 03-14 17:33:06] {2391} INFO -  at 170.0s,\testimator lgbm's best error=0.1554,\tbest estimator lgbm's best error=0.1554\n",
      "[flaml.automl.logger: 03-14 17:33:06] {2218} INFO - iteration 753, current learner lgbm\n",
      "[flaml.automl.logger: 03-14 17:33:06] {2391} INFO -  at 170.2s,\testimator lgbm's best error=0.1554,\tbest estimator lgbm's best error=0.1554\n",
      "[flaml.automl.logger: 03-14 17:33:06] {2218} INFO - iteration 754, current learner lgbm\n",
      "[flaml.automl.logger: 03-14 17:33:06] {2391} INFO -  at 170.5s,\testimator lgbm's best error=0.1554,\tbest estimator lgbm's best error=0.1554\n",
      "[flaml.automl.logger: 03-14 17:33:06] {2218} INFO - iteration 755, current learner lgbm\n",
      "[flaml.automl.logger: 03-14 17:33:06] {2391} INFO -  at 170.7s,\testimator lgbm's best error=0.1554,\tbest estimator lgbm's best error=0.1554\n",
      "[flaml.automl.logger: 03-14 17:33:06] {2218} INFO - iteration 756, current learner lgbm\n",
      "[flaml.automl.logger: 03-14 17:33:07] {2391} INFO -  at 170.9s,\testimator lgbm's best error=0.1554,\tbest estimator lgbm's best error=0.1554\n",
      "[flaml.automl.logger: 03-14 17:33:07] {2218} INFO - iteration 757, current learner lgbm\n",
      "[flaml.automl.logger: 03-14 17:33:07] {2391} INFO -  at 171.1s,\testimator lgbm's best error=0.1554,\tbest estimator lgbm's best error=0.1554\n",
      "[flaml.automl.logger: 03-14 17:33:07] {2218} INFO - iteration 758, current learner lgbm\n",
      "[flaml.automl.logger: 03-14 17:33:07] {2391} INFO -  at 171.3s,\testimator lgbm's best error=0.1554,\tbest estimator lgbm's best error=0.1554\n",
      "[flaml.automl.logger: 03-14 17:33:07] {2218} INFO - iteration 759, current learner lgbm\n",
      "[flaml.automl.logger: 03-14 17:33:07] {2391} INFO -  at 171.5s,\testimator lgbm's best error=0.1554,\tbest estimator lgbm's best error=0.1554\n",
      "[flaml.automl.logger: 03-14 17:33:07] {2218} INFO - iteration 760, current learner lgbm\n",
      "[flaml.automl.logger: 03-14 17:33:07] {2391} INFO -  at 171.7s,\testimator lgbm's best error=0.1554,\tbest estimator lgbm's best error=0.1554\n",
      "[flaml.automl.logger: 03-14 17:33:07] {2218} INFO - iteration 761, current learner lgbm\n",
      "[flaml.automl.logger: 03-14 17:33:08] {2391} INFO -  at 171.9s,\testimator lgbm's best error=0.1554,\tbest estimator lgbm's best error=0.1554\n",
      "[flaml.automl.logger: 03-14 17:33:08] {2218} INFO - iteration 762, current learner lgbm\n",
      "[flaml.automl.logger: 03-14 17:33:08] {2391} INFO -  at 172.1s,\testimator lgbm's best error=0.1554,\tbest estimator lgbm's best error=0.1554\n",
      "[flaml.automl.logger: 03-14 17:33:08] {2218} INFO - iteration 763, current learner lgbm\n",
      "[flaml.automl.logger: 03-14 17:33:08] {2391} INFO -  at 172.3s,\testimator lgbm's best error=0.1554,\tbest estimator lgbm's best error=0.1554\n",
      "[flaml.automl.logger: 03-14 17:33:08] {2218} INFO - iteration 764, current learner lgbm\n",
      "[flaml.automl.logger: 03-14 17:33:08] {2391} INFO -  at 172.5s,\testimator lgbm's best error=0.1554,\tbest estimator lgbm's best error=0.1554\n",
      "[flaml.automl.logger: 03-14 17:33:08] {2218} INFO - iteration 765, current learner lgbm\n",
      "[flaml.automl.logger: 03-14 17:33:08] {2391} INFO -  at 172.7s,\testimator lgbm's best error=0.1554,\tbest estimator lgbm's best error=0.1554\n",
      "[flaml.automl.logger: 03-14 17:33:08] {2218} INFO - iteration 766, current learner lgbm\n",
      "[flaml.automl.logger: 03-14 17:33:09] {2391} INFO -  at 172.9s,\testimator lgbm's best error=0.1554,\tbest estimator lgbm's best error=0.1554\n",
      "[flaml.automl.logger: 03-14 17:33:09] {2218} INFO - iteration 767, current learner lgbm\n",
      "[flaml.automl.logger: 03-14 17:33:09] {2391} INFO -  at 173.1s,\testimator lgbm's best error=0.1554,\tbest estimator lgbm's best error=0.1554\n",
      "[flaml.automl.logger: 03-14 17:33:09] {2218} INFO - iteration 768, current learner lgbm\n",
      "[flaml.automl.logger: 03-14 17:33:09] {2391} INFO -  at 173.3s,\testimator lgbm's best error=0.1554,\tbest estimator lgbm's best error=0.1554\n",
      "[flaml.automl.logger: 03-14 17:33:09] {2218} INFO - iteration 769, current learner lgbm\n",
      "[flaml.automl.logger: 03-14 17:33:09] {2391} INFO -  at 173.5s,\testimator lgbm's best error=0.1554,\tbest estimator lgbm's best error=0.1554\n",
      "[flaml.automl.logger: 03-14 17:33:09] {2218} INFO - iteration 770, current learner lgbm\n",
      "[flaml.automl.logger: 03-14 17:33:09] {2391} INFO -  at 173.7s,\testimator lgbm's best error=0.1554,\tbest estimator lgbm's best error=0.1554\n",
      "[flaml.automl.logger: 03-14 17:33:09] {2218} INFO - iteration 771, current learner lgbm\n",
      "[flaml.automl.logger: 03-14 17:33:10] {2391} INFO -  at 173.9s,\testimator lgbm's best error=0.1554,\tbest estimator lgbm's best error=0.1554\n",
      "[flaml.automl.logger: 03-14 17:33:10] {2218} INFO - iteration 772, current learner lgbm\n",
      "[flaml.automl.logger: 03-14 17:33:10] {2391} INFO -  at 174.1s,\testimator lgbm's best error=0.1554,\tbest estimator lgbm's best error=0.1554\n",
      "[flaml.automl.logger: 03-14 17:33:10] {2218} INFO - iteration 773, current learner lgbm\n",
      "[flaml.automl.logger: 03-14 17:33:10] {2391} INFO -  at 174.3s,\testimator lgbm's best error=0.1554,\tbest estimator lgbm's best error=0.1554\n",
      "[flaml.automl.logger: 03-14 17:33:10] {2218} INFO - iteration 774, current learner lgbm\n",
      "[flaml.automl.logger: 03-14 17:33:10] {2391} INFO -  at 174.5s,\testimator lgbm's best error=0.1554,\tbest estimator lgbm's best error=0.1554\n",
      "[flaml.automl.logger: 03-14 17:33:10] {2218} INFO - iteration 775, current learner lgbm\n",
      "[flaml.automl.logger: 03-14 17:33:10] {2391} INFO -  at 174.7s,\testimator lgbm's best error=0.1554,\tbest estimator lgbm's best error=0.1554\n",
      "[flaml.automl.logger: 03-14 17:33:10] {2218} INFO - iteration 776, current learner lgbm\n",
      "[flaml.automl.logger: 03-14 17:33:11] {2391} INFO -  at 174.9s,\testimator lgbm's best error=0.1554,\tbest estimator lgbm's best error=0.1554\n",
      "[flaml.automl.logger: 03-14 17:33:11] {2218} INFO - iteration 777, current learner lgbm\n",
      "[flaml.automl.logger: 03-14 17:33:11] {2391} INFO -  at 175.1s,\testimator lgbm's best error=0.1554,\tbest estimator lgbm's best error=0.1554\n",
      "[flaml.automl.logger: 03-14 17:33:11] {2218} INFO - iteration 778, current learner lgbm\n",
      "[flaml.automl.logger: 03-14 17:33:11] {2391} INFO -  at 175.3s,\testimator lgbm's best error=0.1554,\tbest estimator lgbm's best error=0.1554\n",
      "[flaml.automl.logger: 03-14 17:33:11] {2218} INFO - iteration 779, current learner lgbm\n",
      "[flaml.automl.logger: 03-14 17:33:11] {2391} INFO -  at 175.5s,\testimator lgbm's best error=0.1554,\tbest estimator lgbm's best error=0.1554\n",
      "[flaml.automl.logger: 03-14 17:33:11] {2218} INFO - iteration 780, current learner lgbm\n",
      "[flaml.automl.logger: 03-14 17:33:11] {2391} INFO -  at 175.7s,\testimator lgbm's best error=0.1554,\tbest estimator lgbm's best error=0.1554\n",
      "[flaml.automl.logger: 03-14 17:33:11] {2218} INFO - iteration 781, current learner lgbm\n",
      "[flaml.automl.logger: 03-14 17:33:12] {2391} INFO -  at 175.9s,\testimator lgbm's best error=0.1554,\tbest estimator lgbm's best error=0.1554\n",
      "[flaml.automl.logger: 03-14 17:33:12] {2218} INFO - iteration 782, current learner lgbm\n",
      "[flaml.automl.logger: 03-14 17:33:12] {2391} INFO -  at 176.1s,\testimator lgbm's best error=0.1554,\tbest estimator lgbm's best error=0.1554\n",
      "[flaml.automl.logger: 03-14 17:33:12] {2218} INFO - iteration 783, current learner lgbm\n",
      "[flaml.automl.logger: 03-14 17:33:12] {2391} INFO -  at 176.4s,\testimator lgbm's best error=0.1554,\tbest estimator lgbm's best error=0.1554\n",
      "[flaml.automl.logger: 03-14 17:33:12] {2218} INFO - iteration 784, current learner lgbm\n",
      "[flaml.automl.logger: 03-14 17:33:12] {2391} INFO -  at 176.6s,\testimator lgbm's best error=0.1554,\tbest estimator lgbm's best error=0.1554\n",
      "[flaml.automl.logger: 03-14 17:33:12] {2218} INFO - iteration 785, current learner lgbm\n",
      "[flaml.automl.logger: 03-14 17:33:13] {2391} INFO -  at 176.8s,\testimator lgbm's best error=0.1554,\tbest estimator lgbm's best error=0.1554\n",
      "[flaml.automl.logger: 03-14 17:33:13] {2218} INFO - iteration 786, current learner lgbm\n",
      "[flaml.automl.logger: 03-14 17:33:13] {2391} INFO -  at 177.0s,\testimator lgbm's best error=0.1554,\tbest estimator lgbm's best error=0.1554\n",
      "[flaml.automl.logger: 03-14 17:33:13] {2218} INFO - iteration 787, current learner lgbm\n",
      "[flaml.automl.logger: 03-14 17:33:13] {2391} INFO -  at 177.2s,\testimator lgbm's best error=0.1554,\tbest estimator lgbm's best error=0.1554\n",
      "[flaml.automl.logger: 03-14 17:33:13] {2218} INFO - iteration 788, current learner lgbm\n",
      "[flaml.automl.logger: 03-14 17:33:13] {2391} INFO -  at 177.4s,\testimator lgbm's best error=0.1554,\tbest estimator lgbm's best error=0.1554\n",
      "[flaml.automl.logger: 03-14 17:33:13] {2218} INFO - iteration 789, current learner lgbm\n",
      "[flaml.automl.logger: 03-14 17:33:13] {2391} INFO -  at 177.6s,\testimator lgbm's best error=0.1554,\tbest estimator lgbm's best error=0.1554\n",
      "[flaml.automl.logger: 03-14 17:33:13] {2218} INFO - iteration 790, current learner lgbm\n",
      "[flaml.automl.logger: 03-14 17:33:14] {2391} INFO -  at 177.8s,\testimator lgbm's best error=0.1554,\tbest estimator lgbm's best error=0.1554\n",
      "[flaml.automl.logger: 03-14 17:33:14] {2218} INFO - iteration 791, current learner lgbm\n",
      "[flaml.automl.logger: 03-14 17:33:14] {2391} INFO -  at 178.1s,\testimator lgbm's best error=0.1554,\tbest estimator lgbm's best error=0.1554\n",
      "[flaml.automl.logger: 03-14 17:33:14] {2218} INFO - iteration 792, current learner lgbm\n",
      "[flaml.automl.logger: 03-14 17:33:14] {2391} INFO -  at 178.3s,\testimator lgbm's best error=0.1554,\tbest estimator lgbm's best error=0.1554\n",
      "[flaml.automl.logger: 03-14 17:33:14] {2218} INFO - iteration 793, current learner lgbm\n",
      "[flaml.automl.logger: 03-14 17:33:14] {2391} INFO -  at 178.4s,\testimator lgbm's best error=0.1554,\tbest estimator lgbm's best error=0.1554\n",
      "[flaml.automl.logger: 03-14 17:33:14] {2218} INFO - iteration 794, current learner lgbm\n",
      "[flaml.automl.logger: 03-14 17:33:14] {2391} INFO -  at 178.7s,\testimator lgbm's best error=0.1554,\tbest estimator lgbm's best error=0.1554\n",
      "[flaml.automl.logger: 03-14 17:33:14] {2218} INFO - iteration 795, current learner lgbm\n",
      "[flaml.automl.logger: 03-14 17:33:15] {2391} INFO -  at 178.9s,\testimator lgbm's best error=0.1554,\tbest estimator lgbm's best error=0.1554\n",
      "[flaml.automl.logger: 03-14 17:33:15] {2218} INFO - iteration 796, current learner lgbm\n",
      "[flaml.automl.logger: 03-14 17:33:15] {2391} INFO -  at 179.1s,\testimator lgbm's best error=0.1554,\tbest estimator lgbm's best error=0.1554\n",
      "[flaml.automl.logger: 03-14 17:33:15] {2218} INFO - iteration 797, current learner lgbm\n",
      "[flaml.automl.logger: 03-14 17:33:15] {2391} INFO -  at 179.3s,\testimator lgbm's best error=0.1554,\tbest estimator lgbm's best error=0.1554\n",
      "[flaml.automl.logger: 03-14 17:33:15] {2218} INFO - iteration 798, current learner lgbm\n",
      "[flaml.automl.logger: 03-14 17:33:15] {2391} INFO -  at 179.5s,\testimator lgbm's best error=0.1554,\tbest estimator lgbm's best error=0.1554\n",
      "[flaml.automl.logger: 03-14 17:33:15] {2218} INFO - iteration 799, current learner lgbm\n",
      "[flaml.automl.logger: 03-14 17:33:15] {2391} INFO -  at 179.7s,\testimator lgbm's best error=0.1554,\tbest estimator lgbm's best error=0.1554\n",
      "[flaml.automl.logger: 03-14 17:33:15] {2218} INFO - iteration 800, current learner lgbm\n",
      "[flaml.automl.logger: 03-14 17:33:16] {2391} INFO -  at 179.9s,\testimator lgbm's best error=0.1554,\tbest estimator lgbm's best error=0.1554\n",
      "[flaml.automl.logger: 03-14 17:33:16] {2627} INFO - retrain lgbm for 0.0s\n",
      "[flaml.automl.logger: 03-14 17:33:16] {2630} INFO - retrained model: LGBMClassifier(learning_rate=0.42071955703729375, max_bin=127,\n",
      "               min_child_samples=46, n_estimators=41, num_leaves=11,\n",
      "               reg_alpha=0.03860605267173615, reg_lambda=0.6216802488529724,\n",
      "               scale_pos_weight=3.2983870967741935, verbose=-1)\n",
      "[flaml.automl.logger: 03-14 17:33:16] {1930} INFO - fit succeeded\n",
      "[flaml.automl.logger: 03-14 17:33:16] {1931} INFO - Time taken to find the best model: 81.44561290740967\n",
      "Best hyperparmeter config: {'n_estimators': 41, 'num_leaves': 11, 'min_child_samples': 46, 'learning_rate': 0.42071955703729375, 'log_max_bin': 7, 'colsample_bytree': 1.0, 'reg_alpha': 0.03860605267173615, 'reg_lambda': 0.6216802488529724, 'scale_pos_weight': 3.2983870967741935}\n",
      "Best metric on validation data: 0.8446\n",
      "Training duration of best run: 0.03465 s\n",
      "2\n",
      "['Falkenberg']\n",
      "['Germany']\n",
      "Before re-sampling\n",
      "Normal counts =  1285\n",
      "Extreme counts =  351\n",
      "Imbalance degree =  3.660968660968661\n",
      "[flaml.automl.logger: 03-14 17:33:16] {1679} INFO - task = classification\n",
      "[flaml.automl.logger: 03-14 17:33:16] {1690} INFO - Evaluation method: cv\n",
      "[flaml.automl.logger: 03-14 17:33:16] {1788} INFO - Minimizing error metric: 1-f1\n",
      "[flaml.automl.logger: 03-14 17:33:16] {1900} INFO - List of ML learners in AutoML Run: ['lgbm']\n",
      "[flaml.automl.logger: 03-14 17:33:16] {2218} INFO - iteration 0, current learner lgbm\n",
      "[flaml.automl.logger: 03-14 17:33:16] {2344} INFO - Estimated sufficient time budget=1021s. Estimated necessary time budget=1s.\n",
      "[flaml.automl.logger: 03-14 17:33:16] {2391} INFO -  at 0.1s,\testimator lgbm's best error=1.0000,\tbest estimator lgbm's best error=1.0000\n",
      "[flaml.automl.logger: 03-14 17:33:16] {2218} INFO - iteration 1, current learner lgbm\n",
      "[flaml.automl.logger: 03-14 17:33:16] {2391} INFO -  at 0.3s,\testimator lgbm's best error=1.0000,\tbest estimator lgbm's best error=1.0000\n",
      "[flaml.automl.logger: 03-14 17:33:16] {2218} INFO - iteration 2, current learner lgbm\n",
      "[flaml.automl.logger: 03-14 17:33:16] {2391} INFO -  at 0.4s,\testimator lgbm's best error=0.2609,\tbest estimator lgbm's best error=0.2609\n",
      "[flaml.automl.logger: 03-14 17:33:16] {2218} INFO - iteration 3, current learner lgbm\n",
      "[flaml.automl.logger: 03-14 17:33:17] {2391} INFO -  at 0.6s,\testimator lgbm's best error=0.2551,\tbest estimator lgbm's best error=0.2551\n",
      "[flaml.automl.logger: 03-14 17:33:17] {2218} INFO - iteration 4, current learner lgbm\n",
      "[flaml.automl.logger: 03-14 17:33:17] {2391} INFO -  at 0.8s,\testimator lgbm's best error=0.2551,\tbest estimator lgbm's best error=0.2551\n",
      "[flaml.automl.logger: 03-14 17:33:17] {2218} INFO - iteration 5, current learner lgbm\n",
      "[flaml.automl.logger: 03-14 17:33:17] {2391} INFO -  at 1.0s,\testimator lgbm's best error=0.2551,\tbest estimator lgbm's best error=0.2551\n",
      "[flaml.automl.logger: 03-14 17:33:17] {2218} INFO - iteration 6, current learner lgbm\n",
      "[flaml.automl.logger: 03-14 17:33:17] {2391} INFO -  at 1.2s,\testimator lgbm's best error=0.2504,\tbest estimator lgbm's best error=0.2504\n",
      "[flaml.automl.logger: 03-14 17:33:17] {2218} INFO - iteration 7, current learner lgbm\n",
      "[flaml.automl.logger: 03-14 17:33:17] {2391} INFO -  at 1.3s,\testimator lgbm's best error=0.2423,\tbest estimator lgbm's best error=0.2423\n",
      "[flaml.automl.logger: 03-14 17:33:17] {2218} INFO - iteration 8, current learner lgbm\n",
      "[flaml.automl.logger: 03-14 17:33:17] {2391} INFO -  at 1.4s,\testimator lgbm's best error=0.2423,\tbest estimator lgbm's best error=0.2423\n",
      "[flaml.automl.logger: 03-14 17:33:17] {2218} INFO - iteration 9, current learner lgbm\n",
      "[flaml.automl.logger: 03-14 17:33:18] {2391} INFO -  at 1.6s,\testimator lgbm's best error=0.2226,\tbest estimator lgbm's best error=0.2226\n",
      "[flaml.automl.logger: 03-14 17:33:18] {2218} INFO - iteration 10, current learner lgbm\n",
      "[flaml.automl.logger: 03-14 17:33:18] {2391} INFO -  at 1.7s,\testimator lgbm's best error=0.2226,\tbest estimator lgbm's best error=0.2226\n",
      "[flaml.automl.logger: 03-14 17:33:18] {2218} INFO - iteration 11, current learner lgbm\n",
      "[flaml.automl.logger: 03-14 17:33:18] {2391} INFO -  at 2.0s,\testimator lgbm's best error=0.2226,\tbest estimator lgbm's best error=0.2226\n",
      "[flaml.automl.logger: 03-14 17:33:18] {2218} INFO - iteration 12, current learner lgbm\n",
      "[flaml.automl.logger: 03-14 17:33:18] {2391} INFO -  at 2.2s,\testimator lgbm's best error=0.2226,\tbest estimator lgbm's best error=0.2226\n",
      "[flaml.automl.logger: 03-14 17:33:18] {2218} INFO - iteration 13, current learner lgbm\n",
      "[flaml.automl.logger: 03-14 17:33:18] {2391} INFO -  at 2.4s,\testimator lgbm's best error=0.2226,\tbest estimator lgbm's best error=0.2226\n",
      "[flaml.automl.logger: 03-14 17:33:18] {2218} INFO - iteration 14, current learner lgbm\n",
      "[flaml.automl.logger: 03-14 17:33:18] {2391} INFO -  at 2.5s,\testimator lgbm's best error=0.2226,\tbest estimator lgbm's best error=0.2226\n",
      "[flaml.automl.logger: 03-14 17:33:18] {2218} INFO - iteration 15, current learner lgbm\n",
      "[flaml.automl.logger: 03-14 17:33:19] {2391} INFO -  at 2.6s,\testimator lgbm's best error=0.2226,\tbest estimator lgbm's best error=0.2226\n",
      "[flaml.automl.logger: 03-14 17:33:19] {2218} INFO - iteration 16, current learner lgbm\n",
      "[flaml.automl.logger: 03-14 17:33:19] {2391} INFO -  at 2.9s,\testimator lgbm's best error=0.2152,\tbest estimator lgbm's best error=0.2152\n",
      "[flaml.automl.logger: 03-14 17:33:19] {2218} INFO - iteration 17, current learner lgbm\n",
      "[flaml.automl.logger: 03-14 17:33:19] {2391} INFO -  at 3.1s,\testimator lgbm's best error=0.2152,\tbest estimator lgbm's best error=0.2152\n",
      "[flaml.automl.logger: 03-14 17:33:19] {2218} INFO - iteration 18, current learner lgbm\n",
      "[flaml.automl.logger: 03-14 17:33:19] {2391} INFO -  at 3.3s,\testimator lgbm's best error=0.2152,\tbest estimator lgbm's best error=0.2152\n",
      "[flaml.automl.logger: 03-14 17:33:19] {2218} INFO - iteration 19, current learner lgbm\n",
      "[flaml.automl.logger: 03-14 17:33:19] {2391} INFO -  at 3.5s,\testimator lgbm's best error=0.2152,\tbest estimator lgbm's best error=0.2152\n",
      "[flaml.automl.logger: 03-14 17:33:19] {2218} INFO - iteration 20, current learner lgbm\n",
      "[flaml.automl.logger: 03-14 17:33:20] {2391} INFO -  at 3.9s,\testimator lgbm's best error=0.2110,\tbest estimator lgbm's best error=0.2110\n",
      "[flaml.automl.logger: 03-14 17:33:20] {2218} INFO - iteration 21, current learner lgbm\n",
      "[flaml.automl.logger: 03-14 17:33:20] {2391} INFO -  at 4.2s,\testimator lgbm's best error=0.2110,\tbest estimator lgbm's best error=0.2110\n",
      "[flaml.automl.logger: 03-14 17:33:20] {2218} INFO - iteration 22, current learner lgbm\n",
      "[flaml.automl.logger: 03-14 17:33:20] {2391} INFO -  at 4.5s,\testimator lgbm's best error=0.2110,\tbest estimator lgbm's best error=0.2110\n",
      "[flaml.automl.logger: 03-14 17:33:20] {2218} INFO - iteration 23, current learner lgbm\n",
      "[flaml.automl.logger: 03-14 17:33:22] {2391} INFO -  at 5.9s,\testimator lgbm's best error=0.1975,\tbest estimator lgbm's best error=0.1975\n",
      "[flaml.automl.logger: 03-14 17:33:22] {2218} INFO - iteration 24, current learner lgbm\n",
      "[flaml.automl.logger: 03-14 17:33:22] {2391} INFO -  at 6.2s,\testimator lgbm's best error=0.1975,\tbest estimator lgbm's best error=0.1975\n",
      "[flaml.automl.logger: 03-14 17:33:22] {2218} INFO - iteration 25, current learner lgbm\n",
      "[flaml.automl.logger: 03-14 17:33:24] {2391} INFO -  at 7.6s,\testimator lgbm's best error=0.1936,\tbest estimator lgbm's best error=0.1936\n",
      "[flaml.automl.logger: 03-14 17:33:24] {2218} INFO - iteration 26, current learner lgbm\n",
      "[flaml.automl.logger: 03-14 17:33:24] {2391} INFO -  at 8.4s,\testimator lgbm's best error=0.1936,\tbest estimator lgbm's best error=0.1936\n",
      "[flaml.automl.logger: 03-14 17:33:24] {2218} INFO - iteration 27, current learner lgbm\n",
      "[flaml.automl.logger: 03-14 17:33:26] {2391} INFO -  at 10.3s,\testimator lgbm's best error=0.1892,\tbest estimator lgbm's best error=0.1892\n",
      "[flaml.automl.logger: 03-14 17:33:26] {2218} INFO - iteration 28, current learner lgbm\n",
      "[flaml.automl.logger: 03-14 17:33:28] {2391} INFO -  at 11.8s,\testimator lgbm's best error=0.1892,\tbest estimator lgbm's best error=0.1892\n",
      "[flaml.automl.logger: 03-14 17:33:28] {2218} INFO - iteration 29, current learner lgbm\n",
      "[flaml.automl.logger: 03-14 17:33:29] {2391} INFO -  at 13.6s,\testimator lgbm's best error=0.1892,\tbest estimator lgbm's best error=0.1892\n",
      "[flaml.automl.logger: 03-14 17:33:29] {2218} INFO - iteration 30, current learner lgbm\n",
      "[flaml.automl.logger: 03-14 17:33:31] {2391} INFO -  at 15.1s,\testimator lgbm's best error=0.1881,\tbest estimator lgbm's best error=0.1881\n",
      "[flaml.automl.logger: 03-14 17:33:31] {2218} INFO - iteration 31, current learner lgbm\n",
      "[flaml.automl.logger: 03-14 17:33:33] {2391} INFO -  at 16.7s,\testimator lgbm's best error=0.1881,\tbest estimator lgbm's best error=0.1881\n",
      "[flaml.automl.logger: 03-14 17:33:33] {2218} INFO - iteration 32, current learner lgbm\n",
      "[flaml.automl.logger: 03-14 17:33:34] {2391} INFO -  at 18.2s,\testimator lgbm's best error=0.1881,\tbest estimator lgbm's best error=0.1881\n",
      "[flaml.automl.logger: 03-14 17:33:34] {2218} INFO - iteration 33, current learner lgbm\n",
      "[flaml.automl.logger: 03-14 17:33:35] {2391} INFO -  at 19.2s,\testimator lgbm's best error=0.1881,\tbest estimator lgbm's best error=0.1881\n",
      "[flaml.automl.logger: 03-14 17:33:35] {2218} INFO - iteration 34, current learner lgbm\n",
      "[flaml.automl.logger: 03-14 17:33:37] {2391} INFO -  at 21.3s,\testimator lgbm's best error=0.1881,\tbest estimator lgbm's best error=0.1881\n",
      "[flaml.automl.logger: 03-14 17:33:37] {2218} INFO - iteration 35, current learner lgbm\n",
      "[flaml.automl.logger: 03-14 17:33:38] {2391} INFO -  at 22.0s,\testimator lgbm's best error=0.1881,\tbest estimator lgbm's best error=0.1881\n",
      "[flaml.automl.logger: 03-14 17:33:38] {2218} INFO - iteration 36, current learner lgbm\n",
      "[flaml.automl.logger: 03-14 17:33:41] {2391} INFO -  at 24.7s,\testimator lgbm's best error=0.1881,\tbest estimator lgbm's best error=0.1881\n",
      "[flaml.automl.logger: 03-14 17:33:41] {2218} INFO - iteration 37, current learner lgbm\n",
      "[flaml.automl.logger: 03-14 17:33:43] {2391} INFO -  at 27.3s,\testimator lgbm's best error=0.1881,\tbest estimator lgbm's best error=0.1881\n",
      "[flaml.automl.logger: 03-14 17:33:43] {2218} INFO - iteration 38, current learner lgbm\n",
      "[flaml.automl.logger: 03-14 17:33:44] {2391} INFO -  at 28.1s,\testimator lgbm's best error=0.1881,\tbest estimator lgbm's best error=0.1881\n",
      "[flaml.automl.logger: 03-14 17:33:44] {2218} INFO - iteration 39, current learner lgbm\n",
      "[flaml.automl.logger: 03-14 17:33:47] {2391} INFO -  at 30.6s,\testimator lgbm's best error=0.1881,\tbest estimator lgbm's best error=0.1881\n",
      "[flaml.automl.logger: 03-14 17:33:47] {2218} INFO - iteration 40, current learner lgbm\n",
      "[flaml.automl.logger: 03-14 17:33:47] {2391} INFO -  at 31.3s,\testimator lgbm's best error=0.1881,\tbest estimator lgbm's best error=0.1881\n",
      "[flaml.automl.logger: 03-14 17:33:47] {2218} INFO - iteration 41, current learner lgbm\n",
      "[flaml.automl.logger: 03-14 17:33:48] {2391} INFO -  at 32.1s,\testimator lgbm's best error=0.1881,\tbest estimator lgbm's best error=0.1881\n",
      "[flaml.automl.logger: 03-14 17:33:48] {2218} INFO - iteration 42, current learner lgbm\n",
      "[flaml.automl.logger: 03-14 17:33:50] {2391} INFO -  at 34.3s,\testimator lgbm's best error=0.1881,\tbest estimator lgbm's best error=0.1881\n",
      "[flaml.automl.logger: 03-14 17:33:50] {2218} INFO - iteration 43, current learner lgbm\n",
      "[flaml.automl.logger: 03-14 17:33:51] {2391} INFO -  at 34.8s,\testimator lgbm's best error=0.1881,\tbest estimator lgbm's best error=0.1881\n",
      "[flaml.automl.logger: 03-14 17:33:51] {2218} INFO - iteration 44, current learner lgbm\n",
      "[flaml.automl.logger: 03-14 17:33:54] {2391} INFO -  at 37.9s,\testimator lgbm's best error=0.1881,\tbest estimator lgbm's best error=0.1881\n",
      "[flaml.automl.logger: 03-14 17:33:54] {2218} INFO - iteration 45, current learner lgbm\n",
      "[flaml.automl.logger: 03-14 17:33:55] {2391} INFO -  at 38.7s,\testimator lgbm's best error=0.1881,\tbest estimator lgbm's best error=0.1881\n",
      "[flaml.automl.logger: 03-14 17:33:55] {2218} INFO - iteration 46, current learner lgbm\n",
      "[flaml.automl.logger: 03-14 17:33:57] {2391} INFO -  at 41.1s,\testimator lgbm's best error=0.1852,\tbest estimator lgbm's best error=0.1852\n",
      "[flaml.automl.logger: 03-14 17:33:57] {2218} INFO - iteration 47, current learner lgbm\n",
      "[flaml.automl.logger: 03-14 17:33:58] {2391} INFO -  at 42.3s,\testimator lgbm's best error=0.1852,\tbest estimator lgbm's best error=0.1852\n",
      "[flaml.automl.logger: 03-14 17:33:58] {2218} INFO - iteration 48, current learner lgbm\n",
      "[flaml.automl.logger: 03-14 17:34:01] {2391} INFO -  at 45.1s,\testimator lgbm's best error=0.1852,\tbest estimator lgbm's best error=0.1852\n",
      "[flaml.automl.logger: 03-14 17:34:01] {2218} INFO - iteration 49, current learner lgbm\n",
      "[flaml.automl.logger: 03-14 17:34:02] {2391} INFO -  at 46.4s,\testimator lgbm's best error=0.1852,\tbest estimator lgbm's best error=0.1852\n",
      "[flaml.automl.logger: 03-14 17:34:02] {2218} INFO - iteration 50, current learner lgbm\n",
      "[flaml.automl.logger: 03-14 17:34:07] {2391} INFO -  at 50.7s,\testimator lgbm's best error=0.1852,\tbest estimator lgbm's best error=0.1852\n",
      "[flaml.automl.logger: 03-14 17:34:07] {2218} INFO - iteration 51, current learner lgbm\n",
      "[flaml.automl.logger: 03-14 17:34:09] {2391} INFO -  at 53.0s,\testimator lgbm's best error=0.1852,\tbest estimator lgbm's best error=0.1852\n",
      "[flaml.automl.logger: 03-14 17:34:09] {2218} INFO - iteration 52, current learner lgbm\n",
      "[flaml.automl.logger: 03-14 17:34:12] {2391} INFO -  at 55.6s,\testimator lgbm's best error=0.1852,\tbest estimator lgbm's best error=0.1852\n",
      "[flaml.automl.logger: 03-14 17:34:12] {2218} INFO - iteration 53, current learner lgbm\n",
      "[flaml.automl.logger: 03-14 17:34:12] {2391} INFO -  at 56.5s,\testimator lgbm's best error=0.1852,\tbest estimator lgbm's best error=0.1852\n",
      "[flaml.automl.logger: 03-14 17:34:12] {2218} INFO - iteration 54, current learner lgbm\n",
      "[flaml.automl.logger: 03-14 17:34:14] {2391} INFO -  at 57.6s,\testimator lgbm's best error=0.1852,\tbest estimator lgbm's best error=0.1852\n",
      "[flaml.automl.logger: 03-14 17:34:14] {2218} INFO - iteration 55, current learner lgbm\n",
      "[flaml.automl.logger: 03-14 17:34:15] {2391} INFO -  at 59.6s,\testimator lgbm's best error=0.1852,\tbest estimator lgbm's best error=0.1852\n",
      "[flaml.automl.logger: 03-14 17:34:15] {2218} INFO - iteration 56, current learner lgbm\n",
      "[flaml.automl.logger: 03-14 17:34:17] {2391} INFO -  at 61.0s,\testimator lgbm's best error=0.1852,\tbest estimator lgbm's best error=0.1852\n",
      "[flaml.automl.logger: 03-14 17:34:17] {2218} INFO - iteration 57, current learner lgbm\n",
      "[flaml.automl.logger: 03-14 17:34:18] {2391} INFO -  at 61.9s,\testimator lgbm's best error=0.1852,\tbest estimator lgbm's best error=0.1852\n",
      "[flaml.automl.logger: 03-14 17:34:18] {2218} INFO - iteration 58, current learner lgbm\n",
      "[flaml.automl.logger: 03-14 17:34:23] {2391} INFO -  at 67.4s,\testimator lgbm's best error=0.1852,\tbest estimator lgbm's best error=0.1852\n",
      "[flaml.automl.logger: 03-14 17:34:23] {2218} INFO - iteration 59, current learner lgbm\n",
      "[flaml.automl.logger: 03-14 17:34:24] {2391} INFO -  at 68.2s,\testimator lgbm's best error=0.1852,\tbest estimator lgbm's best error=0.1852\n",
      "[flaml.automl.logger: 03-14 17:34:24] {2218} INFO - iteration 60, current learner lgbm\n",
      "[flaml.automl.logger: 03-14 17:34:28] {2391} INFO -  at 72.2s,\testimator lgbm's best error=0.1852,\tbest estimator lgbm's best error=0.1852\n",
      "[flaml.automl.logger: 03-14 17:34:28] {2218} INFO - iteration 61, current learner lgbm\n",
      "[flaml.automl.logger: 03-14 17:34:33] {2391} INFO -  at 76.9s,\testimator lgbm's best error=0.1838,\tbest estimator lgbm's best error=0.1838\n",
      "[flaml.automl.logger: 03-14 17:34:33] {2218} INFO - iteration 62, current learner lgbm\n",
      "[flaml.automl.logger: 03-14 17:34:35] {2391} INFO -  at 79.4s,\testimator lgbm's best error=0.1838,\tbest estimator lgbm's best error=0.1838\n",
      "[flaml.automl.logger: 03-14 17:34:35] {2218} INFO - iteration 63, current learner lgbm\n",
      "[flaml.automl.logger: 03-14 17:34:38] {2391} INFO -  at 81.9s,\testimator lgbm's best error=0.1838,\tbest estimator lgbm's best error=0.1838\n",
      "[flaml.automl.logger: 03-14 17:34:38] {2218} INFO - iteration 64, current learner lgbm\n",
      "[flaml.automl.logger: 03-14 17:34:45] {2391} INFO -  at 89.5s,\testimator lgbm's best error=0.1838,\tbest estimator lgbm's best error=0.1838\n",
      "[flaml.automl.logger: 03-14 17:34:45] {2218} INFO - iteration 65, current learner lgbm\n",
      "[flaml.automl.logger: 03-14 17:34:48] {2391} INFO -  at 92.3s,\testimator lgbm's best error=0.1718,\tbest estimator lgbm's best error=0.1718\n",
      "[flaml.automl.logger: 03-14 17:34:48] {2218} INFO - iteration 66, current learner lgbm\n",
      "[flaml.automl.logger: 03-14 17:34:53] {2391} INFO -  at 97.0s,\testimator lgbm's best error=0.1718,\tbest estimator lgbm's best error=0.1718\n",
      "[flaml.automl.logger: 03-14 17:34:53] {2218} INFO - iteration 67, current learner lgbm\n",
      "[flaml.automl.logger: 03-14 17:34:54] {2391} INFO -  at 98.4s,\testimator lgbm's best error=0.1718,\tbest estimator lgbm's best error=0.1718\n",
      "[flaml.automl.logger: 03-14 17:34:54] {2218} INFO - iteration 68, current learner lgbm\n",
      "[flaml.automl.logger: 03-14 17:34:59] {2391} INFO -  at 103.5s,\testimator lgbm's best error=0.1718,\tbest estimator lgbm's best error=0.1718\n",
      "[flaml.automl.logger: 03-14 17:34:59] {2218} INFO - iteration 69, current learner lgbm\n",
      "[flaml.automl.logger: 03-14 17:35:01] {2391} INFO -  at 105.3s,\testimator lgbm's best error=0.1718,\tbest estimator lgbm's best error=0.1718\n",
      "[flaml.automl.logger: 03-14 17:35:01] {2218} INFO - iteration 70, current learner lgbm\n",
      "[flaml.automl.logger: 03-14 17:35:05] {2391} INFO -  at 109.4s,\testimator lgbm's best error=0.1718,\tbest estimator lgbm's best error=0.1718\n",
      "[flaml.automl.logger: 03-14 17:35:05] {2218} INFO - iteration 71, current learner lgbm\n",
      "[flaml.automl.logger: 03-14 17:35:10] {2391} INFO -  at 113.9s,\testimator lgbm's best error=0.1718,\tbest estimator lgbm's best error=0.1718\n",
      "[flaml.automl.logger: 03-14 17:35:10] {2218} INFO - iteration 72, current learner lgbm\n",
      "[flaml.automl.logger: 03-14 17:35:12] {2391} INFO -  at 116.0s,\testimator lgbm's best error=0.1718,\tbest estimator lgbm's best error=0.1718\n",
      "[flaml.automl.logger: 03-14 17:35:12] {2218} INFO - iteration 73, current learner lgbm\n",
      "[flaml.automl.logger: 03-14 17:35:15] {2391} INFO -  at 119.1s,\testimator lgbm's best error=0.1718,\tbest estimator lgbm's best error=0.1718\n",
      "[flaml.automl.logger: 03-14 17:35:15] {2218} INFO - iteration 74, current learner lgbm\n",
      "[flaml.automl.logger: 03-14 17:35:18] {2391} INFO -  at 122.1s,\testimator lgbm's best error=0.1718,\tbest estimator lgbm's best error=0.1718\n",
      "[flaml.automl.logger: 03-14 17:35:18] {2218} INFO - iteration 75, current learner lgbm\n",
      "[flaml.automl.logger: 03-14 17:35:20] {2391} INFO -  at 124.0s,\testimator lgbm's best error=0.1718,\tbest estimator lgbm's best error=0.1718\n",
      "[flaml.automl.logger: 03-14 17:35:20] {2218} INFO - iteration 76, current learner lgbm\n",
      "[flaml.automl.logger: 03-14 17:35:24] {2391} INFO -  at 127.7s,\testimator lgbm's best error=0.1718,\tbest estimator lgbm's best error=0.1718\n",
      "[flaml.automl.logger: 03-14 17:35:24] {2218} INFO - iteration 77, current learner lgbm\n",
      "[flaml.automl.logger: 03-14 17:35:27] {2391} INFO -  at 130.8s,\testimator lgbm's best error=0.1718,\tbest estimator lgbm's best error=0.1718\n",
      "[flaml.automl.logger: 03-14 17:35:27] {2218} INFO - iteration 78, current learner lgbm\n",
      "[flaml.automl.logger: 03-14 17:35:29] {2391} INFO -  at 132.6s,\testimator lgbm's best error=0.1718,\tbest estimator lgbm's best error=0.1718\n",
      "[flaml.automl.logger: 03-14 17:35:29] {2218} INFO - iteration 79, current learner lgbm\n",
      "[flaml.automl.logger: 03-14 17:35:37] {2391} INFO -  at 140.9s,\testimator lgbm's best error=0.1718,\tbest estimator lgbm's best error=0.1718\n",
      "[flaml.automl.logger: 03-14 17:35:37] {2218} INFO - iteration 80, current learner lgbm\n",
      "[flaml.automl.logger: 03-14 17:35:39] {2391} INFO -  at 143.1s,\testimator lgbm's best error=0.1718,\tbest estimator lgbm's best error=0.1718\n",
      "[flaml.automl.logger: 03-14 17:35:39] {2218} INFO - iteration 81, current learner lgbm\n",
      "[flaml.automl.logger: 03-14 17:35:50] {2391} INFO -  at 154.5s,\testimator lgbm's best error=0.1718,\tbest estimator lgbm's best error=0.1718\n",
      "[flaml.automl.logger: 03-14 17:35:50] {2218} INFO - iteration 82, current learner lgbm\n",
      "[flaml.automl.logger: 03-14 17:35:52] {2391} INFO -  at 156.3s,\testimator lgbm's best error=0.1718,\tbest estimator lgbm's best error=0.1718\n",
      "[flaml.automl.logger: 03-14 17:35:52] {2218} INFO - iteration 83, current learner lgbm\n",
      "[flaml.automl.logger: 03-14 17:35:55] {2391} INFO -  at 159.2s,\testimator lgbm's best error=0.1718,\tbest estimator lgbm's best error=0.1718\n",
      "[flaml.automl.logger: 03-14 17:35:55] {2218} INFO - iteration 84, current learner lgbm\n",
      "[flaml.automl.logger: 03-14 17:36:00] {2391} INFO -  at 164.2s,\testimator lgbm's best error=0.1718,\tbest estimator lgbm's best error=0.1718\n",
      "[flaml.automl.logger: 03-14 17:36:00] {2218} INFO - iteration 85, current learner lgbm\n",
      "[flaml.automl.logger: 03-14 17:36:03] {2391} INFO -  at 167.3s,\testimator lgbm's best error=0.1718,\tbest estimator lgbm's best error=0.1718\n",
      "[flaml.automl.logger: 03-14 17:36:03] {2218} INFO - iteration 86, current learner lgbm\n",
      "[flaml.automl.logger: 03-14 17:36:12] {2391} INFO -  at 176.5s,\testimator lgbm's best error=0.1718,\tbest estimator lgbm's best error=0.1718\n",
      "[flaml.automl.logger: 03-14 17:36:12] {2218} INFO - iteration 87, current learner lgbm\n",
      "[flaml.automl.logger: 03-14 17:36:16] {2391} INFO -  at 179.7s,\testimator lgbm's best error=0.1718,\tbest estimator lgbm's best error=0.1718\n",
      "[flaml.automl.logger: 03-14 17:36:17] {2627} INFO - retrain lgbm for 1.6s\n",
      "[flaml.automl.logger: 03-14 17:36:17] {2630} INFO - retrained model: LGBMClassifier(colsample_bytree=0.8608193793754245,\n",
      "               learning_rate=0.5770900517714427, max_bin=255,\n",
      "               min_child_samples=7, n_estimators=977, num_leaves=14,\n",
      "               reg_alpha=0.014157785749806633, reg_lambda=425.0442452825645,\n",
      "               scale_pos_weight=3.660968660968661, verbose=-1)\n",
      "[flaml.automl.logger: 03-14 17:36:17] {1930} INFO - fit succeeded\n",
      "[flaml.automl.logger: 03-14 17:36:17] {1931} INFO - Time taken to find the best model: 92.3403069972992\n",
      "Best hyperparmeter config: {'n_estimators': 977, 'num_leaves': 14, 'min_child_samples': 7, 'learning_rate': 0.5770900517714427, 'log_max_bin': 8, 'colsample_bytree': 0.8608193793754245, 'reg_alpha': 0.014157785749806633, 'reg_lambda': 425.0442452825645, 'scale_pos_weight': 3.660968660968661}\n",
      "Best metric on validation data: 0.8282\n",
      "Training duration of best run: 1.568 s\n",
      "3\n",
      "['Chaumont']\n",
      "['Switzerland']\n",
      "Before re-sampling\n",
      "Normal counts =  4721\n",
      "Extreme counts =  2432\n",
      "Imbalance degree =  1.941200657894737\n",
      "[flaml.automl.logger: 03-14 17:36:18] {1679} INFO - task = classification\n",
      "[flaml.automl.logger: 03-14 17:36:18] {1690} INFO - Evaluation method: cv\n",
      "[flaml.automl.logger: 03-14 17:36:18] {1788} INFO - Minimizing error metric: 1-f1\n",
      "[flaml.automl.logger: 03-14 17:36:18] {1900} INFO - List of ML learners in AutoML Run: ['lgbm']\n",
      "[flaml.automl.logger: 03-14 17:36:18] {2218} INFO - iteration 0, current learner lgbm\n",
      "[flaml.automl.logger: 03-14 17:36:18] {2344} INFO - Estimated sufficient time budget=2497s. Estimated necessary time budget=2s.\n",
      "[flaml.automl.logger: 03-14 17:36:18] {2391} INFO -  at 0.3s,\testimator lgbm's best error=0.3129,\tbest estimator lgbm's best error=0.3129\n",
      "[flaml.automl.logger: 03-14 17:36:18] {2218} INFO - iteration 1, current learner lgbm\n",
      "[flaml.automl.logger: 03-14 17:36:18] {2391} INFO -  at 0.6s,\testimator lgbm's best error=0.3129,\tbest estimator lgbm's best error=0.3129\n",
      "[flaml.automl.logger: 03-14 17:36:18] {2218} INFO - iteration 2, current learner lgbm\n",
      "[flaml.automl.logger: 03-14 17:36:18] {2391} INFO -  at 0.9s,\testimator lgbm's best error=0.2061,\tbest estimator lgbm's best error=0.2061\n",
      "[flaml.automl.logger: 03-14 17:36:18] {2218} INFO - iteration 3, current learner lgbm\n",
      "[flaml.automl.logger: 03-14 17:36:19] {2391} INFO -  at 1.1s,\testimator lgbm's best error=0.2061,\tbest estimator lgbm's best error=0.2061\n",
      "[flaml.automl.logger: 03-14 17:36:19] {2218} INFO - iteration 4, current learner lgbm\n",
      "[flaml.automl.logger: 03-14 17:36:19] {2391} INFO -  at 1.4s,\testimator lgbm's best error=0.2061,\tbest estimator lgbm's best error=0.2061\n",
      "[flaml.automl.logger: 03-14 17:36:19] {2218} INFO - iteration 5, current learner lgbm\n",
      "[flaml.automl.logger: 03-14 17:36:19] {2391} INFO -  at 1.7s,\testimator lgbm's best error=0.2020,\tbest estimator lgbm's best error=0.2020\n",
      "[flaml.automl.logger: 03-14 17:36:19] {2218} INFO - iteration 6, current learner lgbm\n",
      "[flaml.automl.logger: 03-14 17:36:19] {2391} INFO -  at 1.9s,\testimator lgbm's best error=0.2020,\tbest estimator lgbm's best error=0.2020\n",
      "[flaml.automl.logger: 03-14 17:36:19] {2218} INFO - iteration 7, current learner lgbm\n",
      "[flaml.automl.logger: 03-14 17:36:20] {2391} INFO -  at 2.1s,\testimator lgbm's best error=0.2020,\tbest estimator lgbm's best error=0.2020\n",
      "[flaml.automl.logger: 03-14 17:36:20] {2218} INFO - iteration 8, current learner lgbm\n",
      "[flaml.automl.logger: 03-14 17:36:20] {2391} INFO -  at 2.4s,\testimator lgbm's best error=0.2020,\tbest estimator lgbm's best error=0.2020\n",
      "[flaml.automl.logger: 03-14 17:36:20] {2218} INFO - iteration 9, current learner lgbm\n",
      "[flaml.automl.logger: 03-14 17:36:21] {2391} INFO -  at 3.0s,\testimator lgbm's best error=0.1750,\tbest estimator lgbm's best error=0.1750\n",
      "[flaml.automl.logger: 03-14 17:36:21] {2218} INFO - iteration 10, current learner lgbm\n",
      "[flaml.automl.logger: 03-14 17:36:21] {2391} INFO -  at 3.3s,\testimator lgbm's best error=0.1750,\tbest estimator lgbm's best error=0.1750\n",
      "[flaml.automl.logger: 03-14 17:36:21] {2218} INFO - iteration 11, current learner lgbm\n",
      "[flaml.automl.logger: 03-14 17:36:22] {2391} INFO -  at 4.6s,\testimator lgbm's best error=0.1722,\tbest estimator lgbm's best error=0.1722\n",
      "[flaml.automl.logger: 03-14 17:36:22] {2218} INFO - iteration 12, current learner lgbm\n",
      "[flaml.automl.logger: 03-14 17:36:23] {2391} INFO -  at 5.1s,\testimator lgbm's best error=0.1722,\tbest estimator lgbm's best error=0.1722\n",
      "[flaml.automl.logger: 03-14 17:36:23] {2218} INFO - iteration 13, current learner lgbm\n",
      "[flaml.automl.logger: 03-14 17:36:25] {2391} INFO -  at 7.1s,\testimator lgbm's best error=0.1605,\tbest estimator lgbm's best error=0.1605\n",
      "[flaml.automl.logger: 03-14 17:36:25] {2218} INFO - iteration 14, current learner lgbm\n",
      "[flaml.automl.logger: 03-14 17:36:26] {2391} INFO -  at 8.2s,\testimator lgbm's best error=0.1605,\tbest estimator lgbm's best error=0.1605\n",
      "[flaml.automl.logger: 03-14 17:36:26] {2218} INFO - iteration 15, current learner lgbm\n",
      "[flaml.automl.logger: 03-14 17:36:26] {2391} INFO -  at 8.7s,\testimator lgbm's best error=0.1605,\tbest estimator lgbm's best error=0.1605\n",
      "[flaml.automl.logger: 03-14 17:36:26] {2218} INFO - iteration 16, current learner lgbm\n",
      "[flaml.automl.logger: 03-14 17:36:30] {2391} INFO -  at 12.0s,\testimator lgbm's best error=0.1605,\tbest estimator lgbm's best error=0.1605\n",
      "[flaml.automl.logger: 03-14 17:36:30] {2218} INFO - iteration 17, current learner lgbm\n",
      "[flaml.automl.logger: 03-14 17:36:31] {2391} INFO -  at 13.2s,\testimator lgbm's best error=0.1605,\tbest estimator lgbm's best error=0.1605\n",
      "[flaml.automl.logger: 03-14 17:36:31] {2218} INFO - iteration 18, current learner lgbm\n",
      "[flaml.automl.logger: 03-14 17:36:32] {2391} INFO -  at 14.8s,\testimator lgbm's best error=0.1605,\tbest estimator lgbm's best error=0.1605\n",
      "[flaml.automl.logger: 03-14 17:36:32] {2218} INFO - iteration 19, current learner lgbm\n",
      "[flaml.automl.logger: 03-14 17:36:33] {2391} INFO -  at 15.5s,\testimator lgbm's best error=0.1605,\tbest estimator lgbm's best error=0.1605\n",
      "[flaml.automl.logger: 03-14 17:36:33] {2218} INFO - iteration 20, current learner lgbm\n",
      "[flaml.automl.logger: 03-14 17:36:35] {2391} INFO -  at 18.0s,\testimator lgbm's best error=0.1589,\tbest estimator lgbm's best error=0.1589\n",
      "[flaml.automl.logger: 03-14 17:36:35] {2218} INFO - iteration 21, current learner lgbm\n",
      "[flaml.automl.logger: 03-14 17:36:37] {2391} INFO -  at 19.4s,\testimator lgbm's best error=0.1589,\tbest estimator lgbm's best error=0.1589\n",
      "[flaml.automl.logger: 03-14 17:36:37] {2218} INFO - iteration 22, current learner lgbm\n",
      "[flaml.automl.logger: 03-14 17:36:41] {2391} INFO -  at 23.8s,\testimator lgbm's best error=0.1571,\tbest estimator lgbm's best error=0.1571\n",
      "[flaml.automl.logger: 03-14 17:36:41] {2218} INFO - iteration 23, current learner lgbm\n"
     ]
    },
    {
     "ename": "KeyboardInterrupt",
     "evalue": "",
     "output_type": "error",
     "traceback": [
      "\u001b[0;31m---------------------------------------------------------------------------\u001b[0m",
      "\u001b[0;31mKeyboardInterrupt\u001b[0m                         Traceback (most recent call last)",
      "Cell \u001b[0;32mIn[2], line 128\u001b[0m\n\u001b[1;32m    118\u001b[0m     settings[\u001b[38;5;124m\"\u001b[39m\u001b[38;5;124mcustom_hp\u001b[39m\u001b[38;5;124m\"\u001b[39m] \u001b[38;5;241m=\u001b[39m {\n\u001b[1;32m    119\u001b[0m         \u001b[38;5;124m\"\u001b[39m\u001b[38;5;124mlgbm\u001b[39m\u001b[38;5;124m\"\u001b[39m: {\n\u001b[1;32m    120\u001b[0m             \u001b[38;5;124m\"\u001b[39m\u001b[38;5;124mscale_pos_weight\u001b[39m\u001b[38;5;124m\"\u001b[39m: {\n\u001b[0;32m   (...)\u001b[0m\n\u001b[1;32m    124\u001b[0m         }\n\u001b[1;32m    125\u001b[0m     }\n\u001b[1;32m    127\u001b[0m \u001b[38;5;66;03m# The main flaml automl API\u001b[39;00m\n\u001b[0;32m--> 128\u001b[0m \u001b[43mautoml\u001b[49m\u001b[38;5;241;43m.\u001b[39;49m\u001b[43mfit\u001b[49m\u001b[43m(\u001b[49m\u001b[43mX_train\u001b[49m\u001b[38;5;241;43m=\u001b[39;49m\u001b[43mO3_training\u001b[49m\u001b[43m,\u001b[49m\u001b[43m \u001b[49m\u001b[43my_train\u001b[49m\u001b[38;5;241;43m=\u001b[39;49m\u001b[43mO3_training_labels\u001b[49m\u001b[43m,\u001b[49m\u001b[43m \u001b[49m\u001b[38;5;241;43m*\u001b[39;49m\u001b[38;5;241;43m*\u001b[39;49m\u001b[43msettings\u001b[49m\u001b[43m)\u001b[49m\n\u001b[1;32m    130\u001b[0m \u001b[38;5;66;03m# pickle and save the automl object\u001b[39;00m\n\u001b[1;32m    131\u001b[0m \u001b[38;5;28;01mwith\u001b[39;00m \u001b[38;5;28mopen\u001b[39m(\u001b[38;5;124m'\u001b[39m\u001b[38;5;124m./automl_data/\u001b[39m\u001b[38;5;124m'\u001b[39m\u001b[38;5;241m+\u001b[39mML_opt\u001b[38;5;241m+\u001b[39m\u001b[38;5;124m'\u001b[39m\u001b[38;5;124m_\u001b[39m\u001b[38;5;124m'\u001b[39m\u001b[38;5;241m+\u001b[39m\u001b[38;5;28mstr\u001b[39m(siteid_now)\u001b[38;5;241m+\u001b[39m\u001b[38;5;124m'\u001b[39m\u001b[38;5;124m.pkl\u001b[39m\u001b[38;5;124m'\u001b[39m, \u001b[38;5;124m'\u001b[39m\u001b[38;5;124mwb\u001b[39m\u001b[38;5;124m'\u001b[39m) \u001b[38;5;28;01mas\u001b[39;00m f:\n",
      "File \u001b[0;32m~/miniconda3/envs/extreme_ml/lib/python3.9/site-packages/flaml/automl/automl.py:1928\u001b[0m, in \u001b[0;36mAutoML.fit\u001b[0;34m(self, X_train, y_train, dataframe, label, metric, task, n_jobs, log_file_name, estimator_list, time_budget, max_iter, sample, ensemble, eval_method, log_type, model_history, split_ratio, n_splits, log_training_metric, mem_thres, pred_time_limit, train_time_limit, X_val, y_val, sample_weight_val, groups_val, groups, verbose, retrain_full, split_type, learner_selector, hpo_method, starting_points, seed, n_concurrent_trials, keep_search_state, preserve_checkpoint, early_stop, force_cancel, append_log, auto_augment, min_sample_size, use_ray, use_spark, free_mem_ratio, metric_constraints, custom_hp, time_col, cv_score_agg_func, skip_transform, mlflow_logging, fit_kwargs_by_estimator, **fit_kwargs)\u001b[0m\n\u001b[1;32m   1926\u001b[0m \u001b[38;5;28;01melse\u001b[39;00m:\n\u001b[1;32m   1927\u001b[0m     \u001b[38;5;28mself\u001b[39m\u001b[38;5;241m.\u001b[39m_training_log \u001b[38;5;241m=\u001b[39m \u001b[38;5;28;01mNone\u001b[39;00m\n\u001b[0;32m-> 1928\u001b[0m     \u001b[38;5;28;43mself\u001b[39;49m\u001b[38;5;241;43m.\u001b[39;49m\u001b[43m_search\u001b[49m\u001b[43m(\u001b[49m\u001b[43m)\u001b[49m\n\u001b[1;32m   1929\u001b[0m \u001b[38;5;28;01mif\u001b[39;00m \u001b[38;5;28mself\u001b[39m\u001b[38;5;241m.\u001b[39m_best_estimator:\n\u001b[1;32m   1930\u001b[0m     logger\u001b[38;5;241m.\u001b[39minfo(\u001b[38;5;124m\"\u001b[39m\u001b[38;5;124mfit succeeded\u001b[39m\u001b[38;5;124m\"\u001b[39m)\n",
      "File \u001b[0;32m~/miniconda3/envs/extreme_ml/lib/python3.9/site-packages/flaml/automl/automl.py:2482\u001b[0m, in \u001b[0;36mAutoML._search\u001b[0;34m(self)\u001b[0m\n\u001b[1;32m   2480\u001b[0m     state\u001b[38;5;241m.\u001b[39mbest_config \u001b[38;5;241m=\u001b[39m state\u001b[38;5;241m.\u001b[39minit_config[\u001b[38;5;241m0\u001b[39m] \u001b[38;5;28;01mif\u001b[39;00m state\u001b[38;5;241m.\u001b[39minit_config \u001b[38;5;28;01melse\u001b[39;00m {}\n\u001b[1;32m   2481\u001b[0m \u001b[38;5;28;01melif\u001b[39;00m \u001b[38;5;28mself\u001b[39m\u001b[38;5;241m.\u001b[39m_use_ray \u001b[38;5;129;01mis\u001b[39;00m \u001b[38;5;28;01mFalse\u001b[39;00m \u001b[38;5;129;01mand\u001b[39;00m \u001b[38;5;28mself\u001b[39m\u001b[38;5;241m.\u001b[39m_use_spark \u001b[38;5;129;01mis\u001b[39;00m \u001b[38;5;28;01mFalse\u001b[39;00m:\n\u001b[0;32m-> 2482\u001b[0m     \u001b[38;5;28;43mself\u001b[39;49m\u001b[38;5;241;43m.\u001b[39;49m\u001b[43m_search_sequential\u001b[49m\u001b[43m(\u001b[49m\u001b[43m)\u001b[49m\n\u001b[1;32m   2483\u001b[0m \u001b[38;5;28;01melse\u001b[39;00m:\n\u001b[1;32m   2484\u001b[0m     \u001b[38;5;28mself\u001b[39m\u001b[38;5;241m.\u001b[39m_search_parallel()\n",
      "File \u001b[0;32m~/miniconda3/envs/extreme_ml/lib/python3.9/site-packages/flaml/automl/automl.py:2318\u001b[0m, in \u001b[0;36mAutoML._search_sequential\u001b[0;34m(self)\u001b[0m\n\u001b[1;32m   2312\u001b[0m         search_state\u001b[38;5;241m.\u001b[39msearch_alg\u001b[38;5;241m.\u001b[39msearcher\u001b[38;5;241m.\u001b[39mset_search_properties(\n\u001b[1;32m   2313\u001b[0m             metric\u001b[38;5;241m=\u001b[39m\u001b[38;5;28;01mNone\u001b[39;00m,\n\u001b[1;32m   2314\u001b[0m             mode\u001b[38;5;241m=\u001b[39m\u001b[38;5;28;01mNone\u001b[39;00m,\n\u001b[1;32m   2315\u001b[0m             metric_target\u001b[38;5;241m=\u001b[39m\u001b[38;5;28mself\u001b[39m\u001b[38;5;241m.\u001b[39m_state\u001b[38;5;241m.\u001b[39mbest_loss,\n\u001b[1;32m   2316\u001b[0m         )\n\u001b[1;32m   2317\u001b[0m start_run_time \u001b[38;5;241m=\u001b[39m time\u001b[38;5;241m.\u001b[39mtime()\n\u001b[0;32m-> 2318\u001b[0m analysis \u001b[38;5;241m=\u001b[39m \u001b[43mtune\u001b[49m\u001b[38;5;241;43m.\u001b[39;49m\u001b[43mrun\u001b[49m\u001b[43m(\u001b[49m\n\u001b[1;32m   2319\u001b[0m \u001b[43m    \u001b[49m\u001b[43msearch_state\u001b[49m\u001b[38;5;241;43m.\u001b[39;49m\u001b[43mtraining_function\u001b[49m\u001b[43m,\u001b[49m\n\u001b[1;32m   2320\u001b[0m \u001b[43m    \u001b[49m\u001b[43msearch_alg\u001b[49m\u001b[38;5;241;43m=\u001b[39;49m\u001b[43msearch_state\u001b[49m\u001b[38;5;241;43m.\u001b[39;49m\u001b[43msearch_alg\u001b[49m\u001b[43m,\u001b[49m\n\u001b[1;32m   2321\u001b[0m \u001b[43m    \u001b[49m\u001b[43mtime_budget_s\u001b[49m\u001b[38;5;241;43m=\u001b[39;49m\u001b[43mtime_budget_s\u001b[49m\u001b[43m,\u001b[49m\n\u001b[1;32m   2322\u001b[0m \u001b[43m    \u001b[49m\u001b[43mverbose\u001b[49m\u001b[38;5;241;43m=\u001b[39;49m\u001b[38;5;28;43mmax\u001b[39;49m\u001b[43m(\u001b[49m\u001b[38;5;28;43mself\u001b[39;49m\u001b[38;5;241;43m.\u001b[39;49m\u001b[43mverbose\u001b[49m\u001b[43m \u001b[49m\u001b[38;5;241;43m-\u001b[39;49m\u001b[43m \u001b[49m\u001b[38;5;241;43m3\u001b[39;49m\u001b[43m,\u001b[49m\u001b[43m \u001b[49m\u001b[38;5;241;43m0\u001b[39;49m\u001b[43m)\u001b[49m\u001b[43m,\u001b[49m\n\u001b[1;32m   2323\u001b[0m \u001b[43m    \u001b[49m\u001b[43muse_ray\u001b[49m\u001b[38;5;241;43m=\u001b[39;49m\u001b[38;5;28;43;01mFalse\u001b[39;49;00m\u001b[43m,\u001b[49m\n\u001b[1;32m   2324\u001b[0m \u001b[43m    \u001b[49m\u001b[43muse_spark\u001b[49m\u001b[38;5;241;43m=\u001b[39;49m\u001b[38;5;28;43;01mFalse\u001b[39;49;00m\u001b[43m,\u001b[49m\n\u001b[1;32m   2325\u001b[0m \u001b[43m\u001b[49m\u001b[43m)\u001b[49m\n\u001b[1;32m   2326\u001b[0m time_used \u001b[38;5;241m=\u001b[39m time\u001b[38;5;241m.\u001b[39mtime() \u001b[38;5;241m-\u001b[39m start_run_time\n\u001b[1;32m   2327\u001b[0m better \u001b[38;5;241m=\u001b[39m \u001b[38;5;28;01mFalse\u001b[39;00m\n",
      "File \u001b[0;32m~/miniconda3/envs/extreme_ml/lib/python3.9/site-packages/flaml/tune/tune.py:808\u001b[0m, in \u001b[0;36mrun\u001b[0;34m(evaluation_function, config, low_cost_partial_config, cat_hp_cost, metric, mode, time_budget_s, points_to_evaluate, evaluated_rewards, resource_attr, min_resource, max_resource, reduction_factor, scheduler, search_alg, verbose, local_dir, num_samples, resources_per_trial, config_constraints, metric_constraints, max_failure, use_ray, use_spark, use_incumbent_result_in_evaluation, log_file_name, lexico_objectives, force_cancel, n_concurrent_trials, **ray_args)\u001b[0m\n\u001b[1;32m    806\u001b[0m result \u001b[38;5;241m=\u001b[39m \u001b[38;5;28;01mNone\u001b[39;00m\n\u001b[1;32m    807\u001b[0m \u001b[38;5;28;01mwith\u001b[39;00m PySparkOvertimeMonitor(time_start, time_budget_s, force_cancel):\n\u001b[0;32m--> 808\u001b[0m     result \u001b[38;5;241m=\u001b[39m \u001b[43mevaluation_function\u001b[49m\u001b[43m(\u001b[49m\u001b[43mtrial_to_run\u001b[49m\u001b[38;5;241;43m.\u001b[39;49m\u001b[43mconfig\u001b[49m\u001b[43m)\u001b[49m\n\u001b[1;32m    809\u001b[0m \u001b[38;5;28;01mif\u001b[39;00m result \u001b[38;5;129;01mis\u001b[39;00m \u001b[38;5;129;01mnot\u001b[39;00m \u001b[38;5;28;01mNone\u001b[39;00m:\n\u001b[1;32m    810\u001b[0m     \u001b[38;5;28;01mif\u001b[39;00m \u001b[38;5;28misinstance\u001b[39m(result, \u001b[38;5;28mdict\u001b[39m):\n",
      "File \u001b[0;32m~/miniconda3/envs/extreme_ml/lib/python3.9/site-packages/flaml/automl/state.py:302\u001b[0m, in \u001b[0;36mAutoMLState._compute_with_config_base\u001b[0;34m(config_w_resource, state, estimator, is_report)\u001b[0m\n\u001b[1;32m    287\u001b[0m     \u001b[38;5;28;01mdel\u001b[39;00m config[\u001b[38;5;124m\"\u001b[39m\u001b[38;5;124mFLAML_sample_size\u001b[39m\u001b[38;5;124m\"\u001b[39m]\n\u001b[1;32m    288\u001b[0m budget \u001b[38;5;241m=\u001b[39m (\n\u001b[1;32m    289\u001b[0m     \u001b[38;5;28;01mNone\u001b[39;00m\n\u001b[1;32m    290\u001b[0m     \u001b[38;5;28;01mif\u001b[39;00m state\u001b[38;5;241m.\u001b[39mtime_budget \u001b[38;5;241m<\u001b[39m \u001b[38;5;241m0\u001b[39m\n\u001b[0;32m   (...)\u001b[0m\n\u001b[1;32m    293\u001b[0m     \u001b[38;5;28;01melse\u001b[39;00m (state\u001b[38;5;241m.\u001b[39mtime_budget \u001b[38;5;241m-\u001b[39m state\u001b[38;5;241m.\u001b[39mtime_from_start) \u001b[38;5;241m/\u001b[39m \u001b[38;5;241m2\u001b[39m \u001b[38;5;241m*\u001b[39m sample_size \u001b[38;5;241m/\u001b[39m state\u001b[38;5;241m.\u001b[39mdata_size[\u001b[38;5;241m0\u001b[39m]\n\u001b[1;32m    294\u001b[0m )\n\u001b[1;32m    296\u001b[0m (\n\u001b[1;32m    297\u001b[0m     trained_estimator,\n\u001b[1;32m    298\u001b[0m     val_loss,\n\u001b[1;32m    299\u001b[0m     metric_for_logging,\n\u001b[1;32m    300\u001b[0m     _,\n\u001b[1;32m    301\u001b[0m     pred_time,\n\u001b[0;32m--> 302\u001b[0m ) \u001b[38;5;241m=\u001b[39m \u001b[43mcompute_estimator\u001b[49m\u001b[43m(\u001b[49m\n\u001b[1;32m    303\u001b[0m \u001b[43m    \u001b[49m\u001b[43msampled_X_train\u001b[49m\u001b[43m,\u001b[49m\n\u001b[1;32m    304\u001b[0m \u001b[43m    \u001b[49m\u001b[43msampled_y_train\u001b[49m\u001b[43m,\u001b[49m\n\u001b[1;32m    305\u001b[0m \u001b[43m    \u001b[49m\u001b[43mstate\u001b[49m\u001b[38;5;241;43m.\u001b[39;49m\u001b[43mX_val\u001b[49m\u001b[43m,\u001b[49m\n\u001b[1;32m    306\u001b[0m \u001b[43m    \u001b[49m\u001b[43mstate\u001b[49m\u001b[38;5;241;43m.\u001b[39;49m\u001b[43my_val\u001b[49m\u001b[43m,\u001b[49m\n\u001b[1;32m    307\u001b[0m \u001b[43m    \u001b[49m\u001b[43mstate\u001b[49m\u001b[38;5;241;43m.\u001b[39;49m\u001b[43mweight_val\u001b[49m\u001b[43m,\u001b[49m\n\u001b[1;32m    308\u001b[0m \u001b[43m    \u001b[49m\u001b[43mstate\u001b[49m\u001b[38;5;241;43m.\u001b[39;49m\u001b[43mgroups_val\u001b[49m\u001b[43m,\u001b[49m\n\u001b[1;32m    309\u001b[0m \u001b[43m    \u001b[49m\u001b[43mstate\u001b[49m\u001b[38;5;241;43m.\u001b[39;49m\u001b[43mtrain_time_limit\u001b[49m\u001b[43m \u001b[49m\u001b[38;5;28;43;01mif\u001b[39;49;00m\u001b[43m \u001b[49m\u001b[43mbudget\u001b[49m\u001b[43m \u001b[49m\u001b[38;5;129;43;01mis\u001b[39;49;00m\u001b[43m \u001b[49m\u001b[38;5;28;43;01mNone\u001b[39;49;00m\u001b[43m \u001b[49m\u001b[38;5;28;43;01melse\u001b[39;49;00m\u001b[43m \u001b[49m\u001b[38;5;28;43mmin\u001b[39;49m\u001b[43m(\u001b[49m\u001b[43mbudget\u001b[49m\u001b[43m,\u001b[49m\u001b[43m \u001b[49m\u001b[43mstate\u001b[49m\u001b[38;5;241;43m.\u001b[39;49m\u001b[43mtrain_time_limit\u001b[49m\u001b[43m \u001b[49m\u001b[38;5;129;43;01mor\u001b[39;49;00m\u001b[43m \u001b[49m\u001b[43mnp\u001b[49m\u001b[38;5;241;43m.\u001b[39;49m\u001b[43minf\u001b[49m\u001b[43m)\u001b[49m\u001b[43m,\u001b[49m\n\u001b[1;32m    310\u001b[0m \u001b[43m    \u001b[49m\u001b[43mstate\u001b[49m\u001b[38;5;241;43m.\u001b[39;49m\u001b[43mkf\u001b[49m\u001b[43m,\u001b[49m\n\u001b[1;32m    311\u001b[0m \u001b[43m    \u001b[49m\u001b[43mconfig\u001b[49m\u001b[43m,\u001b[49m\n\u001b[1;32m    312\u001b[0m \u001b[43m    \u001b[49m\u001b[43mstate\u001b[49m\u001b[38;5;241;43m.\u001b[39;49m\u001b[43mtask\u001b[49m\u001b[43m,\u001b[49m\n\u001b[1;32m    313\u001b[0m \u001b[43m    \u001b[49m\u001b[43mestimator\u001b[49m\u001b[43m,\u001b[49m\n\u001b[1;32m    314\u001b[0m \u001b[43m    \u001b[49m\u001b[43mstate\u001b[49m\u001b[38;5;241;43m.\u001b[39;49m\u001b[43meval_method\u001b[49m\u001b[43m,\u001b[49m\n\u001b[1;32m    315\u001b[0m \u001b[43m    \u001b[49m\u001b[43mstate\u001b[49m\u001b[38;5;241;43m.\u001b[39;49m\u001b[43mmetric\u001b[49m\u001b[43m,\u001b[49m\n\u001b[1;32m    316\u001b[0m \u001b[43m    \u001b[49m\u001b[43mstate\u001b[49m\u001b[38;5;241;43m.\u001b[39;49m\u001b[43mbest_loss\u001b[49m\u001b[43m,\u001b[49m\n\u001b[1;32m    317\u001b[0m \u001b[43m    \u001b[49m\u001b[43mstate\u001b[49m\u001b[38;5;241;43m.\u001b[39;49m\u001b[43mn_jobs\u001b[49m\u001b[43m,\u001b[49m\n\u001b[1;32m    318\u001b[0m \u001b[43m    \u001b[49m\u001b[43mstate\u001b[49m\u001b[38;5;241;43m.\u001b[39;49m\u001b[43mlearner_classes\u001b[49m\u001b[38;5;241;43m.\u001b[39;49m\u001b[43mget\u001b[49m\u001b[43m(\u001b[49m\u001b[43mestimator\u001b[49m\u001b[43m)\u001b[49m\u001b[43m,\u001b[49m\n\u001b[1;32m    319\u001b[0m \u001b[43m    \u001b[49m\u001b[43mstate\u001b[49m\u001b[38;5;241;43m.\u001b[39;49m\u001b[43mcv_score_agg_func\u001b[49m\u001b[43m,\u001b[49m\n\u001b[1;32m    320\u001b[0m \u001b[43m    \u001b[49m\u001b[43mstate\u001b[49m\u001b[38;5;241;43m.\u001b[39;49m\u001b[43mlog_training_metric\u001b[49m\u001b[43m,\u001b[49m\n\u001b[1;32m    321\u001b[0m \u001b[43m    \u001b[49m\u001b[43mthis_estimator_kwargs\u001b[49m\u001b[43m,\u001b[49m\n\u001b[1;32m    322\u001b[0m \u001b[43m    \u001b[49m\u001b[43mstate\u001b[49m\u001b[38;5;241;43m.\u001b[39;49m\u001b[43mfree_mem_ratio\u001b[49m\u001b[43m,\u001b[49m\n\u001b[1;32m    323\u001b[0m \u001b[43m\u001b[49m\u001b[43m)\u001b[49m\n\u001b[1;32m    324\u001b[0m \u001b[38;5;28;01mif\u001b[39;00m state\u001b[38;5;241m.\u001b[39mretrain_final \u001b[38;5;129;01mand\u001b[39;00m \u001b[38;5;129;01mnot\u001b[39;00m state\u001b[38;5;241m.\u001b[39mmodel_history:\n\u001b[1;32m    325\u001b[0m     trained_estimator\u001b[38;5;241m.\u001b[39mcleanup()\n",
      "File \u001b[0;32m~/miniconda3/envs/extreme_ml/lib/python3.9/site-packages/flaml/automl/ml.py:369\u001b[0m, in \u001b[0;36mcompute_estimator\u001b[0;34m(X_train, y_train, X_val, y_val, weight_val, groups_val, budget, kf, config_dic, task, estimator_name, eval_method, eval_metric, best_val_loss, n_jobs, estimator_class, cv_score_agg_func, log_training_metric, fit_kwargs, free_mem_ratio)\u001b[0m\n\u001b[1;32m    351\u001b[0m     val_loss, metric_for_logging, train_time, pred_time \u001b[38;5;241m=\u001b[39m get_val_loss(\n\u001b[1;32m    352\u001b[0m         config_dic,\n\u001b[1;32m    353\u001b[0m         estimator,\n\u001b[0;32m   (...)\u001b[0m\n\u001b[1;32m    366\u001b[0m         free_mem_ratio\u001b[38;5;241m=\u001b[39m\u001b[38;5;241m0\u001b[39m,\n\u001b[1;32m    367\u001b[0m     )\n\u001b[1;32m    368\u001b[0m \u001b[38;5;28;01melse\u001b[39;00m:\n\u001b[0;32m--> 369\u001b[0m     val_loss, metric_for_logging, train_time, pred_time \u001b[38;5;241m=\u001b[39m \u001b[43mtask\u001b[49m\u001b[38;5;241;43m.\u001b[39;49m\u001b[43mevaluate_model_CV\u001b[49m\u001b[43m(\u001b[49m\n\u001b[1;32m    370\u001b[0m \u001b[43m        \u001b[49m\u001b[43mconfig_dic\u001b[49m\u001b[43m,\u001b[49m\n\u001b[1;32m    371\u001b[0m \u001b[43m        \u001b[49m\u001b[43mestimator\u001b[49m\u001b[43m,\u001b[49m\n\u001b[1;32m    372\u001b[0m \u001b[43m        \u001b[49m\u001b[43mX_train\u001b[49m\u001b[43m,\u001b[49m\n\u001b[1;32m    373\u001b[0m \u001b[43m        \u001b[49m\u001b[43my_train\u001b[49m\u001b[43m,\u001b[49m\n\u001b[1;32m    374\u001b[0m \u001b[43m        \u001b[49m\u001b[43mbudget\u001b[49m\u001b[43m,\u001b[49m\n\u001b[1;32m    375\u001b[0m \u001b[43m        \u001b[49m\u001b[43mkf\u001b[49m\u001b[43m,\u001b[49m\n\u001b[1;32m    376\u001b[0m \u001b[43m        \u001b[49m\u001b[43meval_metric\u001b[49m\u001b[43m,\u001b[49m\n\u001b[1;32m    377\u001b[0m \u001b[43m        \u001b[49m\u001b[43mbest_val_loss\u001b[49m\u001b[43m,\u001b[49m\n\u001b[1;32m    378\u001b[0m \u001b[43m        \u001b[49m\u001b[43mcv_score_agg_func\u001b[49m\u001b[43m,\u001b[49m\n\u001b[1;32m    379\u001b[0m \u001b[43m        \u001b[49m\u001b[43mlog_training_metric\u001b[49m\u001b[38;5;241;43m=\u001b[39;49m\u001b[43mlog_training_metric\u001b[49m\u001b[43m,\u001b[49m\n\u001b[1;32m    380\u001b[0m \u001b[43m        \u001b[49m\u001b[43mfit_kwargs\u001b[49m\u001b[38;5;241;43m=\u001b[39;49m\u001b[43mfit_kwargs\u001b[49m\u001b[43m,\u001b[49m\n\u001b[1;32m    381\u001b[0m \u001b[43m        \u001b[49m\u001b[43mfree_mem_ratio\u001b[49m\u001b[38;5;241;43m=\u001b[39;49m\u001b[38;5;241;43m0\u001b[39;49m\u001b[43m,\u001b[49m\n\u001b[1;32m    382\u001b[0m \u001b[43m    \u001b[49m\u001b[43m)\u001b[49m\n\u001b[1;32m    384\u001b[0m \u001b[38;5;28;01mif\u001b[39;00m \u001b[38;5;28misinstance\u001b[39m(estimator, TransformersEstimator):\n\u001b[1;32m    385\u001b[0m     \u001b[38;5;28;01mdel\u001b[39;00m fit_kwargs[\u001b[38;5;124m\"\u001b[39m\u001b[38;5;124mmetric\u001b[39m\u001b[38;5;124m\"\u001b[39m], fit_kwargs[\u001b[38;5;124m\"\u001b[39m\u001b[38;5;124mX_val\u001b[39m\u001b[38;5;124m\"\u001b[39m], fit_kwargs[\u001b[38;5;124m\"\u001b[39m\u001b[38;5;124my_val\u001b[39m\u001b[38;5;124m\"\u001b[39m]\n",
      "File \u001b[0;32m~/miniconda3/envs/extreme_ml/lib/python3.9/site-packages/flaml/automl/task/generic_task.py:737\u001b[0m, in \u001b[0;36mGenericTask.evaluate_model_CV\u001b[0;34m(self, config, estimator, X_train_all, y_train_all, budget, kf, eval_metric, best_val_loss, cv_score_agg_func, log_training_metric, fit_kwargs, free_mem_ratio)\u001b[0m\n\u001b[1;32m    734\u001b[0m         groups_val \u001b[38;5;241m=\u001b[39m \u001b[38;5;28;01mNone\u001b[39;00m\n\u001b[1;32m    736\u001b[0m estimator\u001b[38;5;241m.\u001b[39mcleanup()\n\u001b[0;32m--> 737\u001b[0m val_loss_i, metric_i, train_time_i, pred_time_i \u001b[38;5;241m=\u001b[39m \u001b[43mget_val_loss\u001b[49m\u001b[43m(\u001b[49m\n\u001b[1;32m    738\u001b[0m \u001b[43m    \u001b[49m\u001b[43mconfig\u001b[49m\u001b[43m,\u001b[49m\n\u001b[1;32m    739\u001b[0m \u001b[43m    \u001b[49m\u001b[43mestimator\u001b[49m\u001b[43m,\u001b[49m\n\u001b[1;32m    740\u001b[0m \u001b[43m    \u001b[49m\u001b[43mX_train\u001b[49m\u001b[43m,\u001b[49m\n\u001b[1;32m    741\u001b[0m \u001b[43m    \u001b[49m\u001b[43my_train\u001b[49m\u001b[43m,\u001b[49m\n\u001b[1;32m    742\u001b[0m \u001b[43m    \u001b[49m\u001b[43mX_val\u001b[49m\u001b[43m,\u001b[49m\n\u001b[1;32m    743\u001b[0m \u001b[43m    \u001b[49m\u001b[43my_val\u001b[49m\u001b[43m,\u001b[49m\n\u001b[1;32m    744\u001b[0m \u001b[43m    \u001b[49m\u001b[43mweight_val\u001b[49m\u001b[43m,\u001b[49m\n\u001b[1;32m    745\u001b[0m \u001b[43m    \u001b[49m\u001b[43mgroups_val\u001b[49m\u001b[43m,\u001b[49m\n\u001b[1;32m    746\u001b[0m \u001b[43m    \u001b[49m\u001b[43meval_metric\u001b[49m\u001b[43m,\u001b[49m\n\u001b[1;32m    747\u001b[0m \u001b[43m    \u001b[49m\u001b[38;5;28;43mself\u001b[39;49m\u001b[43m,\u001b[49m\n\u001b[1;32m    748\u001b[0m \u001b[43m    \u001b[49m\u001b[43mlabels\u001b[49m\u001b[43m,\u001b[49m\n\u001b[1;32m    749\u001b[0m \u001b[43m    \u001b[49m\u001b[43mbudget_per_train\u001b[49m\u001b[43m,\u001b[49m\n\u001b[1;32m    750\u001b[0m \u001b[43m    \u001b[49m\u001b[43mlog_training_metric\u001b[49m\u001b[38;5;241;43m=\u001b[39;49m\u001b[43mlog_training_metric\u001b[49m\u001b[43m,\u001b[49m\n\u001b[1;32m    751\u001b[0m \u001b[43m    \u001b[49m\u001b[43mfit_kwargs\u001b[49m\u001b[38;5;241;43m=\u001b[39;49m\u001b[43mfit_kwargs\u001b[49m\u001b[43m,\u001b[49m\n\u001b[1;32m    752\u001b[0m \u001b[43m    \u001b[49m\u001b[43mfree_mem_ratio\u001b[49m\u001b[38;5;241;43m=\u001b[39;49m\u001b[43mfree_mem_ratio\u001b[49m\u001b[43m,\u001b[49m\n\u001b[1;32m    753\u001b[0m \u001b[43m\u001b[49m\u001b[43m)\u001b[49m\n\u001b[1;32m    754\u001b[0m \u001b[38;5;28;01mif\u001b[39;00m \u001b[38;5;28misinstance\u001b[39m(metric_i, \u001b[38;5;28mdict\u001b[39m) \u001b[38;5;129;01mand\u001b[39;00m \u001b[38;5;124m\"\u001b[39m\u001b[38;5;124mintermediate_results\u001b[39m\u001b[38;5;124m\"\u001b[39m \u001b[38;5;129;01min\u001b[39;00m metric_i\u001b[38;5;241m.\u001b[39mkeys():\n\u001b[1;32m    755\u001b[0m     \u001b[38;5;28;01mdel\u001b[39;00m metric_i[\u001b[38;5;124m\"\u001b[39m\u001b[38;5;124mintermediate_results\u001b[39m\u001b[38;5;124m\"\u001b[39m]\n",
      "File \u001b[0;32m~/miniconda3/envs/extreme_ml/lib/python3.9/site-packages/flaml/automl/ml.py:494\u001b[0m, in \u001b[0;36mget_val_loss\u001b[0;34m(config, estimator, X_train, y_train, X_val, y_val, weight_val, groups_val, eval_metric, task, labels, budget, log_training_metric, fit_kwargs, free_mem_ratio)\u001b[0m\n\u001b[1;32m    489\u001b[0m start \u001b[38;5;241m=\u001b[39m time\u001b[38;5;241m.\u001b[39mtime()\n\u001b[1;32m    490\u001b[0m \u001b[38;5;66;03m# if groups_val is not None:\u001b[39;00m\n\u001b[1;32m    491\u001b[0m \u001b[38;5;66;03m#     fit_kwargs['groups_val'] = groups_val\u001b[39;00m\n\u001b[1;32m    492\u001b[0m \u001b[38;5;66;03m#     fit_kwargs['X_val'] = X_val\u001b[39;00m\n\u001b[1;32m    493\u001b[0m \u001b[38;5;66;03m#     fit_kwargs['y_val'] = y_val\u001b[39;00m\n\u001b[0;32m--> 494\u001b[0m \u001b[43mestimator\u001b[49m\u001b[38;5;241;43m.\u001b[39;49m\u001b[43mfit\u001b[49m\u001b[43m(\u001b[49m\u001b[43mX_train\u001b[49m\u001b[43m,\u001b[49m\u001b[43m \u001b[49m\u001b[43my_train\u001b[49m\u001b[43m,\u001b[49m\u001b[43m \u001b[49m\u001b[43mbudget\u001b[49m\u001b[38;5;241;43m=\u001b[39;49m\u001b[43mbudget\u001b[49m\u001b[43m,\u001b[49m\u001b[43m \u001b[49m\u001b[43mfree_mem_ratio\u001b[49m\u001b[38;5;241;43m=\u001b[39;49m\u001b[43mfree_mem_ratio\u001b[49m\u001b[43m,\u001b[49m\u001b[43m \u001b[49m\u001b[38;5;241;43m*\u001b[39;49m\u001b[38;5;241;43m*\u001b[39;49m\u001b[43mfit_kwargs\u001b[49m\u001b[43m)\u001b[49m\n\u001b[1;32m    495\u001b[0m val_loss, metric_for_logging, pred_time, _ \u001b[38;5;241m=\u001b[39m _eval_estimator(\n\u001b[1;32m    496\u001b[0m     config,\n\u001b[1;32m    497\u001b[0m     estimator,\n\u001b[0;32m   (...)\u001b[0m\n\u001b[1;32m    508\u001b[0m     fit_kwargs,\n\u001b[1;32m    509\u001b[0m )\n\u001b[1;32m    510\u001b[0m \u001b[38;5;28;01mif\u001b[39;00m \u001b[38;5;28mhasattr\u001b[39m(estimator, \u001b[38;5;124m\"\u001b[39m\u001b[38;5;124mintermediate_results\u001b[39m\u001b[38;5;124m\"\u001b[39m):\n",
      "File \u001b[0;32m~/miniconda3/envs/extreme_ml/lib/python3.9/site-packages/flaml/automl/model.py:1405\u001b[0m, in \u001b[0;36mLGBMEstimator.fit\u001b[0;34m(self, X_train, y_train, budget, free_mem_ratio, **kwargs)\u001b[0m\n\u001b[1;32m   1403\u001b[0m         \u001b[38;5;28mself\u001b[39m\u001b[38;5;241m.\u001b[39mparams[\u001b[38;5;124m\"\u001b[39m\u001b[38;5;124mcallbacks\u001b[39m\u001b[38;5;124m\"\u001b[39m] \u001b[38;5;241m=\u001b[39m callbacks\n\u001b[1;32m   1404\u001b[0m         callbacks \u001b[38;5;241m=\u001b[39m \u001b[38;5;28;01mNone\u001b[39;00m\n\u001b[0;32m-> 1405\u001b[0m \u001b[38;5;28;43mself\u001b[39;49m\u001b[38;5;241;43m.\u001b[39;49m\u001b[43m_fit\u001b[49m\u001b[43m(\u001b[49m\n\u001b[1;32m   1406\u001b[0m \u001b[43m    \u001b[49m\u001b[43mX_train\u001b[49m\u001b[43m,\u001b[49m\n\u001b[1;32m   1407\u001b[0m \u001b[43m    \u001b[49m\u001b[43my_train\u001b[49m\u001b[43m,\u001b[49m\n\u001b[1;32m   1408\u001b[0m \u001b[43m    \u001b[49m\u001b[43mcallbacks\u001b[49m\u001b[38;5;241;43m=\u001b[39;49m\u001b[43mcallbacks\u001b[49m\u001b[43m,\u001b[49m\n\u001b[1;32m   1409\u001b[0m \u001b[43m    \u001b[49m\u001b[38;5;241;43m*\u001b[39;49m\u001b[38;5;241;43m*\u001b[39;49m\u001b[43mkwargs\u001b[49m\u001b[43m,\u001b[49m\n\u001b[1;32m   1410\u001b[0m \u001b[43m\u001b[49m\u001b[43m)\u001b[49m\n\u001b[1;32m   1411\u001b[0m \u001b[38;5;28;01mif\u001b[39;00m callbacks \u001b[38;5;129;01mis\u001b[39;00m \u001b[38;5;28;01mNone\u001b[39;00m:\n\u001b[1;32m   1412\u001b[0m     \u001b[38;5;66;03m# for xgboost>=1.6.0, pop callbacks to enable pickle\u001b[39;00m\n\u001b[1;32m   1413\u001b[0m     callbacks \u001b[38;5;241m=\u001b[39m \u001b[38;5;28mself\u001b[39m\u001b[38;5;241m.\u001b[39mparams\u001b[38;5;241m.\u001b[39mpop(\u001b[38;5;124m\"\u001b[39m\u001b[38;5;124mcallbacks\u001b[39m\u001b[38;5;124m\"\u001b[39m)\n",
      "File \u001b[0;32m~/miniconda3/envs/extreme_ml/lib/python3.9/site-packages/flaml/automl/model.py:217\u001b[0m, in \u001b[0;36mBaseEstimator._fit\u001b[0;34m(self, X_train, y_train, **kwargs)\u001b[0m\n\u001b[1;32m    214\u001b[0m \u001b[38;5;28;01mif\u001b[39;00m logger\u001b[38;5;241m.\u001b[39mlevel \u001b[38;5;241m==\u001b[39m logging\u001b[38;5;241m.\u001b[39mDEBUG:\n\u001b[1;32m    215\u001b[0m     \u001b[38;5;66;03m# xgboost 1.6 doesn't display all the params in the model str\u001b[39;00m\n\u001b[1;32m    216\u001b[0m     logger\u001b[38;5;241m.\u001b[39mdebug(\u001b[38;5;124mf\u001b[39m\u001b[38;5;124m\"\u001b[39m\u001b[38;5;124mflaml.automl.model - \u001b[39m\u001b[38;5;132;01m{\u001b[39;00mmodel\u001b[38;5;132;01m}\u001b[39;00m\u001b[38;5;124m fit started with params \u001b[39m\u001b[38;5;132;01m{\u001b[39;00m\u001b[38;5;28mself\u001b[39m\u001b[38;5;241m.\u001b[39mparams\u001b[38;5;132;01m}\u001b[39;00m\u001b[38;5;124m\"\u001b[39m)\n\u001b[0;32m--> 217\u001b[0m \u001b[43mmodel\u001b[49m\u001b[38;5;241;43m.\u001b[39;49m\u001b[43mfit\u001b[49m\u001b[43m(\u001b[49m\u001b[43mX_train\u001b[49m\u001b[43m,\u001b[49m\u001b[43m \u001b[49m\u001b[43my_train\u001b[49m\u001b[43m,\u001b[49m\u001b[43m \u001b[49m\u001b[38;5;241;43m*\u001b[39;49m\u001b[38;5;241;43m*\u001b[39;49m\u001b[43mkwargs\u001b[49m\u001b[43m)\u001b[49m\n\u001b[1;32m    218\u001b[0m \u001b[38;5;28;01mif\u001b[39;00m logger\u001b[38;5;241m.\u001b[39mlevel \u001b[38;5;241m==\u001b[39m logging\u001b[38;5;241m.\u001b[39mDEBUG:\n\u001b[1;32m    219\u001b[0m     logger\u001b[38;5;241m.\u001b[39mdebug(\u001b[38;5;124mf\u001b[39m\u001b[38;5;124m\"\u001b[39m\u001b[38;5;124mflaml.automl.model - \u001b[39m\u001b[38;5;132;01m{\u001b[39;00mmodel\u001b[38;5;132;01m}\u001b[39;00m\u001b[38;5;124m fit finished\u001b[39m\u001b[38;5;124m\"\u001b[39m)\n",
      "File \u001b[0;32m~/miniconda3/envs/extreme_ml/lib/python3.9/site-packages/lightgbm/sklearn.py:967\u001b[0m, in \u001b[0;36mLGBMClassifier.fit\u001b[0;34m(self, X, y, sample_weight, init_score, eval_set, eval_names, eval_sample_weight, eval_class_weight, eval_init_score, eval_metric, early_stopping_rounds, verbose, feature_name, categorical_feature, callbacks, init_model)\u001b[0m\n\u001b[1;32m    964\u001b[0m         \u001b[38;5;28;01melse\u001b[39;00m:\n\u001b[1;32m    965\u001b[0m             valid_sets[i] \u001b[38;5;241m=\u001b[39m (valid_x, \u001b[38;5;28mself\u001b[39m\u001b[38;5;241m.\u001b[39m_le\u001b[38;5;241m.\u001b[39mtransform(valid_y))\n\u001b[0;32m--> 967\u001b[0m \u001b[38;5;28;43msuper\u001b[39;49m\u001b[43m(\u001b[49m\u001b[43m)\u001b[49m\u001b[38;5;241;43m.\u001b[39;49m\u001b[43mfit\u001b[49m\u001b[43m(\u001b[49m\u001b[43mX\u001b[49m\u001b[43m,\u001b[49m\u001b[43m \u001b[49m\u001b[43m_y\u001b[49m\u001b[43m,\u001b[49m\u001b[43m \u001b[49m\u001b[43msample_weight\u001b[49m\u001b[38;5;241;43m=\u001b[39;49m\u001b[43msample_weight\u001b[49m\u001b[43m,\u001b[49m\u001b[43m \u001b[49m\u001b[43minit_score\u001b[49m\u001b[38;5;241;43m=\u001b[39;49m\u001b[43minit_score\u001b[49m\u001b[43m,\u001b[49m\u001b[43m \u001b[49m\u001b[43meval_set\u001b[49m\u001b[38;5;241;43m=\u001b[39;49m\u001b[43mvalid_sets\u001b[49m\u001b[43m,\u001b[49m\n\u001b[1;32m    968\u001b[0m \u001b[43m            \u001b[49m\u001b[43meval_names\u001b[49m\u001b[38;5;241;43m=\u001b[39;49m\u001b[43meval_names\u001b[49m\u001b[43m,\u001b[49m\u001b[43m \u001b[49m\u001b[43meval_sample_weight\u001b[49m\u001b[38;5;241;43m=\u001b[39;49m\u001b[43meval_sample_weight\u001b[49m\u001b[43m,\u001b[49m\n\u001b[1;32m    969\u001b[0m \u001b[43m            \u001b[49m\u001b[43meval_class_weight\u001b[49m\u001b[38;5;241;43m=\u001b[39;49m\u001b[43meval_class_weight\u001b[49m\u001b[43m,\u001b[49m\u001b[43m \u001b[49m\u001b[43meval_init_score\u001b[49m\u001b[38;5;241;43m=\u001b[39;49m\u001b[43meval_init_score\u001b[49m\u001b[43m,\u001b[49m\n\u001b[1;32m    970\u001b[0m \u001b[43m            \u001b[49m\u001b[43meval_metric\u001b[49m\u001b[38;5;241;43m=\u001b[39;49m\u001b[43meval_metric\u001b[49m\u001b[43m,\u001b[49m\u001b[43m \u001b[49m\u001b[43mearly_stopping_rounds\u001b[49m\u001b[38;5;241;43m=\u001b[39;49m\u001b[43mearly_stopping_rounds\u001b[49m\u001b[43m,\u001b[49m\n\u001b[1;32m    971\u001b[0m \u001b[43m            \u001b[49m\u001b[43mverbose\u001b[49m\u001b[38;5;241;43m=\u001b[39;49m\u001b[43mverbose\u001b[49m\u001b[43m,\u001b[49m\u001b[43m \u001b[49m\u001b[43mfeature_name\u001b[49m\u001b[38;5;241;43m=\u001b[39;49m\u001b[43mfeature_name\u001b[49m\u001b[43m,\u001b[49m\u001b[43m \u001b[49m\u001b[43mcategorical_feature\u001b[49m\u001b[38;5;241;43m=\u001b[39;49m\u001b[43mcategorical_feature\u001b[49m\u001b[43m,\u001b[49m\n\u001b[1;32m    972\u001b[0m \u001b[43m            \u001b[49m\u001b[43mcallbacks\u001b[49m\u001b[38;5;241;43m=\u001b[39;49m\u001b[43mcallbacks\u001b[49m\u001b[43m,\u001b[49m\u001b[43m \u001b[49m\u001b[43minit_model\u001b[49m\u001b[38;5;241;43m=\u001b[39;49m\u001b[43minit_model\u001b[49m\u001b[43m)\u001b[49m\n\u001b[1;32m    973\u001b[0m \u001b[38;5;28;01mreturn\u001b[39;00m \u001b[38;5;28mself\u001b[39m\n",
      "File \u001b[0;32m~/miniconda3/envs/extreme_ml/lib/python3.9/site-packages/lightgbm/sklearn.py:748\u001b[0m, in \u001b[0;36mLGBMModel.fit\u001b[0;34m(self, X, y, sample_weight, init_score, group, eval_set, eval_names, eval_sample_weight, eval_class_weight, eval_init_score, eval_group, eval_metric, early_stopping_rounds, verbose, feature_name, categorical_feature, callbacks, init_model)\u001b[0m\n\u001b[1;32m    745\u001b[0m evals_result \u001b[38;5;241m=\u001b[39m {}\n\u001b[1;32m    746\u001b[0m callbacks\u001b[38;5;241m.\u001b[39mappend(record_evaluation(evals_result))\n\u001b[0;32m--> 748\u001b[0m \u001b[38;5;28mself\u001b[39m\u001b[38;5;241m.\u001b[39m_Booster \u001b[38;5;241m=\u001b[39m \u001b[43mtrain\u001b[49m\u001b[43m(\u001b[49m\n\u001b[1;32m    749\u001b[0m \u001b[43m    \u001b[49m\u001b[43mparams\u001b[49m\u001b[38;5;241;43m=\u001b[39;49m\u001b[43mparams\u001b[49m\u001b[43m,\u001b[49m\n\u001b[1;32m    750\u001b[0m \u001b[43m    \u001b[49m\u001b[43mtrain_set\u001b[49m\u001b[38;5;241;43m=\u001b[39;49m\u001b[43mtrain_set\u001b[49m\u001b[43m,\u001b[49m\n\u001b[1;32m    751\u001b[0m \u001b[43m    \u001b[49m\u001b[43mnum_boost_round\u001b[49m\u001b[38;5;241;43m=\u001b[39;49m\u001b[38;5;28;43mself\u001b[39;49m\u001b[38;5;241;43m.\u001b[39;49m\u001b[43mn_estimators\u001b[49m\u001b[43m,\u001b[49m\n\u001b[1;32m    752\u001b[0m \u001b[43m    \u001b[49m\u001b[43mvalid_sets\u001b[49m\u001b[38;5;241;43m=\u001b[39;49m\u001b[43mvalid_sets\u001b[49m\u001b[43m,\u001b[49m\n\u001b[1;32m    753\u001b[0m \u001b[43m    \u001b[49m\u001b[43mvalid_names\u001b[49m\u001b[38;5;241;43m=\u001b[39;49m\u001b[43meval_names\u001b[49m\u001b[43m,\u001b[49m\n\u001b[1;32m    754\u001b[0m \u001b[43m    \u001b[49m\u001b[43mfobj\u001b[49m\u001b[38;5;241;43m=\u001b[39;49m\u001b[38;5;28;43mself\u001b[39;49m\u001b[38;5;241;43m.\u001b[39;49m\u001b[43m_fobj\u001b[49m\u001b[43m,\u001b[49m\n\u001b[1;32m    755\u001b[0m \u001b[43m    \u001b[49m\u001b[43mfeval\u001b[49m\u001b[38;5;241;43m=\u001b[39;49m\u001b[43meval_metrics_callable\u001b[49m\u001b[43m,\u001b[49m\n\u001b[1;32m    756\u001b[0m \u001b[43m    \u001b[49m\u001b[43minit_model\u001b[49m\u001b[38;5;241;43m=\u001b[39;49m\u001b[43minit_model\u001b[49m\u001b[43m,\u001b[49m\n\u001b[1;32m    757\u001b[0m \u001b[43m    \u001b[49m\u001b[43mfeature_name\u001b[49m\u001b[38;5;241;43m=\u001b[39;49m\u001b[43mfeature_name\u001b[49m\u001b[43m,\u001b[49m\n\u001b[1;32m    758\u001b[0m \u001b[43m    \u001b[49m\u001b[43mcallbacks\u001b[49m\u001b[38;5;241;43m=\u001b[39;49m\u001b[43mcallbacks\u001b[49m\n\u001b[1;32m    759\u001b[0m \u001b[43m\u001b[49m\u001b[43m)\u001b[49m\n\u001b[1;32m    761\u001b[0m \u001b[38;5;28;01mif\u001b[39;00m evals_result:\n\u001b[1;32m    762\u001b[0m     \u001b[38;5;28mself\u001b[39m\u001b[38;5;241m.\u001b[39m_evals_result \u001b[38;5;241m=\u001b[39m evals_result\n",
      "File \u001b[0;32m~/miniconda3/envs/extreme_ml/lib/python3.9/site-packages/lightgbm/engine.py:292\u001b[0m, in \u001b[0;36mtrain\u001b[0;34m(params, train_set, num_boost_round, valid_sets, valid_names, fobj, feval, init_model, feature_name, categorical_feature, early_stopping_rounds, evals_result, verbose_eval, learning_rates, keep_training_booster, callbacks)\u001b[0m\n\u001b[1;32m    284\u001b[0m \u001b[38;5;28;01mfor\u001b[39;00m cb \u001b[38;5;129;01min\u001b[39;00m callbacks_before_iter:\n\u001b[1;32m    285\u001b[0m     cb(callback\u001b[38;5;241m.\u001b[39mCallbackEnv(model\u001b[38;5;241m=\u001b[39mbooster,\n\u001b[1;32m    286\u001b[0m                             params\u001b[38;5;241m=\u001b[39mparams,\n\u001b[1;32m    287\u001b[0m                             iteration\u001b[38;5;241m=\u001b[39mi,\n\u001b[1;32m    288\u001b[0m                             begin_iteration\u001b[38;5;241m=\u001b[39minit_iteration,\n\u001b[1;32m    289\u001b[0m                             end_iteration\u001b[38;5;241m=\u001b[39minit_iteration \u001b[38;5;241m+\u001b[39m num_boost_round,\n\u001b[1;32m    290\u001b[0m                             evaluation_result_list\u001b[38;5;241m=\u001b[39m\u001b[38;5;28;01mNone\u001b[39;00m))\n\u001b[0;32m--> 292\u001b[0m \u001b[43mbooster\u001b[49m\u001b[38;5;241;43m.\u001b[39;49m\u001b[43mupdate\u001b[49m\u001b[43m(\u001b[49m\u001b[43mfobj\u001b[49m\u001b[38;5;241;43m=\u001b[39;49m\u001b[43mfobj\u001b[49m\u001b[43m)\u001b[49m\n\u001b[1;32m    294\u001b[0m evaluation_result_list \u001b[38;5;241m=\u001b[39m []\n\u001b[1;32m    295\u001b[0m \u001b[38;5;66;03m# check evaluation result.\u001b[39;00m\n",
      "File \u001b[0;32m~/miniconda3/envs/extreme_ml/lib/python3.9/site-packages/lightgbm/basic.py:3021\u001b[0m, in \u001b[0;36mBooster.update\u001b[0;34m(self, train_set, fobj)\u001b[0m\n\u001b[1;32m   3019\u001b[0m \u001b[38;5;28;01mif\u001b[39;00m \u001b[38;5;28mself\u001b[39m\u001b[38;5;241m.\u001b[39m__set_objective_to_none:\n\u001b[1;32m   3020\u001b[0m     \u001b[38;5;28;01mraise\u001b[39;00m LightGBMError(\u001b[38;5;124m'\u001b[39m\u001b[38;5;124mCannot update due to null objective function.\u001b[39m\u001b[38;5;124m'\u001b[39m)\n\u001b[0;32m-> 3021\u001b[0m _safe_call(\u001b[43m_LIB\u001b[49m\u001b[38;5;241;43m.\u001b[39;49m\u001b[43mLGBM_BoosterUpdateOneIter\u001b[49m\u001b[43m(\u001b[49m\n\u001b[1;32m   3022\u001b[0m \u001b[43m    \u001b[49m\u001b[38;5;28;43mself\u001b[39;49m\u001b[38;5;241;43m.\u001b[39;49m\u001b[43mhandle\u001b[49m\u001b[43m,\u001b[49m\n\u001b[1;32m   3023\u001b[0m \u001b[43m    \u001b[49m\u001b[43mctypes\u001b[49m\u001b[38;5;241;43m.\u001b[39;49m\u001b[43mbyref\u001b[49m\u001b[43m(\u001b[49m\u001b[43mis_finished\u001b[49m\u001b[43m)\u001b[49m\u001b[43m)\u001b[49m)\n\u001b[1;32m   3024\u001b[0m \u001b[38;5;28mself\u001b[39m\u001b[38;5;241m.\u001b[39m__is_predicted_cur_iter \u001b[38;5;241m=\u001b[39m [\u001b[38;5;28;01mFalse\u001b[39;00m \u001b[38;5;28;01mfor\u001b[39;00m _ \u001b[38;5;129;01min\u001b[39;00m \u001b[38;5;28mrange\u001b[39m(\u001b[38;5;28mself\u001b[39m\u001b[38;5;241m.\u001b[39m__num_dataset)]\n\u001b[1;32m   3025\u001b[0m \u001b[38;5;28;01mreturn\u001b[39;00m is_finished\u001b[38;5;241m.\u001b[39mvalue \u001b[38;5;241m==\u001b[39m \u001b[38;5;241m1\u001b[39m\n",
      "\u001b[0;31mKeyboardInterrupt\u001b[0m: "
     ]
    }
   ],
   "source": [
    "feature_opt = 'EMEP_v2'\n",
    "\n",
    "target_variable = 'O3_50'\n",
    "metric_opt = 'f1' # f1, roc_auc, accuracy, f2\n",
    "algri_opt = 'lgbm'\n",
    "time_budget_opt = 60*3 # seconds\n",
    "\n",
    "ML_opt = feature_opt+'_'+target_variable+'_'+metric_opt+'_'+algri_opt+'_'+str(time_budget_opt)\n",
    "\n",
    "\n",
    "# read siteinfo from csv file\n",
    "siteinfo = pd.read_csv('../TOAR2/O3_MDA8_EU_EMEP/Metadata_O3_EMEP_customized.csv')\n",
    "\n",
    "import glob\n",
    "for filepath in glob.iglob('./training_data/'+feature_opt+'_*.mat'):\n",
    "    siteid_now = int(filepath[-10:-4])\n",
    "    id_todo = siteinfo.loc[siteinfo['id']==siteid_now].index[0]\n",
    "    print(id_todo)\n",
    "    print([siteinfo['station_name'].iloc[id_todo]])\n",
    "    print([siteinfo['station_country'].iloc[id_todo]])\n",
    "\n",
    "\n",
    "    # feature name\n",
    "    feature_name_csv = pd.read_csv('./training_data/'+feature_opt+'_'+str(siteid_now)+'_feature_name.csv')\n",
    "    feature_name = feature_name_csv.columns\n",
    "\n",
    "    # read data from MATLAB file\n",
    "    training_data_matfile = scio.loadmat('./training_data/'+feature_opt+'_'+str(siteid_now)+'.mat')\n",
    "    training_data_ori = training_data_matfile['training_data_final']\n",
    "    nfeature = training_data_matfile['nfeature'].astype(int)[0][0]\n",
    "    nlabel = training_data_matfile['nlabel'].astype(int)[0][0]\n",
    "\n",
    "    ''' step 1: prepare data'''\n",
    "\n",
    "    # voncert to dataframe format and add label to dataframe\n",
    "    training_data = pd.DataFrame(training_data_ori) \n",
    "    training_data.columns = feature_name\n",
    "\n",
    "    # select features and label we need\n",
    "    training_data_feature = training_data.drop(training_data.columns[nfeature:], axis=1)\n",
    "    training_data_label = training_data[target_variable].copy()\n",
    "    training_data_combine = training_data_feature.join(training_data_label)\n",
    "\n",
    "    # if site is too high, U/V850 will be NaN, then we delete these two features\n",
    "    if training_data_combine['U850'].isnull().sum() > 0:\n",
    "        training_data_combine = training_data_combine.drop(columns={'U850','V850','H850'})\n",
    "        nfeature = nfeature - 3\n",
    "        print(siteid_now)\n",
    "        print('droping 850')\n",
    "\n",
    "    if training_data_combine['U500'].isnull().sum() > 0:\n",
    "        training_data_combine = training_data_combine.drop(columns={'U500','V500','H500','OMEGA500'})\n",
    "        nfeature = nfeature - 4\n",
    "\n",
    "    # drop all invalid nan data\n",
    "    training_data_nonan = training_data_combine.dropna(axis=0, how='any')\n",
    "\n",
    "    # select features and label\n",
    "    X = training_data_nonan.drop(training_data_nonan.columns[nfeature:], axis=1)\n",
    "    y = training_data_nonan[target_variable].copy()\n",
    "\n",
    "    # split training set and testing set\n",
    "    # preserving the percentage of samples for each class\n",
    "    from sklearn.model_selection import train_test_split\n",
    "\n",
    "    O3_training, O3_test, O3_training_labels, O3_test_labels = train_test_split(X, y,\n",
    "                                                        stratify=y, \n",
    "                                                        test_size=0.2,\n",
    "                                                        random_state=2001110281)\n",
    "\n",
    "    # print imbalanced degree (normal counts/extreme counts)\n",
    "    counts = O3_training_labels.value_counts()\n",
    "    imbalance_degree = counts[0]/counts[1]\n",
    "    print('Before re-sampling')\n",
    "    print('Normal counts = ', counts[0])\n",
    "    print('Extreme counts = ', counts[1])\n",
    "    print('Imbalance degree = ',imbalance_degree)\n",
    "    \n",
    "    if imbalance_degree >= 1 and imbalance_degree <= 4:\n",
    "        spw_opt = imbalance_degree \n",
    "    elif imbalance_degree>4:\n",
    "        spw_opt = [2,3,4,imbalance_degree]\n",
    "    elif imbalance_degree<1 and imbalance_degree>= 1/4:\n",
    "        spw_opt = imbalance_degree\n",
    "    elif imbalance_degree < 1/4:\n",
    "        spw_opt = [imbalance_degree, 1/4, 1/3, 1/2]\n",
    "\n",
    "\n",
    "    ''' step 2: AutoML to find best ML model '''\n",
    "    from flaml import AutoML\n",
    "\n",
    "    # if there is already automl object file, we just load it instead of training again\n",
    "    if os.path.isfile('./automl_data/'+ML_opt+'_'+str(siteid_now)+'.pkl'):\n",
    "        with open('./automl_data/'+ML_opt+'_'+str(siteid_now)+'.pkl', 'rb') as f:\n",
    "            automl = pickle.load(f)\n",
    "\n",
    "    else: # else we create new auto-ml object\n",
    "        automl = AutoML()\n",
    "        settings = {\n",
    "            \"time_budget\": time_budget_opt,  # total running time in seconds\n",
    "            \"metric\": 'f1', # 'accuracy','roc_auc','f1', or f2\n",
    "            \"estimator_list\": [algri_opt],\n",
    "            \"task\": 'classification',  # task type\n",
    "            \"seed\": 2001110281,    # random seed\n",
    "            \"retrain_full\": False,\n",
    "        }\n",
    "        from flaml import tune\n",
    "        if type(spw_opt) == np.float64: # given spw_opt\n",
    "            settings[\"custom_hp\"] = {\n",
    "                \"lgbm\": {\n",
    "                    \"scale_pos_weight\": {\n",
    "                        \"domain\": spw_opt,\n",
    "                        \"init_value\": spw_opt,\n",
    "                    }\n",
    "                }\n",
    "            }\n",
    "        else: # let flaml select spw\n",
    "            settings[\"custom_hp\"] = {\n",
    "                \"lgbm\": {\n",
    "                    \"scale_pos_weight\": {\n",
    "                        \"domain\": tune.choice(spw_opt),\n",
    "                        \"init_value\": spw_opt[0],\n",
    "                    }\n",
    "                }\n",
    "            }\n",
    "            \n",
    "        # The main flaml automl API\n",
    "        automl.fit(X_train=O3_training, y_train=O3_training_labels, **settings)\n",
    "\n",
    "        # pickle and save the automl object\n",
    "        with open('./automl_data/'+ML_opt+'_'+str(siteid_now)+'.pkl', 'wb') as f:\n",
    "            pickle.dump(automl, f, pickle.HIGHEST_PROTOCOL)\n",
    "\n",
    "        # retrieve best config, this is the internal validation of auto-ml\n",
    "        print('Best hyperparmeter config:', automl.best_config)\n",
    "        print('Best metric on validation data: {0:.4g}'.format(1-automl.best_loss))\n",
    "        print('Training duration of best run: {0:.4g} s'.format(automl.best_config_train_time))\n",
    "\n",
    "        '''compute predictions of testing dataset''' \n",
    "        import sklearn.metrics\n",
    "        O3_pred = automl.predict(O3_test)\n",
    "        O3_pred_proba = automl.predict_proba(O3_test)[:,1]\n",
    "\n",
    "        # confusion matrix\n",
    "        tn, fp, fn, tp = sklearn.metrics.confusion_matrix(O3_test_labels, O3_pred).ravel()\n",
    "\n",
    "        # compute different metric values on testing dataset\n",
    "        d = {\n",
    "            'siteid': [siteid_now],\n",
    "            'station name': [siteinfo['station_name'].iloc[id_todo]],\n",
    "            'station contry': [siteinfo['station_country'].iloc[id_todo]],\n",
    "            'total samples': [counts[0]+counts[1]],\n",
    "            'imbalance degree': [imbalance_degree],\n",
    "            'weight factor': [automl.best_config['scale_pos_weight']],\n",
    "            'f1': [sklearn.metrics.f1_score(O3_test_labels,O3_pred)],\n",
    "            'recall': [sklearn.metrics.recall_score(O3_test_labels,O3_pred)],\n",
    "            'precision': [sklearn.metrics.precision_score(O3_test_labels,O3_pred)],\n",
    "            'f2': [sklearn.metrics.fbeta_score(O3_test_labels,O3_pred,beta=2)],\n",
    "            'roc_auc': [sklearn.metrics.roc_auc_score(O3_test_labels,O3_pred_proba)],\n",
    "            'accuracy': [sklearn.metrics.accuracy_score(O3_test_labels,O3_pred)],\n",
    "            'log_loss': [sklearn.metrics.log_loss(O3_test_labels,O3_pred_proba)],\n",
    "            }\n",
    "        df = pd.DataFrame(data=d)\n",
    "        df = df.round(4)\n",
    "\n",
    "        if siteid_now==415421: # loop imbalance degree <= 6 or all sites\n",
    "            df.to_csv('./automl_data/performance_'+ML_opt+'.csv', index=False) # always turn this on\n",
    "        else:\n",
    "            df.to_csv('./automl_data/performance_'+ML_opt+'.csv', mode='a', index=False, header=False)\n",
    "        df"
   ]
  },
  {
   "cell_type": "markdown",
   "metadata": {},
   "source": []
  },
  {
   "cell_type": "code",
   "execution_count": null,
   "metadata": {},
   "outputs": [
    {
     "name": "stderr",
     "output_type": "stream",
     "text": [
      "/Users/sebestian/miniconda3/envs/extreme_ml/lib/python3.9/site-packages/shap/utils/_clustering.py:35: NumbaDeprecationWarning: \u001b[1mThe 'nopython' keyword argument was not supplied to the 'numba.jit' decorator. The implicit default value for this argument is currently False, but it will be changed to True in Numba 0.59.0. See https://numba.readthedocs.io/en/stable/reference/deprecation.html#deprecation-of-object-mode-fall-back-behaviour-when-using-jit for details.\u001b[0m\n",
      "  def _pt_shuffle_rec(i, indexes, index_mask, partition_tree, M, pos):\n",
      "/Users/sebestian/miniconda3/envs/extreme_ml/lib/python3.9/site-packages/shap/utils/_clustering.py:54: NumbaDeprecationWarning: \u001b[1mThe 'nopython' keyword argument was not supplied to the 'numba.jit' decorator. The implicit default value for this argument is currently False, but it will be changed to True in Numba 0.59.0. See https://numba.readthedocs.io/en/stable/reference/deprecation.html#deprecation-of-object-mode-fall-back-behaviour-when-using-jit for details.\u001b[0m\n",
      "  def delta_minimization_order(all_masks, max_swap_size=100, num_passes=2):\n",
      "/Users/sebestian/miniconda3/envs/extreme_ml/lib/python3.9/site-packages/shap/utils/_clustering.py:63: NumbaDeprecationWarning: \u001b[1mThe 'nopython' keyword argument was not supplied to the 'numba.jit' decorator. The implicit default value for this argument is currently False, but it will be changed to True in Numba 0.59.0. See https://numba.readthedocs.io/en/stable/reference/deprecation.html#deprecation-of-object-mode-fall-back-behaviour-when-using-jit for details.\u001b[0m\n",
      "  def _reverse_window(order, start, length):\n",
      "/Users/sebestian/miniconda3/envs/extreme_ml/lib/python3.9/site-packages/shap/utils/_clustering.py:69: NumbaDeprecationWarning: \u001b[1mThe 'nopython' keyword argument was not supplied to the 'numba.jit' decorator. The implicit default value for this argument is currently False, but it will be changed to True in Numba 0.59.0. See https://numba.readthedocs.io/en/stable/reference/deprecation.html#deprecation-of-object-mode-fall-back-behaviour-when-using-jit for details.\u001b[0m\n",
      "  def _reverse_window_score_gain(masks, order, start, length):\n",
      "/Users/sebestian/miniconda3/envs/extreme_ml/lib/python3.9/site-packages/shap/utils/_clustering.py:77: NumbaDeprecationWarning: \u001b[1mThe 'nopython' keyword argument was not supplied to the 'numba.jit' decorator. The implicit default value for this argument is currently False, but it will be changed to True in Numba 0.59.0. See https://numba.readthedocs.io/en/stable/reference/deprecation.html#deprecation-of-object-mode-fall-back-behaviour-when-using-jit for details.\u001b[0m\n",
      "  def _mask_delta_score(m1, m2):\n",
      "/Users/sebestian/miniconda3/envs/extreme_ml/lib/python3.9/site-packages/shap/links.py:5: NumbaDeprecationWarning: \u001b[1mThe 'nopython' keyword argument was not supplied to the 'numba.jit' decorator. The implicit default value for this argument is currently False, but it will be changed to True in Numba 0.59.0. See https://numba.readthedocs.io/en/stable/reference/deprecation.html#deprecation-of-object-mode-fall-back-behaviour-when-using-jit for details.\u001b[0m\n",
      "  def identity(x):\n",
      "/Users/sebestian/miniconda3/envs/extreme_ml/lib/python3.9/site-packages/shap/links.py:10: NumbaDeprecationWarning: \u001b[1mThe 'nopython' keyword argument was not supplied to the 'numba.jit' decorator. The implicit default value for this argument is currently False, but it will be changed to True in Numba 0.59.0. See https://numba.readthedocs.io/en/stable/reference/deprecation.html#deprecation-of-object-mode-fall-back-behaviour-when-using-jit for details.\u001b[0m\n",
      "  def _identity_inverse(x):\n",
      "/Users/sebestian/miniconda3/envs/extreme_ml/lib/python3.9/site-packages/shap/links.py:15: NumbaDeprecationWarning: \u001b[1mThe 'nopython' keyword argument was not supplied to the 'numba.jit' decorator. The implicit default value for this argument is currently False, but it will be changed to True in Numba 0.59.0. See https://numba.readthedocs.io/en/stable/reference/deprecation.html#deprecation-of-object-mode-fall-back-behaviour-when-using-jit for details.\u001b[0m\n",
      "  def logit(x):\n",
      "/Users/sebestian/miniconda3/envs/extreme_ml/lib/python3.9/site-packages/shap/links.py:20: NumbaDeprecationWarning: \u001b[1mThe 'nopython' keyword argument was not supplied to the 'numba.jit' decorator. The implicit default value for this argument is currently False, but it will be changed to True in Numba 0.59.0. See https://numba.readthedocs.io/en/stable/reference/deprecation.html#deprecation-of-object-mode-fall-back-behaviour-when-using-jit for details.\u001b[0m\n",
      "  def _logit_inverse(x):\n",
      "/Users/sebestian/miniconda3/envs/extreme_ml/lib/python3.9/site-packages/shap/utils/_masked_model.py:363: NumbaDeprecationWarning: \u001b[1mThe 'nopython' keyword argument was not supplied to the 'numba.jit' decorator. The implicit default value for this argument is currently False, but it will be changed to True in Numba 0.59.0. See https://numba.readthedocs.io/en/stable/reference/deprecation.html#deprecation-of-object-mode-fall-back-behaviour-when-using-jit for details.\u001b[0m\n",
      "  def _build_fixed_single_output(averaged_outs, last_outs, outputs, batch_positions, varying_rows, num_varying_rows, link, linearizing_weights):\n",
      "/Users/sebestian/miniconda3/envs/extreme_ml/lib/python3.9/site-packages/shap/utils/_masked_model.py:385: NumbaDeprecationWarning: \u001b[1mThe 'nopython' keyword argument was not supplied to the 'numba.jit' decorator. The implicit default value for this argument is currently False, but it will be changed to True in Numba 0.59.0. See https://numba.readthedocs.io/en/stable/reference/deprecation.html#deprecation-of-object-mode-fall-back-behaviour-when-using-jit for details.\u001b[0m\n",
      "  def _build_fixed_multi_output(averaged_outs, last_outs, outputs, batch_positions, varying_rows, num_varying_rows, link, linearizing_weights):\n",
      "/Users/sebestian/miniconda3/envs/extreme_ml/lib/python3.9/site-packages/shap/utils/_masked_model.py:428: NumbaDeprecationWarning: \u001b[1mThe 'nopython' keyword argument was not supplied to the 'numba.jit' decorator. The implicit default value for this argument is currently False, but it will be changed to True in Numba 0.59.0. See https://numba.readthedocs.io/en/stable/reference/deprecation.html#deprecation-of-object-mode-fall-back-behaviour-when-using-jit for details.\u001b[0m\n",
      "  def _init_masks(cluster_matrix, M, indices_row_pos, indptr):\n",
      "/Users/sebestian/miniconda3/envs/extreme_ml/lib/python3.9/site-packages/shap/utils/_masked_model.py:439: NumbaDeprecationWarning: \u001b[1mThe 'nopython' keyword argument was not supplied to the 'numba.jit' decorator. The implicit default value for this argument is currently False, but it will be changed to True in Numba 0.59.0. See https://numba.readthedocs.io/en/stable/reference/deprecation.html#deprecation-of-object-mode-fall-back-behaviour-when-using-jit for details.\u001b[0m\n",
      "  def _rec_fill_masks(cluster_matrix, indices_row_pos, indptr, indices, M, ind):\n",
      "/Users/sebestian/miniconda3/envs/extreme_ml/lib/python3.9/site-packages/shap/maskers/_tabular.py:186: NumbaDeprecationWarning: \u001b[1mThe 'nopython' keyword argument was not supplied to the 'numba.jit' decorator. The implicit default value for this argument is currently False, but it will be changed to True in Numba 0.59.0. See https://numba.readthedocs.io/en/stable/reference/deprecation.html#deprecation-of-object-mode-fall-back-behaviour-when-using-jit for details.\u001b[0m\n",
      "  def _single_delta_mask(dind, masked_inputs, last_mask, data, x, noop_code):\n",
      "/Users/sebestian/miniconda3/envs/extreme_ml/lib/python3.9/site-packages/shap/maskers/_tabular.py:197: NumbaDeprecationWarning: \u001b[1mThe 'nopython' keyword argument was not supplied to the 'numba.jit' decorator. The implicit default value for this argument is currently False, but it will be changed to True in Numba 0.59.0. See https://numba.readthedocs.io/en/stable/reference/deprecation.html#deprecation-of-object-mode-fall-back-behaviour-when-using-jit for details.\u001b[0m\n",
      "  def _delta_masking(masks, x, curr_delta_inds, varying_rows_out,\n",
      "/Users/sebestian/miniconda3/envs/extreme_ml/lib/python3.9/site-packages/shap/maskers/_image.py:175: NumbaDeprecationWarning: \u001b[1mThe 'nopython' keyword argument was not supplied to the 'numba.jit' decorator. The implicit default value for this argument is currently False, but it will be changed to True in Numba 0.59.0. See https://numba.readthedocs.io/en/stable/reference/deprecation.html#deprecation-of-object-mode-fall-back-behaviour-when-using-jit for details.\u001b[0m\n",
      "  def _jit_build_partition_tree(xmin, xmax, ymin, ymax, zmin, zmax, total_ywidth, total_zwidth, M, clustering, q):\n",
      "/Users/sebestian/miniconda3/envs/extreme_ml/lib/python3.9/site-packages/shap/explainers/_partition.py:676: NumbaDeprecationWarning: \u001b[1mThe 'nopython' keyword argument was not supplied to the 'numba.jit' decorator. The implicit default value for this argument is currently False, but it will be changed to True in Numba 0.59.0. See https://numba.readthedocs.io/en/stable/reference/deprecation.html#deprecation-of-object-mode-fall-back-behaviour-when-using-jit for details.\u001b[0m\n",
      "  def lower_credit(i, value, M, values, clustering):\n",
      "\u001b[1mThe 'nopython' keyword argument was not supplied to the 'numba.jit' decorator. The implicit default value for this argument is currently False, but it will be changed to True in Numba 0.59.0. See https://numba.readthedocs.io/en/stable/reference/deprecation.html#deprecation-of-object-mode-fall-back-behaviour-when-using-jit for details.\u001b[0m\n",
      "\u001b[1mThe 'nopython' keyword argument was not supplied to the 'numba.jit' decorator. The implicit default value for this argument is currently False, but it will be changed to True in Numba 0.59.0. See https://numba.readthedocs.io/en/stable/reference/deprecation.html#deprecation-of-object-mode-fall-back-behaviour-when-using-jit for details.\u001b[0m\n"
     ]
    },
    {
     "name": "stdout",
     "output_type": "stream",
     "text": [
      "['Östad']\n",
      "['Sweden']\n",
      "0\n"
     ]
    },
    {
     "name": "stderr",
     "output_type": "stream",
     "text": [
      "LightGBM binary classifier with TreeExplainer shap values output has changed to a list of ndarray\n"
     ]
    },
    {
     "name": "stdout",
     "output_type": "stream",
     "text": [
      "['Raisting']\n",
      "['Germany']\n",
      "1\n"
     ]
    },
    {
     "name": "stderr",
     "output_type": "stream",
     "text": [
      "LightGBM binary classifier with TreeExplainer shap values output has changed to a list of ndarray\n"
     ]
    },
    {
     "name": "stdout",
     "output_type": "stream",
     "text": [
      "['Falkenberg']\n",
      "['Germany']\n",
      "2\n"
     ]
    },
    {
     "name": "stderr",
     "output_type": "stream",
     "text": [
      "LightGBM binary classifier with TreeExplainer shap values output has changed to a list of ndarray\n"
     ]
    },
    {
     "name": "stdout",
     "output_type": "stream",
     "text": [
      "['Chaumont']\n",
      "['Switzerland']\n",
      "3\n"
     ]
    },
    {
     "name": "stderr",
     "output_type": "stream",
     "text": [
      "LightGBM binary classifier with TreeExplainer shap values output has changed to a list of ndarray\n"
     ]
    },
    {
     "name": "stdout",
     "output_type": "stream",
     "text": [
      "['NOIA']\n",
      "['Spain']\n",
      "4\n"
     ]
    },
    {
     "name": "stderr",
     "output_type": "stream",
     "text": [
      "LightGBM binary classifier with TreeExplainer shap values output has changed to a list of ndarray\n"
     ]
    },
    {
     "name": "stdout",
     "output_type": "stream",
     "text": [
      "['Payerne']\n",
      "['Switzerland']\n",
      "5\n"
     ]
    },
    {
     "name": "stderr",
     "output_type": "stream",
     "text": [
      "LightGBM binary classifier with TreeExplainer shap values output has changed to a list of ndarray\n"
     ]
    },
    {
     "name": "stdout",
     "output_type": "stream",
     "text": [
      "['Vorhegg']\n",
      "['Austria']\n",
      "6\n"
     ]
    },
    {
     "name": "stderr",
     "output_type": "stream",
     "text": [
      "LightGBM binary classifier with TreeExplainer shap values output has changed to a list of ndarray\n"
     ]
    },
    {
     "name": "stdout",
     "output_type": "stream",
     "text": [
      "['Birkenes']\n",
      "['Norway']\n",
      "7\n"
     ]
    },
    {
     "name": "stderr",
     "output_type": "stream",
     "text": [
      "LightGBM binary classifier with TreeExplainer shap values output has changed to a list of ndarray\n"
     ]
    },
    {
     "name": "stdout",
     "output_type": "stream",
     "text": [
      "['La Tardière']\n",
      "['France']\n",
      "8\n"
     ]
    },
    {
     "name": "stderr",
     "output_type": "stream",
     "text": [
      "LightGBM binary classifier with TreeExplainer shap values output has changed to a list of ndarray\n"
     ]
    },
    {
     "name": "stdout",
     "output_type": "stream",
     "text": [
      "['\"Risoe\"']\n",
      "['Denmark']\n",
      "9\n"
     ]
    },
    {
     "name": "stderr",
     "output_type": "stream",
     "text": [
      "LightGBM binary classifier with TreeExplainer shap values output has changed to a list of ndarray\n"
     ]
    },
    {
     "name": "stdout",
     "output_type": "stream",
     "text": [
      "['Jungfraujoch']\n",
      "['Switzerland']\n",
      "10\n",
      "415443\n",
      "droping 850\n"
     ]
    },
    {
     "name": "stderr",
     "output_type": "stream",
     "text": [
      "LightGBM binary classifier with TreeExplainer shap values output has changed to a list of ndarray\n"
     ]
    },
    {
     "name": "stdout",
     "output_type": "stream",
     "text": [
      "['\"Topolniky - Aszod/EMEP\"']\n",
      "['Slovakia']\n",
      "11\n"
     ]
    },
    {
     "name": "stderr",
     "output_type": "stream",
     "text": [
      "LightGBM binary classifier with TreeExplainer shap values output has changed to a list of ndarray\n"
     ]
    },
    {
     "name": "stdout",
     "output_type": "stream",
     "text": [
      "['Ähtäri II']\n",
      "['Finland']\n",
      "12\n"
     ]
    },
    {
     "name": "stderr",
     "output_type": "stream",
     "text": [
      "LightGBM binary classifier with TreeExplainer shap values output has changed to a list of ndarray\n"
     ]
    },
    {
     "name": "stdout",
     "output_type": "stream",
     "text": [
      "['AT0PIL1']\n",
      "['Austria']\n",
      "13\n"
     ]
    },
    {
     "name": "stderr",
     "output_type": "stream",
     "text": [
      "LightGBM binary classifier with TreeExplainer shap values output has changed to a list of ndarray\n"
     ]
    },
    {
     "name": "stdout",
     "output_type": "stream",
     "text": [
      "['Giordan Lighthouse']\n",
      "['Malta']\n",
      "14\n"
     ]
    },
    {
     "name": "stderr",
     "output_type": "stream",
     "text": [
      "LightGBM binary classifier with TreeExplainer shap values output has changed to a list of ndarray\n"
     ]
    },
    {
     "name": "stdout",
     "output_type": "stream",
     "text": [
      "['\"Vilsandi\"']\n",
      "['Estonia']\n",
      "15\n"
     ]
    },
    {
     "name": "stderr",
     "output_type": "stream",
     "text": [
      "LightGBM binary classifier with TreeExplainer shap values output has changed to a list of ndarray\n"
     ]
    },
    {
     "name": "stdout",
     "output_type": "stream",
     "text": [
      "['Sibton - UKA00012']\n",
      "['United Kingdom of Great Britain and Northern Ireland']\n",
      "16\n"
     ]
    },
    {
     "name": "stderr",
     "output_type": "stream",
     "text": [
      "LightGBM binary classifier with TreeExplainer shap values output has changed to a list of ndarray\n"
     ]
    },
    {
     "name": "stdout",
     "output_type": "stream",
     "text": [
      "['Kårvatn']\n",
      "['Norway']\n",
      "17\n"
     ]
    },
    {
     "name": "stderr",
     "output_type": "stream",
     "text": [
      "LightGBM binary classifier with TreeExplainer shap values output has changed to a list of ndarray\n"
     ]
    },
    {
     "name": "stdout",
     "output_type": "stream",
     "text": [
      "['Roquetas']\n",
      "['Spain']\n",
      "18\n"
     ]
    },
    {
     "name": "stderr",
     "output_type": "stream",
     "text": [
      "LightGBM binary classifier with TreeExplainer shap values output has changed to a list of ndarray\n"
     ]
    },
    {
     "name": "stdout",
     "output_type": "stream",
     "text": [
      "['Utö']\n",
      "['Finland']\n",
      "19\n"
     ]
    },
    {
     "name": "stderr",
     "output_type": "stream",
     "text": [
      "LightGBM binary classifier with TreeExplainer shap values output has changed to a list of ndarray\n"
     ]
    },
    {
     "name": "stdout",
     "output_type": "stream",
     "text": [
      "['Auchencorth Moss - UKA00451']\n",
      "['United Kingdom of Great Britain and Northern Ireland']\n",
      "20\n"
     ]
    },
    {
     "name": "stderr",
     "output_type": "stream",
     "text": [
      "LightGBM binary classifier with TreeExplainer shap values output has changed to a list of ndarray\n"
     ]
    },
    {
     "name": "stdout",
     "output_type": "stream",
     "text": [
      "['Hohenwestedt']\n",
      "['Germany']\n",
      "21\n"
     ]
    },
    {
     "name": "stderr",
     "output_type": "stream",
     "text": [
      "LightGBM binary classifier with TreeExplainer shap values output has changed to a list of ndarray\n"
     ]
    },
    {
     "name": "stdout",
     "output_type": "stream",
     "text": [
      "['Hurdal25']\n",
      "['Norway']\n",
      "22\n"
     ]
    },
    {
     "name": "stderr",
     "output_type": "stream",
     "text": [
      "LightGBM binary classifier with TreeExplainer shap values output has changed to a list of ndarray\n"
     ]
    },
    {
     "name": "stdout",
     "output_type": "stream",
     "text": [
      "['AT60156']\n",
      "['Austria']\n",
      "23\n"
     ]
    },
    {
     "name": "stderr",
     "output_type": "stream",
     "text": [
      "LightGBM binary classifier with TreeExplainer shap values output has changed to a list of ndarray\n"
     ]
    },
    {
     "name": "stdout",
     "output_type": "stream",
     "text": [
      "['VÍZNAR']\n",
      "['Spain']\n",
      "24\n"
     ]
    },
    {
     "name": "stderr",
     "output_type": "stream",
     "text": [
      "LightGBM binary classifier with TreeExplainer shap values output has changed to a list of ndarray\n"
     ]
    },
    {
     "name": "stdout",
     "output_type": "stream",
     "text": [
      "['AMS Rozhen peak']\n",
      "['Bulgaria']\n",
      "25\n"
     ]
    },
    {
     "name": "stderr",
     "output_type": "stream",
     "text": [
      "LightGBM binary classifier with TreeExplainer shap values output has changed to a list of ndarray\n"
     ]
    },
    {
     "name": "stdout",
     "output_type": "stream",
     "text": [
      "['Bush Estate - UKA00128']\n",
      "['United Kingdom of Great Britain and Northern Ireland']\n",
      "26\n"
     ]
    },
    {
     "name": "stderr",
     "output_type": "stream",
     "text": [
      "LightGBM binary classifier with TreeExplainer shap values output has changed to a list of ndarray\n"
     ]
    },
    {
     "name": "stdout",
     "output_type": "stream",
     "text": [
      "['Kovk']\n",
      "['Slovenia']\n",
      "27\n"
     ]
    },
    {
     "name": "stderr",
     "output_type": "stream",
     "text": [
      "LightGBM binary classifier with TreeExplainer shap values output has changed to a list of ndarray\n"
     ]
    },
    {
     "name": "stdout",
     "output_type": "stream",
     "text": [
      "['Le Casset']\n",
      "['France']\n",
      "28\n",
      "415472\n",
      "droping 850\n"
     ]
    },
    {
     "name": "stderr",
     "output_type": "stream",
     "text": [
      "LightGBM binary classifier with TreeExplainer shap values output has changed to a list of ndarray\n"
     ]
    },
    {
     "name": "stdout",
     "output_type": "stream",
     "text": [
      "['Krvavec']\n",
      "['Slovenia']\n",
      "29\n"
     ]
    },
    {
     "name": "stderr",
     "output_type": "stream",
     "text": [
      "LightGBM binary classifier with TreeExplainer shap values output has changed to a list of ndarray\n"
     ]
    },
    {
     "name": "stdout",
     "output_type": "stream",
     "text": [
      "['Aukrug']\n",
      "['Germany']\n",
      "30\n"
     ]
    },
    {
     "name": "stderr",
     "output_type": "stream",
     "text": [
      "LightGBM binary classifier with TreeExplainer shap values output has changed to a list of ndarray\n",
      "LightGBM binary classifier with TreeExplainer shap values output has changed to a list of ndarray\n"
     ]
    },
    {
     "name": "stdout",
     "output_type": "stream",
     "text": [
      "['Murnauer Moos']\n",
      "['Germany']\n",
      "31\n",
      "['\"Lahemaa\"']\n",
      "['Estonia']\n",
      "32\n"
     ]
    },
    {
     "name": "stderr",
     "output_type": "stream",
     "text": [
      "LightGBM binary classifier with TreeExplainer shap values output has changed to a list of ndarray\n"
     ]
    },
    {
     "name": "stdout",
     "output_type": "stream",
     "text": [
      "['Neuglobsow']\n",
      "['Germany']\n",
      "33\n"
     ]
    },
    {
     "name": "stderr",
     "output_type": "stream",
     "text": [
      "LightGBM binary classifier with TreeExplainer shap values output has changed to a list of ndarray\n"
     ]
    },
    {
     "name": "stdout",
     "output_type": "stream",
     "text": [
      "['Schauinsland']\n",
      "['Germany']\n",
      "34\n"
     ]
    },
    {
     "name": "stderr",
     "output_type": "stream",
     "text": [
      "LightGBM binary classifier with TreeExplainer shap values output has changed to a list of ndarray\n"
     ]
    },
    {
     "name": "stdout",
     "output_type": "stream",
     "text": [
      "['Zarodnje']\n",
      "['Slovenia']\n",
      "35\n"
     ]
    },
    {
     "name": "stderr",
     "output_type": "stream",
     "text": [
      "LightGBM binary classifier with TreeExplainer shap values output has changed to a list of ndarray\n"
     ]
    },
    {
     "name": "stdout",
     "output_type": "stream",
     "text": [
      "['Asa']\n",
      "['Sweden']\n",
      "36\n"
     ]
    },
    {
     "name": "stderr",
     "output_type": "stream",
     "text": [
      "LightGBM binary classifier with TreeExplainer shap values output has changed to a list of ndarray\n"
     ]
    },
    {
     "name": "stdout",
     "output_type": "stream",
     "text": [
      "['Puy de Dôme']\n",
      "['France']\n",
      "37\n"
     ]
    },
    {
     "name": "stderr",
     "output_type": "stream",
     "text": [
      "LightGBM binary classifier with TreeExplainer shap values output has changed to a list of ndarray\n"
     ]
    },
    {
     "name": "stdout",
     "output_type": "stream",
     "text": [
      "['Achenkirch']\n",
      "['Austria']\n",
      "38\n"
     ]
    },
    {
     "name": "stderr",
     "output_type": "stream",
     "text": [
      "LightGBM binary classifier with TreeExplainer shap values output has changed to a list of ndarray\n"
     ]
    },
    {
     "name": "stdout",
     "output_type": "stream",
     "text": [
      "['Revin']\n",
      "['France']\n",
      "39\n"
     ]
    },
    {
     "name": "stderr",
     "output_type": "stream",
     "text": [
      "LightGBM binary classifier with TreeExplainer shap values output has changed to a list of ndarray\n"
     ]
    },
    {
     "name": "stdout",
     "output_type": "stream",
     "text": [
      "['Kamenicki vis']\n",
      "['Serbia']\n",
      "40\n"
     ]
    },
    {
     "name": "stderr",
     "output_type": "stream",
     "text": [
      "LightGBM binary classifier with TreeExplainer shap values output has changed to a list of ndarray\n"
     ]
    },
    {
     "name": "stdout",
     "output_type": "stream",
     "text": [
      "['Lille Valby']\n",
      "['Denmark']\n",
      "41\n"
     ]
    },
    {
     "name": "stderr",
     "output_type": "stream",
     "text": [
      "LightGBM binary classifier with TreeExplainer shap values output has changed to a list of ndarray\n"
     ]
    },
    {
     "name": "stdout",
     "output_type": "stream",
     "text": [
      "['PEÑAUSENDE']\n",
      "['Spain']\n",
      "42\n"
     ]
    },
    {
     "name": "stderr",
     "output_type": "stream",
     "text": [
      "LightGBM binary classifier with TreeExplainer shap values output has changed to a list of ndarray\n"
     ]
    },
    {
     "name": "stdout",
     "output_type": "stream",
     "text": [
      "['Öhringen']\n",
      "['Germany']\n",
      "43\n"
     ]
    },
    {
     "name": "stderr",
     "output_type": "stream",
     "text": [
      "LightGBM binary classifier with TreeExplainer shap values output has changed to a list of ndarray\n"
     ]
    },
    {
     "name": "stdout",
     "output_type": "stream",
     "text": [
      "['Zugspitze-Schneefernerhaus']\n",
      "['Germany']\n",
      "44\n"
     ]
    },
    {
     "name": "stderr",
     "output_type": "stream",
     "text": [
      "LightGBM binary classifier with TreeExplainer shap values output has changed to a list of ndarray\n"
     ]
    },
    {
     "name": "stdout",
     "output_type": "stream",
     "text": [
      "['Sandve']\n",
      "['Norway']\n",
      "45\n"
     ]
    },
    {
     "name": "stderr",
     "output_type": "stream",
     "text": [
      "LightGBM binary classifier with TreeExplainer shap values output has changed to a list of ndarray\n"
     ]
    },
    {
     "name": "stdout",
     "output_type": "stream",
     "text": [
      "['Wiesenburg']\n",
      "['Germany']\n",
      "46\n"
     ]
    },
    {
     "name": "stderr",
     "output_type": "stream",
     "text": [
      "LightGBM binary classifier with TreeExplainer shap values output has changed to a list of ndarray\n"
     ]
    },
    {
     "name": "stdout",
     "output_type": "stream",
     "text": [
      "['Osen']\n",
      "['Norway']\n",
      "47\n"
     ]
    },
    {
     "name": "stderr",
     "output_type": "stream",
     "text": [
      "LightGBM binary classifier with TreeExplainer shap values output has changed to a list of ndarray\n"
     ]
    },
    {
     "name": "stdout",
     "output_type": "stream",
     "text": [
      "['IMGW-Jarczew']\n",
      "['Poland']\n",
      "48\n"
     ]
    },
    {
     "name": "stderr",
     "output_type": "stream",
     "text": [
      "LightGBM binary classifier with TreeExplainer shap values output has changed to a list of ndarray\n"
     ]
    },
    {
     "name": "stdout",
     "output_type": "stream",
     "text": [
      "['Yarner Wood - UKA00168']\n",
      "['United Kingdom of Great Britain and Northern Ireland']\n",
      "49\n"
     ]
    },
    {
     "name": "stderr",
     "output_type": "stream",
     "text": [
      "LightGBM binary classifier with TreeExplainer shap values output has changed to a list of ndarray\n"
     ]
    },
    {
     "name": "stdout",
     "output_type": "stream",
     "text": [
      "['Kosetice']\n",
      "['Czech Republic']\n",
      "50\n"
     ]
    },
    {
     "name": "stderr",
     "output_type": "stream",
     "text": [
      "LightGBM binary classifier with TreeExplainer shap values output has changed to a list of ndarray\n"
     ]
    },
    {
     "name": "stdout",
     "output_type": "stream",
     "text": [
      "['KMŚ Puszcza Borecka']\n",
      "['Poland']\n",
      "51\n"
     ]
    },
    {
     "name": "stderr",
     "output_type": "stream",
     "text": [
      "LightGBM binary classifier with TreeExplainer shap values output has changed to a list of ndarray\n"
     ]
    },
    {
     "name": "stdout",
     "output_type": "stream",
     "text": [
      "['Haunsberg']\n",
      "['Austria']\n",
      "52\n"
     ]
    },
    {
     "name": "stderr",
     "output_type": "stream",
     "text": [
      "LightGBM binary classifier with TreeExplainer shap values output has changed to a list of ndarray\n"
     ]
    },
    {
     "name": "stdout",
     "output_type": "stream",
     "text": [
      "['Capo Granitola']\n",
      "['Italy']\n",
      "53\n"
     ]
    },
    {
     "name": "stderr",
     "output_type": "stream",
     "text": [
      "LightGBM binary classifier with TreeExplainer shap values output has changed to a list of ndarray\n"
     ]
    },
    {
     "name": "stdout",
     "output_type": "stream",
     "text": [
      "['\"Stara Lesna - AU SAV EMEP/O3\"']\n",
      "['Slovakia']\n",
      "54\n"
     ]
    },
    {
     "name": "stderr",
     "output_type": "stream",
     "text": [
      "LightGBM binary classifier with TreeExplainer shap values output has changed to a list of ndarray\n"
     ]
    },
    {
     "name": "stdout",
     "output_type": "stream",
     "text": [
      "['Pic du Midi']\n",
      "['France']\n",
      "55\n"
     ]
    },
    {
     "name": "stderr",
     "output_type": "stream",
     "text": [
      "LightGBM binary classifier with TreeExplainer shap values output has changed to a list of ndarray\n"
     ]
    },
    {
     "name": "stdout",
     "output_type": "stream",
     "text": [
      "['Eibergen']\n",
      "['Netherlands']\n",
      "56\n"
     ]
    },
    {
     "name": "stderr",
     "output_type": "stream",
     "text": [
      "LightGBM binary classifier with TreeExplainer shap values output has changed to a list of ndarray\n"
     ]
    },
    {
     "name": "stdout",
     "output_type": "stream",
     "text": [
      "['St. Koloman']\n",
      "['Austria']\n",
      "57\n"
     ]
    },
    {
     "name": "stderr",
     "output_type": "stream",
     "text": [
      "LightGBM binary classifier with TreeExplainer shap values output has changed to a list of ndarray\n"
     ]
    },
    {
     "name": "stdout",
     "output_type": "stream",
     "text": [
      "['Verneuil']\n",
      "['France']\n",
      "58\n"
     ]
    },
    {
     "name": "stderr",
     "output_type": "stream",
     "text": [
      "LightGBM binary classifier with TreeExplainer shap values output has changed to a list of ndarray\n"
     ]
    },
    {
     "name": "stdout",
     "output_type": "stream",
     "text": [
      "['Kerry Valentia Observatory']\n",
      "['Ireland']\n",
      "59\n"
     ]
    },
    {
     "name": "stderr",
     "output_type": "stream",
     "text": [
      "LightGBM binary classifier with TreeExplainer shap values output has changed to a list of ndarray\n"
     ]
    },
    {
     "name": "stdout",
     "output_type": "stream",
     "text": [
      "['Lerwick - UKA00486']\n",
      "['United Kingdom of Great Britain and Northern Ireland']\n",
      "60\n"
     ]
    },
    {
     "name": "stderr",
     "output_type": "stream",
     "text": [
      "LightGBM binary classifier with TreeExplainer shap values output has changed to a list of ndarray\n"
     ]
    },
    {
     "name": "stdout",
     "output_type": "stream",
     "text": [
      "['Lückendorf']\n",
      "['Germany']\n",
      "61\n"
     ]
    },
    {
     "name": "stderr",
     "output_type": "stream",
     "text": [
      "LightGBM binary classifier with TreeExplainer shap values output has changed to a list of ndarray\n"
     ]
    },
    {
     "name": "stdout",
     "output_type": "stream",
     "text": [
      "['Logroño']\n",
      "['Spain']\n",
      "62\n"
     ]
    },
    {
     "name": "stderr",
     "output_type": "stream",
     "text": [
      "LightGBM binary classifier with TreeExplainer shap values output has changed to a list of ndarray\n"
     ]
    },
    {
     "name": "stdout",
     "output_type": "stream",
     "text": [
      "['Vezin']\n",
      "['Belgium']\n",
      "63\n"
     ]
    },
    {
     "name": "stderr",
     "output_type": "stream",
     "text": [
      "LightGBM binary classifier with TreeExplainer shap values output has changed to a list of ndarray\n"
     ]
    },
    {
     "name": "stdout",
     "output_type": "stream",
     "text": [
      "['Lough Navar - UKA00166']\n",
      "['United Kingdom of Great Britain and Northern Ireland']\n",
      "64\n"
     ]
    },
    {
     "name": "stderr",
     "output_type": "stream",
     "text": [
      "LightGBM binary classifier with TreeExplainer shap values output has changed to a list of ndarray\n"
     ]
    },
    {
     "name": "stdout",
     "output_type": "stream",
     "text": [
      "['\"Ulborg\"']\n",
      "['Denmark']\n",
      "65\n"
     ]
    },
    {
     "name": "stderr",
     "output_type": "stream",
     "text": [
      "LightGBM binary classifier with TreeExplainer shap values output has changed to a list of ndarray\n"
     ]
    },
    {
     "name": "stdout",
     "output_type": "stream",
     "text": [
      "['Sonnblick']\n",
      "['Austria']\n",
      "66\n",
      "415537\n",
      "droping 850\n"
     ]
    },
    {
     "name": "stderr",
     "output_type": "stream",
     "text": [
      "LightGBM binary classifier with TreeExplainer shap values output has changed to a list of ndarray\n"
     ]
    },
    {
     "name": "stdout",
     "output_type": "stream",
     "text": [
      "['Monte Velho']\n",
      "['Portugal']\n",
      "67\n"
     ]
    },
    {
     "name": "stderr",
     "output_type": "stream",
     "text": [
      "LightGBM binary classifier with TreeExplainer shap values output has changed to a list of ndarray\n"
     ]
    },
    {
     "name": "stdout",
     "output_type": "stream",
     "text": [
      "['Aliartos']\n",
      "['Greece']\n",
      "68\n"
     ]
    },
    {
     "name": "stderr",
     "output_type": "stream",
     "text": [
      "LightGBM binary classifier with TreeExplainer shap values output has changed to a list of ndarray\n"
     ]
    },
    {
     "name": "stdout",
     "output_type": "stream",
     "text": [
      "['Iskrba']\n",
      "['Slovenia']\n",
      "69\n"
     ]
    },
    {
     "name": "stderr",
     "output_type": "stream",
     "text": [
      "LightGBM binary classifier with TreeExplainer shap values output has changed to a list of ndarray\n"
     ]
    },
    {
     "name": "stdout",
     "output_type": "stream",
     "text": [
      "['Deuselbach']\n",
      "['Germany']\n",
      "70\n"
     ]
    },
    {
     "name": "stderr",
     "output_type": "stream",
     "text": [
      "LightGBM binary classifier with TreeExplainer shap values output has changed to a list of ndarray\n"
     ]
    },
    {
     "name": "stdout",
     "output_type": "stream",
     "text": [
      "['Charlton Mackrell - UKA00537']\n",
      "['United Kingdom of Great Britain and Northern Ireland']\n",
      "71\n"
     ]
    },
    {
     "name": "stderr",
     "output_type": "stream",
     "text": [
      "LightGBM binary classifier with TreeExplainer shap values output has changed to a list of ndarray\n"
     ]
    },
    {
     "name": "stdout",
     "output_type": "stream",
     "text": [
      "['Birkenesobservatoriet']\n",
      "['Norway']\n",
      "72\n"
     ]
    },
    {
     "name": "stderr",
     "output_type": "stream",
     "text": [
      "LightGBM binary classifier with TreeExplainer shap values output has changed to a list of ndarray\n"
     ]
    },
    {
     "name": "stdout",
     "output_type": "stream",
     "text": [
      "['Offagne']\n",
      "['Belgium']\n",
      "73\n"
     ]
    },
    {
     "name": "stderr",
     "output_type": "stream",
     "text": [
      "LightGBM binary classifier with TreeExplainer shap values output has changed to a list of ndarray\n"
     ]
    },
    {
     "name": "stdout",
     "output_type": "stream",
     "text": [
      "['Cabauw Zijdeweg']\n",
      "['Netherlands']\n",
      "74\n"
     ]
    },
    {
     "name": "stderr",
     "output_type": "stream",
     "text": [
      "LightGBM binary classifier with TreeExplainer shap values output has changed to a list of ndarray\n"
     ]
    },
    {
     "name": "stdout",
     "output_type": "stream",
     "text": [
      "['Rörvik']\n",
      "['Sweden']\n",
      "75\n"
     ]
    },
    {
     "name": "stderr",
     "output_type": "stream",
     "text": [
      "LightGBM binary classifier with TreeExplainer shap values output has changed to a list of ndarray\n"
     ]
    },
    {
     "name": "stdout",
     "output_type": "stream",
     "text": [
      "['Zingst']\n",
      "['Germany']\n",
      "76\n"
     ]
    },
    {
     "name": "stderr",
     "output_type": "stream",
     "text": [
      "LightGBM binary classifier with TreeExplainer shap values output has changed to a list of ndarray\n"
     ]
    },
    {
     "name": "stdout",
     "output_type": "stream",
     "text": [
      "['\"K-puszta\"']\n",
      "['Hungary']\n",
      "77\n"
     ]
    },
    {
     "name": "stderr",
     "output_type": "stream",
     "text": [
      "LightGBM binary classifier with TreeExplainer shap values output has changed to a list of ndarray\n"
     ]
    },
    {
     "name": "stdout",
     "output_type": "stream",
     "text": [
      "['Norra Kvill']\n",
      "['Sweden']\n",
      "78\n"
     ]
    },
    {
     "name": "stderr",
     "output_type": "stream",
     "text": [
      "LightGBM binary classifier with TreeExplainer shap values output has changed to a list of ndarray\n"
     ]
    },
    {
     "name": "stdout",
     "output_type": "stream",
     "text": [
      "['Strathvaich - UKA00162']\n",
      "['United Kingdom of Great Britain and Northern Ireland']\n",
      "79\n"
     ]
    },
    {
     "name": "stderr",
     "output_type": "stream",
     "text": [
      "LightGBM binary classifier with TreeExplainer shap values output has changed to a list of ndarray\n"
     ]
    },
    {
     "name": "stdout",
     "output_type": "stream",
     "text": [
      "['NIEMBRO']\n",
      "['Spain']\n",
      "80\n"
     ]
    },
    {
     "name": "stderr",
     "output_type": "stream",
     "text": [
      "LightGBM binary classifier with TreeExplainer shap values output has changed to a list of ndarray\n"
     ]
    },
    {
     "name": "stdout",
     "output_type": "stream",
     "text": [
      "['Aston Hill - UKA00137']\n",
      "['United Kingdom of Great Britain and Northern Ireland']\n",
      "81\n"
     ]
    },
    {
     "name": "stderr",
     "output_type": "stream",
     "text": [
      "LightGBM binary classifier with TreeExplainer shap values output has changed to a list of ndarray\n"
     ]
    },
    {
     "name": "stdout",
     "output_type": "stream",
     "text": [
      "['Virolahti II']\n",
      "['Finland']\n",
      "82\n"
     ]
    },
    {
     "name": "stderr",
     "output_type": "stream",
     "text": [
      "LightGBM binary classifier with TreeExplainer shap values output has changed to a list of ndarray\n"
     ]
    },
    {
     "name": "stdout",
     "output_type": "stream",
     "text": [
      "['Somerton']\n",
      "['United Kingdom of Great Britain and Northern Ireland']\n",
      "83\n"
     ]
    },
    {
     "name": "stderr",
     "output_type": "stream",
     "text": [
      "LightGBM binary classifier with TreeExplainer shap values output has changed to a list of ndarray\n"
     ]
    },
    {
     "name": "stdout",
     "output_type": "stream",
     "text": [
      "['Eskdalemuir - UKA00130']\n",
      "['United Kingdom of Great Britain and Northern Ireland']\n",
      "84\n"
     ]
    },
    {
     "name": "stderr",
     "output_type": "stream",
     "text": [
      "LightGBM binary classifier with TreeExplainer shap values output has changed to a list of ndarray\n"
     ]
    },
    {
     "name": "stdout",
     "output_type": "stream",
     "text": [
      "['Graz Lustbühel']\n",
      "['Austria']\n",
      "85\n"
     ]
    },
    {
     "name": "stderr",
     "output_type": "stream",
     "text": [
      "LightGBM binary classifier with TreeExplainer shap values output has changed to a list of ndarray\n"
     ]
    },
    {
     "name": "stdout",
     "output_type": "stream",
     "text": [
      "['De Zilk']\n",
      "['Netherlands']\n",
      "86\n"
     ]
    },
    {
     "name": "stderr",
     "output_type": "stream",
     "text": [
      "LightGBM binary classifier with TreeExplainer shap values output has changed to a list of ndarray\n"
     ]
    },
    {
     "name": "stdout",
     "output_type": "stream",
     "text": [
      "['Drôme Rurale Sud-SND']\n",
      "['France']\n",
      "87\n"
     ]
    },
    {
     "name": "stderr",
     "output_type": "stream",
     "text": [
      "LightGBM binary classifier with TreeExplainer shap values output has changed to a list of ndarray\n"
     ]
    },
    {
     "name": "stdout",
     "output_type": "stream",
     "text": [
      "['Ansbach']\n",
      "['Germany']\n",
      "88\n"
     ]
    },
    {
     "name": "stderr",
     "output_type": "stream",
     "text": [
      "LightGBM binary classifier with TreeExplainer shap values output has changed to a list of ndarray\n"
     ]
    },
    {
     "name": "stdout",
     "output_type": "stream",
     "text": [
      "['Bonnevaux']\n",
      "['France']\n",
      "89\n"
     ]
    },
    {
     "name": "stderr",
     "output_type": "stream",
     "text": [
      "LightGBM binary classifier with TreeExplainer shap values output has changed to a list of ndarray\n"
     ]
    },
    {
     "name": "stdout",
     "output_type": "stream",
     "text": [
      "['Montandon']\n",
      "['France']\n",
      "90\n"
     ]
    },
    {
     "name": "stderr",
     "output_type": "stream",
     "text": [
      "LightGBM binary classifier with TreeExplainer shap values output has changed to a list of ndarray\n"
     ]
    },
    {
     "name": "stdout",
     "output_type": "stream",
     "text": [
      "['Grimsö']\n",
      "['Sweden']\n",
      "91\n"
     ]
    },
    {
     "name": "stderr",
     "output_type": "stream",
     "text": [
      "LightGBM binary classifier with TreeExplainer shap values output has changed to a list of ndarray\n"
     ]
    },
    {
     "name": "stdout",
     "output_type": "stream",
     "text": [
      "['\"Chopok - EMEP/O3\"']\n",
      "['Slovakia']\n",
      "92\n"
     ]
    },
    {
     "name": "stderr",
     "output_type": "stream",
     "text": [
      "LightGBM binary classifier with TreeExplainer shap values output has changed to a list of ndarray\n"
     ]
    },
    {
     "name": "stdout",
     "output_type": "stream",
     "text": [
      "['Rigi-Seebodenalp']\n",
      "['Switzerland']\n",
      "93\n"
     ]
    },
    {
     "name": "stderr",
     "output_type": "stream",
     "text": [
      "LightGBM binary classifier with TreeExplainer shap values output has changed to a list of ndarray\n"
     ]
    },
    {
     "name": "stdout",
     "output_type": "stream",
     "text": [
      "['Bredkälen']\n",
      "['Sweden']\n",
      "94\n"
     ]
    },
    {
     "name": "stderr",
     "output_type": "stream",
     "text": [
      "LightGBM binary classifier with TreeExplainer shap values output has changed to a list of ndarray\n"
     ]
    },
    {
     "name": "stdout",
     "output_type": "stream",
     "text": [
      "['Brotjacklriegel']\n",
      "['Germany']\n",
      "95\n"
     ]
    },
    {
     "name": "stderr",
     "output_type": "stream",
     "text": [
      "LightGBM binary classifier with TreeExplainer shap values output has changed to a list of ndarray\n"
     ]
    },
    {
     "name": "stdout",
     "output_type": "stream",
     "text": [
      "['Bassum']\n",
      "['Germany']\n",
      "96\n"
     ]
    },
    {
     "name": "stderr",
     "output_type": "stream",
     "text": [
      "LightGBM binary classifier with TreeExplainer shap values output has changed to a list of ndarray\n"
     ]
    },
    {
     "name": "stdout",
     "output_type": "stream",
     "text": [
      "['Schmücke']\n",
      "['Germany']\n",
      "97\n"
     ]
    },
    {
     "name": "stderr",
     "output_type": "stream",
     "text": [
      "LightGBM binary classifier with TreeExplainer shap values output has changed to a list of ndarray\n"
     ]
    },
    {
     "name": "stdout",
     "output_type": "stream",
     "text": [
      "['Vindeln']\n",
      "['Sweden']\n",
      "98\n"
     ]
    },
    {
     "name": "stderr",
     "output_type": "stream",
     "text": [
      "LightGBM binary classifier with TreeExplainer shap values output has changed to a list of ndarray\n"
     ]
    },
    {
     "name": "stdout",
     "output_type": "stream",
     "text": [
      "['Wicken Fen - UKA00362']\n",
      "['United Kingdom of Great Britain and Northern Ireland']\n",
      "99\n"
     ]
    },
    {
     "name": "stderr",
     "output_type": "stream",
     "text": [
      "LightGBM binary classifier with TreeExplainer shap values output has changed to a list of ndarray\n"
     ]
    },
    {
     "name": "stdout",
     "output_type": "stream",
     "text": [
      "['Hallahus']\n",
      "['Sweden']\n",
      "100\n"
     ]
    },
    {
     "name": "stderr",
     "output_type": "stream",
     "text": [
      "LightGBM binary classifier with TreeExplainer shap values output has changed to a list of ndarray\n"
     ]
    },
    {
     "name": "stdout",
     "output_type": "stream",
     "text": [
      "['Śnieżka']\n",
      "['Poland']\n",
      "101\n"
     ]
    },
    {
     "name": "stderr",
     "output_type": "stream",
     "text": [
      "LightGBM binary classifier with TreeExplainer shap values output has changed to a list of ndarray\n"
     ]
    },
    {
     "name": "stdout",
     "output_type": "stream",
     "text": [
      "['AT80503']\n",
      "['Austria']\n",
      "102\n"
     ]
    },
    {
     "name": "stderr",
     "output_type": "stream",
     "text": [
      "LightGBM binary classifier with TreeExplainer shap values output has changed to a list of ndarray\n"
     ]
    },
    {
     "name": "stdout",
     "output_type": "stream",
     "text": [
      "['Eupen']\n",
      "['Belgium']\n",
      "103\n"
     ]
    },
    {
     "name": "stderr",
     "output_type": "stream",
     "text": [
      "LightGBM binary classifier with TreeExplainer shap values output has changed to a list of ndarray\n"
     ]
    },
    {
     "name": "stdout",
     "output_type": "stream",
     "text": [
      "['Ispra']\n",
      "['Italy']\n",
      "104\n"
     ]
    },
    {
     "name": "stderr",
     "output_type": "stream",
     "text": [
      "LightGBM binary classifier with TreeExplainer shap values output has changed to a list of ndarray\n"
     ]
    },
    {
     "name": "stdout",
     "output_type": "stream",
     "text": [
      "['MAHÓN']\n",
      "['Spain']\n",
      "105\n"
     ]
    },
    {
     "name": "stderr",
     "output_type": "stream",
     "text": [
      "LightGBM binary classifier with TreeExplainer shap values output has changed to a list of ndarray\n"
     ]
    },
    {
     "name": "stdout",
     "output_type": "stream",
     "text": [
      "['Aspvreten']\n",
      "['Sweden']\n",
      "106\n"
     ]
    },
    {
     "name": "stderr",
     "output_type": "stream",
     "text": [
      "LightGBM binary classifier with TreeExplainer shap values output has changed to a list of ndarray\n"
     ]
    },
    {
     "name": "stdout",
     "output_type": "stream",
     "text": [
      "['Preila']\n",
      "['Lithuania']\n",
      "107\n"
     ]
    },
    {
     "name": "stderr",
     "output_type": "stream",
     "text": [
      "LightGBM binary classifier with TreeExplainer shap values output has changed to a list of ndarray\n"
     ]
    },
    {
     "name": "stdout",
     "output_type": "stream",
     "text": [
      "['Graz Platte']\n",
      "['Austria']\n",
      "108\n"
     ]
    },
    {
     "name": "stderr",
     "output_type": "stream",
     "text": [
      "LightGBM binary classifier with TreeExplainer shap values output has changed to a list of ndarray\n"
     ]
    },
    {
     "name": "stdout",
     "output_type": "stream",
     "text": [
      "['BARCARROTA']\n",
      "['Spain']\n",
      "109\n"
     ]
    },
    {
     "name": "stderr",
     "output_type": "stream",
     "text": [
      "LightGBM binary classifier with TreeExplainer shap values output has changed to a list of ndarray\n"
     ]
    },
    {
     "name": "stdout",
     "output_type": "stream",
     "text": [
      "['Zoseni']\n",
      "['Latvia']\n",
      "110\n"
     ]
    },
    {
     "name": "stderr",
     "output_type": "stream",
     "text": [
      "LightGBM binary classifier with TreeExplainer shap values output has changed to a list of ndarray\n"
     ]
    },
    {
     "name": "stdout",
     "output_type": "stream",
     "text": [
      "['St. Osyth']\n",
      "['United Kingdom of Great Britain and Northern Ireland']\n",
      "111\n"
     ]
    },
    {
     "name": "stderr",
     "output_type": "stream",
     "text": [
      "LightGBM binary classifier with TreeExplainer shap values output has changed to a list of ndarray\n"
     ]
    },
    {
     "name": "stdout",
     "output_type": "stream",
     "text": [
      "['La Coulonche']\n",
      "['France']\n",
      "112\n"
     ]
    },
    {
     "name": "stderr",
     "output_type": "stream",
     "text": [
      "LightGBM binary classifier with TreeExplainer shap values output has changed to a list of ndarray\n"
     ]
    },
    {
     "name": "stdout",
     "output_type": "stream",
     "text": [
      "['Great Dun Fell - UKA00134']\n",
      "['United Kingdom of Great Britain and Northern Ireland']\n",
      "113\n"
     ]
    },
    {
     "name": "stderr",
     "output_type": "stream",
     "text": [
      "LightGBM binary classifier with TreeExplainer shap values output has changed to a list of ndarray\n"
     ]
    },
    {
     "name": "stdout",
     "output_type": "stream",
     "text": [
      "['Cabauw Wielsekade']\n",
      "['Netherlands']\n",
      "114\n"
     ]
    },
    {
     "name": "stderr",
     "output_type": "stream",
     "text": [
      "LightGBM binary classifier with TreeExplainer shap values output has changed to a list of ndarray\n"
     ]
    },
    {
     "name": "stdout",
     "output_type": "stream",
     "text": [
      "['Rucava']\n",
      "['Latvia']\n",
      "115\n"
     ]
    },
    {
     "name": "stderr",
     "output_type": "stream",
     "text": [
      "LightGBM binary classifier with TreeExplainer shap values output has changed to a list of ndarray\n"
     ]
    },
    {
     "name": "stdout",
     "output_type": "stream",
     "text": [
      "['Ähtäri']\n",
      "['Finland']\n",
      "116\n"
     ]
    },
    {
     "name": "stderr",
     "output_type": "stream",
     "text": [
      "LightGBM binary classifier with TreeExplainer shap values output has changed to a list of ndarray\n"
     ]
    },
    {
     "name": "stdout",
     "output_type": "stream",
     "text": [
      "['Lullington Heath - UKA00152']\n",
      "['United Kingdom of Great Britain and Northern Ireland']\n",
      "117\n"
     ]
    },
    {
     "name": "stderr",
     "output_type": "stream",
     "text": [
      "LightGBM binary classifier with TreeExplainer shap values output has changed to a list of ndarray\n"
     ]
    },
    {
     "name": "stdout",
     "output_type": "stream",
     "text": [
      "['Wharley Croft']\n",
      "['United Kingdom of Great Britain and Northern Ireland']\n",
      "118\n"
     ]
    },
    {
     "name": "stderr",
     "output_type": "stream",
     "text": [
      "LightGBM binary classifier with TreeExplainer shap values output has changed to a list of ndarray\n"
     ]
    },
    {
     "name": "stdout",
     "output_type": "stream",
     "text": [
      "['Montelibretti']\n",
      "['Italy']\n",
      "119\n"
     ]
    },
    {
     "name": "stderr",
     "output_type": "stream",
     "text": [
      "LightGBM binary classifier with TreeExplainer shap values output has changed to a list of ndarray\n"
     ]
    },
    {
     "name": "stdout",
     "output_type": "stream",
     "text": [
      "['Montfranc']\n",
      "['France']\n",
      "120\n"
     ]
    },
    {
     "name": "stderr",
     "output_type": "stream",
     "text": [
      "LightGBM binary classifier with TreeExplainer shap values output has changed to a list of ndarray\n"
     ]
    },
    {
     "name": "stdout",
     "output_type": "stream",
     "text": [
      "['Svratouch']\n",
      "['Czech Republic']\n",
      "121\n"
     ]
    },
    {
     "name": "stderr",
     "output_type": "stream",
     "text": [
      "LightGBM binary classifier with TreeExplainer shap values output has changed to a list of ndarray\n"
     ]
    },
    {
     "name": "stdout",
     "output_type": "stream",
     "text": [
      "['Waldhof']\n",
      "['Germany']\n",
      "122\n"
     ]
    },
    {
     "name": "stderr",
     "output_type": "stream",
     "text": [
      "LightGBM binary classifier with TreeExplainer shap values output has changed to a list of ndarray\n"
     ]
    },
    {
     "name": "stdout",
     "output_type": "stream",
     "text": [
      "['Virolahti III']\n",
      "['Finland']\n",
      "123\n"
     ]
    },
    {
     "name": "stderr",
     "output_type": "stream",
     "text": [
      "LightGBM binary classifier with TreeExplainer shap values output has changed to a list of ndarray\n"
     ]
    },
    {
     "name": "stdout",
     "output_type": "stream",
     "text": [
      "['Morvan']\n",
      "['France']\n",
      "124\n"
     ]
    },
    {
     "name": "stderr",
     "output_type": "stream",
     "text": [
      "LightGBM binary classifier with TreeExplainer shap values output has changed to a list of ndarray\n"
     ]
    },
    {
     "name": "stdout",
     "output_type": "stream",
     "text": [
      "['Dunkelsteinerwald']\n",
      "['Austria']\n",
      "125\n"
     ]
    },
    {
     "name": "stderr",
     "output_type": "stream",
     "text": [
      "LightGBM binary classifier with TreeExplainer shap values output has changed to a list of ndarray\n"
     ]
    },
    {
     "name": "stdout",
     "output_type": "stream",
     "text": [
      "['Gerlitzen']\n",
      "['Austria']\n",
      "126\n"
     ]
    },
    {
     "name": "stderr",
     "output_type": "stream",
     "text": [
      "LightGBM binary classifier with TreeExplainer shap values output has changed to a list of ndarray\n"
     ]
    },
    {
     "name": "stdout",
     "output_type": "stream",
     "text": [
      "['IMGW Łeba - Rąbka']\n",
      "['Poland']\n",
      "127\n"
     ]
    },
    {
     "name": "stderr",
     "output_type": "stream",
     "text": [
      "LightGBM binary classifier with TreeExplainer shap values output has changed to a list of ndarray\n"
     ]
    },
    {
     "name": "stdout",
     "output_type": "stream",
     "text": [
      "['AT0ZOE2']\n",
      "['Austria']\n",
      "128\n"
     ]
    },
    {
     "name": "stderr",
     "output_type": "stream",
     "text": [
      "LightGBM binary classifier with TreeExplainer shap values output has changed to a list of ndarray\n"
     ]
    },
    {
     "name": "stdout",
     "output_type": "stream",
     "text": [
      "['ZARRA']\n",
      "['Spain']\n",
      "129\n"
     ]
    },
    {
     "name": "stderr",
     "output_type": "stream",
     "text": [
      "LightGBM binary classifier with TreeExplainer shap values output has changed to a list of ndarray\n"
     ]
    },
    {
     "name": "stdout",
     "output_type": "stream",
     "text": [
      "['Stolzalpe bei Murau']\n",
      "['Austria']\n",
      "130\n"
     ]
    },
    {
     "name": "stderr",
     "output_type": "stream",
     "text": [
      "LightGBM binary classifier with TreeExplainer shap values output has changed to a list of ndarray\n"
     ]
    },
    {
     "name": "stdout",
     "output_type": "stream",
     "text": [
      "['Peyrusse Vieille']\n",
      "['France']\n",
      "131\n"
     ]
    },
    {
     "name": "stderr",
     "output_type": "stream",
     "text": [
      "LightGBM binary classifier with TreeExplainer shap values output has changed to a list of ndarray\n"
     ]
    },
    {
     "name": "stdout",
     "output_type": "stream",
     "text": [
      "['Harwell - UKA00047']\n",
      "['United Kingdom of Great Britain and Northern Ireland']\n",
      "132\n"
     ]
    },
    {
     "name": "stderr",
     "output_type": "stream",
     "text": [
      "LightGBM binary classifier with TreeExplainer shap values output has changed to a list of ndarray\n"
     ]
    },
    {
     "name": "stdout",
     "output_type": "stream",
     "text": [
      "['Kollumerwaard']\n",
      "['Netherlands']\n",
      "133\n"
     ]
    },
    {
     "name": "stderr",
     "output_type": "stream",
     "text": [
      "LightGBM binary classifier with TreeExplainer shap values output has changed to a list of ndarray\n"
     ]
    },
    {
     "name": "stdout",
     "output_type": "stream",
     "text": [
      "['Voss']\n",
      "['Norway']\n",
      "134\n"
     ]
    },
    {
     "name": "stderr",
     "output_type": "stream",
     "text": [
      "LightGBM binary classifier with TreeExplainer shap values output has changed to a list of ndarray\n"
     ]
    },
    {
     "name": "stdout",
     "output_type": "stream",
     "text": [
      "['Westerland']\n",
      "['Germany']\n",
      "135\n"
     ]
    },
    {
     "name": "stderr",
     "output_type": "stream",
     "text": [
      "LightGBM binary classifier with TreeExplainer shap values output has changed to a list of ndarray\n"
     ]
    },
    {
     "name": "stdout",
     "output_type": "stream",
     "text": [
      "['Rottenburg']\n",
      "['Germany']\n",
      "136\n"
     ]
    },
    {
     "name": "stderr",
     "output_type": "stream",
     "text": [
      "LightGBM binary classifier with TreeExplainer shap values output has changed to a list of ndarray\n"
     ]
    },
    {
     "name": "stdout",
     "output_type": "stream",
     "text": [
      "['Råö']\n",
      "['Sweden']\n",
      "137\n"
     ]
    },
    {
     "name": "stderr",
     "output_type": "stream",
     "text": [
      "LightGBM binary classifier with TreeExplainer shap values output has changed to a list of ndarray\n"
     ]
    },
    {
     "name": "stdout",
     "output_type": "stream",
     "text": [
      "['Ladybower - UKA00171']\n",
      "['United Kingdom of Great Britain and Northern Ireland']\n",
      "138\n"
     ]
    },
    {
     "name": "stderr",
     "output_type": "stream",
     "text": [
      "LightGBM binary classifier with TreeExplainer shap values output has changed to a list of ndarray\n"
     ]
    },
    {
     "name": "stdout",
     "output_type": "stream",
     "text": [
      "['Market Harborough - UKA00463']\n",
      "['United Kingdom of Great Britain and Northern Ireland']\n",
      "139\n"
     ]
    },
    {
     "name": "stderr",
     "output_type": "stream",
     "text": [
      "LightGBM binary classifier with TreeExplainer shap values output has changed to a list of ndarray\n"
     ]
    },
    {
     "name": "stdout",
     "output_type": "stream",
     "text": [
      "['AT30502']\n",
      "['Austria']\n",
      "140\n"
     ]
    },
    {
     "name": "stderr",
     "output_type": "stream",
     "text": [
      "LightGBM binary classifier with TreeExplainer shap values output has changed to a list of ndarray\n"
     ]
    },
    {
     "name": "stdout",
     "output_type": "stream",
     "text": [
      "['Ueckermünde']\n",
      "['Germany']\n",
      "141\n"
     ]
    },
    {
     "name": "stderr",
     "output_type": "stream",
     "text": [
      "LightGBM binary classifier with TreeExplainer shap values output has changed to a list of ndarray\n"
     ]
    },
    {
     "name": "stdout",
     "output_type": "stream",
     "text": [
      "['Tustervatn']\n",
      "['Norway']\n",
      "142\n"
     ]
    },
    {
     "name": "stderr",
     "output_type": "stream",
     "text": [
      "LightGBM binary classifier with TreeExplainer shap values output has changed to a list of ndarray\n"
     ]
    },
    {
     "name": "stdout",
     "output_type": "stream",
     "text": [
      "['Meinerzhagen']\n",
      "['Germany']\n",
      "143\n"
     ]
    },
    {
     "name": "stderr",
     "output_type": "stream",
     "text": [
      "LightGBM binary classifier with TreeExplainer shap values output has changed to a list of ndarray\n"
     ]
    },
    {
     "name": "stdout",
     "output_type": "stream",
     "text": [
      "['O SAVIÑAO']\n",
      "['Spain']\n",
      "144\n"
     ]
    },
    {
     "name": "stderr",
     "output_type": "stream",
     "text": [
      "LightGBM binary classifier with TreeExplainer shap values output has changed to a list of ndarray\n"
     ]
    },
    {
     "name": "stdout",
     "output_type": "stream",
     "text": [
      "['\"Starina - Vodna nadr. EMEP/O3\"']\n",
      "['Slovakia']\n",
      "145\n"
     ]
    },
    {
     "name": "stderr",
     "output_type": "stream",
     "text": [
      "LightGBM binary classifier with TreeExplainer shap values output has changed to a list of ndarray\n"
     ]
    },
    {
     "name": "stdout",
     "output_type": "stream",
     "text": [
      "['Stixneusiedl']\n",
      "['Austria']\n",
      "146\n"
     ]
    },
    {
     "name": "stderr",
     "output_type": "stream",
     "text": [
      "LightGBM binary classifier with TreeExplainer shap values output has changed to a list of ndarray\n"
     ]
    },
    {
     "name": "stdout",
     "output_type": "stream",
     "text": [
      "['Grebenzen bei St. Lamprecht']\n",
      "['Austria']\n",
      "147\n"
     ]
    },
    {
     "name": "stderr",
     "output_type": "stream",
     "text": [
      "LightGBM binary classifier with TreeExplainer shap values output has changed to a list of ndarray\n"
     ]
    },
    {
     "name": "stdout",
     "output_type": "stream",
     "text": [
      "['Iraty']\n",
      "['France']\n",
      "148\n"
     ]
    },
    {
     "name": "stderr",
     "output_type": "stream",
     "text": [
      "LightGBM binary classifier with TreeExplainer shap values output has changed to a list of ndarray\n"
     ]
    },
    {
     "name": "stdout",
     "output_type": "stream",
     "text": [
      "['ELS TORMS']\n",
      "['Spain']\n",
      "149\n"
     ]
    },
    {
     "name": "stderr",
     "output_type": "stream",
     "text": [
      "LightGBM binary classifier with TreeExplainer shap values output has changed to a list of ndarray\n"
     ]
    },
    {
     "name": "stdout",
     "output_type": "stream",
     "text": [
      "['SAN PABLO DE LOS MONTES']\n",
      "['Spain']\n",
      "150\n"
     ]
    },
    {
     "name": "stderr",
     "output_type": "stream",
     "text": [
      "LightGBM binary classifier with TreeExplainer shap values output has changed to a list of ndarray\n"
     ]
    },
    {
     "name": "stdout",
     "output_type": "stream",
     "text": [
      "['Beromünster']\n",
      "['Switzerland']\n",
      "151\n"
     ]
    },
    {
     "name": "stderr",
     "output_type": "stream",
     "text": [
      "LightGBM binary classifier with TreeExplainer shap values output has changed to a list of ndarray\n"
     ]
    },
    {
     "name": "stdout",
     "output_type": "stream",
     "text": [
      "['Donon']\n",
      "['France']\n",
      "152\n"
     ]
    },
    {
     "name": "stderr",
     "output_type": "stream",
     "text": [
      "LightGBM binary classifier with TreeExplainer shap values output has changed to a list of ndarray\n"
     ]
    },
    {
     "name": "stdout",
     "output_type": "stream",
     "text": [
      "['Jeløya']\n",
      "['Norway']\n",
      "153\n"
     ]
    },
    {
     "name": "stderr",
     "output_type": "stream",
     "text": [
      "LightGBM binary classifier with TreeExplainer shap values output has changed to a list of ndarray\n"
     ]
    },
    {
     "name": "stdout",
     "output_type": "stream",
     "text": [
      "['Frederiksborg']\n",
      "['Denmark']\n",
      "154\n"
     ]
    },
    {
     "name": "stderr",
     "output_type": "stream",
     "text": [
      "LightGBM binary classifier with TreeExplainer shap values output has changed to a list of ndarray\n"
     ]
    },
    {
     "name": "stdout",
     "output_type": "stream",
     "text": [
      "['Tänikon']\n",
      "['Switzerland']\n",
      "155\n"
     ]
    },
    {
     "name": "stderr",
     "output_type": "stream",
     "text": [
      "LightGBM binary classifier with TreeExplainer shap values output has changed to a list of ndarray\n"
     ]
    },
    {
     "name": "stdout",
     "output_type": "stream",
     "text": [
      "['CAMPISÁBALOS']\n",
      "['Spain']\n",
      "156\n"
     ]
    },
    {
     "name": "stderr",
     "output_type": "stream",
     "text": [
      "LightGBM binary classifier with TreeExplainer shap values output has changed to a list of ndarray\n"
     ]
    },
    {
     "name": "stdout",
     "output_type": "stream",
     "text": [
      "['Farkasfa']\n",
      "['Hungary']\n",
      "157\n"
     ]
    },
    {
     "name": "stderr",
     "output_type": "stream",
     "text": [
      "LightGBM binary classifier with TreeExplainer shap values output has changed to a list of ndarray\n"
     ]
    },
    {
     "name": "stdout",
     "output_type": "stream",
     "text": [
      "['Vavihill']\n",
      "['Sweden']\n",
      "158\n"
     ]
    },
    {
     "name": "stderr",
     "output_type": "stream",
     "text": [
      "LightGBM binary classifier with TreeExplainer shap values output has changed to a list of ndarray\n"
     ]
    },
    {
     "name": "stdout",
     "output_type": "stream",
     "text": [
      "['Vredepeel']\n",
      "['Netherlands']\n",
      "159\n"
     ]
    },
    {
     "name": "stderr",
     "output_type": "stream",
     "text": [
      "LightGBM binary classifier with TreeExplainer shap values output has changed to a list of ndarray\n"
     ]
    },
    {
     "name": "stdout",
     "output_type": "stream",
     "text": [
      "['Keldsnor']\n",
      "['Denmark']\n",
      "160\n"
     ]
    },
    {
     "name": "stderr",
     "output_type": "stream",
     "text": [
      "LightGBM binary classifier with TreeExplainer shap values output has changed to a list of ndarray\n"
     ]
    },
    {
     "name": "stdout",
     "output_type": "stream",
     "text": [
      "['Mt Cimone']\n",
      "['Italy']\n",
      "161\n"
     ]
    },
    {
     "name": "stderr",
     "output_type": "stream",
     "text": [
      "LightGBM binary classifier with TreeExplainer shap values output has changed to a list of ndarray\n"
     ]
    },
    {
     "name": "stdout",
     "output_type": "stream",
     "text": [
      "['Lazaropole']\n",
      "['North Macedonia']\n",
      "162\n"
     ]
    },
    {
     "name": "stderr",
     "output_type": "stream",
     "text": [
      "LightGBM binary classifier with TreeExplainer shap values output has changed to a list of ndarray\n"
     ]
    },
    {
     "name": "stdout",
     "output_type": "stream",
     "text": [
      "['High Muffles - UKA00169']\n",
      "['United Kingdom of Great Britain and Northern Ireland']\n",
      "163\n"
     ]
    },
    {
     "name": "stderr",
     "output_type": "stream",
     "text": [
      "LightGBM binary classifier with TreeExplainer shap values output has changed to a list of ndarray\n"
     ]
    },
    {
     "name": "stdout",
     "output_type": "stream",
     "text": [
      "['Finokalia']\n",
      "['Greece']\n",
      "164\n"
     ]
    },
    {
     "name": "stderr",
     "output_type": "stream",
     "text": [
      "LightGBM binary classifier with TreeExplainer shap values output has changed to a list of ndarray\n"
     ]
    },
    {
     "name": "stdout",
     "output_type": "stream",
     "text": [
      "['Risco Llamo']\n",
      "['Spain']\n",
      "165\n"
     ]
    },
    {
     "name": "stderr",
     "output_type": "stream",
     "text": [
      "LightGBM binary classifier with TreeExplainer shap values output has changed to a list of ndarray\n"
     ]
    },
    {
     "name": "stdout",
     "output_type": "stream",
     "text": [
      "['CABO DE CREUS']\n",
      "['Spain']\n",
      "166\n"
     ]
    },
    {
     "name": "stderr",
     "output_type": "stream",
     "text": [
      "LightGBM binary classifier with TreeExplainer shap values output has changed to a list of ndarray\n"
     ]
    },
    {
     "name": "stdout",
     "output_type": "stream",
     "text": [
      "['Weybourne - UKA00433']\n",
      "['United Kingdom of Great Britain and Northern Ireland']\n",
      "167\n"
     ]
    },
    {
     "name": "stderr",
     "output_type": "stream",
     "text": [
      "LightGBM binary classifier with TreeExplainer shap values output has changed to a list of ndarray\n"
     ]
    },
    {
     "name": "stdout",
     "output_type": "stream",
     "text": [
      "['Hohenpeissenberg']\n",
      "['Germany']\n",
      "168\n"
     ]
    },
    {
     "name": "stderr",
     "output_type": "stream",
     "text": [
      "LightGBM binary classifier with TreeExplainer shap values output has changed to a list of ndarray\n"
     ]
    },
    {
     "name": "stdout",
     "output_type": "stream",
     "text": [
      "['Zillertaler Alpen']\n",
      "['Austria']\n",
      "169\n",
      "415697\n",
      "droping 850\n"
     ]
    },
    {
     "name": "stderr",
     "output_type": "stream",
     "text": [
      "LightGBM binary classifier with TreeExplainer shap values output has changed to a list of ndarray\n"
     ]
    },
    {
     "name": "stdout",
     "output_type": "stream",
     "text": [
      "['Churanov']\n",
      "['Czech Republic']\n",
      "170\n"
     ]
    },
    {
     "name": "stderr",
     "output_type": "stream",
     "text": [
      "LightGBM binary classifier with TreeExplainer shap values output has changed to a list of ndarray\n"
     ]
    },
    {
     "name": "stdout",
     "output_type": "stream",
     "text": [
      "['Prestebakke']\n",
      "['Norway']\n",
      "171\n"
     ]
    },
    {
     "name": "stderr",
     "output_type": "stream",
     "text": [
      "LightGBM binary classifier with TreeExplainer shap values output has changed to a list of ndarray\n"
     ]
    },
    {
     "name": "stdout",
     "output_type": "stream",
     "text": [
      "['Narberth - UKA00323']\n",
      "['United Kingdom of Great Britain and Northern Ireland']\n",
      "172\n"
     ]
    },
    {
     "name": "stderr",
     "output_type": "stream",
     "text": [
      "LightGBM binary classifier with TreeExplainer shap values output has changed to a list of ndarray\n"
     ]
    },
    {
     "name": "stdout",
     "output_type": "stream",
     "text": [
      "['Gänserndorf']\n",
      "['Austria']\n",
      "173\n"
     ]
    },
    {
     "name": "stderr",
     "output_type": "stream",
     "text": [
      "LightGBM binary classifier with TreeExplainer shap values output has changed to a list of ndarray\n"
     ]
    },
    {
     "name": "stdout",
     "output_type": "stream",
     "text": [
      "['DOÑANA']\n",
      "['Spain']\n",
      "174\n"
     ]
    },
    {
     "name": "stderr",
     "output_type": "stream",
     "text": [
      "LightGBM binary classifier with TreeExplainer shap values output has changed to a list of ndarray\n"
     ]
    },
    {
     "name": "stdout",
     "output_type": "stream",
     "text": [
      "['AT30202']\n",
      "['Austria']\n",
      "175\n"
     ]
    },
    {
     "name": "stderr",
     "output_type": "stream",
     "text": [
      "LightGBM binary classifier with TreeExplainer shap values output has changed to a list of ndarray\n"
     ]
    },
    {
     "name": "stdout",
     "output_type": "stream",
     "text": [
      "['Sion']\n",
      "['Switzerland']\n",
      "176\n",
      "415706\n",
      "droping 850\n"
     ]
    },
    {
     "name": "stderr",
     "output_type": "stream",
     "text": [
      "LightGBM binary classifier with TreeExplainer shap values output has changed to a list of ndarray\n"
     ]
    },
    {
     "name": "stdout",
     "output_type": "stream",
     "text": [
      "['Chilbolton Observatory - UKA00614']\n",
      "['United Kingdom of Great Britain and Northern Ireland']\n",
      "177\n"
     ]
    },
    {
     "name": "stderr",
     "output_type": "stream",
     "text": [
      "LightGBM binary classifier with TreeExplainer shap values output has changed to a list of ndarray\n"
     ]
    },
    {
     "name": "stdout",
     "output_type": "stream",
     "text": [
      "['Galway Mace Head']\n",
      "['Ireland']\n",
      "178\n"
     ]
    },
    {
     "name": "stderr",
     "output_type": "stream",
     "text": [
      "LightGBM binary classifier with TreeExplainer shap values output has changed to a list of ndarray\n"
     ]
    },
    {
     "name": "stdout",
     "output_type": "stream",
     "text": [
      "['Lampedusa']\n",
      "['Italy']\n",
      "179\n"
     ]
    },
    {
     "name": "stderr",
     "output_type": "stream",
     "text": [
      "LightGBM binary classifier with TreeExplainer shap values output has changed to a list of ndarray\n"
     ]
    },
    {
     "name": "stdout",
     "output_type": "stream",
     "text": [
      "['Illmitz']\n",
      "['Austria']\n",
      "180\n"
     ]
    },
    {
     "name": "stderr",
     "output_type": "stream",
     "text": [
      "LightGBM binary classifier with TreeExplainer shap values output has changed to a list of ndarray\n"
     ]
    },
    {
     "name": "stdout",
     "output_type": "stream",
     "text": [
      "['Schorfheide']\n",
      "['Germany']\n",
      "181\n"
     ]
    },
    {
     "name": "stderr",
     "output_type": "stream",
     "text": [
      "LightGBM binary classifier with TreeExplainer shap values output has changed to a list of ndarray\n"
     ]
    }
   ],
   "source": [
    "# loop sites to calculate shap values\n",
    "import shap\n",
    "siteid = siteinfo['id']\n",
    "for siteid_now in siteid: # loop site\n",
    "    id_todo = siteinfo.loc[siteinfo['id']==siteid_now].index[0]\n",
    "    print([siteinfo['station_name'].iloc[id_todo]])\n",
    "    print([siteinfo['station_country'].iloc[id_todo]])\n",
    "    print(id_todo)    \n",
    "    \n",
    "    if os.path.isfile('./automl_data/'+ML_opt+'_'+str(siteid_now)+'_shap.npy'):\n",
    "        print('shap file exists')\n",
    "    else:\n",
    "\n",
    "        # feature name\n",
    "        feature_name_csv = pd.read_csv('./training_data/'+feature_opt+'_'+str(siteid_now)+'_feature_name.csv')\n",
    "        feature_name = feature_name_csv.columns\n",
    "\n",
    "        # read data from MATLAB file\n",
    "        training_data_matfile = scio.loadmat('./training_data/'+feature_opt+'_'+str(siteid_now)+'.mat')\n",
    "        training_data_ori = training_data_matfile['training_data_final']\n",
    "        nfeature = training_data_matfile['nfeature'].astype(int)[0][0]\n",
    "        nlabel = training_data_matfile['nlabel'].astype(int)[0][0]\n",
    "\n",
    "        ''' step 1: prepare data'''\n",
    "\n",
    "        # voncert to dataframe format and add label to dataframe\n",
    "        training_data = pd.DataFrame(training_data_ori) \n",
    "        training_data.columns = feature_name\n",
    "\n",
    "        # select features and label we need\n",
    "        training_data_feature = training_data.drop(training_data.columns[nfeature:], axis=1)\n",
    "        training_data_label = training_data[target_variable].copy()\n",
    "        training_data_combine = training_data_feature.join(training_data_label)\n",
    "\n",
    "        # if site is too high, U/V850 will be NaN, then we delete these two features\n",
    "        if training_data_combine['U850'].isnull().sum() > 0:\n",
    "            training_data_combine = training_data_combine.drop(columns={'U850','V850','H850'})\n",
    "            nfeature = nfeature - 3\n",
    "            print(siteid_now)\n",
    "            print('droping 850')\n",
    "\n",
    "        if training_data_combine['U500'].isnull().sum() > 0:\n",
    "            training_data_combine = training_data_combine.drop(columns={'U500','V500','H500','OMEGA500'})\n",
    "            nfeature = nfeature - 4\n",
    "\n",
    "        # drop all invalid nan data\n",
    "        training_data_nonan = training_data_combine.dropna(axis=0, how='any')\n",
    "\n",
    "        # select features and label\n",
    "        X = training_data_nonan.drop(training_data_nonan.columns[nfeature:], axis=1)\n",
    "        y = training_data_nonan[target_variable].copy()\n",
    "\n",
    "\n",
    "        # load automl model and predict\n",
    "        with open('./automl_data/'+ML_opt+'_'+str(siteid_now)+'.pkl', 'rb') as f:\n",
    "            automl = pickle.load(f)\n",
    "\n",
    "        # shap to explain\n",
    "        explainer = shap.TreeExplainer(automl.model.estimator)\n",
    "        shap_values = explainer.shap_values(X)\n",
    "\n",
    "        # pickle and save the shap values\n",
    "        with open('./automl_data/'+ML_opt+'_'+str(siteid_now)+'_shap.npy', 'wb') as f:\n",
    "            np.save(f, shap_values)\n",
    "        # with open('./automl_data/'+ML_opt+'_'+str(siteid_now)+'_shap.pkl', 'wb') as f:\n",
    "        #     pickle.dump(shap_values, f, pickle.HIGHEST_PROTOCOL)"
   ]
  },
  {
   "cell_type": "code",
   "execution_count": null,
   "metadata": {},
   "outputs": [
    {
     "data": {
      "image/png": "[encoded data removed]",
      "text/plain": [
       "<Figure size 800x950 with 1 Axes>"
      ]
     },
     "metadata": {},
     "output_type": "display_data"
    }
   ],
   "source": [
    "shap.summary_plot(shap_values, X)\n"
   ]
  },
  {
   "cell_type": "markdown",
   "metadata": {},
   "source": []
  }
 ],
 "metadata": {
  "kernelspec": {
   "display_name": "base",
   "language": "python",
   "name": "python3"
  },
  "language_info": {
   "codemirror_mode": {
    "name": "ipython",
    "version": 3
   },
   "file_extension": ".py",
   "mimetype": "text/x-python",
   "name": "python",
   "nbconvert_exporter": "python",
   "pygments_lexer": "ipython3",
   "version": "3.9.18"
  },
  "orig_nbformat": 4
 },
 "nbformat": 4,
 "nbformat_minor": 2
}
